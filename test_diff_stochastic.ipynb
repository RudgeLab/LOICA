{
 "cells": [
  {
   "cell_type": "code",
   "execution_count": null,
   "metadata": {},
   "outputs": [],
   "source": [
    "from loica import *\n",
    "import matplotlib.pyplot as plt\n",
    "import networkx as nx\n",
    "import warnings\n",
    "warnings.simplefilter(action='ignore', category=FutureWarning)"
   ]
  },
  {
   "cell_type": "markdown",
   "metadata": {},
   "source": [
    "# Three-strain repressilator"
   ]
  },
  {
   "cell_type": "code",
   "execution_count": null,
   "metadata": {},
   "outputs": [],
   "source": [
    "# create strains\n",
    "# TODO: make a loop for this\n",
    "node_1 = GeneticNetwork()\n",
    "node_2 = GeneticNetwork()\n",
    "node_3 = GeneticNetwork()\n",
    "\n",
    "# add regulators, encode 3 signalling molecules as reporters. \n",
    "# All apart from LacI are diffusible\n",
    "c4_reg = Reporter(name='C4', init_concentration=100, degradation_rate=1, diffusion_rate=0.5, color='red')\n",
    "scb2_reg = Reporter(name='SCB2', degradation_rate=1, diffusion_rate=0.5, color='blue')\n",
    "c14_reg = Reporter(name='C14', degradation_rate=1, diffusion_rate=0.5, color = 'yellow')\n",
    "laci_reg = Regulator(name='LacI', degradation_rate=1)\n",
    "\n",
    "c4_reg2 = Regulator(name='C4', degradation_rate=1, diffusion_rate=0.5)\n",
    "scb2_reg2 = Regulator(name='SCB2', degradation_rate=1, diffusion_rate=0.5)\n",
    "c14_reg2 = Regulator(name='C14', degradation_rate=1, diffusion_rate=0.5)\n",
    "laci_reg2 = Regulator(name='LacI', degradation_rate=1)\n",
    "\n",
    "c4_reg3 = Regulator(name='C4', degradation_rate=1, diffusion_rate=0.5)\n",
    "scb2_reg3 = Regulator(name='SCB2', degradation_rate=1, diffusion_rate=0.5)\n",
    "c14_reg3 = Regulator(name='C14', degradation_rate=1, diffusion_rate=0.5)\n",
    "laci_reg3 = Regulator(name='LacI', degradation_rate=1)\n",
    "\n",
    "# add regulators to nodes\n",
    "node_1.add_regulator([laci_reg])\n",
    "node_2.add_regulator([c4_reg2, scb2_reg2, c14_reg2, laci_reg2])\n",
    "node_3.add_regulator([c4_reg3, scb2_reg3, c14_reg3, laci_reg3])\n",
    "\n",
    "# add reporters to nodes\n",
    "node_1.add_reporter([c4_reg, scb2_reg, c14_reg])\n",
    "\n",
    "# add operators\n",
    "# node 1\n",
    "c4_laci = Hill1(name='Prhl', input=c4_reg, output=laci_reg, alpha=[0.1, 10000], K=10, n=2)\n",
    "laci_not_scb2 = Hill1(name='Plac', input=laci_reg, output=scb2_reg, alpha=[10000,0.1], K=10, n=2)\n",
    "node_1.add_operator([c4_laci, laci_not_scb2])\n",
    "\n",
    "# node 2\n",
    "scb2_laci = Hill1(name='Pscb', input=scb2_reg2, output=laci_reg2, alpha=[0.1, 10000], K=10, n=2)\n",
    "laci_not_c14 = Hill1(name='Plac', input=laci_reg2, output=c14_reg2, alpha=[10000,0.1], K=10, n=2)\n",
    "node_2.add_operator([scb2_laci, laci_not_c14])\n",
    "\n",
    "# node 3\n",
    "c14_laci = Hill1(name='Pcin', input=c14_reg3, output=laci_reg3, alpha=[0.1, 10000], K=10, n=2)\n",
    "laci_not_c4 = Hill1(name='Plac', input=laci_reg3, output=c4_reg3, alpha=[10000,0.1], K=10, n=2)\n",
    "node_3.add_operator([c14_laci, laci_not_c4])\n"
   ]
  },
  {
   "cell_type": "markdown",
   "metadata": {},
   "source": [
    "### Circuits graphs"
   ]
  },
  {
   "cell_type": "code",
   "execution_count": null,
   "metadata": {},
   "outputs": [],
   "source": [
    "plt.figure(figsize=(3.5,3.5), dpi=200)\n",
    "node_1.draw(pos=nx.planar_layout)"
   ]
  },
  {
   "cell_type": "code",
   "execution_count": null,
   "metadata": {},
   "outputs": [],
   "source": [
    "plt.figure(figsize=(3.5,3.5), dpi=200)\n",
    "node_2.draw(pos=nx.planar_layout)"
   ]
  },
  {
   "cell_type": "code",
   "execution_count": null,
   "metadata": {},
   "outputs": [],
   "source": [
    "plt.figure(figsize=(3.5,3.5), dpi=200)\n",
    "node_3.draw(pos=nx.planar_layout)"
   ]
  },
  {
   "cell_type": "markdown",
   "metadata": {},
   "source": [
    "### Set up Sample and Assay"
   ]
  },
  {
   "cell_type": "code",
   "execution_count": null,
   "metadata": {},
   "outputs": [],
   "source": [
    "def growth_rate(t):\n",
    "    return 1 # gompertz_growth_rate(t, 0.01, 1, 1, 0.5)\n",
    "\n",
    "def biomass(t):\n",
    "    return 1 # gompertz(t, 0.01, 1, 1, 0.5)\n",
    "\n",
    "metab1 = SimulatedMetabolism(\"Simulated metabolism 1\", biomass, growth_rate)\n",
    "metab2 = SimulatedMetabolism(\"Simulated metabolism 2\", biomass, growth_rate)\n",
    "metab3 = SimulatedMetabolism(\"Simulated metabolism 3\", biomass, growth_rate)"
   ]
  },
  {
   "cell_type": "code",
   "execution_count": null,
   "metadata": {},
   "outputs": [],
   "source": [
    "# create consortium\n",
    "sample = Sample(genetic_network=[node_1, node_2, node_3], \n",
    "                    metabolism=[metab1, metab2, metab3])\n",
    "\n",
    "assay = Assay([sample], \n",
    "              n_measurements=10, \n",
    "              interval=0.1,\n",
    "              name=f'Signal measurements from repressilator consortium',\n",
    "              description='Simulated signal expression in repressilator consortium'\n",
    "             )"
   ]
  },
  {
   "cell_type": "markdown",
   "metadata": {},
   "source": [
    "### ODE simulation"
   ]
  },
  {
   "cell_type": "code",
   "execution_count": null,
   "metadata": {},
   "outputs": [],
   "source": [
    "assay.run(stochastic=True)"
   ]
  },
  {
   "cell_type": "code",
   "execution_count": null,
   "metadata": {},
   "outputs": [],
   "source": [
    "m = assay.measurements\n",
    "fig,ax = plt.subplots(1,1)\n",
    "m[m.Signal=='C4'].plot(x='Time', y='Measurement', style='-', ax=ax)\n",
    "m[m.Signal=='SCB2'].plot(x='Time', y='Measurement', style='-', ax=ax)\n",
    "m[m.Signal=='C14'].plot(x='Time', y='Measurement', style='-', ax=ax)\n",
    "m[m.Signal=='Biomass'].plot(x='Time', y='Measurement', style='-', ax=ax)\n",
    "m[m.Signal=='Biomass1'].plot(x='Time', y='Measurement', style='-', ax=ax)\n",
    "plt.legend(['C4', 'SCB2', 'C14', 'Total OD', \"Node 1 OD\"])"
   ]
  }
 ],
 "metadata": {
  "interpreter": {
   "hash": "5a3b552e1f00b069c0e96dcc3c439489a3953ff59f29351d8119914676dca9ff"
  },
  "kernelspec": {
   "display_name": "Python 3.10.4 ('loica')",
   "language": "python",
   "name": "python3"
  },
  "language_info": {
   "codemirror_mode": {
    "name": "ipython",
    "version": 3
   },
   "file_extension": ".py",
   "mimetype": "text/x-python",
   "name": "python",
   "nbconvert_exporter": "python",
   "pygments_lexer": "ipython3",
   "version": "3.10.4"
  },
  "orig_nbformat": 4
 },
 "nbformat": 4,
 "nbformat_minor": 2
}
