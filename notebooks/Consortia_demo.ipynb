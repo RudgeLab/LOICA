{
 "cells": [
  {
   "cell_type": "markdown",
   "metadata": {},
   "source": [
    "# LOICA Consortia demonstration"
   ]
  },
  {
   "cell_type": "code",
   "execution_count": null,
   "metadata": {},
   "outputs": [],
   "source": [
    "pip install -e ."
   ]
  },
  {
   "cell_type": "code",
   "execution_count": null,
   "metadata": {},
   "outputs": [],
   "source": [
    "import loica as lc\n",
    "import matplotlib.pyplot as plt\n",
    "import networkx as nx\n",
    "import warnings\n",
    "warnings.simplefilter(action='ignore', category=FutureWarning)"
   ]
  },
  {
   "cell_type": "markdown",
   "metadata": {},
   "source": [
    "This notebook shows the novel functionality that has been encoded in git branch Consortia\n",
    "\n",
    "This LOICA update allows to create strains that belong to class Strain, taking genetic network and metabolism as parameters."
   ]
  },
  {
   "cell_type": "markdown",
   "metadata": {},
   "source": [
    "## Test producer strain\n",
    "First, set up metabolism and genetic network as usual"
   ]
  },
  {
   "cell_type": "code",
   "execution_count": null,
   "metadata": {},
   "outputs": [],
   "source": [
    "def growth_rate(t):\n",
    "    return lc.gompertz_growth_rate(t, 0.01, 1, 1, 0.5)\n",
    "\n",
    "def biomass(t):\n",
    "    return lc.gompertz(t, 0.01, 1, 1, 0.5)\n",
    "\n",
    "metab1 = lc.SimulatedMetabolism(\"Simulated metabolism 1\", biomass, growth_rate)\n",
    "genetic_n1 = lc.GeneticNetwork()"
   ]
  },
  {
   "cell_type": "markdown",
   "metadata": {},
   "source": [
    "Then define strain"
   ]
  },
  {
   "cell_type": "code",
   "execution_count": null,
   "metadata": {},
   "outputs": [],
   "source": [
    "test_strain = lc.Strain('Test strain', genetic_n1, metab1)\n",
    "# test\n",
    "print(test_strain.name)"
   ]
  },
  {
   "cell_type": "markdown",
   "metadata": {},
   "source": [
    "Now, create genetic network as usual. "
   ]
  },
  {
   "cell_type": "markdown",
   "metadata": {},
   "source": [
    "### No diffusion"
   ]
  },
  {
   "cell_type": "markdown",
   "metadata": {},
   "source": [
    "Each gene product now has parameter diffusion_rate, which by default is set to 0. \n",
    "\n",
    "LOICA Consortia assumes that:\n",
    "- all molecules are distrubed equally both incracellularly and extracellularly, so the only diffusion gradient exists between extracellular space and inside of the cell. \n",
    "- all cells belonging to the same strain are of uniform size. \n",
    "\n",
    "Based on that, diffusion rate here is the proportion of concentration/molecule difference that gets transferred either in- or outside of the cell per change of time. This parameter depend on the average surface area of the cell in the strain."
   ]
  },
  {
   "cell_type": "code",
   "execution_count": null,
   "metadata": {},
   "outputs": [],
   "source": [
    "# Create and add reporter to genetic network\n",
    "reporter = lc.Reporter(name='GFP', color='green', degradation_rate=0, init_concentration=0)\n",
    "genetic_n1.add_reporter(reporter)\n",
    "\n",
    "# Constitutive exression of reporter from strain\n",
    "source = lc.Source(output=reporter, rate=1000)\n",
    "genetic_n1.add_operator(source)"
   ]
  },
  {
   "cell_type": "markdown",
   "metadata": {},
   "source": [
    "Now we have a strain that constitutively expresses GFP. \n",
    "\n",
    "Since we have not set diffusion rate, if we create sample, assay and run the latter then check the reporter extracellular concentration, it will stay 0:"
   ]
  },
  {
   "cell_type": "code",
   "execution_count": null,
   "metadata": {},
   "outputs": [],
   "source": [
    "sample = lc.Sample(strain=test_strain)\n",
    "assay = lc.Assay([sample], \n",
    "                n_measurements=100, \n",
    "                interval=0.24,\n",
    "                name='GFP constittive expression',\n",
    "                description='Simulated GFP expression in test strain'\n",
    "                )"
   ]
  },
  {
   "cell_type": "markdown",
   "metadata": {},
   "source": [
    "Setting parameter track_all to true will record both intracellular and extracellular concentrations of all GeneProducts in the systems, as well as biomass without accounting for noise and background."
   ]
  },
  {
   "cell_type": "code",
   "execution_count": null,
   "metadata": {},
   "outputs": [],
   "source": [
    "assay.run(stochastic=False, track_all=True)"
   ]
  },
  {
   "cell_type": "code",
   "execution_count": null,
   "metadata": {},
   "outputs": [],
   "source": [
    "m = assay.measurements\n",
    "fig,ax = plt.subplots(1,1)\n",
    "m[m.Signal=='Extracellular GFP'].plot(x='Time', y='Measurement', style='-', ax=ax)\n",
    "m[m.Signal=='GFP in Test strain'].plot(x='Time', y='Measurement', style='-', ax=ax)\n",
    "ax2 = ax.twinx()\n",
    "m[m.Signal=='Test strain biomass'].plot(x='Time', y='Measurement', style='-', ax=ax2)\n",
    "plt.legend(['Extracellular GFP', 'Internal GFP', 'Biomass'])"
   ]
  },
  {
   "cell_type": "markdown",
   "metadata": {},
   "source": [
    "### With diffusion"
   ]
  },
  {
   "cell_type": "markdown",
   "metadata": {},
   "source": [
    "Now let's add diffusible signal C14 with diffusion rate 1 (all difference gets trasferred)that would also be continiously expressed."
   ]
  },
  {
   "cell_type": "code",
   "execution_count": null,
   "metadata": {},
   "outputs": [],
   "source": [
    "regulator = lc.Regulator(name='C14', degradation_rate=0, init_concentration=0, diffusion_rate=1)\n",
    "genetic_n1.add_regulator(regulator)\n",
    "\n",
    "source_2 = lc.Source(output=regulator, rate=1000)\n",
    "genetic_n1.add_operator(source_2)"
   ]
  },
  {
   "cell_type": "code",
   "execution_count": null,
   "metadata": {},
   "outputs": [],
   "source": [
    "sample = lc.Sample(strain=test_strain)\n",
    "assay2 = lc.Assay([sample], \n",
    "                n_measurements=100, \n",
    "                interval=0.24,\n",
    "                name='GFP and C14 constittive expression',\n",
    "                description='Simulated GFP and C14 expression in test strain'\n",
    "                )"
   ]
  },
  {
   "cell_type": "code",
   "execution_count": null,
   "metadata": {},
   "outputs": [],
   "source": [
    "assay2.run(stochastic=False, track_all=True)"
   ]
  },
  {
   "cell_type": "code",
   "execution_count": null,
   "metadata": {},
   "outputs": [],
   "source": [
    "m = assay2.measurements\n",
    "fig,ax = plt.subplots(1,1)\n",
    "m[m.Signal=='Extracellular GFP'].plot(x='Time', y='Measurement', style='-', ax=ax)\n",
    "m[m.Signal=='GFP in Test strain'].plot(x='Time', y='Measurement', style='-', ax=ax)\n",
    "m[m.Signal=='Extracellular C14'].plot(x='Time', y='Measurement', style='-', ax=ax)\n",
    "m[m.Signal=='C14 in Test strain'].plot(x='Time', y='Measurement', style='-', ax=ax)\n",
    "ax2 = ax.twinx()\n",
    "m[m.Signal=='Test strain biomass'].plot(x='Time', y='Measurement', style='-', ax=ax2)\n",
    "plt.legend(['Extracellular GFP', 'Internal GFP', 'Extracellular C14', 'C14 in Test strain', 'Biomass'])"
   ]
  },
  {
   "cell_type": "markdown",
   "metadata": {},
   "source": [
    "### Extracellular degradation"
   ]
  },
  {
   "cell_type": "markdown",
   "metadata": {},
   "source": [
    "It is also possible to set extracellular degradation rate for any GeneProduct."
   ]
  },
  {
   "cell_type": "code",
   "execution_count": null,
   "metadata": {},
   "outputs": [],
   "source": [
    "sample.set_extracel_degr(\"C14\", 0.5)\n",
    "assay3 = lc.Assay([sample], \n",
    "                n_measurements=100, \n",
    "                interval=0.24,\n",
    "                name='GFP and C14 constittive expression with C14 extracellular degradation',\n",
    "                description='Simulated GFP and C14 expression in test strain'\n",
    "                )"
   ]
  },
  {
   "cell_type": "code",
   "execution_count": null,
   "metadata": {},
   "outputs": [],
   "source": [
    "assay3.run(stochastic=False, track_all=True)"
   ]
  },
  {
   "cell_type": "code",
   "execution_count": null,
   "metadata": {},
   "outputs": [],
   "source": [
    "m = assay3.measurements\n",
    "fig,ax = plt.subplots(1,1)\n",
    "m[m.Signal=='Extracellular GFP'].plot(x='Time', y='Measurement', style='-', ax=ax)\n",
    "m[m.Signal=='GFP in Test strain'].plot(x='Time', y='Measurement', style='-', ax=ax)\n",
    "m[m.Signal=='Extracellular C14'].plot(x='Time', y='Measurement', style='-', ax=ax)\n",
    "m[m.Signal=='C14 in Test strain'].plot(x='Time', y='Measurement', style='-', ax=ax)\n",
    "ax2 = ax.twinx()\n",
    "m[m.Signal=='Test strain biomass'].plot(x='Time', y='Measurement', style='-', ax=ax2)\n",
    "plt.legend(['Extracellular GFP', 'Internal GFP', 'Extracellular C14', 'C14 in Test strain', 'Biomass'])"
   ]
  },
  {
   "cell_type": "markdown",
   "metadata": {},
   "source": [
    "## Sender-Receiver consortium"
   ]
  },
  {
   "cell_type": "markdown",
   "metadata": {},
   "source": [
    "### Sender strain"
   ]
  },
  {
   "cell_type": "code",
   "execution_count": null,
   "metadata": {},
   "outputs": [],
   "source": [
    "def growth_rate_sender(t):\n",
    "    return lc.gompertz_growth_rate(t, 0.01, 1, 1, 0.5)\n",
    "\n",
    "def biomass_sender(t):\n",
    "    return lc.gompertz(t, 0.01, 1, 1, 0.5)\n",
    "\n",
    "metab_sender = lc.SimulatedMetabolism(\"Simulated metabolism receiver\", biomass_sender, growth_rate_sender)\n",
    "genetic_network_sender = lc.GeneticNetwork()\n",
    "sender = lc.Strain('Sender', genetic_network_sender, metab_sender)\n",
    "# test\n",
    "print(sender.name)"
   ]
  },
  {
   "cell_type": "code",
   "execution_count": null,
   "metadata": {},
   "outputs": [],
   "source": [
    "# Create and add reporter to genetic network\n",
    "signal = lc.Regulator(name='C14', degradation_rate=0, init_concentration=0, diffusion_rate=1)\n",
    "genetic_network_sender.add_regulator(signal)\n",
    "\n",
    "# Constitutive exression of signal in sender\n",
    "signal_source = lc.Source(output=signal, rate=1000)\n",
    "genetic_network_sender.add_operator(signal_source)"
   ]
  },
  {
   "cell_type": "markdown",
   "metadata": {},
   "source": [
    "### Receiver strain"
   ]
  },
  {
   "cell_type": "code",
   "execution_count": null,
   "metadata": {},
   "outputs": [],
   "source": [
    "def growth_rate_receiver(t):\n",
    "    return lc.gompertz_growth_rate(t, 0.01, 1, 1, 0.5)\n",
    "\n",
    "def biomass_receiver(t):\n",
    "    return lc.gompertz(t, 0.01, 1, 1, 0.5)\n",
    "\n",
    "metab_receiver = lc.SimulatedMetabolism(\"Simulated metabolism receiver\", biomass_receiver, growth_rate_receiver)\n",
    "genetic_network_receiver = lc.GeneticNetwork()\n",
    "receiver = lc.Strain('Receiver', genetic_network_receiver, metab_receiver)\n",
    "# test\n",
    "print(receiver.name)"
   ]
  },
  {
   "cell_type": "markdown",
   "metadata": {},
   "source": [
    "When defining multiple strains, if molecule can diffuse to cell (\"receiver\") that doesn't belong to the producer strain, it has to be defined within the \"receiver\" strain as well. Since instance of GeneProduct has own internal concentration, assigning the same value for different genetic networks will not work, as different strains with different degetic networks will have different dynamics. "
   ]
  },
  {
   "cell_type": "code",
   "execution_count": null,
   "metadata": {},
   "outputs": [],
   "source": [
    "# Create and add regulator to genetic network\n",
    "signal_in_r = lc.Regulator(name='C14', degradation_rate=0, init_concentration=0, diffusion_rate=1)\n",
    "genetic_network_receiver.add_regulator(signal_in_r)\n",
    "\n",
    "# Create and add reporter\n",
    "gfp = lc.Reporter(name='GFP', degradation_rate=0, init_concentration=0)\n",
    "genetic_network_receiver.add_reporter(gfp)\n",
    "\n",
    "# Exression of GFP activated by C14\n",
    "c14_to_gfp = lc.Hill1(name='Pcin', input=signal_in_r, output=gfp, alpha=[0, 100], K=10, n=2)\n",
    "genetic_network_receiver.add_operator(c14_to_gfp)"
   ]
  },
  {
   "cell_type": "markdown",
   "metadata": {},
   "source": [
    "### Set up sample and simulate"
   ]
  },
  {
   "cell_type": "code",
   "execution_count": null,
   "metadata": {},
   "outputs": [],
   "source": [
    "s_r_consortium = lc.Sample(strain=[sender, receiver])\n",
    "s_r_assay = lc.Assay([s_r_consortium], \n",
    "                n_measurements=100, \n",
    "                interval=0.24,\n",
    "                name='GFP expression in receiver strain',\n",
    "                description='Simulated sender-receiver consortium'\n",
    "                )"
   ]
  },
  {
   "cell_type": "code",
   "execution_count": null,
   "metadata": {},
   "outputs": [],
   "source": [
    "s_r_assay.run(stochastic=False, track_all=True)"
   ]
  },
  {
   "cell_type": "code",
   "execution_count": null,
   "metadata": {},
   "outputs": [],
   "source": [
    "m = s_r_assay.measurements\n",
    "fig,ax = plt.subplots(1,1)\n",
    "m[m.Signal=='Extracellular GFP'].plot(x='Time', y='Measurement', style='-', ax=ax)\n",
    "# TODO: add so this would be recorder as well\n",
    "m[m.Signal=='GFP in Sender'].plot(x='Time', y='Measurement', style='-', ax=ax)\n",
    "m[m.Signal=='GFP in Receiver'].plot(x='Time', y='Measurement', style='-', ax=ax)\n",
    "m[m.Signal=='Extracellular C14'].plot(x='Time', y='Measurement', color='red', style='.', ax=ax)\n",
    "m[m.Signal=='C14 in Sender'].plot(x='Time', y='Measurement', color='red', style='-', ax=ax)\n",
    "m[m.Signal=='C14 in Receiver'].plot(x='Time', y='Measurement', color='red', style='--', ax=ax)\n",
    "ax2 = ax.twinx()\n",
    "m[m.Signal=='Sender biomass'].plot(x='Time', y='Measurement', color='black', style='-', ax=ax2)\n",
    "m[m.Signal=='Receiver biomass'].plot(x='Time', y='Measurement', color='purple', style='-', ax=ax2)\n",
    "plt.legend(['Extracellular GFP', 'GFP in Sender', 'GFP in Receiver', 'Extracellular C14', 'C14 in Sender', 'C14 in Receiver', 'Sender biomass', 'Receiver biomass'])"
   ]
  },
  {
   "cell_type": "markdown",
   "metadata": {},
   "source": [
    "# Diffusible supplement"
   ]
  },
  {
   "cell_type": "markdown",
   "metadata": {},
   "source": [
    "You can set a signal to be continuously added at the same concentration to the the sample. In the code below, we create receiver strain that produces GFP when C14 is present. Then we create supplement C14."
   ]
  },
  {
   "cell_type": "markdown",
   "metadata": {},
   "source": [
    "### Receiver strain"
   ]
  },
  {
   "cell_type": "code",
   "execution_count": null,
   "metadata": {},
   "outputs": [],
   "source": [
    "def growth_rate_receiver(t):\n",
    "    return lc.gompertz_growth_rate(t, 0.01, 1, 1, 0.5)\n",
    "\n",
    "def biomass_receiver(t):\n",
    "    return lc.gompertz(t, 0.01, 1, 1, 0.5)\n",
    "\n",
    "metab_receiver = lc.SimulatedMetabolism(\"Simulated metabolism receiver\", biomass_receiver, growth_rate_receiver)\n",
    "genetic_network_receiver = lc.GeneticNetwork()\n",
    "receiver = lc.Strain('Receiver', genetic_network_receiver, metab_receiver)\n",
    "# test\n",
    "print(receiver.name)"
   ]
  },
  {
   "cell_type": "code",
   "execution_count": null,
   "metadata": {},
   "outputs": [],
   "source": [
    "# Create and add regulator to genetic network\n",
    "signal = lc.Regulator(name='C14', degradation_rate=0, init_concentration=0, diffusion_rate=1)\n",
    "genetic_network_receiver.add_regulator(signal_in_r)\n",
    "\n",
    "# Create and add reporter\n",
    "gfp = lc.Reporter(name='GFP', degradation_rate=0, init_concentration=0)\n",
    "genetic_network_receiver.add_reporter(gfp)\n",
    "\n",
    "# Exression of GFP activated by C14\n",
    "c14_to_gfp = lc.Hill1(name='Pcin', input=signal, output=gfp, alpha=[0, 100], K=10, n=2)\n",
    "genetic_network_receiver.add_operator(c14_to_gfp)"
   ]
  },
  {
   "cell_type": "markdown",
   "metadata": {},
   "source": [
    "Add supplement. Make sure that the name is the same as the as the regulator name that belongs to the receiver strain."
   ]
  },
  {
   "cell_type": "code",
   "execution_count": null,
   "metadata": {},
   "outputs": [],
   "source": [
    "supplement = lc.Supplement(name='C14')"
   ]
  },
  {
   "cell_type": "markdown",
   "metadata": {},
   "source": [
    "### Set up sample, set supplement and simulate"
   ]
  },
  {
   "cell_type": "code",
   "execution_count": null,
   "metadata": {},
   "outputs": [],
   "source": [
    "receiver_sample = lc.Sample(strain=receiver)\n",
    "receiver_sample.set_supplement(supplement, 10)\n",
    "receiver_assay = lc.Assay([receiver_sample], \n",
    "                n_measurements=100, \n",
    "                interval=0.24,\n",
    "                name='GFP expression in receiver strain based on supplement diffusion',\n",
    "                description='Simulated receiver strain'\n",
    "                )"
   ]
  },
  {
   "cell_type": "code",
   "execution_count": null,
   "metadata": {},
   "outputs": [],
   "source": [
    "receiver_assay.run(stochastic=False, track_all=True)"
   ]
  },
  {
   "cell_type": "code",
   "execution_count": null,
   "metadata": {},
   "outputs": [],
   "source": [
    "m = receiver_assay.measurements\n",
    "fig,ax = plt.subplots(1,1)\n",
    "m[m.Signal=='Extracellular GFP'].plot(x='Time', y='Measurement', style='-', ax=ax)\n",
    "m[m.Signal=='GFP in Receiver'].plot(x='Time', y='Measurement', color='green', style='-', ax=ax)\n",
    "m[m.Signal=='Extracellular C14'].plot(x='Time', y='Measurement', color='red', style='.', ax=ax)\n",
    "m[m.Signal=='C14 in Receiver'].plot(x='Time', y='Measurement', color='red', style='--', ax=ax)\n",
    "ax2 = ax.twinx()\n",
    "m[m.Signal=='Receiver biomass'].plot(x='Time', y='Measurement', color='purple', style='-', ax=ax2)\n",
    "plt.legend(['Extracellular GFP', 'GFP in Receiver', 'Extracellular C14', 'C14 in Receiver', 'Receiver biomass'])"
   ]
  },
  {
   "cell_type": "markdown",
   "metadata": {},
   "source": [
    "# Set initial external concentration"
   ]
  },
  {
   "cell_type": "markdown",
   "metadata": {},
   "source": [
    "You can set a starting external concentration of signal. In the code below, we create receiver strain that produces GFP when C14 is present. Then we add C14 at the start of the experiment."
   ]
  },
  {
   "cell_type": "markdown",
   "metadata": {},
   "source": [
    "### Receiver strain"
   ]
  },
  {
   "cell_type": "code",
   "execution_count": null,
   "metadata": {},
   "outputs": [],
   "source": [
    "def growth_rate_receiver(t):\n",
    "    return lc.gompertz_growth_rate(t, 0.01, 1, 1, 0.5)\n",
    "\n",
    "def biomass_receiver(t):\n",
    "    return lc.gompertz(t, 0.01, 1, 1, 0.5)\n",
    "\n",
    "metab_receiver = lc.SimulatedMetabolism(\"Simulated metabolism receiver\", biomass_receiver, growth_rate_receiver)\n",
    "genetic_network_receiver = lc.GeneticNetwork()\n",
    "receiver = lc.Strain('Receiver', genetic_network_receiver, metab_receiver)\n",
    "# test\n",
    "print(receiver.name)"
   ]
  },
  {
   "cell_type": "code",
   "execution_count": null,
   "metadata": {},
   "outputs": [],
   "source": [
    "# Create and add regulator to genetic network\n",
    "signal = lc.Regulator(name='C14', degradation_rate=0, init_concentration=0, diffusion_rate=1)\n",
    "genetic_network_receiver.add_regulator(signal_in_r)\n",
    "\n",
    "# Create and add reporter\n",
    "gfp = lc.Reporter(name='GFP', degradation_rate=0, init_concentration=0)\n",
    "genetic_network_receiver.add_reporter(gfp)\n",
    "\n",
    "# Exression of GFP activated by C14\n",
    "c14_to_gfp = lc.Hill1(name='Pcin', input=signal, output=gfp, alpha=[0, 100], K=10, n=2)\n",
    "genetic_network_receiver.add_operator(c14_to_gfp)"
   ]
  },
  {
   "cell_type": "markdown",
   "metadata": {},
   "source": [
    "### Set up sample, set starting concentration and simulate"
   ]
  },
  {
   "cell_type": "code",
   "execution_count": null,
   "metadata": {},
   "outputs": [],
   "source": [
    "receiver2_sample = lc.Sample(strain=receiver)\n",
    "receiver2_sample.set_ext_conc('C14', 50)\n",
    "print(signal.init_ext_conc)"
   ]
  },
  {
   "cell_type": "code",
   "execution_count": null,
   "metadata": {},
   "outputs": [],
   "source": [
    "receiver2_assay = lc.Assay([receiver2_sample], \n",
    "                n_measurements=100, \n",
    "                interval=0.24,\n",
    "                name='GFP expression in receiver strain based on C14 diffusion',\n",
    "                description='Simulated receiver strain'\n",
    "                )"
   ]
  },
  {
   "cell_type": "code",
   "execution_count": null,
   "metadata": {},
   "outputs": [],
   "source": [
    "receiver2_assay.run(stochastic=False, track_all=True)"
   ]
  },
  {
   "cell_type": "code",
   "execution_count": null,
   "metadata": {},
   "outputs": [],
   "source": [
    "m = receiver2_assay.measurements\n",
    "fig,ax = plt.subplots(1,1)\n",
    "m[m.Signal=='Extracellular GFP'].plot(x='Time', y='Measurement', style='-', ax=ax)\n",
    "m[m.Signal=='GFP in Receiver'].plot(x='Time', y='Measurement', color='green', style='-', ax=ax)\n",
    "m[m.Signal=='Extracellular C14'].plot(x='Time', y='Measurement', color='red', style='.', ax=ax)\n",
    "m[m.Signal=='C14 in Receiver'].plot(x='Time', y='Measurement', color='red', style='--', ax=ax)\n",
    "ax2 = ax.twinx()\n",
    "m[m.Signal=='Receiver biomass'].plot(x='Time', y='Measurement', color='purple', style='-', ax=ax2)\n",
    "plt.legend(['Extracellular GFP', 'GFP in Receiver', 'Extracellular C14', 'C14 in Receiver', 'Receiver biomass'])"
   ]
  },
  {
   "cell_type": "markdown",
   "metadata": {},
   "source": [
    "# Stochastic simulation"
   ]
  },
  {
   "cell_type": "markdown",
   "metadata": {},
   "source": [
    "There are several options for simulating the model stochastically. The main (working) model is fully stochastic, with all reactions (including diffusion in and diffusion out) to be simulated according to Gillespie algorythm."
   ]
  },
  {
   "cell_type": "markdown",
   "metadata": {},
   "source": [
    "To simulate it, set up a consortium again."
   ]
  },
  {
   "cell_type": "markdown",
   "metadata": {},
   "source": [
    "## Fully stochastic"
   ]
  },
  {
   "cell_type": "markdown",
   "metadata": {},
   "source": [
    "### Sender strain"
   ]
  },
  {
   "cell_type": "code",
   "execution_count": null,
   "metadata": {},
   "outputs": [],
   "source": [
    "def growth_rate_sender(t):\n",
    "    return lc.gompertz_growth_rate(t, 0.01, 1, 1, 0.5)\n",
    "\n",
    "def biomass_sender(t):\n",
    "    return lc.gompertz(t, 0.01, 1, 1, 0.5)\n",
    "\n",
    "metab_sender = lc.SimulatedMetabolism(\"Simulated metabolism receiver\", biomass_sender, growth_rate_sender)\n",
    "genetic_network_sender = lc.GeneticNetwork()\n",
    "sender = lc.Strain('Sender', genetic_network_sender, metab_sender)\n",
    "# test\n",
    "print(sender.name)"
   ]
  },
  {
   "cell_type": "code",
   "execution_count": null,
   "metadata": {},
   "outputs": [],
   "source": [
    "# Create and add reporter to genetic network\n",
    "signal = lc.Regulator(name='C14', degradation_rate=0, init_concentration=0, diffusion_rate=1)\n",
    "genetic_network_sender.add_regulator(signal)\n",
    "\n",
    "# Constitutive exression of signal in sender\n",
    "signal_source = lc.Source(output=signal, rate=10)\n",
    "genetic_network_sender.add_operator(signal_source)"
   ]
  },
  {
   "cell_type": "markdown",
   "metadata": {},
   "source": [
    "### Receiver strain"
   ]
  },
  {
   "cell_type": "code",
   "execution_count": null,
   "metadata": {},
   "outputs": [],
   "source": [
    "def growth_rate_receiver(t):\n",
    "    return lc.gompertz_growth_rate(t, 0.01, 1, 1, 0.5)\n",
    "\n",
    "def biomass_receiver(t):\n",
    "    return lc.gompertz(t, 0.01, 1, 1, 0.5)\n",
    "\n",
    "metab_receiver = lc.SimulatedMetabolism(\"Simulated metabolism receiver\", biomass_receiver, growth_rate_receiver)\n",
    "genetic_network_receiver = lc.GeneticNetwork()\n",
    "receiver = lc.Strain('Receiver', genetic_network_receiver, metab_receiver)\n",
    "# test\n",
    "print(receiver.name)"
   ]
  },
  {
   "cell_type": "code",
   "execution_count": null,
   "metadata": {},
   "outputs": [],
   "source": [
    "# Create and add regulator to genetic network\n",
    "signal_in_r = lc.Regulator(name='C14', degradation_rate=0, init_concentration=0, diffusion_rate=1)\n",
    "genetic_network_receiver.add_regulator(signal_in_r)\n",
    "\n",
    "# Create and add reporter\n",
    "gfp = lc.Reporter(name='GFP', degradation_rate=0, init_concentration=0)\n",
    "genetic_network_receiver.add_reporter(gfp)\n",
    "\n",
    "# Exression of GFP activated by C14\n",
    "c14_to_gfp = lc.Hill1(name='Pcin', input=signal_in_r, output=gfp, alpha=[0, 100], K=10, n=2)\n",
    "genetic_network_receiver.add_operator(c14_to_gfp)"
   ]
  },
  {
   "cell_type": "markdown",
   "metadata": {},
   "source": [
    "### Set up sample and simulate"
   ]
  },
  {
   "cell_type": "code",
   "execution_count": null,
   "metadata": {},
   "outputs": [],
   "source": [
    "stoch_consortium = lc.Sample(strain=[sender, receiver])\n",
    "stoch_assay = lc.Assay([stoch_consortium], \n",
    "                n_measurements=100, \n",
    "                interval=0.24,\n",
    "                name='GFP expression in receiver strain',\n",
    "                description='Stochastically simulated sender-receiver consortium'\n",
    "                )"
   ]
  },
  {
   "cell_type": "code",
   "execution_count": null,
   "metadata": {},
   "outputs": [],
   "source": [
    "stoch_assay.run(stochastic=True, track_all=True)"
   ]
  },
  {
   "cell_type": "code",
   "execution_count": null,
   "metadata": {},
   "outputs": [],
   "source": [
    "m = stoch_assay.measurements\n",
    "fig,ax = plt.subplots(1,1)\n",
    "m[m.Signal=='Extracellular GFP'].plot(x='Time', y='Measurement', style='-', ax=ax)\n",
    "m[m.Signal=='GFP in Sender'].plot(x='Time', y='Measurement', style='-', ax=ax)\n",
    "m[m.Signal=='GFP in Receiver'].plot(x='Time', y='Measurement', style='-', ax=ax)\n",
    "m[m.Signal=='Extracellular C14'].plot(x='Time', y='Measurement', color='red', style='.', ax=ax)\n",
    "m[m.Signal=='C14 in Sender'].plot(x='Time', y='Measurement', color='red', style='-', ax=ax)\n",
    "m[m.Signal=='C14 in Receiver'].plot(x='Time', y='Measurement', color='red', style='--', ax=ax)\n",
    "m[m.Signal=='Sender biomass'].plot(x='Time', y='Measurement', color='black', style='-', ax=ax)\n",
    "m[m.Signal=='Receiver biomass'].plot(x='Time', y='Measurement', color='purple', style='-', ax=ax)\n",
    "plt.legend(['Extracellular GFP', 'GFP in Sender', 'GFP in Receiver', 'Extracellular C14', 'C14 in Sender', 'C14 in Receiver', 'Sender biomass', 'Receiver biomass'])"
   ]
  },
  {
   "cell_type": "markdown",
   "metadata": {},
   "source": [
    "## Stochastic with partitions"
   ]
  },
  {
   "cell_type": "markdown",
   "metadata": {},
   "source": [
    "It is also possible to have stochastic simulation where reactions happen simultaneously in each strain and extracellular space (so there is a simultaneous Gillespie algorythm running in each compartment)."
   ]
  },
  {
   "cell_type": "code",
   "execution_count": null,
   "metadata": {},
   "outputs": [],
   "source": [
    "stoch_comp_consortium = lc.Sample(strain=[sender, receiver])\n",
    "stoch_comp_assay = lc.Assay([stoch_comp_consortium], \n",
    "                n_measurements=100, \n",
    "                interval=0.24,\n",
    "                name='GFP expression in receiver strain',\n",
    "                description='Stochastically simulated (compartments) sender-receiver consortium'\n",
    "                )"
   ]
  },
  {
   "cell_type": "code",
   "execution_count": null,
   "metadata": {},
   "outputs": [],
   "source": [
    "stoch_comp_assay.run(stochastic='full+comp', track_all=True)"
   ]
  },
  {
   "cell_type": "code",
   "execution_count": null,
   "metadata": {},
   "outputs": [],
   "source": [
    "m = stoch_comp_assay.measurements\n",
    "fig,ax = plt.subplots(1,1)\n",
    "m[m.Signal=='Extracellular GFP'].plot(x='Time', y='Measurement', style='-', ax=ax)\n",
    "m[m.Signal=='GFP in Sender'].plot(x='Time', y='Measurement', style='-', ax=ax)\n",
    "m[m.Signal=='GFP in Receiver'].plot(x='Time', y='Measurement', style='-', ax=ax)\n",
    "m[m.Signal=='Extracellular C14'].plot(x='Time', y='Measurement', color='red', style='.', ax=ax)\n",
    "m[m.Signal=='C14 in Sender'].plot(x='Time', y='Measurement', color='red', style='-', ax=ax)\n",
    "m[m.Signal=='C14 in Receiver'].plot(x='Time', y='Measurement', color='red', style='--', ax=ax)\n",
    "m[m.Signal=='Sender biomass'].plot(x='Time', y='Measurement', color='black', style='-', ax=ax)\n",
    "m[m.Signal=='Receiver biomass'].plot(x='Time', y='Measurement', color='purple', style='-', ax=ax)\n",
    "plt.legend(['Extracellular GFP', 'GFP in Sender', 'GFP in Receiver', 'Extracellular C14', 'C14 in Sender', 'C14 in Receiver', 'Sender biomass', 'Receiver biomass'])"
   ]
  },
  {
   "cell_type": "markdown",
   "metadata": {},
   "source": [
    "## Semi-stochastic (diffusion is deterministic)"
   ]
  },
  {
   "cell_type": "markdown",
   "metadata": {},
   "source": [
    "Additionally, you can simulate semi-stochastic model with compartments: as above, reactions happen simultaneously in each strain and extracellular space, but diffusion is deterministic."
   ]
  },
  {
   "cell_type": "code",
   "execution_count": null,
   "metadata": {},
   "outputs": [],
   "source": [
    "semi_stoch_consortium = lc.Sample(strain=[sender, receiver])\n",
    "semi_stoch_assay = lc.Assay([semi_stoch_consortium], \n",
    "                n_measurements=100, \n",
    "                interval=0.24,\n",
    "                name='GFP expression in receiver strain',\n",
    "                description='Semi-stochastically simulated sender-receiver consortium'\n",
    "                )"
   ]
  },
  {
   "cell_type": "code",
   "execution_count": null,
   "metadata": {},
   "outputs": [],
   "source": [
    "semi_stoch_assay.run(stochastic='semi+comp', track_all=True)"
   ]
  },
  {
   "cell_type": "code",
   "execution_count": null,
   "metadata": {},
   "outputs": [],
   "source": [
    "m = semi_stoch_assay.measurements\n",
    "fig,ax = plt.subplots(1,1)\n",
    "m[m.Signal=='Extracellular GFP'].plot(x='Time', y='Measurement', style='-', ax=ax)\n",
    "m[m.Signal=='GFP in Sender'].plot(x='Time', y='Measurement', style='-', ax=ax)\n",
    "m[m.Signal=='GFP in Receiver'].plot(x='Time', y='Measurement', style='-', ax=ax)\n",
    "m[m.Signal=='Extracellular C14'].plot(x='Time', y='Measurement', color='red', style='.', ax=ax)\n",
    "m[m.Signal=='C14 in Sender'].plot(x='Time', y='Measurement', color='red', style='-', ax=ax)\n",
    "m[m.Signal=='C14 in Receiver'].plot(x='Time', y='Measurement', color='red', style='--', ax=ax)\n",
    "m[m.Signal=='Sender biomass'].plot(x='Time', y='Measurement', color='black', style='-', ax=ax)\n",
    "m[m.Signal=='Receiver biomass'].plot(x='Time', y='Measurement', color='purple', style='-', ax=ax)\n",
    "plt.legend(['Extracellular GFP', 'GFP in Sender', 'GFP in Receiver', 'Extracellular C14', 'C14 in Sender', 'C14 in Receiver', 'Sender biomass', 'Receiver biomass'])"
   ]
  },
  {
   "cell_type": "markdown",
   "metadata": {},
   "source": [
    "## Deterministic for comparison"
   ]
  },
  {
   "cell_type": "markdown",
   "metadata": {},
   "source": [
    "Simulate deterministic model under same conditions for comparison"
   ]
  },
  {
   "cell_type": "code",
   "execution_count": null,
   "metadata": {},
   "outputs": [],
   "source": [
    "det_consortium = lc.Sample(strain=[sender, receiver])\n",
    "det_assay = lc.Assay([stoch_consortium], \n",
    "                n_measurements=100, \n",
    "                interval=0.24,\n",
    "                name='GFP expression in receiver strain',\n",
    "                description='Stochastically simulated sender-receiver consortium'\n",
    "                )"
   ]
  },
  {
   "cell_type": "code",
   "execution_count": null,
   "metadata": {},
   "outputs": [],
   "source": [
    "det_assay.run(stochastic=False, track_all=True)"
   ]
  },
  {
   "cell_type": "code",
   "execution_count": null,
   "metadata": {},
   "outputs": [],
   "source": [
    "m = det_assay.measurements\n",
    "fig,ax = plt.subplots(1,1)\n",
    "m[m.Signal=='Extracellular GFP'].plot(x='Time', y='Measurement', style='-', ax=ax)\n",
    "m[m.Signal=='GFP in Sender'].plot(x='Time', y='Measurement', style='-', ax=ax)\n",
    "m[m.Signal=='GFP in Receiver'].plot(x='Time', y='Measurement', style='-', ax=ax)\n",
    "m[m.Signal=='Extracellular C14'].plot(x='Time', y='Measurement', color='red', style='.', ax=ax)\n",
    "m[m.Signal=='C14 in Sender'].plot(x='Time', y='Measurement', color='red', style='-', ax=ax)\n",
    "m[m.Signal=='C14 in Receiver'].plot(x='Time', y='Measurement', color='red', style='--', ax=ax)\n",
    "m[m.Signal=='Sender biomass'].plot(x='Time', y='Measurement', color='black', style='-', ax=ax)\n",
    "m[m.Signal=='Receiver biomass'].plot(x='Time', y='Measurement', color='purple', style='-', ax=ax)\n",
    "plt.legend(['Extracellular GFP', 'GFP in Sender', 'GFP in Receiver', 'Extracellular C14', 'C14 in Sender', 'C14 in Receiver', 'Sender biomass', 'Receiver biomass'])"
   ]
  }
 ],
 "metadata": {
  "interpreter": {
   "hash": "5a3b552e1f00b069c0e96dcc3c439489a3953ff59f29351d8119914676dca9ff"
  },
  "kernelspec": {
   "display_name": "Python 3.10.4 ('loica')",
   "language": "python",
   "name": "python3"
  },
  "language_info": {
   "codemirror_mode": {
    "name": "ipython",
    "version": 3
   },
   "file_extension": ".py",
   "mimetype": "text/x-python",
   "name": "python",
   "nbconvert_exporter": "python",
   "pygments_lexer": "ipython3",
   "version": "3.10.4"
  },
  "orig_nbformat": 4
 },
 "nbformat": 4,
 "nbformat_minor": 2
}
