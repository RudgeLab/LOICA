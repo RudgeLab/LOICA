{
 "cells": [
  {
   "cell_type": "markdown",
   "metadata": {},
   "source": [
    "# LOICA Consortia demonstration"
   ]
  },
  {
   "cell_type": "code",
   "execution_count": null,
   "metadata": {},
   "outputs": [],
   "source": [
    "pip install -e ."
   ]
  },
  {
   "cell_type": "code",
   "execution_count": null,
   "metadata": {},
   "outputs": [],
   "source": [
    "import loica as lc\n",
    "import matplotlib.pyplot as plt\n",
    "import networkx as nx\n",
    "import warnings\n",
    "warnings.simplefilter(action='ignore', category=FutureWarning)"
   ]
  },
  {
   "cell_type": "markdown",
   "metadata": {},
   "source": [
    "This notebook shows the novel functionality that has been encoded in git branch Consortia\n",
    "\n",
    "This LOICA update allows to create strains that belong to class Strain, taking genetic network and metabolism as parameters."
   ]
  },
  {
   "cell_type": "markdown",
   "metadata": {},
   "source": [
    "## Test producer strain\n",
    "First, set up metabolism and genetic network as usual"
   ]
  },
  {
   "cell_type": "code",
   "execution_count": null,
   "metadata": {},
   "outputs": [],
   "source": [
    "def growth_rate(t):\n",
    "    return 1 #lc.gompertz_growth_rate(t, 0.01, 1, 1, 1)\n",
    "\n",
    "def biomass(t):\n",
    "    return 1 #lc.gompertz(t, 0.01, 1, 1, 1)\n",
    "\n",
    "metab1 = lc.SimulatedMetabolism(\"Simulated metabolism 1\", biomass, growth_rate)\n",
    "genetic_n1 = lc.GeneticNetwork()"
   ]
  },
  {
   "cell_type": "markdown",
   "metadata": {},
   "source": [
    "Then define strain. Strain class also has parameter cell_volume, which is by default set to 10^-15 L"
   ]
  },
  {
   "cell_type": "code",
   "execution_count": null,
   "metadata": {},
   "outputs": [],
   "source": [
    "test_strain = lc.Strain('Test strain', genetic_n1, metab1)\n",
    "# test\n",
    "print(test_strain.name)\n",
    "print(test_strain.cell_volume)"
   ]
  },
  {
   "cell_type": "markdown",
   "metadata": {},
   "source": [
    "Now, create genetic network as usual. "
   ]
  },
  {
   "cell_type": "markdown",
   "metadata": {},
   "source": [
    "### No diffusion"
   ]
  },
  {
   "cell_type": "markdown",
   "metadata": {},
   "source": [
    "Each gene product now has parameter permeability_const (representing permeability constant). \n",
    "\n",
    "LOICA Consortia assumes that:\n",
    "- all molecules are distrubed equally both incracellularly and extracellularly, so the only diffusion gradient exists between extracellular space and inside of the cell. \n",
    "- all cells belonging to the same strain are of uniform size. \n",
    "\n",
    "Diffusion is modelled similarly to model by: <div class=\"csl-entry\">Pai, A., &#38; You, L. (2009). Optimal tuning of bacterial sensing potential. <i>Molecular Systems Biology</i>, <i>5</i>, 286. https://doi.org/10.1038/MSB.2009.43</div>\n",
    "\n",
    "However while they model single cell, extracellular concentration change for each strain in LOICA Consortia is multiplied by the cell number in that strain. Permeability constants for different signalling molecules can be found in the supplementary information of that paper."
   ]
  },
  {
   "cell_type": "code",
   "execution_count": null,
   "metadata": {},
   "outputs": [],
   "source": [
    "# Create and add reporter to genetic network\n",
    "reporter = lc.Reporter(name='GFP', color='green', degradation_rate=0, init_concentration=0)\n",
    "genetic_n1.add_reporter(reporter)\n",
    "\n",
    "# Constitutive exression of reporter from strain\n",
    "source = lc.Source(output=reporter, rate=10**-7)\n",
    "genetic_n1.add_operator(source)"
   ]
  },
  {
   "cell_type": "markdown",
   "metadata": {},
   "source": [
    "Now we have a strain that constitutively expresses GFP. \n",
    "\n",
    "Since we have not set permeability constant, if we create sample, assay and run the latter, the reporter extracellular concentration will stay 0:"
   ]
  },
  {
   "cell_type": "code",
   "execution_count": null,
   "metadata": {},
   "outputs": [],
   "source": [
    "sample = lc.Sample(strain=test_strain)\n",
    "assay = lc.Assay([sample], \n",
    "                n_measurements=100, \n",
    "                interval=0.24,\n",
    "                name='GFP constittive expression',\n",
    "                description='Simulated GFP expression in test strain'\n",
    "                )"
   ]
  },
  {
   "cell_type": "markdown",
   "metadata": {},
   "source": [
    "Setting parameter track_all to true will record both intracellular and extracellular concentrations of all GeneProducts in the systems, as well as biomass without accounting for noise and background."
   ]
  },
  {
   "cell_type": "code",
   "execution_count": null,
   "metadata": {},
   "outputs": [],
   "source": [
    "assay.run(substeps=10, mode='track_all')"
   ]
  },
  {
   "cell_type": "code",
   "execution_count": null,
   "metadata": {},
   "outputs": [],
   "source": [
    "m = assay.measurements\n",
    "fig,ax = plt.subplots()\n",
    "fig,ax1 = plt.subplots()\n",
    "m[m.Signal=='Extracellular GFP'].plot(x='Time', y='Measurement', color='green', style='.', ax=ax)\n",
    "m[m.Signal=='GFP in Test strain'].plot(x='Time', y='Measurement', color='green', style='-', ax=ax1)\n",
    "ax.legend(['Extracellular GFP'])\n",
    "ax1.legend(['Internal GFP'])\n",
    "fig2,ax2 = plt.subplots()\n",
    "m[m.Signal=='Test strain biomass'].plot(x='Time', y='Measurement', style='-', ax=ax2)\n",
    "ax2.legend(['Biomass'])"
   ]
  },
  {
   "cell_type": "markdown",
   "metadata": {},
   "source": [
    "Intracellular GFP concentration reaches steady-state due dilution from growth."
   ]
  },
  {
   "cell_type": "markdown",
   "metadata": {},
   "source": [
    "### With diffusion"
   ]
  },
  {
   "cell_type": "code",
   "execution_count": null,
   "metadata": {},
   "outputs": [],
   "source": [
    "metab2 = lc.SimulatedMetabolism(\"Simulated metabolism 2\", biomass, growth_rate)\n",
    "genetic_n2 = lc.GeneticNetwork()\n",
    "test_strain2 = lc.Strain('Test strain', genetic_n2, metab2)"
   ]
  },
  {
   "cell_type": "markdown",
   "metadata": {},
   "source": [
    "Now let's add diffusible signal C14 with  permeability constant - 126/h."
   ]
  },
  {
   "cell_type": "code",
   "execution_count": null,
   "metadata": {},
   "outputs": [],
   "source": [
    "regulator = lc.Regulator(name='C14', degradation_rate=0, init_concentration=0, permeability_const=126)\n",
    "genetic_n2.add_regulator(regulator)\n",
    "\n",
    "source_2 = lc.Source(output=regulator, rate=10**-7)\n",
    "genetic_n2.add_operator(source_2)"
   ]
  },
  {
   "cell_type": "code",
   "execution_count": null,
   "metadata": {},
   "outputs": [],
   "source": [
    "plt.figure(figsize=(3.5,3.5), dpi=100)\n",
    "genetic_n2.draw()"
   ]
  },
  {
   "cell_type": "markdown",
   "metadata": {},
   "source": [
    "By default sample volume is set to 1.36E-08 L to represent an 85 * 100 * 1600 um trap in microfluidic device from https://doi.org/10.1126%2Fscience.aaa3794. This can be changed using parameter volume. Here, I set it to 200 ul to represent volume added to a well in 96 well plate."
   ]
  },
  {
   "cell_type": "code",
   "execution_count": null,
   "metadata": {},
   "outputs": [],
   "source": [
    "sample2 = lc.Sample(strain=test_strain2, volume=0.0002)\n",
    "assay2 = lc.Assay([sample2], \n",
    "                n_measurements=100, \n",
    "                interval=0.24,\n",
    "                name='C14 constittive expression',\n",
    "                description='Simulated C14 expression in test strain'\n",
    "                )"
   ]
  },
  {
   "cell_type": "code",
   "execution_count": null,
   "metadata": {},
   "outputs": [],
   "source": [
    "assay2.run(substeps=50, mode='track_all')"
   ]
  },
  {
   "cell_type": "code",
   "execution_count": null,
   "metadata": {},
   "outputs": [],
   "source": [
    "m = assay2.measurements\n",
    "fig,ax = plt.subplots()\n",
    "m[m.Signal=='Extracellular C14'].plot(x='Time', y='Measurement', color='orange', style='.', ax=ax)\n",
    "ax.legend(['Extracellular C14'])\n",
    "fig2, ax2 = plt.subplots()\n",
    "m[m.Signal=='C14 in Test strain'].plot(x='Time', y='Measurement', style='-', ax=ax2)\n",
    "ax2.legend(['C14 in Test strain'])\n",
    "fig1, ax1 = plt.subplots()\n",
    "m[m.Signal=='Test strain biomass'].plot(x='Time', y='Measurement', style='-', ax=ax1)\n",
    "ax1.legend(['Biomass'])"
   ]
  },
  {
   "cell_type": "markdown",
   "metadata": {},
   "source": [
    "As you can see, external C14 concentration is low, but is steadily increasing as the experiment goes on."
   ]
  },
  {
   "cell_type": "markdown",
   "metadata": {},
   "source": [
    "### Extracellular diffusion due to flow"
   ]
  },
  {
   "cell_type": "markdown",
   "metadata": {},
   "source": [
    "It is also possible to set extracellular diffusion due to flow rate for any GeneProduct."
   ]
  },
  {
   "cell_type": "code",
   "execution_count": null,
   "metadata": {},
   "outputs": [],
   "source": [
    "sample2.set_extracel_flow(\"C14\", 10)\n",
    "assay3 = lc.Assay([sample2], \n",
    "                n_measurements=100, \n",
    "                interval=0.24,\n",
    "                name='C14 constittive expression with C14 extracellular degradation',\n",
    "                description='Simulated C14 expression in test strain'\n",
    "                )"
   ]
  },
  {
   "cell_type": "markdown",
   "metadata": {},
   "source": [
    "To avoid negative concentration, permeability constant * interval / n_substeps has to be less than one. I have set n_substeps to 50 to achieve this."
   ]
  },
  {
   "cell_type": "code",
   "execution_count": null,
   "metadata": {},
   "outputs": [],
   "source": [
    "assay3.run(substeps=50, mode='track_all')"
   ]
  },
  {
   "cell_type": "code",
   "execution_count": null,
   "metadata": {},
   "outputs": [],
   "source": [
    "m = assay3.measurements\n",
    "fig,ax = plt.subplots()\n",
    "m[m.Signal=='Extracellular C14'].plot(x='Time', y='Measurement', color='orange', style='-', ax=ax)\n",
    "ax.legend(['Extracellular C14'])\n",
    "fig2,ax2 = plt.subplots()\n",
    "m[m.Signal=='C14 in Test strain'].plot(x='Time', y='Measurement', style='-', ax=ax2)\n",
    "ax2.legend(['C14 in Test strain'])"
   ]
  },
  {
   "cell_type": "markdown",
   "metadata": {},
   "source": [
    "Here, you can see that external concentration is generally lower due to external flow. Both intracellular and extracellular C14 concentrations quickly reach steady-state."
   ]
  },
  {
   "cell_type": "markdown",
   "metadata": {},
   "source": [
    "## Sender-Receiver consortium"
   ]
  },
  {
   "cell_type": "markdown",
   "metadata": {},
   "source": [
    "### Sender strain"
   ]
  },
  {
   "cell_type": "code",
   "execution_count": null,
   "metadata": {},
   "outputs": [],
   "source": [
    "def growth_rate_sender(t):\n",
    "    return 1 # lc.gompertz_growth_rate(t, 0.005, 0.5, 1, 1)\n",
    "\n",
    "def biomass_sender(t):\n",
    "    return 0.5 #lc.gompertz(t, 0.005, 0.5, 1, 1) \n",
    "\n",
    "metab_sender = lc.SimulatedMetabolism(\"Simulated metabolism receiver\", biomass_sender, growth_rate_sender)\n",
    "genetic_network_sender = lc.GeneticNetwork()\n",
    "sender = lc.Strain('Sender', genetic_network_sender, metab_sender)\n",
    "# test\n",
    "print(sender.name)"
   ]
  },
  {
   "cell_type": "code",
   "execution_count": null,
   "metadata": {},
   "outputs": [],
   "source": [
    "# Create and add reporter to genetic network\n",
    "signal = lc.Regulator(name='C14', degradation_rate=0, init_concentration=0, permeability_const=126)\n",
    "genetic_network_sender.add_regulator(signal)\n",
    "\n",
    "# Constitutive exression of signal in sender\n",
    "signal_source = lc.Source(output=signal, rate=10**-7)\n",
    "genetic_network_sender.add_operator(signal_source)"
   ]
  },
  {
   "cell_type": "code",
   "execution_count": null,
   "metadata": {},
   "outputs": [],
   "source": [
    "plt.figure(figsize=(3.5,3.5), dpi=100)\n",
    "genetic_network_sender.draw()"
   ]
  },
  {
   "cell_type": "markdown",
   "metadata": {},
   "source": [
    "### Receiver strain"
   ]
  },
  {
   "cell_type": "code",
   "execution_count": null,
   "metadata": {},
   "outputs": [],
   "source": [
    "def growth_rate_receiver(t):\n",
    "    return 1 #lc.gompertz_growth_rate(t, 0.005, 0.5, 1, 1) \n",
    "\n",
    "def biomass_receiver(t):\n",
    "    return 0.5 #lc.gompertz(t, 0.005, 0.5, 1, 1) \n",
    "\n",
    "metab_receiver = lc.SimulatedMetabolism(\"Simulated metabolism receiver\", biomass_receiver, growth_rate_receiver)\n",
    "genetic_network_receiver = lc.GeneticNetwork()\n",
    "receiver = lc.Strain('Receiver', genetic_network_receiver, metab_receiver)\n",
    "# test\n",
    "print(receiver.name)"
   ]
  },
  {
   "cell_type": "markdown",
   "metadata": {},
   "source": [
    "When defining multiple strains, if molecule can diffuse to cell (\"receiver\") that doesn't belong to the producer strain, it has to be defined within the \"receiver\" strain as well. Since each object of GeneProduct has own internal concentration, assigning the same value for different genetic networks will not work, as different strains with different degetic networks will have different dynamics. "
   ]
  },
  {
   "cell_type": "code",
   "execution_count": null,
   "metadata": {},
   "outputs": [],
   "source": [
    "# Create and add regulator to genetic network\n",
    "signal_in_r = lc.Regulator(name='C14', degradation_rate=0, init_concentration=0, permeability_const=126)\n",
    "genetic_network_receiver.add_regulator(signal_in_r)\n",
    "\n",
    "# Create and add reporter\n",
    "gfp = lc.Reporter(name='GFP', degradation_rate=0, init_concentration=0)\n",
    "genetic_network_receiver.add_reporter(gfp)\n",
    "\n",
    "# Exression of GFP activated by C14\n",
    "c14_to_gfp = lc.Hill1(name='Pcin', input=signal_in_r, output=gfp, alpha=[0, 10**-8], K=10**-6, n=1.87)\n",
    "genetic_network_receiver.add_operator(c14_to_gfp)"
   ]
  },
  {
   "cell_type": "code",
   "execution_count": null,
   "metadata": {},
   "outputs": [],
   "source": [
    "plt.figure(figsize=(3.5,3.5), dpi=100)\n",
    "genetic_network_receiver.draw()"
   ]
  },
  {
   "cell_type": "markdown",
   "metadata": {},
   "source": [
    "### Set up sample and simulate"
   ]
  },
  {
   "cell_type": "code",
   "execution_count": null,
   "metadata": {},
   "outputs": [],
   "source": [
    "s_r_consortium = lc.Sample(strain=[sender, receiver])\n",
    "s_r_assay = lc.Assay([s_r_consortium], \n",
    "                n_measurements=100, \n",
    "                interval=0.24,\n",
    "                name='GFP expression in receiver strain',\n",
    "                description='Simulated sender-receiver consortium'\n",
    "                )"
   ]
  },
  {
   "cell_type": "code",
   "execution_count": null,
   "metadata": {},
   "outputs": [],
   "source": [
    "s_r_assay.run(substeps=50, mode='track_all')"
   ]
  },
  {
   "cell_type": "code",
   "execution_count": null,
   "metadata": {},
   "outputs": [],
   "source": [
    "m = s_r_assay.measurements\n",
    "fig,ax = plt.subplots()\n",
    "fig1,ax1 = plt.subplots()\n",
    "fig2,ax2 = plt.subplots()\n",
    "fig3,ax3 = plt.subplots()\n",
    "m[m.Signal=='Extracellular GFP'].plot(x='Time', y='Measurement', style='-', ax=ax1)\n",
    "m[m.Signal=='GFP in Sender'].plot(x='Time', y='Measurement', style='-', ax=ax)\n",
    "m[m.Signal=='GFP in Receiver'].plot(x='Time', y='Measurement', style='-', ax=ax2)\n",
    "m[m.Signal=='Extracellular C14'].plot(x='Time', y='Measurement', color='red', style='.', ax=ax1)\n",
    "m[m.Signal=='C14 in Sender'].plot(x='Time', y='Measurement', color='red', style='-', ax=ax)\n",
    "m[m.Signal=='C14 in Receiver'].plot(x='Time', y='Measurement', color='red', style='--', ax=ax3)\n",
    "ax.legend(['GFP in Sender', 'C14 in Sender'])\n",
    "ax1.legend(['Extracellular GFP', 'Extracellular C14'])\n",
    "ax2.legend(['GFP in Receiver'])\n",
    "ax3.legend(['C14 in Receiver'])\n",
    "fig4, ax4 = plt.subplots()\n",
    "m[m.Signal=='Sender biomass'].plot(x='Time', y='Measurement', style='-', ax=ax4)\n",
    "m[m.Signal=='Receiver biomass'].plot(x='Time', y='Measurement', style='-', ax=ax4)\n",
    "m[m.Signal=='Total biomass'].plot(x='Time', y='Measurement', style='-', ax=ax4)\n",
    "ax4.legend(['Sender biomass', 'Receiver biomass', 'Total'])\n"
   ]
  },
  {
   "cell_type": "markdown",
   "metadata": {},
   "source": [
    "As GFP is not part of Sender GeneticNetwork, it is absent from the first graph. As C14 concentration in receiver increases, so does GFP."
   ]
  },
  {
   "cell_type": "markdown",
   "metadata": {},
   "source": [
    "# Diffusible supplement"
   ]
  },
  {
   "cell_type": "markdown",
   "metadata": {},
   "source": [
    "You can set a signal to be continuously added at the same concentration to the the sample. In the code below, we create receiver strain that produces GFP when C14 is present. Then we create supplement C14."
   ]
  },
  {
   "cell_type": "markdown",
   "metadata": {},
   "source": [
    "### Receiver strain"
   ]
  },
  {
   "cell_type": "code",
   "execution_count": null,
   "metadata": {},
   "outputs": [],
   "source": [
    "def growth_rate_receiver(t):\n",
    "    return 1 #lc.gompertz_growth_rate(t, 0.01, 1, 1, 1)\n",
    "\n",
    "def biomass_receiver(t):\n",
    "    return 1 #lc.gompertz(t, 0.01, 1, 1, 1)\n",
    "\n",
    "metab_receiver = lc.SimulatedMetabolism(\"Simulated metabolism receiver\", biomass_receiver, growth_rate_receiver)\n",
    "genetic_network_receiver = lc.GeneticNetwork()\n",
    "receiver = lc.Strain('Receiver', genetic_network_receiver, metab_receiver)\n",
    "# test\n",
    "print(receiver.name)"
   ]
  },
  {
   "cell_type": "code",
   "execution_count": null,
   "metadata": {},
   "outputs": [],
   "source": [
    "# Create and add regulator to genetic network\n",
    "signal = lc.Regulator(name='C14', degradation_rate=0, init_concentration=0, permeability_const=126)\n",
    "genetic_network_receiver.add_regulator(signal)\n",
    "\n",
    "# Create and add reporter\n",
    "gfp = lc.Reporter(name='GFP', degradation_rate=0, init_concentration=0)\n",
    "genetic_network_receiver.add_reporter(gfp)\n",
    "\n",
    "# Exression of GFP activated by C14\n",
    "c14_to_gfp = lc.Hill1(name='Pcin', input=signal, output=gfp, alpha=[0, 10**-8], K=10**-6, n=1.87)\n",
    "genetic_network_receiver.add_operator(c14_to_gfp)"
   ]
  },
  {
   "cell_type": "code",
   "execution_count": null,
   "metadata": {},
   "outputs": [],
   "source": [
    "plt.figure(figsize=(3.5,3.5), dpi=100)\n",
    "genetic_network_receiver.draw()"
   ]
  },
  {
   "cell_type": "markdown",
   "metadata": {},
   "source": [
    "Add supplement. Make sure that the name is the same as the as the regulator name that belongs to the receiver strain."
   ]
  },
  {
   "cell_type": "code",
   "execution_count": null,
   "metadata": {},
   "outputs": [],
   "source": [
    "supplement = lc.Supplement(name='C14')"
   ]
  },
  {
   "cell_type": "markdown",
   "metadata": {},
   "source": [
    "### Set up sample, set supplement and simulate"
   ]
  },
  {
   "cell_type": "code",
   "execution_count": null,
   "metadata": {},
   "outputs": [],
   "source": [
    "receiver_sample = lc.Sample(strain=receiver)\n",
    "receiver_sample.set_supplement(supplement, 0.0001)\n",
    "receiver_assay = lc.Assay([receiver_sample], \n",
    "                n_measurements=100, \n",
    "                interval=0.24,\n",
    "                name='GFP expression in receiver strain based on supplement diffusion',\n",
    "                description='Simulated receiver strain'\n",
    "                )"
   ]
  },
  {
   "cell_type": "code",
   "execution_count": null,
   "metadata": {},
   "outputs": [],
   "source": [
    "receiver_assay.run(substeps=50, mode='track_all')"
   ]
  },
  {
   "cell_type": "code",
   "execution_count": null,
   "metadata": {},
   "outputs": [],
   "source": [
    "m = receiver_assay.measurements\n",
    "fig,ax = plt.subplots()\n",
    "fig1,ax1 = plt.subplots()\n",
    "fig2,ax2 = plt.subplots()\n",
    "m[m.Signal=='Extracellular GFP'].plot(x='Time', y='Measurement', style='-', ax=ax)\n",
    "m[m.Signal=='GFP in Receiver'].plot(x='Time', y='Measurement', color='green', style='-', ax=ax2)\n",
    "m[m.Signal=='Extracellular C14'].plot(x='Time', y='Measurement', color='red', style='.', ax=ax)\n",
    "m[m.Signal=='C14 in Receiver'].plot(x='Time', y='Measurement', color='red', style='--', ax=ax1)\n",
    "fig3, ax3 = plt.subplots()\n",
    "m[m.Signal=='Receiver biomass'].plot(x='Time', y='Measurement', color='purple', style='-', ax=ax3)\n",
    "ax.legend(['Extracellular GFP', 'Extracellular C14'])\n",
    "ax1.legend(['C14 in Receiver'])\n",
    "ax2.legend(['GFP in Receiver'])\n",
    "ax3.legend(['Receiver biomass'])"
   ]
  },
  {
   "cell_type": "markdown",
   "metadata": {},
   "source": [
    "# Set initial external concentration"
   ]
  },
  {
   "cell_type": "markdown",
   "metadata": {},
   "source": [
    "You can set a starting external concentration of signal. In the code below, we create receiver strain that produces GFP when C14 is present. Then we set starting extracellular C14 concentration."
   ]
  },
  {
   "cell_type": "markdown",
   "metadata": {},
   "source": [
    "### Receiver strain"
   ]
  },
  {
   "cell_type": "code",
   "execution_count": null,
   "metadata": {},
   "outputs": [],
   "source": [
    "def growth_rate_receiver(t):\n",
    "    return 1 #lc.gompertz_growth_rate(t, 0.01, 1, 1, 1)\n",
    "\n",
    "def biomass_receiver(t):\n",
    "    return 1 #lc.gompertz(t, 0.01, 1, 1, 1)\n",
    "\n",
    "metab_receiver = lc.SimulatedMetabolism(\"Simulated metabolism receiver\", biomass_receiver, growth_rate_receiver)\n",
    "genetic_network_receiver = lc.GeneticNetwork()\n",
    "receiver = lc.Strain('Receiver', genetic_network_receiver, metab_receiver)\n",
    "# test\n",
    "print(receiver.name)"
   ]
  },
  {
   "cell_type": "code",
   "execution_count": null,
   "metadata": {},
   "outputs": [],
   "source": [
    "# Create and add regulator to genetic network\n",
    "signal = lc.Regulator(name='C14', degradation_rate=0, init_concentration=0, permeability_const=126)\n",
    "genetic_network_receiver.add_regulator(signal)\n",
    "\n",
    "# Create and add reporter\n",
    "gfp = lc.Reporter(name='GFP', degradation_rate=0, init_concentration=0)\n",
    "genetic_network_receiver.add_reporter(gfp)\n",
    "\n",
    "# Exression of GFP activated by C14\n",
    "c14_to_gfp = lc.Hill1(name='Pcin', input=signal, output=gfp, alpha=[0, 10**-8], K=10**-6, n=1.87)\n",
    "genetic_network_receiver.add_operator(c14_to_gfp)"
   ]
  },
  {
   "cell_type": "markdown",
   "metadata": {},
   "source": [
    "### Set up sample, set starting concentration and simulate"
   ]
  },
  {
   "cell_type": "code",
   "execution_count": null,
   "metadata": {},
   "outputs": [],
   "source": [
    "receiver2_sample = lc.Sample(strain=receiver)\n",
    "# set starting extracellular C14 concentration\n",
    "receiver2_sample.set_ext_conc('C14', 0.001)\n",
    "print(signal.init_ext_conc)"
   ]
  },
  {
   "cell_type": "code",
   "execution_count": null,
   "metadata": {},
   "outputs": [],
   "source": [
    "receiver2_assay = lc.Assay([receiver2_sample], \n",
    "                n_measurements=100, \n",
    "                interval=0.24,\n",
    "                name='GFP expression in receiver strain based on C14 diffusion',\n",
    "                description='Simulated receiver strain'\n",
    "                )"
   ]
  },
  {
   "cell_type": "code",
   "execution_count": null,
   "metadata": {},
   "outputs": [],
   "source": [
    "receiver2_assay.run(substeps=50, mode='track_all')"
   ]
  },
  {
   "cell_type": "code",
   "execution_count": null,
   "metadata": {},
   "outputs": [],
   "source": [
    "m = receiver2_assay.measurements\n",
    "fig,ax = plt.subplots()\n",
    "fig4,ax4 = plt.subplots()\n",
    "fig1,ax1 = plt.subplots()\n",
    "fig2,ax2 = plt.subplots()\n",
    "m[m.Signal=='Extracellular GFP'].plot(x='Time', y='Measurement', style='-', ax=ax)\n",
    "m[m.Signal=='GFP in Receiver'].plot(x='Time', y='Measurement', color='green', style='-', ax=ax2)\n",
    "m[m.Signal=='Extracellular C14'].plot(x='Time', y='Measurement', color='red', style='-', ax=ax4)\n",
    "m[m.Signal=='C14 in Receiver'].plot(x='Time', y='Measurement', color='red', style='--', ax=ax1)\n",
    "fig3, ax3 = plt.subplots()\n",
    "m[m.Signal=='Receiver biomass'].plot(x='Time', y='Measurement', color='purple', style='-', ax=ax3)\n",
    "ax.legend(['Extracellular GFP'])\n",
    "ax4.legend(['Extracellular C14'])\n",
    "ax1.legend(['C14 in Receiver'])\n",
    "ax2.legend(['GFP in Receiver'])\n",
    "ax3.legend(['Receiver biomass'])"
   ]
  }
 ],
 "metadata": {
  "interpreter": {
   "hash": "5a3b552e1f00b069c0e96dcc3c439489a3953ff59f29351d8119914676dca9ff"
  },
  "kernelspec": {
   "display_name": "Python 3.10.4 ('loica')",
   "language": "python",
   "name": "python3"
  },
  "language_info": {
   "codemirror_mode": {
    "name": "ipython",
    "version": 3
   },
   "file_extension": ".py",
   "mimetype": "text/x-python",
   "name": "python",
   "nbconvert_exporter": "python",
   "pygments_lexer": "ipython3",
   "version": "3.10.4"
  },
  "orig_nbformat": 4
 },
 "nbformat": 4,
 "nbformat_minor": 2
}
