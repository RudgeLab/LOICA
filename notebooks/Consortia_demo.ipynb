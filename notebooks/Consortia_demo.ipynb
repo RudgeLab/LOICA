{
 "cells": [
  {
   "cell_type": "markdown",
   "metadata": {},
   "source": [
    "# LOICA Consortia demonstration"
   ]
  },
  {
   "cell_type": "code",
   "execution_count": 1,
   "metadata": {},
   "outputs": [
    {
     "name": "stdout",
     "output_type": "stream",
     "text": [
      "Note: you may need to restart the kernel to use updated packages.\n"
     ]
    },
    {
     "name": "stderr",
     "output_type": "stream",
     "text": [
      "ERROR: File \"setup.py\" or \"setup.cfg\" not found. Directory cannot be installed in editable mode: c:\\Users\\User\\OneDrive\\Desktop\\Masters PJ\\GitHub\\LOICA\\notebooks\n"
     ]
    }
   ],
   "source": [
    "pip install -e ."
   ]
  },
  {
   "cell_type": "code",
   "execution_count": 2,
   "metadata": {},
   "outputs": [],
   "source": [
    "import loica as lc\n",
    "import matplotlib.pyplot as plt\n",
    "import networkx as nx\n",
    "import warnings\n",
    "warnings.simplefilter(action='ignore', category=FutureWarning)"
   ]
  },
  {
   "cell_type": "markdown",
   "metadata": {},
   "source": [
    "This notebook shows the novel functionality that has been encoded in git branch Consortia\n",
    "\n",
    "This LOICA update allows to create strains that belong to class Strain, taking genetic network and metabolism as parameters."
   ]
  },
  {
   "cell_type": "markdown",
   "metadata": {},
   "source": [
    "## Test producer strain\n",
    "First, set up metabolism and genetic network as usual"
   ]
  },
  {
   "cell_type": "code",
   "execution_count": 3,
   "metadata": {},
   "outputs": [],
   "source": [
    "def growth_rate(t):\n",
    "    return 1 # gompertz_growth_rate(t, 0.01, 1, 1, 0.5)\n",
    "\n",
    "def biomass(t):\n",
    "    return 1 # gompertz(t, 0.01, 1, 1, 0.5)\n",
    "\n",
    "metab1 = lc.SimulatedMetabolism(\"Simulated metabolism 1\", biomass, growth_rate)\n",
    "genetic_n1 = lc.GeneticNetwork()"
   ]
  },
  {
   "cell_type": "markdown",
   "metadata": {},
   "source": [
    "Then define strain"
   ]
  },
  {
   "cell_type": "code",
   "execution_count": 4,
   "metadata": {},
   "outputs": [
    {
     "name": "stdout",
     "output_type": "stream",
     "text": [
      "Test strain\n"
     ]
    }
   ],
   "source": [
    "test_strain = lc.Strain('Test strain', genetic_n1, metab1)\n",
    "# test\n",
    "print(test_strain.name)"
   ]
  },
  {
   "cell_type": "markdown",
   "metadata": {},
   "source": [
    "Now, create genetic network as usual. "
   ]
  },
  {
   "cell_type": "markdown",
   "metadata": {},
   "source": [
    "### No diffusion"
   ]
  },
  {
   "cell_type": "markdown",
   "metadata": {},
   "source": [
    "Each gene product now has parameter diffusion_rate, which by default is set to 0. \n",
    "\n",
    "LOICA Consortia assumes that:\n",
    "- all molecules are distrubed equally both incracellularly and extracellularly, so the only diffusion gradient exists between extracellular space and inside of the cell. \n",
    "- all cells belonging to the same strain are of uniform size. \n",
    "\n",
    "Based on that, diffusion rate here is the proportion of concentration/molecule difference that gets transferred either in- or outside of the cell per change of time. This parameter depend on the average surface area of the cell in the strain."
   ]
  },
  {
   "cell_type": "code",
   "execution_count": 5,
   "metadata": {},
   "outputs": [],
   "source": [
    "# Create and add reporter to genetic network\n",
    "reporter = lc.Reporter(name='GFP', color='green', degradation_rate=0, init_concentration=0)\n",
    "genetic_n1.add_reporter(reporter)\n",
    "\n",
    "# Constitutive exression of reporter from strain\n",
    "source = lc.Source(output=reporter, rate=1000)\n",
    "genetic_n1.add_operator(source)"
   ]
  },
  {
   "cell_type": "markdown",
   "metadata": {},
   "source": [
    "Now we have a strain that constitutively expresses GFP. \n",
    "\n",
    "Since we have not set diffusion rate, if we create sample, assay and run the latter then check the reporter extracellular concentration, it will stay 0:"
   ]
  },
  {
   "cell_type": "code",
   "execution_count": 6,
   "metadata": {},
   "outputs": [],
   "source": [
    "sample = lc.Sample(strain=test_strain)\n",
    "assay = lc.Assay([sample], \n",
    "                n_measurements=100, \n",
    "                interval=0.24,\n",
    "                name='GFP constittive expression',\n",
    "                description='Simulated GFP expression in test strain'\n",
    "                )"
   ]
  },
  {
   "cell_type": "markdown",
   "metadata": {},
   "source": [
    "Setting parameter track_all to true will record both intracellular and extracellular concentrations of all GeneProducts in the systems, as well as biomass without accounting for noise and background."
   ]
  },
  {
   "cell_type": "code",
   "execution_count": 7,
   "metadata": {},
   "outputs": [
    {
     "name": "stderr",
     "output_type": "stream",
     "text": [
      "100%|██████████| 100.0/100 [00:28<00:00,  3.56it/s]\n"
     ]
    }
   ],
   "source": [
    "assay.run(stochastic=False, track_all=True)"
   ]
  },
  {
   "cell_type": "code",
   "execution_count": 8,
   "metadata": {},
   "outputs": [
    {
     "data": {
      "text/plain": [
       "<matplotlib.legend.Legend at 0x29e93e4d600>"
      ]
     },
     "execution_count": 8,
     "metadata": {},
     "output_type": "execute_result"
    },
    {
     "data": {
      "image/png": "[encoded data removed]",
      "text/plain": [
       "<Figure size 432x288 with 1 Axes>"
      ]
     },
     "metadata": {
      "needs_background": "light"
     },
     "output_type": "display_data"
    }
   ],
   "source": [
    "m = assay.measurements\n",
    "fig,ax = plt.subplots(1,1)\n",
    "m[m.Signal=='Extracellular GFP'].plot(x='Time', y='Measurement', style='-', ax=ax)\n",
    "m[m.Signal=='GFP in Test strain'].plot(x='Time', y='Measurement', style='-', ax=ax)\n",
    "m[m.Signal=='Test strain biomass'].plot(x='Time', y='Measurement', style='-', ax=ax)\n",
    "plt.legend(['Extracellular GFP', 'Internal GFP', 'Biomass'])"
   ]
  },
  {
   "cell_type": "markdown",
   "metadata": {},
   "source": [
    "### With diffusion"
   ]
  },
  {
   "cell_type": "markdown",
   "metadata": {},
   "source": [
    "Now let's add diffusible signal C14 with diffusion rate 1 (all difference gets trasferred)that would also be continiously expressed."
   ]
  },
  {
   "cell_type": "code",
   "execution_count": 9,
   "metadata": {},
   "outputs": [],
   "source": [
    "regulator = lc.Regulator(name='C14', degradation_rate=0, init_concentration=0, diffusion_rate=1)\n",
    "genetic_n1.add_regulator(regulator)\n",
    "\n",
    "source_2 = lc.Source(output=regulator, rate=1000)\n",
    "genetic_n1.add_operator(source_2)"
   ]
  },
  {
   "cell_type": "code",
   "execution_count": 10,
   "metadata": {},
   "outputs": [],
   "source": [
    "sample = lc.Sample(strain=test_strain)\n",
    "assay2 = lc.Assay([sample], \n",
    "                n_measurements=100, \n",
    "                interval=0.24,\n",
    "                name='GFP and C14 constittive expression',\n",
    "                description='Simulated GFP and C14 expression in test strain'\n",
    "                )"
   ]
  },
  {
   "cell_type": "code",
   "execution_count": 11,
   "metadata": {},
   "outputs": [
    {
     "name": "stderr",
     "output_type": "stream",
     "text": [
      "100%|██████████| 100.0/100 [00:38<00:00,  2.58it/s]\n"
     ]
    }
   ],
   "source": [
    "assay2.run(stochastic=False, track_all=True)"
   ]
  },
  {
   "cell_type": "code",
   "execution_count": 12,
   "metadata": {},
   "outputs": [
    {
     "data": {
      "text/plain": [
       "<matplotlib.legend.Legend at 0x29e95fb18a0>"
      ]
     },
     "execution_count": 12,
     "metadata": {},
     "output_type": "execute_result"
    },
    {
     "data": {
      "image/png": "[encoded data removed]",
      "text/plain": [
       "<Figure size 432x288 with 1 Axes>"
      ]
     },
     "metadata": {
      "needs_background": "light"
     },
     "output_type": "display_data"
    }
   ],
   "source": [
    "m = assay2.measurements\n",
    "fig,ax = plt.subplots(1,1)\n",
    "m[m.Signal=='Extracellular GFP'].plot(x='Time', y='Measurement', style='-', ax=ax)\n",
    "m[m.Signal=='GFP in Test strain'].plot(x='Time', y='Measurement', style='-', ax=ax)\n",
    "m[m.Signal=='Extracellular C14'].plot(x='Time', y='Measurement', style='-', ax=ax)\n",
    "m[m.Signal=='C14 in Test strain'].plot(x='Time', y='Measurement', style='-', ax=ax)\n",
    "m[m.Signal=='Test strain biomass'].plot(x='Time', y='Measurement', style='-', ax=ax)\n",
    "plt.legend(['Extracellular GFP', 'Internal GFP', 'Extracellular C14', 'C14 in Test strain', 'Biomass'])"
   ]
  },
  {
   "cell_type": "markdown",
   "metadata": {},
   "source": [
    "### Extracellular degradation"
   ]
  },
  {
   "cell_type": "markdown",
   "metadata": {},
   "source": [
    "It is also possible to set extracellular degradation rate for any GeneProduct."
   ]
  },
  {
   "cell_type": "code",
   "execution_count": 14,
   "metadata": {},
   "outputs": [],
   "source": [
    "sample.set_extracel_degr(\"C14\", 0.5)\n",
    "assay3 = lc.Assay([sample], \n",
    "                n_measurements=100, \n",
    "                interval=0.24,\n",
    "                name='GFP and C14 constittive expression with C14 extracellular degradation',\n",
    "                description='Simulated GFP and C14 expression in test strain'\n",
    "                )"
   ]
  },
  {
   "cell_type": "code",
   "execution_count": 15,
   "metadata": {},
   "outputs": [
    {
     "name": "stderr",
     "output_type": "stream",
     "text": [
      "100%|██████████| 100.0/100 [00:41<00:00,  2.41it/s]\n"
     ]
    }
   ],
   "source": [
    "assay3.run(stochastic=False, track_all=True)"
   ]
  },
  {
   "cell_type": "code",
   "execution_count": 16,
   "metadata": {},
   "outputs": [
    {
     "data": {
      "text/plain": [
       "<matplotlib.legend.Legend at 0x29e9605b250>"
      ]
     },
     "execution_count": 16,
     "metadata": {},
     "output_type": "execute_result"
    },
    {
     "data": {
      "image/png": "[encoded data removed]",
      "text/plain": [
       "<Figure size 432x288 with 1 Axes>"
      ]
     },
     "metadata": {
      "needs_background": "light"
     },
     "output_type": "display_data"
    }
   ],
   "source": [
    "m = assay3.measurements\n",
    "fig,ax = plt.subplots(1,1)\n",
    "m[m.Signal=='Extracellular GFP'].plot(x='Time', y='Measurement', style='-', ax=ax)\n",
    "m[m.Signal=='GFP in Test strain'].plot(x='Time', y='Measurement', style='-', ax=ax)\n",
    "m[m.Signal=='Extracellular C14'].plot(x='Time', y='Measurement', style='-', ax=ax)\n",
    "m[m.Signal=='C14 in Test strain'].plot(x='Time', y='Measurement', style='-', ax=ax)\n",
    "m[m.Signal=='Test strain biomass'].plot(x='Time', y='Measurement', style='-', ax=ax)\n",
    "plt.legend(['Extracellular GFP', 'Internal GFP', 'Extracellular C14', 'C14 in Test strain', 'Biomass'])"
   ]
  },
  {
   "cell_type": "markdown",
   "metadata": {},
   "source": [
    "## Sender-Receiver consortium"
   ]
  },
  {
   "cell_type": "markdown",
   "metadata": {},
   "source": [
    "### Sender strain"
   ]
  },
  {
   "cell_type": "code",
   "execution_count": 18,
   "metadata": {},
   "outputs": [
    {
     "name": "stdout",
     "output_type": "stream",
     "text": [
      "Sender\n"
     ]
    }
   ],
   "source": [
    "def growth_rate_sender(t):\n",
    "    return 2 # gompertz_growth_rate(t, 0.01, 1, 1, 0.5)\n",
    "\n",
    "def biomass_sender(t):\n",
    "    return 2 # gompertz(t, 0.01, 1, 1, 0.5)\n",
    "\n",
    "metab_sender = lc.SimulatedMetabolism(\"Simulated metabolism receiver\", biomass_sender, growth_rate_sender)\n",
    "genetic_network_sender = lc.GeneticNetwork()\n",
    "sender = lc.Strain('Sender', genetic_network_sender, metab_sender)\n",
    "# test\n",
    "print(sender.name)"
   ]
  },
  {
   "cell_type": "code",
   "execution_count": 19,
   "metadata": {},
   "outputs": [],
   "source": [
    "# Create and add reporter to genetic network\n",
    "signal = lc.Regulator(name='C14', degradation_rate=0, init_concentration=0, diffusion_rate=0.5)\n",
    "genetic_network_sender.add_regulator(signal)\n",
    "\n",
    "# Constitutive exression of signal in sender\n",
    "signal_source = lc.Source(output=signal, rate=1000)\n",
    "genetic_network_sender.add_operator(signal_source)"
   ]
  },
  {
   "cell_type": "markdown",
   "metadata": {},
   "source": [
    "### Receiver strain"
   ]
  },
  {
   "cell_type": "code",
   "execution_count": null,
   "metadata": {},
   "outputs": [
    {
     "name": "stdout",
     "output_type": "stream",
     "text": [
      "Sender\n"
     ]
    }
   ],
   "source": [
    "def growth_rate_receiver(t):\n",
    "    return 1 # gompertz_growth_rate(t, 0.01, 1, 1, 0.5)\n",
    "\n",
    "def biomass_receiver(t):\n",
    "    return 1 # gompertz(t, 0.01, 1, 1, 0.5)\n",
    "\n",
    "metab_receiver = lc.SimulatedMetabolism(\"Simulated metabolism receiver\", biomass_receiver, growth_rate_receiver)\n",
    "genetic_network_receiver = lc.GeneticNetwork()\n",
    "receiver = lc.Strain('Receiver', genetic_network_receiver, metab_receiver)\n",
    "# test\n",
    "print(receiver.name)"
   ]
  },
  {
   "cell_type": "markdown",
   "metadata": {},
   "source": [
    "When defining multiple strains, if molecule can diffuse to cell (\"receiver\") that doesn't belong to the producer strain, it has to be defined within the \"receiver\" strain as well. Since instance of GeneProduct has own internal concentration, assigning the same value for different genetic networks will not work, as different strains with different degetic networks will have different dynamics. "
   ]
  },
  {
   "cell_type": "code",
   "execution_count": null,
   "metadata": {},
   "outputs": [],
   "source": [
    "# Create and add regulator to genetic network\n",
    "signal_in_r = lc.Regulator(name='C14', degradation_rate=0, init_concentration=0, diffusion_rate=0.5)\n",
    "genetic_network_receiver.add_regulator(signal_in_r)\n",
    "\n",
    "# Create and add reporter\n",
    "gfp = lc.Reporter(name='GFP', degradation_rate=0, init_concentration=0)\n",
    "genetic_network_receiver.add_reporter(gfp)\n",
    "\n",
    "# Exression of GFP activated by C14\n",
    "c14_to_gfp = lc.Hill1(name='Pcin', input=signal_in_r, output=gfp, alpha=[0, 100], K=10, n=2)\n",
    "genetic_network_receiver.add_operator(c14_to_gfp)"
   ]
  }
 ],
 "metadata": {
  "interpreter": {
   "hash": "5a3b552e1f00b069c0e96dcc3c439489a3953ff59f29351d8119914676dca9ff"
  },
  "kernelspec": {
   "display_name": "Python 3.10.4 ('loica')",
   "language": "python",
   "name": "python3"
  },
  "language_info": {
   "codemirror_mode": {
    "name": "ipython",
    "version": 3
   },
   "file_extension": ".py",
   "mimetype": "text/x-python",
   "name": "python",
   "nbconvert_exporter": "python",
   "pygments_lexer": "ipython3",
   "version": "3.10.4"
  },
  "orig_nbformat": 4
 },
 "nbformat": 4,
 "nbformat_minor": 2
}
