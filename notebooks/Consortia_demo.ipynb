{
 "cells": [
  {
   "cell_type": "markdown",
   "metadata": {},
   "source": [
    "# LOICA Consortia demonstration"
   ]
  },
  {
   "cell_type": "code",
   "execution_count": null,
   "metadata": {},
   "outputs": [],
   "source": [
    "pip install -e ."
   ]
  },
  {
   "cell_type": "code",
   "execution_count": 3,
   "metadata": {},
   "outputs": [],
   "source": [
    "import loica as lc\n",
    "import matplotlib.pyplot as plt\n",
    "import networkx as nx\n",
    "import warnings\n",
    "warnings.simplefilter(action='ignore', category=FutureWarning)"
   ]
  },
  {
   "cell_type": "markdown",
   "metadata": {},
   "source": [
    "This notebook shows the novel functionality that has been encoded in git branch Consortia\n",
    "\n",
    "This LOICA update allows to create strains that belong to class Strain, taking genetic network and metabolism as parameters."
   ]
  },
  {
   "cell_type": "markdown",
   "metadata": {},
   "source": [
    "## Creating strain\n",
    "First, set up metabolism and genetic network as usual"
   ]
  },
  {
   "cell_type": "code",
   "execution_count": 4,
   "metadata": {},
   "outputs": [],
   "source": [
    "def growth_rate(t):\n",
    "    return 1 # gompertz_growth_rate(t, 0.01, 1, 1, 0.5)\n",
    "\n",
    "def biomass(t):\n",
    "    return 1 # gompertz(t, 0.01, 1, 1, 0.5)\n",
    "\n",
    "metab1 = lc.SimulatedMetabolism(\"Simulated metabolism 1\", biomass, growth_rate)\n",
    "genetic_n1 = lc.GeneticNetwork()"
   ]
  },
  {
   "cell_type": "markdown",
   "metadata": {},
   "source": [
    "Then define strain"
   ]
  },
  {
   "cell_type": "code",
   "execution_count": 5,
   "metadata": {},
   "outputs": [
    {
     "name": "stdout",
     "output_type": "stream",
     "text": [
      "Test strain\n"
     ]
    }
   ],
   "source": [
    "strain = lc.Strain('Test strain', genetic_n1, metab1)\n",
    "# test\n",
    "print(strain.name)"
   ]
  },
  {
   "cell_type": "markdown",
   "metadata": {},
   "source": [
    "Now, create genetic network as usual. \n",
    "\n",
    "Each gene product now has parameter diffusion_rate, which by default is set to 0. \n",
    "\n",
    "LOICA Consortia assumes that:\n",
    "- all molecules are distrubed equally both incracellularly and extracellularly, so the only diffusion gradient exists between extracellular space and inside of the cell. \n",
    "- all cells belonging to the same strain are of uniform size. \n",
    "\n",
    "Based on that, diffusion rate here is the proportion of concentration/molecule difference that gets transferred either in- or outside of the cell per change of time."
   ]
  },
  {
   "cell_type": "code",
   "execution_count": 6,
   "metadata": {},
   "outputs": [],
   "source": [
    "# Create and add reporter to genetic network\n",
    "reporter = lc.Reporter(name='GFP', color='green', degradation_rate=0, init_concentration=0)\n",
    "genetic_n1.add_reporter(reporter)\n",
    "\n",
    "# Constitutive exression of reporter from strain\n",
    "source = lc.Source(output=reporter, rate=10)\n",
    "genetic_n1.add_operator(source)"
   ]
  },
  {
   "cell_type": "markdown",
   "metadata": {},
   "source": [
    "Now we have a strain that constitutively expresses GFP. \n",
    "\n",
    "Since we have not set diffusion rate, if we check reporter extracellular concentration, it will stay 0:"
   ]
  }
 ],
 "metadata": {
  "interpreter": {
   "hash": "5a3b552e1f00b069c0e96dcc3c439489a3953ff59f29351d8119914676dca9ff"
  },
  "kernelspec": {
   "display_name": "Python 3.10.4 ('loica')",
   "language": "python",
   "name": "python3"
  },
  "language_info": {
   "codemirror_mode": {
    "name": "ipython",
    "version": 3
   },
   "file_extension": ".py",
   "mimetype": "text/x-python",
   "name": "python",
   "nbconvert_exporter": "python",
   "pygments_lexer": "ipython3",
   "version": "3.10.4"
  },
  "orig_nbformat": 4
 },
 "nbformat": 4,
 "nbformat_minor": 2
}
