{
 "cells": [
  {
   "cell_type": "markdown",
   "metadata": {},
   "source": [
    "# LOICA Consortia demonstration"
   ]
  },
  {
   "cell_type": "code",
   "execution_count": null,
   "metadata": {},
   "outputs": [],
   "source": [
    "pip install -e ."
   ]
  },
  {
   "cell_type": "code",
   "execution_count": null,
   "metadata": {},
   "outputs": [],
   "source": [
    "import loica as lc\n",
    "import matplotlib.pyplot as plt\n",
    "import networkx as nx\n",
    "import warnings\n",
    "warnings.simplefilter(action='ignore', category=FutureWarning)"
   ]
  },
  {
   "cell_type": "markdown",
   "metadata": {},
   "source": [
    "This notebook shows the novel functionality that has been encoded in git branch Consortia\n",
    "\n",
    "This LOICA update allows to create strains that belong to class Strain, taking genetic network and metabolism as parameters."
   ]
  },
  {
   "cell_type": "markdown",
   "metadata": {},
   "source": [
    "## Creating strain\n",
    "First, set up metabolism and genetic network as usual"
   ]
  },
  {
   "cell_type": "code",
   "execution_count": null,
   "metadata": {},
   "outputs": [],
   "source": [
    "def growth_rate(t):\n",
    "    return 1 # gompertz_growth_rate(t, 0.01, 1, 1, 0.5)\n",
    "\n",
    "def biomass(t):\n",
    "    return 1 # gompertz(t, 0.01, 1, 1, 0.5)\n",
    "\n",
    "metab1 = lc.SimulatedMetabolism(\"Simulated metabolism 1\", biomass, growth_rate)\n",
    "genetic_n1 = lc.GeneticNetwork()"
   ]
  },
  {
   "cell_type": "markdown",
   "metadata": {},
   "source": [
    "Then define strain"
   ]
  },
  {
   "cell_type": "code",
   "execution_count": null,
   "metadata": {},
   "outputs": [],
   "source": [
    "test_strain = lc.Strain('Test strain', genetic_n1, metab1)\n",
    "# test\n",
    "print(test_strain.name)"
   ]
  },
  {
   "cell_type": "markdown",
   "metadata": {},
   "source": [
    "Now, create genetic network as usual. \n",
    "\n",
    "Each gene product now has parameter diffusion_rate, which by default is set to 0. \n",
    "\n",
    "LOICA Consortia assumes that:\n",
    "- all molecules are distrubed equally both incracellularly and extracellularly, so the only diffusion gradient exists between extracellular space and inside of the cell. \n",
    "- all cells belonging to the same strain are of uniform size. \n",
    "\n",
    "Based on that, diffusion rate here is the proportion of concentration/molecule difference that gets transferred either in- or outside of the cell per change of time."
   ]
  },
  {
   "cell_type": "code",
   "execution_count": null,
   "metadata": {},
   "outputs": [],
   "source": [
    "# Create and add reporter to genetic network\n",
    "reporter = lc.Reporter(name='GFP', color='green', degradation_rate=0, init_concentration=0)\n",
    "genetic_n1.add_reporter(reporter)\n",
    "\n",
    "# Constitutive exression of reporter from strain\n",
    "source = lc.Source(output=reporter, rate=1000)\n",
    "genetic_n1.add_operator(source)"
   ]
  },
  {
   "cell_type": "markdown",
   "metadata": {},
   "source": [
    "Now we have a strain that constitutively expresses GFP. \n",
    "\n",
    "Since we have not set diffusion rate, if we create sample, assay and run the latter then check the reporter extracellular concentration, it will stay 0:"
   ]
  },
  {
   "cell_type": "code",
   "execution_count": null,
   "metadata": {},
   "outputs": [],
   "source": [
    "sample = lc.Sample(strain=test_strain)\n",
    "assay = lc.Assay([sample], \n",
    "                n_measurements=100, \n",
    "                interval=0.24,\n",
    "                name='GFP constittive expression',\n",
    "                description='Simulated GFP expression in test strain'\n",
    "                )"
   ]
  },
  {
   "cell_type": "markdown",
   "metadata": {},
   "source": [
    "Setting parameter track_all to true will record both intracellular and extracellular concentrations of all GeneProducts in the systems, as well as biomass without accounting for noise and background."
   ]
  },
  {
   "cell_type": "code",
   "execution_count": null,
   "metadata": {},
   "outputs": [],
   "source": [
    "assay.run(stochastic=False, track_all=True)"
   ]
  },
  {
   "cell_type": "code",
   "execution_count": null,
   "metadata": {},
   "outputs": [],
   "source": [
    "m = assay.measurements\n",
    "fig,ax = plt.subplots(1,1)\n",
    "m[m.Signal=='Extracellular GFP'].plot(x='Time', y='Measurement', style='-', ax=ax)\n",
    "m[m.Signal=='GFP in Test strain'].plot(x='Time', y='Measurement', style='-', ax=ax)\n",
    "m[m.Signal=='Test strain biomass'].plot(x='Time', y='Measurement', style='-', ax=ax)\n",
    "plt.legend(['Extracellular GFP', 'Internal GFP', 'Biomass'])"
   ]
  },
  {
   "cell_type": "markdown",
   "metadata": {},
   "source": [
    "Now let's add diffusible signal C14 with diffusion rate 1 that would also be continiously expressed."
   ]
  },
  {
   "cell_type": "code",
   "execution_count": null,
   "metadata": {},
   "outputs": [],
   "source": [
    "regulator = lc.Regulator(name='C14', degradation_rate=0, init_concentration=0, diffusion_rate=1)\n",
    "genetic_n1.add_regulator(regulator)\n",
    "\n",
    "source_2 = lc.Source(output=regulator, rate=1000)\n",
    "genetic_n1.add_operator(source_2)"
   ]
  },
  {
   "cell_type": "code",
   "execution_count": null,
   "metadata": {},
   "outputs": [],
   "source": [
    "sample = lc.Sample(strain=test_strain)\n",
    "assay2 = lc.Assay([sample], \n",
    "                n_measurements=100, \n",
    "                interval=0.24,\n",
    "                name='GFP and C14 constittive expression',\n",
    "                description='Simulated GFP and C14 expression in test strain'\n",
    "                )"
   ]
  },
  {
   "cell_type": "code",
   "execution_count": null,
   "metadata": {},
   "outputs": [],
   "source": [
    "assay2.run(stochastic=False, track_all=True)"
   ]
  },
  {
   "cell_type": "code",
   "execution_count": null,
   "metadata": {},
   "outputs": [],
   "source": [
    "m = assay2.measurements\n",
    "fig,ax = plt.subplots(1,1)\n",
    "m[m.Signal=='Extracellular GFP'].plot(x='Time', y='Measurement', style='-', ax=ax)\n",
    "m[m.Signal=='GFP in Test strain'].plot(x='Time', y='Measurement', style='-', ax=ax)\n",
    "m[m.Signal=='Extracellular C14'].plot(x='Time', y='Measurement', style='-', ax=ax)\n",
    "m[m.Signal=='C14 in Test strain'].plot(x='Time', y='Measurement', style='-', ax=ax)\n",
    "m[m.Signal=='Test strain biomass'].plot(x='Time', y='Measurement', style='-', ax=ax)\n",
    "plt.legend(['Extracellular GFP', 'Internal GFP', 'Extracellular C14', 'C14 in Test strain', 'Biomass'])"
   ]
  },
  {
   "cell_type": "markdown",
   "metadata": {},
   "source": [
    "It is also possible to set extracellular degradation for any GeneProduct"
   ]
  },
  {
   "cell_type": "code",
   "execution_count": null,
   "metadata": {},
   "outputs": [],
   "source": [
    "sample.set_extracel_degr(\"C14\", 0.5)\n",
    "assay3 = lc.Assay([sample], \n",
    "                n_measurements=100, \n",
    "                interval=0.24,\n",
    "                name='GFP and C14 constittive expression with C14 extracellular degradation',\n",
    "                description='Simulated GFP and C14 expression in test strain'\n",
    "                )"
   ]
  },
  {
   "cell_type": "code",
   "execution_count": null,
   "metadata": {},
   "outputs": [],
   "source": [
    "assay3.run(stochastic=False, track_all=True)"
   ]
  },
  {
   "cell_type": "code",
   "execution_count": null,
   "metadata": {},
   "outputs": [],
   "source": [
    "m = assay3.measurements\n",
    "fig,ax = plt.subplots(1,1)\n",
    "m[m.Signal=='Extracellular GFP'].plot(x='Time', y='Measurement', style='-', ax=ax)\n",
    "m[m.Signal=='GFP in Test strain'].plot(x='Time', y='Measurement', style='-', ax=ax)\n",
    "m[m.Signal=='Extracellular C14'].plot(x='Time', y='Measurement', style='-', ax=ax)\n",
    "m[m.Signal=='C14 in Test strain'].plot(x='Time', y='Measurement', style='-', ax=ax)\n",
    "m[m.Signal=='Test strain biomass'].plot(x='Time', y='Measurement', style='-', ax=ax)\n",
    "plt.legend(['Extracellular GFP', 'Internal GFP', 'Extracellular C14', 'C14 in Test strain', 'Biomass'])"
   ]
  }
 ],
 "metadata": {
  "interpreter": {
   "hash": "5a3b552e1f00b069c0e96dcc3c439489a3953ff59f29351d8119914676dca9ff"
  },
  "kernelspec": {
   "display_name": "Python 3.10.4 ('loica')",
   "language": "python",
   "name": "python3"
  },
  "language_info": {
   "codemirror_mode": {
    "name": "ipython",
    "version": 3
   },
   "file_extension": ".py",
   "mimetype": "text/x-python",
   "name": "python",
   "nbconvert_exporter": "python",
   "pygments_lexer": "ipython3",
   "version": "3.10.4"
  },
  "orig_nbformat": 4
 },
 "nbformat": 4,
 "nbformat_minor": 2
}
