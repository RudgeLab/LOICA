{
 "cells": [
  {
   "cell_type": "markdown",
   "metadata": {},
   "source": [
    "# LOICA Enzymes (in branch Consortia) demonstration"
   ]
  },
  {
   "cell_type": "code",
   "execution_count": null,
   "metadata": {},
   "outputs": [],
   "source": [
    "pip install -e ."
   ]
  },
  {
   "cell_type": "code",
   "execution_count": null,
   "metadata": {},
   "outputs": [],
   "source": [
    "import loica as lc\n",
    "import matplotlib.pyplot as plt\n",
    "import networkx as nx\n",
    "import warnings\n",
    "warnings.simplefilter(action='ignore', category=FutureWarning)"
   ]
  },
  {
   "cell_type": "markdown",
   "metadata": {},
   "source": [
    "This notebook shows the novel classes Degrader and Producer, which belong to class Impactor that represents relationships between gene products on the level of enzymes. These new features are part of git branch Consortia."
   ]
  },
  {
   "cell_type": "code",
   "execution_count": null,
   "metadata": {},
   "outputs": [],
   "source": [
    "def growth_rate(t):\n",
    "    return 0 #lc.gompertz_growth_rate(t, 0.01, 1, 1, 1)\n",
    "\n",
    "def biomass(t):\n",
    "    return 1 #lc.gompertz(t, 0.01, 1, 1, 1)"
   ]
  },
  {
   "cell_type": "markdown",
   "metadata": {},
   "source": [
    "## Degrader"
   ]
  },
  {
   "cell_type": "markdown",
   "metadata": {},
   "source": [
    "First, create metabolism and genetic network, then create strain with these parameters."
   ]
  },
  {
   "cell_type": "code",
   "execution_count": null,
   "metadata": {},
   "outputs": [],
   "source": [
    "metab1 = lc.SimulatedMetabolism(\"Simulated metabolism 1\", biomass, growth_rate)\n",
    "genetic_n1 = lc.GeneticNetwork()\n",
    "test_strain_1= lc.Strain('Test strain', genetic_n1, metab1)"
   ]
  },
  {
   "cell_type": "markdown",
   "metadata": {},
   "source": [
    "Degrader takes the name (use enzyme function name), enzyme is GeneProduct which has the active site, substrate is the GeneProduct which is degraded. Other parameters are kinetic constants:\n",
    "- k1 is enzyme-substrate complex formation\n",
    "- k1r is enzyme-substrate complex degradation\n",
    "- k2 is rate of substrate degradation when it is in enzyme-substrate complex."
   ]
  },
  {
   "cell_type": "code",
   "execution_count": null,
   "metadata": {},
   "outputs": [],
   "source": [
    "# Create and add reporter to genetic network\n",
    "c14 = lc.Regulator(name='C14', color='green', degradation_rate=0, init_concentration=5)\n",
    "aiia = lc.Regulator(name='AiiA', init_concentration=2)\n",
    "genetic_n1.add_regulator([c14, aiia])\n",
    "\n",
    "# Degradation of c14 by lactonase\n",
    "lactonase = lc.Degrader(name='Lactonase', enzyme=aiia, substrate=c14, k1=1, k1r=0.0001, k2=0.1)\n",
    "genetic_n1.add_impactor(lactonase)"
   ]
  },
  {
   "cell_type": "code",
   "execution_count": null,
   "metadata": {},
   "outputs": [],
   "source": [
    "sample1 = lc.Sample(strain=test_strain_1)\n",
    "assay1 = lc.Assay([sample1], \n",
    "                n_measurements=100, \n",
    "                interval=0.24,\n",
    "                name='Degradation of C14',\n",
    "                description='Simulated C14 degradation by lactonase AiiA'\n",
    "                )"
   ]
  },
  {
   "cell_type": "code",
   "execution_count": null,
   "metadata": {},
   "outputs": [],
   "source": [
    "assay1.run(stochastic=False, track_all=True)"
   ]
  },
  {
   "cell_type": "code",
   "execution_count": null,
   "metadata": {},
   "outputs": [],
   "source": [
    "m = assay1.measurements\n",
    "fig,ax = plt.subplots(1,1)\n",
    "m[m.Signal=='C14 in Test strain'].plot(x='Time', y='Measurement', color='green', style='-', ax=ax)\n",
    "m[m.Signal=='AiiA in Test strain'].plot(x='Time', y='Measurement', color='red', style='-', ax=ax)\n",
    "plt.legend(['C14', 'AiiA'])\n"
   ]
  },
  {
   "cell_type": "markdown",
   "metadata": {},
   "source": [
    "## Producer"
   ]
  },
  {
   "cell_type": "markdown",
   "metadata": {},
   "source": [
    "First, create metabolism and genetic network, then create strain with these parameters."
   ]
  },
  {
   "cell_type": "code",
   "execution_count": null,
   "metadata": {},
   "outputs": [],
   "source": [
    "metab2 = lc.SimulatedMetabolism(\"Simulated metabolism 2\", biomass, growth_rate)\n",
    "genetic_n2 = lc.GeneticNetwork()\n",
    "test_strain_2= lc.Strain('Test strain', genetic_n2, metab2)"
   ]
  },
  {
   "cell_type": "markdown",
   "metadata": {},
   "source": [
    "Producer takes the name (use enzyme function name), enzyme is GeneProduct which has the active site, product is the GeneProduct which is synthesized by the enzyme. \n",
    "- k2 is kinetic parameter of product synthesis by enzyme-substrate complex.\n",
    "\n",
    "Here I assume that there is always enough substrate in the system, so all active sites are occupied with substrate at every moment. Because of that, we only need to use k2 kinetic parameter."
   ]
  },
  {
   "cell_type": "code",
   "execution_count": null,
   "metadata": {},
   "outputs": [],
   "source": [
    "# Create and add reporter to genetic network\n",
    "c4 = lc.Regulator(name='C4')\n",
    "rhli = lc.Regulator(name='RhlI', init_concentration=5)\n",
    "genetic_n2.add_regulator([c4, rhli])\n",
    "\n",
    "# Synthesis of C4 by RhlI\n",
    "c4_synthase = lc.Producer(name='C4-HSL synthase', enzyme=rhli, product=c4, k2=0.267)\n",
    "genetic_n2.add_impactor(c4_synthase)"
   ]
  },
  {
   "cell_type": "markdown",
   "metadata": {},
   "source": [
    "I have calculated k2 by using data from supplementary text from <div class=\"csl-entry\">Pai, A., &#38; You, L. (2009). Optimal tuning of bacterial sensing potential. <i>Molecular Systems Biology</i>, <i>5</i>, 286. https://doi.org/10.1038/MSB.2009.43</div>\n",
    "\n",
    "I used 16 mol of C4 produced per mol of RhlI per minute, divded it by 60 to get measurement in seconds."
   ]
  },
  {
   "cell_type": "code",
   "execution_count": null,
   "metadata": {},
   "outputs": [],
   "source": [
    "sample2 = lc.Sample(strain=test_strain_2)\n",
    "assay2= lc.Assay([sample2], \n",
    "                n_measurements=100, \n",
    "                interval=0.24,\n",
    "                name='Synthesis of C4',\n",
    "                description='Simulated C4 synthesis by RhlI'\n",
    "                )"
   ]
  },
  {
   "cell_type": "code",
   "execution_count": null,
   "metadata": {},
   "outputs": [],
   "source": [
    "assay2.run(stochastic=False, track_all=True)"
   ]
  },
  {
   "cell_type": "code",
   "execution_count": null,
   "metadata": {},
   "outputs": [],
   "source": [
    "m = assay2.measurements\n",
    "fig,ax = plt.subplots(1,1)\n",
    "m[m.Signal=='C4 in Test strain'].plot(x='Time', y='Measurement', color='green', style='-', ax=ax)\n",
    "m[m.Signal=='RhlI in Test strain'].plot(x='Time', y='Measurement', color='red', style='-', ax=ax)\n",
    "plt.legend(['C4', 'RhlI'])\n"
   ]
  }
 ],
 "metadata": {
  "kernelspec": {
   "display_name": "Python 3.10.4 ('loica')",
   "language": "python",
   "name": "python3"
  },
  "language_info": {
   "codemirror_mode": {
    "name": "ipython",
    "version": 3
   },
   "file_extension": ".py",
   "mimetype": "text/x-python",
   "name": "python",
   "nbconvert_exporter": "python",
   "pygments_lexer": "ipython3",
   "version": "3.10.4"
  },
  "orig_nbformat": 4,
  "vscode": {
   "interpreter": {
    "hash": "5a3b552e1f00b069c0e96dcc3c439489a3953ff59f29351d8119914676dca9ff"
   }
  }
 },
 "nbformat": 4,
 "nbformat_minor": 2
}
