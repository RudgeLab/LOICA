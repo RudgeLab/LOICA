{
 "cells": [
  {
   "cell_type": "markdown",
   "metadata": {},
   "source": [
    "# LOICA DEMO: SBOL Integration"
   ]
  },
  {
   "cell_type": "markdown",
   "metadata": {},
   "source": [
    "In this demo, we will show: \n",
    "\n",
    "- How to use LOICA library to integrate SBOL components into a design. \n",
    "- How to examine designs by drawing their network representation.\n",
    "- How to save and load LOICA objects and designs.\n",
    "\n",
    "The Source component has a more deep explanation of the code, the following Operators have the same pattern in a less verbose way."
   ]
  },
  {
   "cell_type": "markdown",
   "metadata": {},
   "source": [
    "# Imports\n",
    "\n",
    "Here are listed all the necessary imports. Notice that we are using functions under development in sbol_utilities available at https://github.com/Gonza10V/SBOL-utilities."
   ]
  },
  {
   "cell_type": "markdown",
   "metadata": {},
   "source": [
    "To use LOICA and Flapjack please install the packages using following commands:\n",
    "\n",
    "pip install loica\n",
    "\n",
    "pip install pyflapjack"
   ]
  },
  {
   "cell_type": "code",
   "execution_count": 1,
   "metadata": {},
   "outputs": [],
   "source": [
    "import sbol3\n",
    "from sbol_utilities import component\n",
    "from flapjack import Flapjack\n",
    "import loica as lc\n",
    "import getpass\n",
    "\n",
    "%matplotlib inline"
   ]
  },
  {
   "cell_type": "markdown",
   "metadata": {},
   "source": [
    "In order to access to data stored in Flapjack we need to, first, provide a valid Flapjack instance. This can be done by providing the URL of the Flapjack web instance or Flapjack local instance. Second, you need to log in with your Flapjack credentials.\n",
    "\n",
    "If you are not registered, you can create an account for free [Here](http://flapjack.rudge-lab.org/authentication?initialTab=signup) "
   ]
  },
  {
   "cell_type": "code",
   "execution_count": 2,
   "metadata": {},
   "outputs": [],
   "source": [
    "user = input()\n",
    "passwd = getpass.getpass()\n",
    "fj = Flapjack('flapjack.rudge-lab.org:8000') #Web Instance\n",
    "#fj = Flapjack(url_base='localhost:8000') #Local Instance\n",
    "fj.log_in(username=user, password=passwd)"
   ]
  },
  {
   "cell_type": "markdown",
   "metadata": {},
   "source": [
    "# Source\n",
    "\n",
    "This LOICA object is an abstraction of a promoter under constitutive expression."
   ]
  },
  {
   "cell_type": "markdown",
   "metadata": {},
   "source": [
    "## Flapjack connection\n",
    "\n",
    "All the necessary Flapjack objects and ids that we will need for two-way communication."
   ]
  },
  {
   "cell_type": "code",
   "execution_count": 3,
   "metadata": {},
   "outputs": [],
   "source": [
    "dna = fj.get('dna', name='J23101_GFP')\n",
    "if len(dna)==0:\n",
    "    dna = fj.create('dna', name='J23101_GFP')\n",
    "vector = fj.get('vector', name='J23101_GFP')    \n",
    "if len(vector)==0:\n",
    "    vector = fj.create('vector', name='J23101_GFP', dnas=dna.id)   \n",
    "study = fj.get('study', name='Loica testing')\n",
    "if len(study)==0:\n",
    "    study = fj.create('study', name='Loica testing', description='Test')\n",
    "media = fj.get('media', name='Loica')\n",
    "if len(media)==0:\n",
    "    media = fj.create('media', name='Loica', description='Simulated loica media')\n",
    "strain = fj.get('strain', name='Loica strain')\n",
    "if len(strain)==0:\n",
    "    strain = fj.create('strain', name='Loica strain', description='Loica test strain')\n",
    "    \n",
    "gfp = fj.get('signal', name='GFP')\n",
    "if len(gfp)==0:\n",
    "    gfp = fj.create('signal', name='GFP', color='green', description='Simulated green fluorescent protein')\n",
    "\n",
    "biomass_signal = fj.get('signal', name='OD')\n",
    "\n",
    "def growth_rate(t):\n",
    "    return gompertz_growth_rate(t, 0.01, 1, 1, 1)\n",
    "\n",
    "def biomass(t):\n",
    "    return gompertz(t, 0.01, 1, 1, 1)"
   ]
  },
  {
   "cell_type": "markdown",
   "metadata": {},
   "source": [
    "## SBOL Connection\n",
    "\n",
    "A valid SBOL Document with the sequences and parts that we will use in the design. Here we create the J23101 Operator as an Engineered Region composed by the promoter J23101 and the BASIC RBS1 (derived from BBa_B0033). We create the GFP GeneProduct also as an Engineering Region now composed by GFP CDS, M0050 degradation tag and rrnbT1 terminator. "
   ]
  },
  {
   "cell_type": "code",
   "execution_count": 4,
   "metadata": {},
   "outputs": [
    {
     "name": "stdout",
     "output_type": "stream",
     "text": [
      "https://github.com/Gonza10V/J23101\n",
      "https://github.com/Gonza10V/J23101_seq\n",
      "https://github.com/Gonza10V/RBS1\n",
      "https://github.com/Gonza10V/RBS1_seq\n",
      "https://github.com/Gonza10V/operator_ptet\n",
      "https://github.com/Gonza10V/GFP_mut3\n",
      "https://github.com/Gonza10V/GFP_mut3_seq\n",
      "https://github.com/Gonza10V/M0050\n",
      "https://github.com/Gonza10V/M0050_seq\n",
      "https://github.com/Gonza10V/TER1\n",
      "https://github.com/Gonza10V/TER1_seq\n",
      "https://github.com/Gonza10V/geneproduct_GFP_mut3_M0050_TER1\n",
      "0\n"
     ]
    }
   ],
   "source": [
    "doc = sbol3.Document()\n",
    "sbol3.set_namespace('https://github.com/Gonza10V')\n",
    "\n",
    "j23101, j23101_seq = component.promoter('J23101','tttacagctagctcagtcctaggtattatgctagc ', description='https://synbiohub.org/public/igem/BBa_J23101/1')\n",
    "rbs1, rbs1_seq = component.rbs('RBS1', 'ttgaacaccgtcTCAGGTAAGTATCAGTTGTAAatcacacaggacta', description='BASIC Linker RBS1')\n",
    "\n",
    "op_j23101 = component.engineered_region('operator_ptet', [j23101,rbs1], description= 'LOICA Operator J23101')\n",
    "\n",
    "gfpm3, gfpm3_seq = component.cds('GFP_mut3', 'atgcgtaaaggagaagaacttttcactggagttgtcccaattcttgttgaattagatggtgatgttaatgggcacaaattttctgtcagtggagagggtgaaggtgatgcaacatacggaaaacttacccttaaatttatttgcactactggaaaactacctgttccatggccaacacttgtcactactttcggttatggtgttcaatgctttgcgagatacccagatcatatgaaacagcatgactttttcaagagtgccatgcccgaaggttatgtacaggaaagaactatatttttcaaagatgacgggaactacaagacacgtgctgaagtcaagtttgaaggtgatacccttgttaatagaatcgagttaaaaggtattgattttaaagaagatggaaacattcttggacacaaattggaatacaactataactcacacaatgtatacatcatggcagacaaacaaaagaatggaatcaaagttaacttcaaaattagacacaacattgaagatggaagcgttcaactagcagaccattatcaacaaaatactccaattggcgatggccctgtccttttaccagacaaccattacctgtccacacaatctgccctttcgaaagatcccaacgaaaagcgcgaccacatggtccttcttgagtttgtaacagctgctgggattacacatggcatggatgaactatacaaa', description='GFP mut3 Coding Sequence, no BsaI site, no stop codon')\n",
    "m0050, m0050_seq = component.protein_stability_element('M0050', 'gctgctaacgacgaaaactacgctctggctgctTAAattgaacta', description='http://parts.igem.org/wiki/index.php?title=Part:BBa_M0050')\n",
    "ter1, ter1_seq = component.terminator('TER1', 'GTCCatttgtcctactcaggagagcgttcaccgacaaacaacagataaaacgaaaggcccagtctttcgactgagcctttcgttttatttgTAAGGCTCG', description='rrnB T1 terminator from Potvin-Trottier pLPT119, extra stop codon')\n",
    "\n",
    "gp_gfp = component.engineered_region(f'geneproduct_{gfpm3.display_id}_{m0050.display_id}_{ter1.display_id}', [gfpm3, m0050, ter1], description='LOICA GeneProduct GFP')\n",
    "\n",
    "doc.add([j23101, j23101_seq, rbs1, rbs1_seq, op_j23101, gfpm3, gfpm3_seq, m0050, m0050_seq, ter1, ter1_seq, gp_gfp])\n",
    "\n",
    "for obj in doc.objects:\n",
    "    print(obj.identity)\n",
    "report_sbol3 = doc.validate()\n",
    "print(len(report_sbol3))"
   ]
  },
  {
   "cell_type": "markdown",
   "metadata": {},
   "source": [
    "## GeneticNetwork Construction\n",
    "\n",
    "Instantiated objects are connected with Flapjack through ids and with SBOL through Components.\n",
    "\n",
    "An inspection of the design can be made by drawing its network representation."
   ]
  },
  {
   "cell_type": "code",
   "execution_count": 5,
   "metadata": {},
   "outputs": [
    {
     "data": {
      "image/png": "[encoded data removed]",
      "text/plain": [
       "<Figure size 432x288 with 1 Axes>"
      ]
     },
     "metadata": {},
     "output_type": "display_data"
    }
   ],
   "source": [
    "src = lc.GeneticNetwork(vector=vector.id[0])\n",
    "\n",
    "gfp_rep = lc.Reporter(name='GFP_mut3', degradation_rate=1, signal_id=gfp.id[0], sbol_comp=gp_gfp, color='green')\n",
    "src.add_reporter(gfp_rep)\n",
    "\n",
    "j23101_source_gfp = lc.Source(output=gfp_rep, rate=10, sbol_comp=op_j23101)\n",
    "src.add_operator(j23101_source_gfp)\n",
    "src.draw()"
   ]
  },
  {
   "cell_type": "markdown",
   "metadata": {},
   "source": [
    "LOICA GeneticNetwork can produce new SBOL Documents or add to the initial one the new Components.\n",
    "This facilitate the creation of complex SBOL files providing only transcriptional unit compositional information."
   ]
  },
  {
   "cell_type": "code",
   "execution_count": 6,
   "metadata": {},
   "outputs": [
    {
     "name": "stdout",
     "output_type": "stream",
     "text": [
      "https://github.com/Gonza10V/J23101\n",
      "https://github.com/Gonza10V/J23101_seq\n",
      "https://github.com/Gonza10V/RBS1\n",
      "https://github.com/Gonza10V/RBS1_seq\n",
      "https://github.com/Gonza10V/operator_ptet\n",
      "https://github.com/Gonza10V/GFP_mut3\n",
      "https://github.com/Gonza10V/GFP_mut3_seq\n",
      "https://github.com/Gonza10V/M0050\n",
      "https://github.com/Gonza10V/M0050_seq\n",
      "https://github.com/Gonza10V/TER1\n",
      "https://github.com/Gonza10V/TER1_seq\n",
      "https://github.com/Gonza10V/geneproduct_GFP_mut3_M0050_TER1\n",
      "https://github.com/Gonza10V/LOICAc_SRC_GFP_mut3_model\n",
      "https://github.com/Gonza10V/TU_c_SRC_GFP_mut3\n",
      "https://github.com/Gonza10V/GFP_mut3_protein\n",
      "https://github.com/Gonza10V/geneticnetwork\n",
      "0\n"
     ]
    }
   ],
   "source": [
    "source_doc = src.to_sbol(sbol_doc=doc)\n",
    "for obj in source_doc.objects:\n",
    "    print(obj.identity)\n",
    "report_sbol3 = source_doc.validate()\n",
    "print(len(report_sbol3))"
   ]
  },
  {
   "cell_type": "markdown",
   "metadata": {},
   "source": [
    "If you have errors in your conversion you can print them using the following script"
   ]
  },
  {
   "cell_type": "code",
   "execution_count": 7,
   "metadata": {},
   "outputs": [],
   "source": [
    "for error in report_sbol3.errors:\n",
    "    print(error.object_id)\n",
    "    print(error.message)"
   ]
  },
  {
   "cell_type": "markdown",
   "metadata": {},
   "source": [
    "# Buffer (Hill1)"
   ]
  },
  {
   "cell_type": "markdown",
   "metadata": {},
   "source": [
    "## Flapjack Connection"
   ]
  },
  {
   "cell_type": "code",
   "execution_count": 8,
   "metadata": {},
   "outputs": [],
   "source": [
    "dna = fj.get('dna', name='_BUF_GFP')\n",
    "if len(dna)==0:\n",
    "    dna = fj.create('dna', name='AHL1_NOT_GFP')\n",
    "vector = fj.get('vector', name='AHL1_NOT_GFP')    \n",
    "if len(vector)==0:\n",
    "    vector = fj.create('vector', name='AHL1_NOT_GFP', dnas=dna.id)   \n",
    "study = fj.get('study', name='Loica testing')\n",
    "if len(study)==0:\n",
    "    study = fj.create('study', name='Loica testing', description='Test')\n",
    "media = fj.get('media', name='Loica')\n",
    "if len(media)==0:\n",
    "    media = fj.create('media', name='Loica', description='Simulated loica media')\n",
    "strain = fj.get('strain', name='Loica strain')\n",
    "if len(strain)==0:\n",
    "    strain = fj.create('strain', name='Loica strain', description='Loica test strain')\n",
    "    \n",
    "gfp = fj.get('signal', name='GFP')\n",
    "\n",
    "biomass_signal = fj.get('signal', name='OD')\n",
    "\n",
    "def growth_rate(t):\n",
    "    return gompertz_growth_rate(t, 0.01, 1, 1, 1)\n",
    "\n",
    "def biomass(t):\n",
    "    return gompertz(t, 0.01, 1, 1, 1)"
   ]
  },
  {
   "cell_type": "markdown",
   "metadata": {},
   "source": [
    "## SBOL Connection"
   ]
  },
  {
   "cell_type": "code",
   "execution_count": 9,
   "metadata": {},
   "outputs": [
    {
     "name": "stdout",
     "output_type": "stream",
     "text": [
      "https://github.com/Gonza10V/pRhl\n",
      "https://github.com/Gonza10V/pRhl_seq\n",
      "https://github.com/Gonza10V/RBS1\n",
      "https://github.com/Gonza10V/RBS1_seq\n",
      "https://github.com/Gonza10V/operator_ptet\n",
      "https://github.com/Gonza10V/GFP_mut3\n",
      "https://github.com/Gonza10V/GFP_mut3_seq\n",
      "https://github.com/Gonza10V/M0050\n",
      "https://github.com/Gonza10V/M0050_seq\n",
      "https://github.com/Gonza10V/TER1\n",
      "https://github.com/Gonza10V/TER1_seq\n",
      "https://github.com/Gonza10V/geneproduct_GFP_mut3_M0050_TER1\n",
      "0\n"
     ]
    }
   ],
   "source": [
    "doc = sbol3.Document()\n",
    "sbol3.set_namespace('https://github.com/Gonza10V')\n",
    "\n",
    "hsl_c4 = component.ed_simple_chemical('https://pubchem.ncbi.nlm.nih.gov/substance/329748866')\n",
    "prhl, prhl_seq = component.promoter('pRhl','cagtcgggGGTCTCaGGAGtcctgtgaaatctggcagttaccgttagctttcgaattggctaaaaagtgttcTACTaGAGACCcacgtagtg ', description='https://synbiohub.org/public/igem/BBa_J23101/1')\n",
    "rbs1, rbs1_seq = component.rbs('RBS1', 'ttgaacaccgtcTCAGGTAAGTATCAGTTGTAAatcacacaggacta', description='BASIC Linker RBS1')\n",
    "op_prhl = component.engineered_region('operator_ptet', [prhl,rbs1], description= 'LOICA Operator pRhl')\n",
    "\n",
    "gfpm3, gfpm3_seq = component.cds('GFP_mut3', 'atgcgtaaaggagaagaacttttcactggagttgtcccaattcttgttgaattagatggtgatgttaatgggcacaaattttctgtcagtggagagggtgaaggtgatgcaacatacggaaaacttacccttaaatttatttgcactactggaaaactacctgttccatggccaacacttgtcactactttcggttatggtgttcaatgctttgcgagatacccagatcatatgaaacagcatgactttttcaagagtgccatgcccgaaggttatgtacaggaaagaactatatttttcaaagatgacgggaactacaagacacgtgctgaagtcaagtttgaaggtgatacccttgttaatagaatcgagttaaaaggtattgattttaaagaagatggaaacattcttggacacaaattggaatacaactataactcacacaatgtatacatcatggcagacaaacaaaagaatggaatcaaagttaacttcaaaattagacacaacattgaagatggaagcgttcaactagcagaccattatcaacaaaatactccaattggcgatggccctgtccttttaccagacaaccattacctgtccacacaatctgccctttcgaaagatcccaacgaaaagcgcgaccacatggtccttcttgagtttgtaacagctgctgggattacacatggcatggatgaactatacaaa', description='GFP mut3 Coding Sequence, no BsaI site, no stop codon')\n",
    "m0050, m0050_seq = component.protein_stability_element('M0050', 'gctgctaacgacgaaaactacgctctggctgctTAAattgaacta', description='http://parts.igem.org/wiki/index.php?title=Part:BBa_M0050')\n",
    "ter1, ter1_seq = component.terminator('TER1', 'GTCCatttgtcctactcaggagagcgttcaccgacaaacaacagataaaacgaaaggcccagtctttcgactgagcctttcgttttatttgTAAGGCTCG', description='rrnB T1 terminator from Potvin-Trottier pLPT119, extra stop codon')\n",
    "gp_gfp = geneproduct = component.engineered_region(f'geneproduct_{gfpm3.display_id}_{m0050.display_id}_{ter1.display_id}', [gfpm3, m0050, ter1], description='LOICA GeneProduct GFP')\n",
    "\n",
    "doc.add([prhl, prhl_seq, rbs1, rbs1_seq, op_prhl, gfpm3, gfpm3_seq, m0050, m0050_seq, ter1, ter1_seq, gp_gfp])\n",
    "\n",
    "for obj in doc.objects:\n",
    "    print(obj.identity)\n",
    "report_sbol3 = doc.validate()\n",
    "print(len(report_sbol3))"
   ]
  },
  {
   "cell_type": "markdown",
   "metadata": {},
   "source": [
    "## GeneticNetwork Construction"
   ]
  },
  {
   "cell_type": "code",
   "execution_count": 10,
   "metadata": {},
   "outputs": [
    {
     "data": {
      "image/png": "[encoded data removed]",
      "text/plain": [
       "<Figure size 432x288 with 1 Axes>"
      ]
     },
     "metadata": {},
     "output_type": "display_data"
    }
   ],
   "source": [
    "rec = lc.GeneticNetwork(vector=vector.id[0])\n",
    "\n",
    "gfp_rep = lc.Reporter(name='GFP_mut3', degradation_rate=1, signal_id=gfp.id[0], sbol_comp=gp_gfp, color='green')\n",
    "rec.add_reporter(gfp_rep)\n",
    "\n",
    "ahl1 = lc.Supplement(name='AHL1', sbol_comp=hsl_c4)\n",
    "\n",
    "ahl1_BUF_gfp = lc.Hill1(input=ahl1, output=gfp_rep, alpha=[0, 100], K=1, n=2, sbol_comp=op_prhl)\n",
    "rec.add_operator(ahl1_BUF_gfp)\n",
    "rec.draw()"
   ]
  },
  {
   "cell_type": "code",
   "execution_count": 11,
   "metadata": {},
   "outputs": [
    {
     "name": "stdout",
     "output_type": "stream",
     "text": [
      "https://github.com/Gonza10V/pRhl\n",
      "https://github.com/Gonza10V/pRhl_seq\n",
      "https://github.com/Gonza10V/RBS1\n",
      "https://github.com/Gonza10V/RBS1_seq\n",
      "https://github.com/Gonza10V/operator_ptet\n",
      "https://github.com/Gonza10V/GFP_mut3\n",
      "https://github.com/Gonza10V/GFP_mut3_seq\n",
      "https://github.com/Gonza10V/M0050\n",
      "https://github.com/Gonza10V/M0050_seq\n",
      "https://github.com/Gonza10V/TER1\n",
      "https://github.com/Gonza10V/TER1_seq\n",
      "https://github.com/Gonza10V/geneproduct_GFP_mut3_M0050_TER1\n",
      "https://github.com/Gonza10V/LOICA_AHL1_HILL1_GFP_mut3_model\n",
      "https://github.com/Gonza10V/TU_AHL1_HILL1_GFP_mut3\n",
      "https://github.com/Gonza10V/GFP_mut3_protein\n",
      "https://github.com/Gonza10V/AHL1_chemical\n",
      "https://github.com/Gonza10V/geneticnetwork\n",
      "0\n"
     ]
    }
   ],
   "source": [
    "rec_doc = rec.to_sbol(sbol_doc=doc)\n",
    "for obj in rec_doc.objects:\n",
    "    print(obj.identity)\n",
    "report_sbol3 = rec_doc.validate()\n",
    "print(len(report_sbol3))"
   ]
  },
  {
   "cell_type": "markdown",
   "metadata": {},
   "source": [
    "# NOT (Hill1)"
   ]
  },
  {
   "cell_type": "markdown",
   "metadata": {},
   "source": [
    "## Flapjack Connection"
   ]
  },
  {
   "cell_type": "code",
   "execution_count": 12,
   "metadata": {},
   "outputs": [],
   "source": [
    "dna = fj.get('dna', name='LacI_NOT_GFP')\n",
    "if len(dna)==0:\n",
    "    dna = fj.create('dna', name='LacI_NOT_GFP')\n",
    "vector = fj.get('vector', name='LacI_NOT_GFP')    \n",
    "if len(vector)==0:\n",
    "    vector = fj.create('vector', name='LacI_NOT_GFP', dnas=dna.id)   \n",
    "study = fj.get('study', name='Loica testing')\n",
    "if len(study)==0:\n",
    "    study = fj.create('study', name='Loica testing', description='Test')\n",
    "media = fj.get('media', name='Loica')\n",
    "if len(media)==0:\n",
    "    media = fj.create('media', name='Loica', description='Simulated loica media')\n",
    "strain = fj.get('strain', name='Loica strain')\n",
    "if len(strain)==0:\n",
    "    strain = fj.create('strain', name='Loica strain', description='Loica test strain')\n",
    "    \n",
    "gfp = fj.get('signal', name='GFP')\n",
    "\n",
    "biomass_signal = fj.get('signal', name='OD')\n",
    "\n",
    "def growth_rate(t):\n",
    "    return gompertz_growth_rate(t, 0.01, 1, 1, 1)\n",
    "\n",
    "def biomass(t):\n",
    "    return gompertz(t, 0.01, 1, 1, 1)"
   ]
  },
  {
   "cell_type": "markdown",
   "metadata": {},
   "source": [
    "## SBOL Connection"
   ]
  },
  {
   "cell_type": "code",
   "execution_count": 13,
   "metadata": {},
   "outputs": [
    {
     "name": "stdout",
     "output_type": "stream",
     "text": [
      "https://github.com/Gonza10V/L3S2P11_UPA20_pLac_RiboJ10\n",
      "https://github.com/Gonza10V/L3S2P11_UPA20_pLac_RiboJ10_seq\n",
      "https://github.com/Gonza10V/RBS1\n",
      "https://github.com/Gonza10V/RBS1_seq\n",
      "https://github.com/Gonza10V/operator_ptet\n",
      "https://github.com/Gonza10V/GFP_mut3\n",
      "https://github.com/Gonza10V/GFP_mut3_seq\n",
      "https://github.com/Gonza10V/M0050\n",
      "https://github.com/Gonza10V/M0050_seq\n",
      "https://github.com/Gonza10V/TER1\n",
      "https://github.com/Gonza10V/TER1_seq\n",
      "https://github.com/Gonza10V/geneproduct_GFP_mut3_M0050_TER1\n",
      "https://github.com/Gonza10V/LacI\n",
      "https://github.com/Gonza10V/LacI_seq\n",
      "https://github.com/Gonza10V/geneproduct_LacI_M0050_TER1\n",
      "0\n"
     ]
    }
   ],
   "source": [
    "doc = sbol3.Document()\n",
    "sbol3.set_namespace('https://github.com/Gonza10V')\n",
    "\n",
    "plac, plac_seq = component.promoter('L3S2P11_UPA20_pLac_RiboJ10', 'GTCCCTCGGTACCAAATTCCAGAAAAGAGACGCTTTCGAGCGTCTTTTTTCGTTTTGGTCCGTGCCTACTCTGGAAAATCTcctttcgtcttcacctcgagaattgtgagcggataacaattgacattgtgagcggataacaagatactgagcacatcagcaggacgcactgaccgaattcattAGCGCTCAACGGGTGTGCTTCCCGTTCTGATGAGTCCGTGAGGACGAAAGCGCCTCTACAAATAATTTTGTTTAAGGCTCG', description='BASIC - Potvin pLac (based on B-P39-pLac-F2)')\n",
    "rbs1, rbs1_seq = component.rbs('RBS1', 'ttgaacaccgtcTCAGGTAAGTATCAGTTGTAAatcacacaggacta', description='BASIC Linker RBS1')\n",
    "op_plac = component.engineered_region('operator_ptet', [plac,rbs1], description= 'LOICA Operator pLac')\n",
    "\n",
    "gfpm3, gfpm3_seq = component.cds('GFP_mut3', 'atgcgtaaaggagaagaacttttcactggagttgtcccaattcttgttgaattagatggtgatgttaatgggcacaaattttctgtcagtggagagggtgaaggtgatgcaacatacggaaaacttacccttaaatttatttgcactactggaaaactacctgttccatggccaacacttgtcactactttcggttatggtgttcaatgctttgcgagatacccagatcatatgaaacagcatgactttttcaagagtgccatgcccgaaggttatgtacaggaaagaactatatttttcaaagatgacgggaactacaagacacgtgctgaagtcaagtttgaaggtgatacccttgttaatagaatcgagttaaaaggtattgattttaaagaagatggaaacattcttggacacaaattggaatacaactataactcacacaatgtatacatcatggcagacaaacaaaagaatggaatcaaagttaacttcaaaattagacacaacattgaagatggaagcgttcaactagcagaccattatcaacaaaatactccaattggcgatggccctgtccttttaccagacaaccattacctgtccacacaatctgccctttcgaaagatcccaacgaaaagcgcgaccacatggtccttcttgagtttgtaacagctgctgggattacacatggcatggatgaactatacaaa', description='GFP mut3 Coding Sequence, no BsaI site, no stop codon')\n",
    "m0050, m0050_seq = component.protein_stability_element('M0050', 'gctgctaacgacgaaaactacgctctggctgctTAAattgaacta', description='http://parts.igem.org/wiki/index.php?title=Part:BBa_M0050')\n",
    "ter1, ter1_seq = component.terminator('TER1', 'GTCCatttgtcctactcaggagagcgttcaccgacaaacaacagataaaacgaaaggcccagtctttcgactgagcctttcgttttatttgTAAGGCTCG', description='rrnB T1 terminator from Potvin-Trottier pLPT119, extra stop codon')\n",
    "gp_gfp = geneproduct = component.engineered_region(f'geneproduct_{gfpm3.display_id}_{m0050.display_id}_{ter1.display_id}', [gfpm3, m0050, ter1], description='LOICA GeneProduct GFP')\n",
    "\n",
    "laci, laci_seq = component.cds('LacI', 'GTCCatggtgaatgtgaaaccagtaacgttatacgatgtcgcagagtatgccggtgtctcttatcagaccgtttcccgcgtggtgaaccaggccagccacgtttctgcgaaaacgcgggaaaaagtggaagcggcgatggcggagctgaattacattcccaaccgcgtggcacaacaactggcgggcaaacagtcgttgctgattggcgttgccacctccagtctggccctgcacgcgccgtcgcaaattgtcgcggcgattaaatctcgcgccgatcaactgggtgccagcgtggtggtgtcgatggtagaacgaagcggcgtcgaagcctgtaaagcggcggtgcacaatcttctcgcgcaacgcgtcagtgggctgatcattaactatccgctggatgaccaggatgccattgctgtggaagctgcctgcactaatgttccggcgttatttcttgatgtctctgaccagacacccatcaacagtattattttctcccatgaagacggtacgcgactgggcgtggagcatctggtcgcattgggtcaccagcaaatcgcgctgttagcgggcccattaagttctgtctcggcgcgtctgcgtctggctggctggcataaatatctcactcgcaatcaaattcagccgatagcggaacgggaaggcgactggagtgccatgtccggttttcaacaaaccatgcaaatgctgaatgagggcatcgttcccactgcgatgctggttgccaacgatcagatggcgctgggcgcaatgcgcgccattaccgagtccgggctgcgcgttggtgcggatatctcggtagtgggatacgacgataccgaagacagctcatgttatatcccgccgttaaccaccatcaaacaggattttcgcctgctggggcaaaccagcgtggaccgcttgctgcaactctctcagggccaggcggtgaagggcaatcagctgttgcccgtctcactggtgaaaagaaaaaccaccctggcgcccaatacgcaaaccgcctctccccgcgcgttggccgattcattaatgcagctggcacgacaggtttcccgactggaaagcgggcagGGCTCG', description='LacI Coding Sequence from Potvin-Trottier pLPT119, no stop codon')\n",
    "gp_laci = geneproduct = component.engineered_region(f'geneproduct_{laci.display_id}_{m0050.display_id}_{ter1.display_id}', [laci, m0050, ter1], description='LOICA GeneProduct LacI')\n",
    "\n",
    "doc.add([plac, plac_seq, rbs1, rbs1_seq, op_plac, gfpm3, gfpm3_seq, m0050, m0050_seq, ter1, ter1_seq, gp_gfp, laci, laci_seq, gp_laci])\n",
    "\n",
    "for obj in doc.objects:\n",
    "    print(obj.identity)\n",
    "report_sbol3 = doc.validate()\n",
    "print(len(report_sbol3))"
   ]
  },
  {
   "cell_type": "markdown",
   "metadata": {},
   "source": [
    "## GeneticNetwork Construction"
   ]
  },
  {
   "cell_type": "code",
   "execution_count": 14,
   "metadata": {},
   "outputs": [
    {
     "data": {
      "image/png": "[encoded data removed]",
      "text/plain": [
       "<Figure size 432x288 with 1 Axes>"
      ]
     },
     "metadata": {},
     "output_type": "display_data"
    }
   ],
   "source": [
    "inv = lc.GeneticNetwork(vector=vector.id[0])\n",
    "\n",
    "gfp_rep = lc.Reporter(name='GFP_mut3', degradation_rate=1, signal_id=gfp.id[0], sbol_comp=gp_gfp, color='green')\n",
    "inv.add_reporter(gfp_rep)\n",
    "\n",
    "laci_reg = lc.Regulator(name='LacI', degradation_rate=1, init_concentration=5, sbol_comp=gp_laci)\n",
    "inv.add_regulator(laci_reg)\n",
    "\n",
    "laci_NOT_gfp = lc.Hill1(input=laci_reg, output=gfp_rep, alpha=[100,0], K=1, n=2, sbol_comp=op_plac)\n",
    "inv.add_operator(laci_NOT_gfp)\n",
    "inv.draw()"
   ]
  },
  {
   "cell_type": "code",
   "execution_count": 15,
   "metadata": {},
   "outputs": [
    {
     "name": "stdout",
     "output_type": "stream",
     "text": [
      "https://github.com/Gonza10V/L3S2P11_UPA20_pLac_RiboJ10\n",
      "https://github.com/Gonza10V/L3S2P11_UPA20_pLac_RiboJ10_seq\n",
      "https://github.com/Gonza10V/RBS1\n",
      "https://github.com/Gonza10V/RBS1_seq\n",
      "https://github.com/Gonza10V/operator_ptet\n",
      "https://github.com/Gonza10V/GFP_mut3\n",
      "https://github.com/Gonza10V/GFP_mut3_seq\n",
      "https://github.com/Gonza10V/M0050\n",
      "https://github.com/Gonza10V/M0050_seq\n",
      "https://github.com/Gonza10V/TER1\n",
      "https://github.com/Gonza10V/TER1_seq\n",
      "https://github.com/Gonza10V/geneproduct_GFP_mut3_M0050_TER1\n",
      "https://github.com/Gonza10V/LacI\n",
      "https://github.com/Gonza10V/LacI_seq\n",
      "https://github.com/Gonza10V/geneproduct_LacI_M0050_TER1\n",
      "https://github.com/Gonza10V/LOICA_LacI_HILL1_GFP_mut3_model\n",
      "https://github.com/Gonza10V/TU_LacI_HILL1_GFP_mut3\n",
      "https://github.com/Gonza10V/GFP_mut3_protein\n",
      "https://github.com/Gonza10V/LacI_protein\n",
      "https://github.com/Gonza10V/geneticnetwork\n",
      "0\n"
     ]
    }
   ],
   "source": [
    "inv_doc = inv.to_sbol(sbol_doc=doc)\n",
    "for obj in inv_doc.objects:\n",
    "    print(obj.identity)\n",
    "report_sbol3 = inv_doc.validate()\n",
    "print(len(report_sbol3))"
   ]
  },
  {
   "cell_type": "code",
   "execution_count": 16,
   "metadata": {},
   "outputs": [],
   "source": [
    "for error in report_sbol3.errors:\n",
    "    print(error.object_id)\n",
    "    print(error.message)"
   ]
  },
  {
   "cell_type": "markdown",
   "metadata": {},
   "source": [
    "# Receiver"
   ]
  },
  {
   "cell_type": "markdown",
   "metadata": {},
   "source": [
    "## Flapjack Connection"
   ]
  },
  {
   "cell_type": "code",
   "execution_count": 17,
   "metadata": {},
   "outputs": [],
   "source": [
    "dna = fj.get('dna', name='AHL1_REC_GFP')\n",
    "if len(dna)==0:\n",
    "    dna = fj.create('dna', name='AHL1_REC_GFP')\n",
    "vector = fj.get('vector', name='AHL1_REC_GFP')    \n",
    "if len(vector)==0:\n",
    "    vector = fj.create('vector', name='AHL1_REC_GFP', dnas=dna.id)   \n",
    "study = fj.get('study', name='Loica testing')\n",
    "if len(study)==0:\n",
    "    study = fj.create('study', name='Loica testing', description='Test')\n",
    "media = fj.get('media', name='Loica')\n",
    "if len(media)==0:\n",
    "    media = fj.create('media', name='Loica', description='Simulated loica media')\n",
    "strain = fj.get('strain', name='Loica strain')\n",
    "if len(strain)==0:\n",
    "    strain = fj.create('strain', name='Loica strain', description='Loica test strain')\n",
    "    \n",
    "gfp = fj.get('signal', name='GFP')\n",
    "\n",
    "biomass_signal = fj.get('signal', name='OD')\n",
    "\n",
    "def growth_rate(t):\n",
    "    return gompertz_growth_rate(t, 0.01, 1, 1, 1)\n",
    "\n",
    "def biomass(t):\n",
    "    return gompertz(t, 0.01, 1, 1, 1)"
   ]
  },
  {
   "cell_type": "markdown",
   "metadata": {},
   "source": [
    "## SBOL Connection"
   ]
  },
  {
   "cell_type": "code",
   "execution_count": 18,
   "metadata": {},
   "outputs": [
    {
     "name": "stdout",
     "output_type": "stream",
     "text": [
      "https://github.com/Gonza10V/pRhl\n",
      "https://github.com/Gonza10V/pRhl_seq\n",
      "https://github.com/Gonza10V/RBS1\n",
      "https://github.com/Gonza10V/RBS1_seq\n",
      "https://github.com/Gonza10V/operator_ptet\n",
      "https://github.com/Gonza10V/GFP_mut3\n",
      "https://github.com/Gonza10V/GFP_mut3_seq\n",
      "https://github.com/Gonza10V/M0050\n",
      "https://github.com/Gonza10V/M0050_seq\n",
      "https://github.com/Gonza10V/TER1\n",
      "https://github.com/Gonza10V/TER1_seq\n",
      "https://github.com/Gonza10V/geneproduct_GFP_mut3_M0050_TER1\n",
      "0\n"
     ]
    }
   ],
   "source": [
    "doc = sbol3.Document()\n",
    "sbol3.set_namespace('https://github.com/Gonza10V')\n",
    "\n",
    "hsl_c4 = component.ed_simple_chemical('https://pubchem.ncbi.nlm.nih.gov/substance/329748866')\n",
    "prhl, prhl_seq = component.promoter('pRhl','cagtcgggGGTCTCaGGAGtcctgtgaaatctggcagttaccgttagctttcgaattggctaaaaagtgttcTACTaGAGACCcacgtagtg ', description='https://synbiohub.org/public/igem/BBa_J23101/1')\n",
    "rbs1, rbs1_seq = component.rbs('RBS1', 'ttgaacaccgtcTCAGGTAAGTATCAGTTGTAAatcacacaggacta', description='BASIC Linker RBS1')\n",
    "op_prhl = component.engineered_region('operator_ptet', [prhl,rbs1], description= 'LOICA Operator pRhl')\n",
    "\n",
    "gfpm3, gfpm3_seq = component.cds('GFP_mut3', 'atgcgtaaaggagaagaacttttcactggagttgtcccaattcttgttgaattagatggtgatgttaatgggcacaaattttctgtcagtggagagggtgaaggtgatgcaacatacggaaaacttacccttaaatttatttgcactactggaaaactacctgttccatggccaacacttgtcactactttcggttatggtgttcaatgctttgcgagatacccagatcatatgaaacagcatgactttttcaagagtgccatgcccgaaggttatgtacaggaaagaactatatttttcaaagatgacgggaactacaagacacgtgctgaagtcaagtttgaaggtgatacccttgttaatagaatcgagttaaaaggtattgattttaaagaagatggaaacattcttggacacaaattggaatacaactataactcacacaatgtatacatcatggcagacaaacaaaagaatggaatcaaagttaacttcaaaattagacacaacattgaagatggaagcgttcaactagcagaccattatcaacaaaatactccaattggcgatggccctgtccttttaccagacaaccattacctgtccacacaatctgccctttcgaaagatcccaacgaaaagcgcgaccacatggtccttcttgagtttgtaacagctgctgggattacacatggcatggatgaactatacaaa', description='GFP mut3 Coding Sequence, no BsaI site, no stop codon')\n",
    "m0050, m0050_seq = component.protein_stability_element('M0050', 'gctgctaacgacgaaaactacgctctggctgctTAAattgaacta', description='http://parts.igem.org/wiki/index.php?title=Part:BBa_M0050')\n",
    "ter1, ter1_seq = component.terminator('TER1', 'GTCCatttgtcctactcaggagagcgttcaccgacaaacaacagataaaacgaaaggcccagtctttcgactgagcctttcgttttatttgTAAGGCTCG', description='rrnB T1 terminator from Potvin-Trottier pLPT119, extra stop codon')\n",
    "gp_gfp = geneproduct = component.engineered_region(f'geneproduct_{gfpm3.display_id}_{m0050.display_id}_{ter1.display_id}', [gfpm3, m0050, ter1], description='LOICA GeneProduct GFP')\n",
    "\n",
    "doc.add([prhl, prhl_seq, rbs1, rbs1_seq, op_prhl, gfpm3, gfpm3_seq, m0050, m0050_seq, ter1, ter1_seq, gp_gfp])\n",
    "\n",
    "for obj in doc.objects:\n",
    "    print(obj.identity)\n",
    "report_sbol3 = doc.validate()\n",
    "print(len(report_sbol3))"
   ]
  },
  {
   "cell_type": "markdown",
   "metadata": {},
   "source": [
    "## GeneticNetwork Construction"
   ]
  },
  {
   "cell_type": "code",
   "execution_count": 19,
   "metadata": {},
   "outputs": [
    {
     "data": {
      "image/png": "[encoded data removed]",
      "text/plain": [
       "<Figure size 432x288 with 1 Axes>"
      ]
     },
     "metadata": {},
     "output_type": "display_data"
    }
   ],
   "source": [
    "rec = lc.GeneticNetwork(vector=vector.id[0])\n",
    "\n",
    "gfp_rep = lc.Reporter(name='GFP_mut3', degradation_rate=1, signal_id=gfp.id[0], sbol_comp=gp_gfp, color='green')\n",
    "rec.add_reporter(gfp_rep)\n",
    "\n",
    "ahl1 = lc.Supplement(name='AHL1', sbol_comp=hsl_c4)\n",
    "\n",
    "ahl1_REC_gfp = lc.Receiver(input=ahl1, output=gfp_rep, alpha=[100,0], K=1, n=2, sbol_comp=op_prhl)\n",
    "rec.add_operator(ahl1_REC_gfp)\n",
    "rec.draw()"
   ]
  },
  {
   "cell_type": "code",
   "execution_count": 20,
   "metadata": {},
   "outputs": [
    {
     "name": "stdout",
     "output_type": "stream",
     "text": [
      "https://github.com/Gonza10V/pRhl\n",
      "https://github.com/Gonza10V/pRhl_seq\n",
      "https://github.com/Gonza10V/RBS1\n",
      "https://github.com/Gonza10V/RBS1_seq\n",
      "https://github.com/Gonza10V/operator_ptet\n",
      "https://github.com/Gonza10V/GFP_mut3\n",
      "https://github.com/Gonza10V/GFP_mut3_seq\n",
      "https://github.com/Gonza10V/M0050\n",
      "https://github.com/Gonza10V/M0050_seq\n",
      "https://github.com/Gonza10V/TER1\n",
      "https://github.com/Gonza10V/TER1_seq\n",
      "https://github.com/Gonza10V/geneproduct_GFP_mut3_M0050_TER1\n",
      "https://github.com/Gonza10V/LOICA_AHL1_REC_GFP_mut3_model\n",
      "https://github.com/Gonza10V/TU_AHL1_REC_GFP_mut3\n",
      "https://github.com/Gonza10V/GFP_mut3_protein\n",
      "https://github.com/Gonza10V/AHL1_chemical\n",
      "https://github.com/Gonza10V/geneticnetwork\n",
      "0\n"
     ]
    }
   ],
   "source": [
    "rec_doc = rec.to_sbol(sbol_doc=doc)\n",
    "for obj in rec_doc.objects:\n",
    "    print(obj.identity)\n",
    "report_sbol3 = rec_doc.validate()\n",
    "print(len(report_sbol3))"
   ]
  },
  {
   "cell_type": "markdown",
   "metadata": {},
   "source": [
    "# NOR"
   ]
  },
  {
   "cell_type": "markdown",
   "metadata": {},
   "source": [
    "## Flapjack Connection"
   ]
  },
  {
   "cell_type": "code",
   "execution_count": 21,
   "metadata": {},
   "outputs": [],
   "source": [
    "dna_rec1 = fj.get('dna', name='AHL1_REC_LacI')\n",
    "if len(dna_rec1)==0:\n",
    "    dna_rec1 = fj.create('dna', name='AHL1_REC_TetR')\n",
    "\n",
    "dna_rec2 = fj.get('dna', name='AHL2_REC_LacI')\n",
    "if len(dna_rec2)==0:\n",
    "    dna_rec2 = fj.create('dna', name='AHL2_REC_LacI')\n",
    "\n",
    "dna_NOR = fj.get('dna', name='LacI_TetR_NOR_GFP')\n",
    "if len(dna_NOR)==0:\n",
    "    dna_NOR = fj.create('dna', name='LacI_TetR_NOR_GFP')\n",
    "\n",
    "vector = fj.get('vector', name='AHL1_AHL2_NOR_GFP')    \n",
    "if len(vector)==0:\n",
    "    vector = fj.create('vector', name='AHL1_AHL2_NOR_GFP', dnas=[dna_rec1.id, dna_rec2.id, dna_NOR.id])   \n",
    "\n",
    "study = fj.get('study', name='Loica testing')\n",
    "if len(study)==0:\n",
    "    study = fj.create('study', name='Loica testing', description='Test')\n",
    "\n",
    "media = fj.get('media', name='Loica')\n",
    "if len(media)==0:\n",
    "    media = fj.create('media', name='Loica', description='Simulated loica media')\n",
    "\n",
    "strain = fj.get('strain', name='Loica strain')\n",
    "if len(strain)==0:\n",
    "    strain = fj.create('strain', name='Loica strain', description='Loica test strain')\n",
    "    \n",
    "gfp = fj.get('signal', name='GFP')\n",
    "\n",
    "biomass_signal = fj.get('signal', name='OD')\n",
    "\n",
    "def growth_rate(t):\n",
    "    return gompertz_growth_rate(t, 0.01, 1, 1, 1)\n",
    "\n",
    "def biomass(t):\n",
    "    return gompertz(t, 0.01, 1, 1, 1)"
   ]
  },
  {
   "cell_type": "markdown",
   "metadata": {},
   "source": [
    "## SBOL Connection"
   ]
  },
  {
   "cell_type": "code",
   "execution_count": 22,
   "metadata": {},
   "outputs": [
    {
     "name": "stdout",
     "output_type": "stream",
     "text": [
      "https://github.com/Gonza10V/TP_laci_tetr\n",
      "https://github.com/Gonza10V/TP_laci_tetr_seq\n",
      "https://github.com/Gonza10V/RBS1\n",
      "https://github.com/Gonza10V/RBS1_seq\n",
      "https://github.com/Gonza10V/operator_tdm_laci_ptet\n",
      "https://github.com/Gonza10V/GFP_mut3\n",
      "https://github.com/Gonza10V/GFP_mut3_seq\n",
      "https://github.com/Gonza10V/M0050\n",
      "https://github.com/Gonza10V/M0050_seq\n",
      "https://github.com/Gonza10V/TER1\n",
      "https://github.com/Gonza10V/TER1_seq\n",
      "https://github.com/Gonza10V/geneproduct_GFP_mut3_M0050_TER1\n",
      "0\n"
     ]
    }
   ],
   "source": [
    "doc = sbol3.Document()\n",
    "sbol3.set_namespace('https://github.com/Gonza10V')\n",
    "\n",
    "tdm_pro, tdm_pro_seq = component.promoter('TP_laci_tetr','cagtcgggGGTCTCaGGAGtcctgtgaaatctggcagttaccgttagctttcgaattggctaaaaagtgttccctttccgaaacgaaacaagttggattttgccagtcgggGGTCTCaGGAGtcctgtgaaatctggcagttaccgttagctttcgaattggctaaaaagtgttccctttccgaaacgaaacaagttggattttgc acctaccagaactggtagttctgacctgtggctatcttcgaaggcatcgatattatgcacattggaactcttcatgacataacgccgagTACTaGAGACCcacgtagtg ', description='https://synbiohub.org/public/igem/BBa_J23101/1')\n",
    "rbs1, rbs1_seq = component.rbs('RBS1', 'ttgaacaccgtcTCAGGTAAGTATCAGTTGTAAatcacacaggacta', description='BASIC Linker RBS1')\n",
    "\n",
    "op_tdm_pro = component.engineered_region('operator_tdm_laci_ptet', [tdm_pro,rbs1], description= 'LOICA Operator J23101')\n",
    "\n",
    "gfpm3, gfpm3_seq = component.cds('GFP_mut3', 'atgcgtaaaggagaagaacttttcactggagttgtcccaattcttgttgaattagatggtgatgttaatgggcacaaattttctgtcagtggagagggtgaaggtgatgcaacatacggaaaacttacccttaaatttatttgcactactggaaaactacctgttccatggccaacacttgtcactactttcggttatggtgttcaatgctttgcgagatacccagatcatatgaaacagcatgactttttcaagagtgccatgcccgaaggttatgtacaggaaagaactatatttttcaaagatgacgggaactacaagacacgtgctgaagtcaagtttgaaggtgatacccttgttaatagaatcgagttaaaaggtattgattttaaagaagatggaaacattcttggacacaaattggaatacaactataactcacacaatgtatacatcatggcagacaaacaaaagaatggaatcaaagttaacttcaaaattagacacaacattgaagatggaagcgttcaactagcagaccattatcaacaaaatactccaattggcgatggccctgtccttttaccagacaaccattacctgtccacacaatctgccctttcgaaagatcccaacgaaaagcgcgaccacatggtccttcttgagtttgtaacagctgctgggattacacatggcatggatgaactatacaaa', description='GFP mut3 Coding Sequence, no BsaI site, no stop codon')\n",
    "m0050, m0050_seq = component.protein_stability_element('M0050', 'gctgctaacgacgaaaactacgctctggctgctTAAattgaacta', description='http://parts.igem.org/wiki/index.php?title=Part:BBa_M0050')\n",
    "ter1, ter1_seq = component.terminator('TER1', 'GTCCatttgtcctactcaggagagcgttcaccgacaaacaacagataaaacgaaaggcccagtctttcgactgagcctttcgttttatttgTAAGGCTCG', description='rrnB T1 terminator from Potvin-Trottier pLPT119, extra stop codon')\n",
    "\n",
    "gp_gfp = geneproduct = component.engineered_region(f'geneproduct_{gfpm3.display_id}_{m0050.display_id}_{ter1.display_id}', [gfpm3, m0050, ter1], description='LOICA GeneProduct GFP')\n",
    "\n",
    "hsl_c4 = component.ed_simple_chemical('https://pubchem.ncbi.nlm.nih.gov/substance/329748866')\n",
    "hsl_c6 = component.ed_simple_chemical('https://pubchem.ncbi.nlm.nih.gov/substance/329748862')\n",
    "doc.add([tdm_pro, tdm_pro_seq, rbs1, rbs1_seq, op_tdm_pro, gfpm3, gfpm3_seq, m0050, m0050_seq, ter1, ter1_seq, gp_gfp])\n",
    "\n",
    "for obj in doc.objects:\n",
    "    print(obj.identity)\n",
    "report_sbol3 = doc.validate()\n",
    "print(len(report_sbol3))"
   ]
  },
  {
   "cell_type": "markdown",
   "metadata": {},
   "source": [
    "## GeneticNetwork Construction"
   ]
  },
  {
   "cell_type": "code",
   "execution_count": 23,
   "metadata": {},
   "outputs": [
    {
     "data": {
      "image/png": "[encoded data removed]",
      "text/plain": [
       "<Figure size 432x288 with 1 Axes>"
      ]
     },
     "metadata": {},
     "output_type": "display_data"
    }
   ],
   "source": [
    "nor_ex = lc.GeneticNetwork(vector=vector.id[0])\n",
    "\n",
    "gfp_rep = lc.Reporter(name='GFP_mut3', degradation_rate=1, signal_id=gfp.id[0], sbol_comp=gp_gfp, color='green')\n",
    "nor_ex.add_reporter(gfp_rep)\n",
    "\n",
    "ahl1 = lc.Supplement(name='AHL1', sbol_comp=hsl_c4)\n",
    "ahl2 = lc.Supplement(name='AHL2', sbol_comp=hsl_c6)\n",
    "\n",
    "nor_ex.add_operator(lc.Hill2(input=[ahl1, ahl2], output=gfp_rep, \n",
    "                    alpha=[0.0001,1,1,0], K=[1,1], n=[2,2], sbol_comp=op_tdm_pro))\n",
    "nor_ex.draw()"
   ]
  },
  {
   "cell_type": "code",
   "execution_count": 24,
   "metadata": {},
   "outputs": [
    {
     "name": "stdout",
     "output_type": "stream",
     "text": [
      "Unsupported operator Type\n",
      "Unsupported operator Type\n",
      "https://github.com/Gonza10V/TP_laci_tetr\n",
      "https://github.com/Gonza10V/TP_laci_tetr_seq\n",
      "https://github.com/Gonza10V/RBS1\n",
      "https://github.com/Gonza10V/RBS1_seq\n",
      "https://github.com/Gonza10V/operator_tdm_laci_ptet\n",
      "https://github.com/Gonza10V/GFP_mut3\n",
      "https://github.com/Gonza10V/GFP_mut3_seq\n",
      "https://github.com/Gonza10V/M0050\n",
      "https://github.com/Gonza10V/M0050_seq\n",
      "https://github.com/Gonza10V/TER1\n",
      "https://github.com/Gonza10V/TER1_seq\n",
      "https://github.com/Gonza10V/geneproduct_GFP_mut3_M0050_TER1\n",
      "https://github.com/Gonza10V/LOICA_AHL1_AHL2_HILL2_GFP_mut3_model\n",
      "https://github.com/Gonza10V/TU_AHL1_AHL2_HILL2_GFP_mut3\n",
      "https://github.com/Gonza10V/GFP_mut3_protein\n",
      "https://github.com/Gonza10V/AHL2_chemical\n",
      "https://github.com/Gonza10V/AHL1_chemical\n",
      "https://github.com/Gonza10V/geneticnetwork\n",
      "0\n"
     ]
    }
   ],
   "source": [
    "nor_doc = nor_ex.to_sbol(sbol_doc=doc)\n",
    "for obj in nor_doc.objects:\n",
    "    print(obj.identity)\n",
    "report_sbol3 = nor_doc.validate()\n",
    "print(len(report_sbol3))"
   ]
  },
  {
   "cell_type": "markdown",
   "metadata": {},
   "source": [
    "# Reppresilator\n",
    "\n",
    "This genetic network is a ring oscillator composed by 3 NOT Operators."
   ]
  },
  {
   "cell_type": "markdown",
   "metadata": {},
   "source": [
    "## Flapjack Connection"
   ]
  },
  {
   "cell_type": "code",
   "execution_count": 25,
   "metadata": {},
   "outputs": [],
   "source": [
    "dna = fj.get('dna', name='Rep')\n",
    "if len(dna)==0:\n",
    "    dna = fj.create('dna', name='Rep')\n",
    "vector = fj.get('vector', name='Rep')    \n",
    "if len(vector)==0:\n",
    "    vector = fj.create('vector', name='Rep', dnas=dna.id)   \n",
    "study = fj.get('study', name='Loica testing')\n",
    "if len(study)==0:\n",
    "    study = fj.create('study', name='Loica testing', description='Test')\n",
    "media = fj.get('media', name='Loica')\n",
    "if len(media)==0:\n",
    "    media = fj.create('media', name='Loica', description='Simulated loica media')\n",
    "strain = fj.get('strain', name='Loica strain')\n",
    "if len(strain)==0:\n",
    "    strain = fj.create('strain', name='Loica strain', description='Loica test strain')\n",
    "    \n",
    "cfp = fj.get('signal', name='CFP')\n",
    "if len(cfp)==0:\n",
    "    cfp = fj.create('signal', name='CFP', color='cyan', description='Simulated cyan fluorescent protein')\n",
    "yfp = fj.get('signal', name='YFP')\n",
    "if len(yfp)==0:\n",
    "    yfp = fj.create('signal', name='YFP', color='yellow', description='Simulated yellow fluorescent protein')\n",
    "rfp = fj.get('signal', name='RFP')\n",
    "if len(rfp)==0:\n",
    "    rfp = fj.create('signal', name='RFP', color='red', description='Simulated red fluorescent protein')\n",
    "\n",
    "biomass_signal = fj.get('signal', name='OD')\n",
    "\n",
    "def growth_rate(t):\n",
    "    return gompertz_growth_rate(t, 0.01, 1, 1, 1)\n",
    "\n",
    "def biomass(t):\n",
    "    return gompertz(t, 0.01, 1, 1, 1)"
   ]
  },
  {
   "cell_type": "markdown",
   "metadata": {},
   "source": [
    "## SBOL Connection"
   ]
  },
  {
   "cell_type": "code",
   "execution_count": 26,
   "metadata": {},
   "outputs": [
    {
     "name": "stdout",
     "output_type": "stream",
     "text": [
      "https://github.com/Gonza10V/L3S2P21_UPA20_pTetR_RiboJ\n",
      "https://github.com/Gonza10V/L3S2P21_UPA20_pTetR_RiboJ_seq\n",
      "https://github.com/Gonza10V/L3S2P11_UPA20_pLac_RiboJ10\n",
      "https://github.com/Gonza10V/L3S2P11_UPA20_pLac_RiboJ10_seq\n",
      "https://github.com/Gonza10V/L3S1P13_UPA20_plambda_RiboJ51\n",
      "https://github.com/Gonza10V/L3S1P13_UPA20_plambda_RiboJ51_seq\n",
      "https://github.com/Gonza10V/operator_ptet\n",
      "https://github.com/Gonza10V/operator_plac\n",
      "https://github.com/Gonza10V/operator_plam\n",
      "0\n"
     ]
    }
   ],
   "source": [
    "doc = sbol3.Document()\n",
    "sbol3.set_namespace('https://github.com/Gonza10V')\n",
    "\n",
    "ptet, ptet_seq = component.promoter('L3S2P21_UPA20_pTetR_RiboJ','GTCCCTCGGTACCAAATTCCAGAAAAGAGGCCTCCCGAAAGGGGGGCCTTTTTTCGTTTTGGTCCGTGCCTACTCTGGAAAATCTtccctatcagtgatagagattgacatccctatcagtgatagagatactgagcacatcagcaggacgcactgaccAGCTGTCACCGGATGTGCTTTCCGGTCTGATGAGTCCGTGAGGACGAAACAGCCTCTACAAATAATTTTGTTTAAGGCTCG', description='BASIC - Potvin pTet (based on B-P27-pTetR-F1)')\n",
    "plac, plac_seq = component.promoter('L3S2P11_UPA20_pLac_RiboJ10', 'GTCCCTCGGTACCAAATTCCAGAAAAGAGACGCTTTCGAGCGTCTTTTTTCGTTTTGGTCCGTGCCTACTCTGGAAAATCTcctttcgtcttcacctcgagaattgtgagcggataacaattgacattgtgagcggataacaagatactgagcacatcagcaggacgcactgaccgaattcattAGCGCTCAACGGGTGTGCTTCCCGTTCTGATGAGTCCGTGAGGACGAAAGCGCCTCTACAAATAATTTTGTTTAAGGCTCG', description='BASIC - Potvin pLac (based on B-P39-pLac-F2)')\n",
    "plam, plam_seq = component.promoter('L3S1P13_UPA20_plambda_RiboJ51', 'GTCCGACGAACAATAAGGCCTCCCTAACGGGGGGCCTTTTTTATTGATAACAAAAGTGCCTACTCTGGAAAATCTccgccgccctagacctagctgcaggtcgaggataaatatctaacaccgtgcgtgttgactattttacctctggcggtgataatggttgcatgtactagaattcattAGTAGTCACCGGCTGTGCTTGCCGGTCTGATGAGCCTGTGAAGGCGAAACTACCTCTACAAATAATTTTGTTTAAGGCTCG', description='BASIC - Potvin plambda (based on B-P41-pPhlF-F3)')\n",
    "\n",
    "op_ptet = component.engineered_region('operator_ptet', [ptet], description= 'LOICA Operator pTet')\n",
    "op_plac = component.engineered_region('operator_plac', [plac], description='LOICA Operator pLac')\n",
    "op_plam = component.engineered_region('operator_plam', [plam], description='LOICA Operator pLambda')\n",
    "\n",
    "toplevels = [ptet, ptet_seq, plac, plac_seq, plam, plam_seq, op_ptet, op_plac, op_plam]\n",
    "doc.add(toplevels)\n",
    "\n",
    "operators = [op_ptet, op_plac, op_plam]\n",
    "\n",
    "for obj in doc.objects:\n",
    "    print(obj.identity)\n",
    "report_sbol3 = doc.validate()\n",
    "print(len(report_sbol3))"
   ]
  },
  {
   "cell_type": "code",
   "execution_count": 27,
   "metadata": {},
   "outputs": [
    {
     "name": "stdout",
     "output_type": "stream",
     "text": [
      "https://github.com/Gonza10V/L3S2P21_UPA20_pTetR_RiboJ\n",
      "https://github.com/Gonza10V/L3S2P21_UPA20_pTetR_RiboJ_seq\n",
      "https://github.com/Gonza10V/L3S2P11_UPA20_pLac_RiboJ10\n",
      "https://github.com/Gonza10V/L3S2P11_UPA20_pLac_RiboJ10_seq\n",
      "https://github.com/Gonza10V/L3S1P13_UPA20_plambda_RiboJ51\n",
      "https://github.com/Gonza10V/L3S1P13_UPA20_plambda_RiboJ51_seq\n",
      "https://github.com/Gonza10V/operator_ptet\n",
      "https://github.com/Gonza10V/operator_plac\n",
      "https://github.com/Gonza10V/operator_plam\n",
      "https://github.com/Gonza10V/RBS1\n",
      "https://github.com/Gonza10V/RBS1_seq\n",
      "https://github.com/Gonza10V/RBS2\n",
      "https://github.com/Gonza10V/RBS2_seq\n",
      "https://github.com/Gonza10V/RBS3\n",
      "https://github.com/Gonza10V/RBS3_seq\n",
      "https://github.com/Gonza10V/mVenus\n",
      "https://github.com/Gonza10V/mVenus_seq\n",
      "https://github.com/Gonza10V/TetR\n",
      "https://github.com/Gonza10V/TetR_seq\n",
      "https://github.com/Gonza10V/LacI\n",
      "https://github.com/Gonza10V/LacI_seq\n",
      "https://github.com/Gonza10V/LamR\n",
      "https://github.com/Gonza10V/LamR_seq\n",
      "https://github.com/Gonza10V/M0050\n",
      "https://github.com/Gonza10V/M0050_seq\n",
      "https://github.com/Gonza10V/M0051\n",
      "https://github.com/Gonza10V/M0051_seq\n",
      "https://github.com/Gonza10V/M0052\n",
      "https://github.com/Gonza10V/M0052_seq\n",
      "https://github.com/Gonza10V/TER1\n",
      "https://github.com/Gonza10V/TER1_seq\n",
      "https://github.com/Gonza10V/geneproduct_mVenus_M0050_TER1\n",
      "https://github.com/Gonza10V/geneproduct_TetR_M0050_TER1\n",
      "https://github.com/Gonza10V/geneproduct_LacI_M0050_TER1\n",
      "https://github.com/Gonza10V/geneproduct_LamR_M0050_TER1\n",
      "0\n"
     ]
    }
   ],
   "source": [
    "rbs1, rbs1_seq = component.rbs('RBS1', 'ttgaacaccgtcTCAGGTAAGTATCAGTTGTAAatcacacaggacta', description='BASIC Linker RBS1')\n",
    "rbs2, rbs2_seq = component.rbs('RBS2', 'ttgaacaccgtcTCAGGTAAGTATCAGTTGTAAaaagaggggaaata', description='BASIC Linker RBS2')\n",
    "rbs3, rbs3_seq = component.rbs('RBS3', 'ttgaacaccgtcTCAGGTAAGTATCAGTTGTAAaaagaggagaaata', description='BASIC Linker RBS3')\n",
    "\n",
    "mven, mven_seq = component.cds('mVenus', 'GTCCCTCGGTACCAAATTCCAGAAAAGAGGCCTCCCGAAAGGGGGGCCTTTTTTCGTTTTGGTCCGTGCCTACTCTGGAAAATCTtccctatcagtgatagagattgacatccctatcagtgatagagatactgagcacatcagcaggacgcactgaccAGCTGTCACCGGATGTGCTTTCCGGTCTGATGAGTCCGTGAGGACGAAACAGCCTCTACAAATAATTTTGTTTAAGGCTCG', description='mVenus Coding Sequence from Potvin-Trottier pLPT119, no BasI site, no stop codon')\n",
    "tetr, tetr_seq = component.cds('TetR', 'GTCCatgtccagattagataaaagtaaagtgattaacagcgcattagagctgcttaatgaggtcggaatcgaaggtttaacaacccgtaaactcgcccagaagctaggtgtagagcagcctacattgtattggcatgtaaaaaataagcgggctttgctcgacgccttagccattgagatgttagataggcaccatactcacttttgccctttagaaggggaaagctggcaagattttttacgtaataacgctaaaagttttagatgtgctttactaagtcatcgcgatggagcaaaagtacatttaggtacacggcctacagaaaaacagtatgaaactctcgaaaatcaattagcctttttatgccaacaaggtttttcactagagaatgcattatatgcactcagcgctgtggggcattttactttaggttgcgtattggaagatcaagagcatcaagtcgctaaagaagaaagggaaacacctactactgatagtatgccgccattattacgacaagctatcgaattatttgatcaccaaggtgcagagccagccttcttattcggccttgaattgatcatatgcggattagaaaaacaacttaaatgtgaaagtgggtctGGCTCG',description='TetR Coding Sequence from Potvin-Trottier pLPT119, no stop codon')\n",
    "laci, laci_seq = component.cds('LacI', 'GTCCatggtgaatgtgaaaccagtaacgttatacgatgtcgcagagtatgccggtgtctcttatcagaccgtttcccgcgtggtgaaccaggccagccacgtttctgcgaaaacgcgggaaaaagtggaagcggcgatggcggagctgaattacattcccaaccgcgtggcacaacaactggcgggcaaacagtcgttgctgattggcgttgccacctccagtctggccctgcacgcgccgtcgcaaattgtcgcggcgattaaatctcgcgccgatcaactgggtgccagcgtggtggtgtcgatggtagaacgaagcggcgtcgaagcctgtaaagcggcggtgcacaatcttctcgcgcaacgcgtcagtgggctgatcattaactatccgctggatgaccaggatgccattgctgtggaagctgcctgcactaatgttccggcgttatttcttgatgtctctgaccagacacccatcaacagtattattttctcccatgaagacggtacgcgactgggcgtggagcatctggtcgcattgggtcaccagcaaatcgcgctgttagcgggcccattaagttctgtctcggcgcgtctgcgtctggctggctggcataaatatctcactcgcaatcaaattcagccgatagcggaacgggaaggcgactggagtgccatgtccggttttcaacaaaccatgcaaatgctgaatgagggcatcgttcccactgcgatgctggttgccaacgatcagatggcgctgggcgcaatgcgcgccattaccgagtccgggctgcgcgttggtgcggatatctcggtagtgggatacgacgataccgaagacagctcatgttatatcccgccgttaaccaccatcaaacaggattttcgcctgctggggcaaaccagcgtggaccgcttgctgcaactctctcagggccaggcggtgaagggcaatcagctgttgcccgtctcactggtgaaaagaaaaaccaccctggcgcccaatacgcaaaccgcctctccccgcgcgttggccgattcattaatgcagctggcacgacaggtttcccgactggaaagcgggcagGGCTCG', description='LacI Coding Sequence from Potvin-Trottier pLPT119, no stop codon')\n",
    "lamr, lamr_seq = component.cds('LamR', 'GTCCCTCGGTACCAAATTCCAGAAAAGAGGCCTCCCGAAAGGGGGGCCTTTTTTCGTTTTGGTCCGTGCCTACTCTGGAAAATCTtccctatcagtgatagagattgacatccctatcagtgatagagatactgagcacatcagcaggacgcactgaccAGCTGTCACCGGATGTGCTTTCCGGTCTGATGAGTCCGTGAGGACGAAACAGCCTCTACAAATAATTTTGTTTAAGGCTCG', description='lambdaR Coding Sequence from Potvin-Trottier pLPT119, no stop codon')\n",
    "\n",
    "m0050, m0050_seq = component.protein_stability_element('M0050', 'gctgctaacgacgaaaactacgctctggctgctTAAattgaacta', description='http://parts.igem.org/wiki/index.php?title=Part:BBa_M0050')\n",
    "m0051, m0051_seq = component.protein_stability_element('M0051', 'gctgctaacgacgaaaactacaactacgctgacgcttctTAActa', description='http://parts.igem.org/wiki/index.php?title=Part:BBa_M0051')\n",
    "m0052, m0052_seq = component.protein_stability_element('M0052', 'gctgctaacgacgaaaactacgctgacgcttctTAAattgaacta', description='http://parts.igem.org/wiki/index.php?title=Part:BBa_M0052')\n",
    "\n",
    "ter1, ter1_seq = component.terminator('TER1', 'GTCCatttgtcctactcaggagagcgttcaccgacaaacaacagataaaacgaaaggcccagtctttcgactgagcctttcgttttatttgTAAGGCTCG', description='rrnB T1 terminator from Potvin-Trottier pLPT119, extra stop codon')\n",
    "\n",
    "toplevels = [rbs1, rbs1_seq, rbs2, rbs2_seq, rbs3, rbs3_seq, mven, mven_seq, tetr, tetr_seq, \n",
    "            laci, laci_seq, lamr, lamr_seq, m0050, m0050_seq, m0051, m0051_seq, m0052, m0052_seq, ter1, ter1_seq]\n",
    "doc.add(toplevels)\n",
    "\n",
    "# Automate design from lists of components, could be a collection\n",
    "rbss = [rbs1] # [rbs1, rbs2, rbs3]\n",
    "cdss = [mven, tetr, laci, lamr]\n",
    "degtags = [m0050] # [m0050, m0051, m0052]\n",
    "terminators = [ter1]\n",
    "\n",
    "# Wrap it together\n",
    "geneproducts = []\n",
    "for rbs in rbss:\n",
    "    for cds in cdss:\n",
    "        for degtag in degtags:\n",
    "            for ter in terminators:\n",
    "                geneproduct = component.engineered_region(f'geneproduct_{cds.display_id}_{degtag.display_id}_{ter.display_id}', [rbs, cds, degtag, ter], description='LOICA gene product')\n",
    "                doc.add(geneproduct)\n",
    "                geneproducts.append(geneproduct)\n",
    "\n",
    "for obj in doc.objects:\n",
    "    print(obj.identity)\n",
    "report_sbol3 = doc.validate()\n",
    "print(len(report_sbol3))"
   ]
  },
  {
   "cell_type": "markdown",
   "metadata": {},
   "source": [
    "## GeneticNetwork Construction"
   ]
  },
  {
   "cell_type": "code",
   "execution_count": 28,
   "metadata": {},
   "outputs": [
    {
     "data": {
      "image/png": "[encoded data removed]",
      "text/plain": [
       "<Figure size 432x288 with 1 Axes>"
      ]
     },
     "metadata": {},
     "output_type": "display_data"
    }
   ],
   "source": [
    "rep = lc.GeneticNetwork(vector=vector.id[0])\n",
    "\n",
    "tetr_reg = lc.Regulator(name='TetR', degradation_rate=1, sbol_comp=geneproducts[1])\n",
    "laci_reg = lc.Regulator(name='LacI', degradation_rate=1, init_concentration=5, sbol_comp=geneproducts[2])\n",
    "ci_reg = lc.Regulator(name='cI', degradation_rate=1, sbol_comp=geneproducts[3])\n",
    "rep.add_regulator([tetr_reg, laci_reg, ci_reg])\n",
    "\n",
    "mven_rep = lc.Reporter(name='mVenus', degradation_rate=1, signal_id=yfp.id[0], sbol_comp=geneproducts[0], color='yellow')\n",
    "rep.add_reporter(mven_rep)\n",
    "\n",
    "laci_not_tetr = lc.Hill1(input=laci_reg, output=tetr_reg, alpha=[100,0], K=1, n=2, sbol_comp=op_plac)\n",
    "ci_not_laci = lc.Hill1(input=ci_reg, output=laci_reg, alpha=[100,0], K=1, n=2, sbol_comp=op_plam)\n",
    "tetr_not_ci = lc.Hill1(input=tetr_reg, output=ci_reg, alpha=[100,0], K=1, n=2, sbol_comp=op_ptet)\n",
    "tetr_not_mven = lc.Hill1(input=tetr_reg, output=mven_rep, alpha=[100,0], K=1, n=2, sbol_comp=op_ptet)\n",
    "rep.add_operator([laci_not_tetr, ci_not_laci, tetr_not_ci, tetr_not_mven])\n",
    "rep.draw()"
   ]
  },
  {
   "cell_type": "code",
   "execution_count": 29,
   "metadata": {},
   "outputs": [
    {
     "name": "stdout",
     "output_type": "stream",
     "text": [
      "https://github.com/Gonza10V/L3S2P21_UPA20_pTetR_RiboJ\n",
      "https://github.com/Gonza10V/L3S2P21_UPA20_pTetR_RiboJ_seq\n",
      "https://github.com/Gonza10V/L3S2P11_UPA20_pLac_RiboJ10\n",
      "https://github.com/Gonza10V/L3S2P11_UPA20_pLac_RiboJ10_seq\n",
      "https://github.com/Gonza10V/L3S1P13_UPA20_plambda_RiboJ51\n",
      "https://github.com/Gonza10V/L3S1P13_UPA20_plambda_RiboJ51_seq\n",
      "https://github.com/Gonza10V/operator_ptet\n",
      "https://github.com/Gonza10V/operator_plac\n",
      "https://github.com/Gonza10V/operator_plam\n",
      "https://github.com/Gonza10V/RBS1\n",
      "https://github.com/Gonza10V/RBS1_seq\n",
      "https://github.com/Gonza10V/RBS2\n",
      "https://github.com/Gonza10V/RBS2_seq\n",
      "https://github.com/Gonza10V/RBS3\n",
      "https://github.com/Gonza10V/RBS3_seq\n",
      "https://github.com/Gonza10V/mVenus\n",
      "https://github.com/Gonza10V/mVenus_seq\n",
      "https://github.com/Gonza10V/TetR\n",
      "https://github.com/Gonza10V/TetR_seq\n",
      "https://github.com/Gonza10V/LacI\n",
      "https://github.com/Gonza10V/LacI_seq\n",
      "https://github.com/Gonza10V/LamR\n",
      "https://github.com/Gonza10V/LamR_seq\n",
      "https://github.com/Gonza10V/M0050\n",
      "https://github.com/Gonza10V/M0050_seq\n",
      "https://github.com/Gonza10V/M0051\n",
      "https://github.com/Gonza10V/M0051_seq\n",
      "https://github.com/Gonza10V/M0052\n",
      "https://github.com/Gonza10V/M0052_seq\n",
      "https://github.com/Gonza10V/TER1\n",
      "https://github.com/Gonza10V/TER1_seq\n",
      "https://github.com/Gonza10V/geneproduct_mVenus_M0050_TER1\n",
      "https://github.com/Gonza10V/geneproduct_TetR_M0050_TER1\n",
      "https://github.com/Gonza10V/geneproduct_LacI_M0050_TER1\n",
      "https://github.com/Gonza10V/geneproduct_LamR_M0050_TER1\n",
      "https://github.com/Gonza10V/LOICA_LacI_HILL1_TetR_model\n",
      "https://github.com/Gonza10V/TU_LacI_HILL1_TetR\n",
      "https://github.com/Gonza10V/LOICA_cI_HILL1_LacI_model\n",
      "https://github.com/Gonza10V/TU_cI_HILL1_LacI\n",
      "https://github.com/Gonza10V/LOICA_TetR_HILL1_cI_model\n",
      "https://github.com/Gonza10V/TU_TetR_HILL1_cI\n",
      "https://github.com/Gonza10V/LOICA_TetR_HILL1_mVenus_model\n",
      "https://github.com/Gonza10V/TU_TetR_HILL1_mVenus\n",
      "https://github.com/Gonza10V/TetR_protein\n",
      "https://github.com/Gonza10V/LacI_protein\n",
      "https://github.com/Gonza10V/mVenus_protein\n",
      "https://github.com/Gonza10V/cI_protein\n",
      "https://github.com/Gonza10V/geneticnetwork\n",
      "0\n"
     ]
    }
   ],
   "source": [
    "repressilator_doc = rep.to_sbol(sbol_doc=doc)\n",
    "for obj in repressilator_doc.objects:\n",
    "    print(obj.identity)\n",
    "report_sbol3 = repressilator_doc.validate()\n",
    "print(len(report_sbol3))"
   ]
  },
  {
   "cell_type": "markdown",
   "metadata": {},
   "source": [
    "## Save and Load\n",
    "\n",
    "We will use the repressilator example to show the use of save_loica nad load_loica functions.\n",
    "Here we create a functional repressillator and save it to a file. This provides a way to share designs and models. The file can be loaded in another workspace and modified to add an Operator with a Reporter to obtain data."
   ]
  },
  {
   "cell_type": "code",
   "execution_count": 30,
   "metadata": {},
   "outputs": [
    {
     "data": {
      "image/png": "[encoded data removed]",
      "text/plain": [
       "<Figure size 432x288 with 1 Axes>"
      ]
     },
     "metadata": {},
     "output_type": "display_data"
    }
   ],
   "source": [
    "rep = lc.GeneticNetwork(vector=vector.id[0])\n",
    "\n",
    "tetr_reg = lc.Regulator(name='TetR', degradation_rate=1, sbol_comp=geneproducts[1])\n",
    "laci_reg = lc.Regulator(name='LacI', degradation_rate=1, init_concentration=5, sbol_comp=geneproducts[2])\n",
    "ci_reg = lc.Regulator(name='cI', degradation_rate=1, sbol_comp=geneproducts[3])\n",
    "rep.add_regulator([tetr_reg, laci_reg, ci_reg])\n",
    "\n",
    "#mven_rep = lc.Reporter(name='mVenus', degradation_rate=1, signal_id=yfp.id[0], sbol_comp=geneproducts[0], color='yellow')\n",
    "#rep.add_reporter(mven_rep)\n",
    "\n",
    "laci_not_tetr = lc.Hill1(input=laci_reg, output=tetr_reg, alpha=[100,0], K=1, n=2, sbol_comp=op_plac)\n",
    "ci_not_laci = lc.Hill1(input=ci_reg, output=laci_reg, alpha=[100,0], K=1, n=2, sbol_comp=op_plam)\n",
    "tetr_not_ci = lc.Hill1(input=tetr_reg, output=ci_reg, alpha=[100,0], K=1, n=2, sbol_comp=op_ptet)\n",
    "#tetr_not_mven = lc.Hill1(input=tetr_reg, output=mven_rep, alpha=[100,0], K=1, n=2, sbol_comp=op_ptet)\n",
    "rep.add_operator([laci_not_tetr, ci_not_laci, tetr_not_ci])#tetr_not_mven])\n",
    "rep.draw()"
   ]
  },
  {
   "cell_type": "code",
   "execution_count": 31,
   "metadata": {},
   "outputs": [],
   "source": [
    "lc.save_loica(rep, 'repressilator_mvenus')"
   ]
  },
  {
   "cell_type": "code",
   "execution_count": 32,
   "metadata": {},
   "outputs": [
    {
     "data": {
      "image/png": "[encoded data removed]",
      "text/plain": [
       "<Figure size 432x288 with 1 Axes>"
      ]
     },
     "metadata": {},
     "output_type": "display_data"
    }
   ],
   "source": [
    "loaded_rep = lc.load_loica('repressilator_mvenus')\n",
    "loaded_rep.draw()"
   ]
  },
  {
   "cell_type": "markdown",
   "metadata": {},
   "source": [
    "### Naive Composite"
   ]
  },
  {
   "cell_type": "code",
   "execution_count": 33,
   "metadata": {},
   "outputs": [
    {
     "data": {
      "image/png": "[encoded data removed]",
      "text/plain": [
       "<Figure size 432x288 with 1 Axes>"
      ]
     },
     "metadata": {},
     "output_type": "display_data"
    }
   ],
   "source": [
    "loaded_rep = lc.load_loica('repressilator_mvenus')\n",
    "mven_rep = lc.Reporter(name='mVenus', degradation_rate=1, signal_id=yfp.id[0], sbol_comp=geneproducts[0], color='yellow')\n",
    "loaded_rep.add_reporter(mven_rep)\n",
    "tetr_not_mven = lc.Hill1(input=tetr_reg, output=mven_rep, alpha=[100,0], K=1, n=2, sbol_comp=op_ptet)\n",
    "loaded_rep.add_operator([tetr_not_mven])\n",
    "loaded_rep.draw()"
   ]
  },
  {
   "cell_type": "markdown",
   "metadata": {},
   "source": [
    "### How to connect a new network to a loaded network"
   ]
  },
  {
   "cell_type": "markdown",
   "metadata": {},
   "source": [
    "Loaded networks and newly created networks are not connected with the same objects. The loaded objects needs to be connected to the new parts providing a link from the loaded network to the new parts of the network. Run SBOL Connection before the following cells to obtain a valid SBOL Document."
   ]
  },
  {
   "cell_type": "code",
   "execution_count": 34,
   "metadata": {},
   "outputs": [
    {
     "data": {
      "image/png": "[encoded data removed]",
      "text/plain": [
       "<Figure size 432x288 with 1 Axes>"
      ]
     },
     "metadata": {},
     "output_type": "display_data"
    }
   ],
   "source": [
    "loaded_rep = lc.load_loica('repressilator_mvenus')\n",
    "loaded_rep.draw()"
   ]
  },
  {
   "cell_type": "code",
   "execution_count": 35,
   "metadata": {},
   "outputs": [
    {
     "name": "stdout",
     "output_type": "stream",
     "text": [
      "TetR\n",
      "LacI\n",
      "cI\n"
     ]
    }
   ],
   "source": [
    "for r in rep.regulators:\n",
    "    print(r.name)"
   ]
  },
  {
   "cell_type": "code",
   "execution_count": 36,
   "metadata": {},
   "outputs": [
    {
     "data": {
      "image/png": "[encoded data removed]",
      "text/plain": [
       "<Figure size 432x288 with 1 Axes>"
      ]
     },
     "metadata": {},
     "output_type": "display_data"
    }
   ],
   "source": [
    "mven_rep = lc.Reporter(name='mVenus', degradation_rate=1, signal_id=yfp.id[0], sbol_comp=geneproducts[0], color='yellow')\n",
    "loaded_rep.add_reporter(mven_rep)\n",
    "tetr_not_mven = lc.Hill1(input=loaded_rep.regulators[0], output=mven_rep, alpha=[100,0], K=1, n=2, sbol_comp=op_ptet)\n",
    "loaded_rep.add_operator([tetr_not_mven])\n",
    "loaded_rep.draw()"
   ]
  },
  {
   "cell_type": "markdown",
   "metadata": {},
   "source": [
    "To have a valid SBOL Document please run again the SBOL Connection cells and then the Save and load cells skipping the Naive Composite. This is to avoid having duplicated parts on the document from the first repressilator."
   ]
  },
  {
   "cell_type": "code",
   "execution_count": 37,
   "metadata": {},
   "outputs": [
    {
     "ename": "ValueError",
     "evalue": "An entity with identity \"https://github.com/Gonza10V/LOICA_LacI_HILL1_TetR_model\" already exists in document",
     "output_type": "error",
     "traceback": [
      "\u001b[0;31m---------------------------------------------------------------------------\u001b[0m",
      "\u001b[0;31mValueError\u001b[0m                                Traceback (most recent call last)",
      "\u001b[0;32m<ipython-input-37-878e5c68c4dc>\u001b[0m in \u001b[0;36m<module>\u001b[0;34m\u001b[0m\n\u001b[0;32m----> 1\u001b[0;31m \u001b[0mrepressilator_doc\u001b[0m \u001b[0;34m=\u001b[0m \u001b[0mloaded_rep\u001b[0m\u001b[0;34m.\u001b[0m\u001b[0mto_sbol\u001b[0m\u001b[0;34m(\u001b[0m\u001b[0msbol_doc\u001b[0m\u001b[0;34m=\u001b[0m\u001b[0mdoc\u001b[0m\u001b[0;34m)\u001b[0m\u001b[0;34m\u001b[0m\u001b[0;34m\u001b[0m\u001b[0m\n\u001b[0m\u001b[1;32m      2\u001b[0m \u001b[0;32mfor\u001b[0m \u001b[0mobj\u001b[0m \u001b[0;32min\u001b[0m \u001b[0mrepressilator_doc\u001b[0m\u001b[0;34m.\u001b[0m\u001b[0mobjects\u001b[0m\u001b[0;34m:\u001b[0m\u001b[0;34m\u001b[0m\u001b[0;34m\u001b[0m\u001b[0m\n\u001b[1;32m      3\u001b[0m     \u001b[0mprint\u001b[0m\u001b[0;34m(\u001b[0m\u001b[0mobj\u001b[0m\u001b[0;34m.\u001b[0m\u001b[0midentity\u001b[0m\u001b[0;34m)\u001b[0m\u001b[0;34m\u001b[0m\u001b[0;34m\u001b[0m\u001b[0m\n\u001b[1;32m      4\u001b[0m \u001b[0mreport_sbol3\u001b[0m \u001b[0;34m=\u001b[0m \u001b[0mrepressilator_doc\u001b[0m\u001b[0;34m.\u001b[0m\u001b[0mvalidate\u001b[0m\u001b[0;34m(\u001b[0m\u001b[0;34m)\u001b[0m\u001b[0;34m\u001b[0m\u001b[0;34m\u001b[0m\u001b[0m\n\u001b[1;32m      5\u001b[0m \u001b[0mprint\u001b[0m\u001b[0;34m(\u001b[0m\u001b[0mlen\u001b[0m\u001b[0;34m(\u001b[0m\u001b[0mreport_sbol3\u001b[0m\u001b[0;34m)\u001b[0m\u001b[0;34m)\u001b[0m\u001b[0;34m\u001b[0m\u001b[0;34m\u001b[0m\u001b[0m\n",
      "\u001b[0;32m~/Documents/GitHub/LOICA/loica/genetic_network.py\u001b[0m in \u001b[0;36mto_sbol\u001b[0;34m(self, sbol_doc)\u001b[0m\n\u001b[1;32m    426\u001b[0m                             framework='http://identifiers.org/SBO:0000062',)\n\u001b[1;32m    427\u001b[0m                             \u001b[0;31m#attachments=[model_string])\u001b[0m\u001b[0;34m\u001b[0m\u001b[0;34m\u001b[0m\u001b[0;34m\u001b[0m\u001b[0m\n\u001b[0;32m--> 428\u001b[0;31m             \u001b[0mdoc\u001b[0m\u001b[0;34m.\u001b[0m\u001b[0madd\u001b[0m\u001b[0;34m(\u001b[0m\u001b[0mop_model\u001b[0m\u001b[0;34m)\u001b[0m\u001b[0;34m\u001b[0m\u001b[0;34m\u001b[0m\u001b[0m\n\u001b[0m\u001b[1;32m    429\u001b[0m             \u001b[0mtu\u001b[0m\u001b[0;34m.\u001b[0m\u001b[0mmodels\u001b[0m\u001b[0;34m.\u001b[0m\u001b[0mappend\u001b[0m\u001b[0;34m(\u001b[0m\u001b[0mop_model\u001b[0m\u001b[0;34m)\u001b[0m\u001b[0;34m\u001b[0m\u001b[0;34m\u001b[0m\u001b[0m\n\u001b[1;32m    430\u001b[0m             \u001b[0mdoc\u001b[0m\u001b[0;34m.\u001b[0m\u001b[0madd\u001b[0m\u001b[0;34m(\u001b[0m\u001b[0mtu\u001b[0m\u001b[0;34m)\u001b[0m\u001b[0;34m\u001b[0m\u001b[0;34m\u001b[0m\u001b[0m\n",
      "\u001b[0;32m~/opt/anaconda3/envs/LOICA_FlapJack/lib/python3.7/site-packages/sbol3/document.py\u001b[0m in \u001b[0;36madd\u001b[0;34m(self, objects)\u001b[0m\n\u001b[1;32m    317\u001b[0m         \u001b[0;31m# Now dispatch to the appropriate method\u001b[0m\u001b[0;34m\u001b[0m\u001b[0;34m\u001b[0m\u001b[0;34m\u001b[0m\u001b[0m\n\u001b[1;32m    318\u001b[0m         \u001b[0;32mif\u001b[0m \u001b[0misinstance\u001b[0m\u001b[0;34m(\u001b[0m\u001b[0mobjects\u001b[0m\u001b[0;34m,\u001b[0m \u001b[0mTopLevel\u001b[0m\u001b[0;34m)\u001b[0m\u001b[0;34m:\u001b[0m\u001b[0;34m\u001b[0m\u001b[0;34m\u001b[0m\u001b[0m\n\u001b[0;32m--> 319\u001b[0;31m             \u001b[0;32mreturn\u001b[0m \u001b[0mself\u001b[0m\u001b[0;34m.\u001b[0m\u001b[0m_add\u001b[0m\u001b[0;34m(\u001b[0m\u001b[0mobjects\u001b[0m\u001b[0;34m)\u001b[0m\u001b[0;34m\u001b[0m\u001b[0;34m\u001b[0m\u001b[0m\n\u001b[0m\u001b[1;32m    320\u001b[0m         \u001b[0;32melse\u001b[0m\u001b[0;34m:\u001b[0m\u001b[0;34m\u001b[0m\u001b[0;34m\u001b[0m\u001b[0m\n\u001b[1;32m    321\u001b[0m             \u001b[0;32mreturn\u001b[0m \u001b[0mself\u001b[0m\u001b[0;34m.\u001b[0m\u001b[0m_add_all\u001b[0m\u001b[0;34m(\u001b[0m\u001b[0mobjects\u001b[0m\u001b[0;34m)\u001b[0m\u001b[0;34m\u001b[0m\u001b[0;34m\u001b[0m\u001b[0m\n",
      "\u001b[0;32m~/opt/anaconda3/envs/LOICA_FlapJack/lib/python3.7/site-packages/sbol3/document.py\u001b[0m in \u001b[0;36m_add\u001b[0;34m(self, obj)\u001b[0m\n\u001b[1;32m    275\u001b[0m             \u001b[0mmessage\u001b[0m \u001b[0;34m=\u001b[0m \u001b[0;34mf'An entity with identity \"{obj.identity}\"'\u001b[0m\u001b[0;34m\u001b[0m\u001b[0;34m\u001b[0m\u001b[0m\n\u001b[1;32m    276\u001b[0m             \u001b[0mmessage\u001b[0m \u001b[0;34m+=\u001b[0m \u001b[0;34m' already exists in document'\u001b[0m\u001b[0;34m\u001b[0m\u001b[0;34m\u001b[0m\u001b[0m\n\u001b[0;32m--> 277\u001b[0;31m             \u001b[0;32mraise\u001b[0m \u001b[0mValueError\u001b[0m\u001b[0;34m(\u001b[0m\u001b[0mmessage\u001b[0m\u001b[0;34m)\u001b[0m\u001b[0;34m\u001b[0m\u001b[0;34m\u001b[0m\u001b[0m\n\u001b[0m\u001b[1;32m    278\u001b[0m         \u001b[0mself\u001b[0m\u001b[0;34m.\u001b[0m\u001b[0mobjects\u001b[0m\u001b[0;34m.\u001b[0m\u001b[0mappend\u001b[0m\u001b[0;34m(\u001b[0m\u001b[0mobj\u001b[0m\u001b[0;34m)\u001b[0m\u001b[0;34m\u001b[0m\u001b[0;34m\u001b[0m\u001b[0m\n\u001b[1;32m    279\u001b[0m \u001b[0;34m\u001b[0m\u001b[0m\n",
      "\u001b[0;31mValueError\u001b[0m: An entity with identity \"https://github.com/Gonza10V/LOICA_LacI_HILL1_TetR_model\" already exists in document"
     ]
    }
   ],
   "source": [
    "repressilator_doc = loaded_rep.to_sbol(sbol_doc=doc)\n",
    "for obj in repressilator_doc.objects:\n",
    "    print(obj.identity)\n",
    "report_sbol3 = repressilator_doc.validate()\n",
    "print(len(report_sbol3))"
   ]
  },
  {
   "cell_type": "code",
   "execution_count": null,
   "metadata": {},
   "outputs": [],
   "source": [
    "for error in report_sbol3.errors:\n",
    "    print(error.object_id)\n",
    "    print(error.message)"
   ]
  },
  {
   "cell_type": "markdown",
   "metadata": {},
   "source": [
    "# Composed  GeneticNetwork"
   ]
  },
  {
   "cell_type": "markdown",
   "metadata": {},
   "source": [
    "Here we will create a composed genetic newtwork or device. We have an HSL C4 Receiver that express LacI and a C6 Receiver that express TetR connected to a NOR Operator that express GFP regulated by LacI and TetR. This device is a NOR that express GFP as TRUE and the inputs are experimentally available signals C4 and C6."
   ]
  },
  {
   "cell_type": "markdown",
   "metadata": {},
   "source": [
    "# Receiver C4"
   ]
  },
  {
   "cell_type": "markdown",
   "metadata": {},
   "source": [
    "## Flapjack Connection"
   ]
  },
  {
   "cell_type": "code",
   "execution_count": null,
   "metadata": {},
   "outputs": [],
   "source": [
    "dna = fj.get('dna', name='AHL1_REC_GFP')\n",
    "if len(dna)==0:\n",
    "    dna = fj.create('dna', name='AHL1_REC_GFP')\n",
    "vector = fj.get('vector', name='AHL1_REC_GFP')    \n",
    "if len(vector)==0:\n",
    "    vector = fj.create('vector', name='AHL1_REC_GFP', dnas=dna.id)   \n",
    "study = fj.get('study', name='Loica testing')\n",
    "if len(study)==0:\n",
    "    study = fj.create('study', name='Loica testing', description='Test')\n",
    "media = fj.get('media', name='Loica')\n",
    "if len(media)==0:\n",
    "    media = fj.create('media', name='Loica', description='Simulated loica media')\n",
    "strain = fj.get('strain', name='Loica strain')\n",
    "if len(strain)==0:\n",
    "    strain = fj.create('strain', name='Loica strain', description='Loica test strain')\n",
    "    \n",
    "gfp = fj.get('signal', name='GFP')\n",
    "\n",
    "biomass_signal = fj.get('signal', name='OD')\n",
    "\n",
    "def growth_rate(t):\n",
    "    return gompertz_growth_rate(t, 0.01, 1, 1, 1)\n",
    "\n",
    "def biomass(t):\n",
    "    return gompertz(t, 0.01, 1, 1, 1)"
   ]
  },
  {
   "cell_type": "markdown",
   "metadata": {},
   "source": [
    "## SBOL Connection"
   ]
  },
  {
   "cell_type": "code",
   "execution_count": null,
   "metadata": {},
   "outputs": [
    {
     "name": "stdout",
     "output_type": "stream",
     "text": [
      "https://github.com/Gonza10V/pRhl\n",
      "https://github.com/Gonza10V/pRhl_seq\n",
      "https://github.com/Gonza10V/RBS1\n",
      "https://github.com/Gonza10V/RBS1_seq\n",
      "https://github.com/Gonza10V/operator_ptet\n",
      "https://github.com/Gonza10V/LacI\n",
      "https://github.com/Gonza10V/LacI_seq\n",
      "https://github.com/Gonza10V/M0050\n",
      "https://github.com/Gonza10V/M0050_seq\n",
      "https://github.com/Gonza10V/TER1\n",
      "https://github.com/Gonza10V/TER1_seq\n",
      "https://github.com/Gonza10V/geneproduct_LacI_M0050_TER1\n",
      "0\n"
     ]
    }
   ],
   "source": [
    "doc = sbol3.Document()\n",
    "sbol3.set_namespace('https://github.com/Gonza10V')\n",
    "\n",
    "hsl_c4 = component.ed_simple_chemical('https://pubchem.ncbi.nlm.nih.gov/substance/329748866')\n",
    "prhl, prhl_seq = component.promoter('pRhl','cagtcgggGGTCTCaGGAGtcctgtgaaatctggcagttaccgttagctttcgaattggctaaaaagtgttcTACTaGAGACCcacgtagtg ', description='https://synbiohub.org/public/igem/BBa_J23101/1')\n",
    "rbs1, rbs1_seq = component.rbs('RBS1', 'ttgaacaccgtcTCAGGTAAGTATCAGTTGTAAatcacacaggacta', description='BASIC Linker RBS1')\n",
    "op_prhl = component.engineered_region('operator_ptet', [prhl,rbs1], description= 'LOICA Operator pRhl')\n",
    "\n",
    "laci, laci_seq = component.cds('LacI', 'GTCCatggtgaatgtgaaaccagtaacgttatacgatgtcgcagagtatgccggtgtctcttatcagaccgtttcccgcgtggtgaaccaggccagccacgtttctgcgaaaacgcgggaaaaagtggaagcggcgatggcggagctgaattacattcccaaccgcgtggcacaacaactggcgggcaaacagtcgttgctgattggcgttgccacctccagtctggccctgcacgcgccgtcgcaaattgtcgcggcgattaaatctcgcgccgatcaactgggtgccagcgtggtggtgtcgatggtagaacgaagcggcgtcgaagcctgtaaagcggcggtgcacaatcttctcgcgcaacgcgtcagtgggctgatcattaactatccgctggatgaccaggatgccattgctgtggaagctgcctgcactaatgttccggcgttatttcttgatgtctctgaccagacacccatcaacagtattattttctcccatgaagacggtacgcgactgggcgtggagcatctggtcgcattgggtcaccagcaaatcgcgctgttagcgggcccattaagttctgtctcggcgcgtctgcgtctggctggctggcataaatatctcactcgcaatcaaattcagccgatagcggaacgggaaggcgactggagtgccatgtccggttttcaacaaaccatgcaaatgctgaatgagggcatcgttcccactgcgatgctggttgccaacgatcagatggcgctgggcgcaatgcgcgccattaccgagtccgggctgcgcgttggtgcggatatctcggtagtgggatacgacgataccgaagacagctcatgttatatcccgccgttaaccaccatcaaacaggattttcgcctgctggggcaaaccagcgtggaccgcttgctgcaactctctcagggccaggcggtgaagggcaatcagctgttgcccgtctcactggtgaaaagaaaaaccaccctggcgcccaatacgcaaaccgcctctccccgcgcgttggccgattcattaatgcagctggcacgacaggtttcccgactggaaagcgggcagGGCTCG', description='LacI Coding Sequence from Potvin-Trottier pLPT119, no stop codon')\n",
    "m0050, m0050_seq = component.protein_stability_element('M0050', 'gctgctaacgacgaaaactacgctctggctgctTAAattgaacta', description='http://parts.igem.org/wiki/index.php?title=Part:BBa_M0050')\n",
    "ter1, ter1_seq = component.terminator('TER1', 'GTCCatttgtcctactcaggagagcgttcaccgacaaacaacagataaaacgaaaggcccagtctttcgactgagcctttcgttttatttgTAAGGCTCG', description='rrnB T1 terminator from Potvin-Trottier pLPT119, extra stop codon')\n",
    "gp_laci = geneproduct = component.engineered_region(f'geneproduct_{laci.display_id}_{m0050.display_id}_{ter1.display_id}', [laci, m0050, ter1], description='LOICA GeneProduct LacI')\n",
    "\n",
    "doc.add([prhl, prhl_seq, rbs1, rbs1_seq, op_prhl, laci, laci_seq, m0050, m0050_seq, ter1, ter1_seq, gp_laci])\n",
    "\n",
    "for obj in doc.objects:\n",
    "    print(obj.identity)\n",
    "report_sbol3 = doc.validate()\n",
    "print(len(report_sbol3))"
   ]
  },
  {
   "cell_type": "markdown",
   "metadata": {},
   "source": [
    "## GeneticNetwork Construction"
   ]
  },
  {
   "cell_type": "code",
   "execution_count": null,
   "metadata": {},
   "outputs": [
    {
     "data": {
      "image/png": "[encoded data removed]",
      "text/plain": [
       "<Figure size 432x288 with 1 Axes>"
      ]
     },
     "metadata": {},
     "output_type": "display_data"
    }
   ],
   "source": [
    "rec1 = lc.GeneticNetwork(vector=vector.id[0])\n",
    "\n",
    "laci_reg = lc.Regulator(name='LacI', degradation_rate=1, sbol_comp=gp_laci )\n",
    "rec1.add_regulator(laci_reg)\n",
    "\n",
    "ahl1 = lc.Supplement(name='C4_AHL', sbol_comp=hsl_c4, color='orange')\n",
    "\n",
    "ahl1_REC_laci = lc.Receiver(input=ahl1, output=laci_reg, alpha=[100,0], K=1, n=2, sbol_comp=op_prhl, name='REC1')\n",
    "rec1.add_operator(ahl1_REC_laci)\n",
    "rec1.draw()"
   ]
  },
  {
   "cell_type": "code",
   "execution_count": null,
   "metadata": {},
   "outputs": [
    {
     "name": "stdout",
     "output_type": "stream",
     "text": [
      "https://github.com/Gonza10V/pRhl\n",
      "https://github.com/Gonza10V/pRhl_seq\n",
      "https://github.com/Gonza10V/RBS1\n",
      "https://github.com/Gonza10V/RBS1_seq\n",
      "https://github.com/Gonza10V/operator_ptet\n",
      "https://github.com/Gonza10V/LacI\n",
      "https://github.com/Gonza10V/LacI_seq\n",
      "https://github.com/Gonza10V/M0050\n",
      "https://github.com/Gonza10V/M0050_seq\n",
      "https://github.com/Gonza10V/TER1\n",
      "https://github.com/Gonza10V/TER1_seq\n",
      "https://github.com/Gonza10V/geneproduct_LacI_M0050_TER1\n",
      "https://github.com/Gonza10V/LOICA_C4_AHL_REC1_LacI_model\n",
      "https://github.com/Gonza10V/TU_C4_AHL_REC1_LacI\n",
      "https://github.com/Gonza10V/C4_AHL_chemical\n",
      "https://github.com/Gonza10V/LacI_protein\n",
      "https://github.com/Gonza10V/geneticnetwork\n",
      "0\n"
     ]
    }
   ],
   "source": [
    "rec_doc = rec1.to_sbol(sbol_doc=doc)\n",
    "for obj in rec_doc.objects:\n",
    "    print(obj.identity)\n",
    "report_sbol3 = rec_doc.validate()\n",
    "print(len(report_sbol3))"
   ]
  },
  {
   "cell_type": "markdown",
   "metadata": {},
   "source": [
    "Here we save the network to a file to use it later."
   ]
  },
  {
   "cell_type": "code",
   "execution_count": null,
   "metadata": {},
   "outputs": [],
   "source": [
    "lc.save_loica(rec1, 'hsl1_REC_laci')"
   ]
  },
  {
   "cell_type": "markdown",
   "metadata": {},
   "source": [
    "# Receiver C6"
   ]
  },
  {
   "cell_type": "markdown",
   "metadata": {},
   "source": [
    "## Flapjack Connection"
   ]
  },
  {
   "cell_type": "code",
   "execution_count": null,
   "metadata": {},
   "outputs": [],
   "source": [
    "dna = fj.get('dna', name='AHL2_REC_TetR')\n",
    "if len(dna)==0:\n",
    "    dna = fj.create('dna', name='AHL2_REC_TetR')\n",
    "vector = fj.get('vector', name='AHL2_REC_TetR')    \n",
    "if len(vector)==0:\n",
    "    vector = fj.create('vector', name='AHL2_REC_TetR', dnas=dna.id)   \n",
    "study = fj.get('study', name='Loica testing')\n",
    "if len(study)==0:\n",
    "    study = fj.create('study', name='Loica testing', description='Test')\n",
    "media = fj.get('media', name='Loica')\n",
    "if len(media)==0:\n",
    "    media = fj.create('media', name='Loica', description='Simulated loica media')\n",
    "strain = fj.get('strain', name='Loica strain')\n",
    "if len(strain)==0:\n",
    "    strain = fj.create('strain', name='Loica strain', description='Loica test strain')\n",
    "    \n",
    "gfp = fj.get('signal', name='GFP')\n",
    "\n",
    "biomass_signal = fj.get('signal', name='OD')\n",
    "\n",
    "def growth_rate(t):\n",
    "    return gompertz_growth_rate(t, 0.01, 1, 1, 1)\n",
    "\n",
    "def biomass(t):\n",
    "    return gompertz(t, 0.01, 1, 1, 1)"
   ]
  },
  {
   "cell_type": "markdown",
   "metadata": {},
   "source": [
    "## SBOL Connection"
   ]
  },
  {
   "cell_type": "code",
   "execution_count": null,
   "metadata": {},
   "outputs": [
    {
     "name": "stdout",
     "output_type": "stream",
     "text": [
      "https://github.com/Gonza10V/pRhl\n",
      "https://github.com/Gonza10V/pRhl_seq\n",
      "https://github.com/Gonza10V/RBS1\n",
      "https://github.com/Gonza10V/RBS1_seq\n",
      "https://github.com/Gonza10V/operator_ptet\n",
      "https://github.com/Gonza10V/TetR\n",
      "https://github.com/Gonza10V/TetR_seq\n",
      "https://github.com/Gonza10V/M0050\n",
      "https://github.com/Gonza10V/M0050_seq\n",
      "https://github.com/Gonza10V/TER1\n",
      "https://github.com/Gonza10V/TER1_seq\n",
      "https://github.com/Gonza10V/geneproduct_TetR_M0050_TER1\n",
      "0\n"
     ]
    }
   ],
   "source": [
    "doc = sbol3.Document()\n",
    "sbol3.set_namespace('https://github.com/Gonza10V')\n",
    "\n",
    "hsl_c6 = component.ed_simple_chemical('https://pubchem.ncbi.nlm.nih.gov/substance/329758205')\n",
    "plux, plux_seq = component.promoter('pRhl','cagtcgggGGTCTCaGGAGtcctgtgaaatctggcagttaccgttagctttcgaattggctaaaaagtgttcTACTaGAGACCcacgtagtg ', description='https://synbiohub.org/public/igem/BBa_J23101/1')\n",
    "rbs1, rbs1_seq = component.rbs('RBS1', 'ttgaacaccgtcTCAGGTAAGTATCAGTTGTAAatcacacaggacta', description='BASIC Linker RBS1')\n",
    "op_plux = component.engineered_region('operator_ptet', [plux,rbs1], description= 'LOICA Operator pRhl')\n",
    "\n",
    "tetr, tetr_seq = component.cds('TetR', 'GTCCatgtccagattagataaaagtaaagtgattaacagcgcattagagctgcttaatgaggtcggaatcgaaggtttaacaacccgtaaactcgcccagaagctaggtgtagagcagcctacattgtattggcatgtaaaaaataagcgggctttgctcgacgccttagccattgagatgttagataggcaccatactcacttttgccctttagaaggggaaagctggcaagattttttacgtaataacgctaaaagttttagatgtgctttactaagtcatcgcgatggagcaaaagtacatttaggtacacggcctacagaaaaacagtatgaaactctcgaaaatcaattagcctttttatgccaacaaggtttttcactagagaatgcattatatgcactcagcgctgtggggcattttactttaggttgcgtattggaagatcaagagcatcaagtcgctaaagaagaaagggaaacacctactactgatagtatgccgccattattacgacaagctatcgaattatttgatcaccaaggtgcagagccagccttcttattcggccttgaattgatcatatgcggattagaaaaacaacttaaatgtgaaagtgggtctGGCTCG',description='TetR Coding Sequence from Potvin-Trottier pLPT119, no stop codon')\n",
    "m0050, m0050_seq = component.protein_stability_element('M0050', 'gctgctaacgacgaaaactacgctctggctgctTAAattgaacta', description='http://parts.igem.org/wiki/index.php?title=Part:BBa_M0050')\n",
    "ter1, ter1_seq = component.terminator('TER1', 'GTCCatttgtcctactcaggagagcgttcaccgacaaacaacagataaaacgaaaggcccagtctttcgactgagcctttcgttttatttgTAAGGCTCG', description='rrnB T1 terminator from Potvin-Trottier pLPT119, extra stop codon')\n",
    "gp_tetr = geneproduct = component.engineered_region(f'geneproduct_{tetr.display_id}_{m0050.display_id}_{ter1.display_id}', [tetr, m0050, ter1], description='LOICA GeneProduct TetR')\n",
    "\n",
    "doc.add([plux, plux_seq, rbs1, rbs1_seq, op_plux, tetr, tetr_seq, m0050, m0050_seq, ter1, ter1_seq, gp_tetr])\n",
    "\n",
    "for obj in doc.objects:\n",
    "    print(obj.identity)\n",
    "report_sbol3 = doc.validate()\n",
    "print(len(report_sbol3))"
   ]
  },
  {
   "cell_type": "markdown",
   "metadata": {},
   "source": [
    "## GeneticNetwork Construction"
   ]
  },
  {
   "cell_type": "code",
   "execution_count": null,
   "metadata": {},
   "outputs": [
    {
     "data": {
      "image/png": "[encoded data removed]",
      "text/plain": [
       "<Figure size 432x288 with 1 Axes>"
      ]
     },
     "metadata": {},
     "output_type": "display_data"
    }
   ],
   "source": [
    "rec2 = lc.GeneticNetwork(vector=vector.id[0])\n",
    "\n",
    "tetr_reg = lc.Regulator(name='TetR', degradation_rate=1, sbol_comp=gp_tetr)\n",
    "rec2.add_regulator(tetr_reg)\n",
    "\n",
    "ahl2 = lc.Supplement(name='C6_AHL', sbol_comp=hsl_c6, color='blue')\n",
    "\n",
    "ahl2_REC_tetr = lc.Receiver(input=ahl2, output=tetr_reg, alpha=[100,0], K=1, n=2, sbol_comp=op_plux, name='REC2')\n",
    "rec2.add_operator(ahl2_REC_tetr)\n",
    "rec2.draw()"
   ]
  },
  {
   "cell_type": "code",
   "execution_count": null,
   "metadata": {},
   "outputs": [
    {
     "name": "stdout",
     "output_type": "stream",
     "text": [
      "https://github.com/Gonza10V/pRhl\n",
      "https://github.com/Gonza10V/pRhl_seq\n",
      "https://github.com/Gonza10V/RBS1\n",
      "https://github.com/Gonza10V/RBS1_seq\n",
      "https://github.com/Gonza10V/operator_ptet\n",
      "https://github.com/Gonza10V/TetR\n",
      "https://github.com/Gonza10V/TetR_seq\n",
      "https://github.com/Gonza10V/M0050\n",
      "https://github.com/Gonza10V/M0050_seq\n",
      "https://github.com/Gonza10V/TER1\n",
      "https://github.com/Gonza10V/TER1_seq\n",
      "https://github.com/Gonza10V/geneproduct_TetR_M0050_TER1\n",
      "https://github.com/Gonza10V/LOICA_C6_AHL_REC2_TetR_model\n",
      "https://github.com/Gonza10V/TU_C6_AHL_REC2_TetR\n",
      "https://github.com/Gonza10V/TetR_protein\n",
      "https://github.com/Gonza10V/C6_AHL_chemical\n",
      "https://github.com/Gonza10V/geneticnetwork\n",
      "0\n"
     ]
    }
   ],
   "source": [
    "rec_doc = rec2.to_sbol(sbol_doc=doc)\n",
    "for obj in rec_doc.objects:\n",
    "    print(obj.identity)\n",
    "report_sbol3 = rec_doc.validate()\n",
    "print(len(report_sbol3))"
   ]
  },
  {
   "cell_type": "markdown",
   "metadata": {},
   "source": [
    "Here we save the network to a file to use it later."
   ]
  },
  {
   "cell_type": "code",
   "execution_count": null,
   "metadata": {},
   "outputs": [],
   "source": [
    "lc.save_loica(rec2, 'hsl2_REC_tetr')"
   ]
  },
  {
   "cell_type": "markdown",
   "metadata": {},
   "source": [
    "# LacI_TetR_NOR_GFP"
   ]
  },
  {
   "cell_type": "markdown",
   "metadata": {},
   "source": [
    "## Flapjack Connection"
   ]
  },
  {
   "cell_type": "code",
   "execution_count": null,
   "metadata": {},
   "outputs": [
    {
     "name": "stdout",
     "output_type": "stream",
     "text": [
      "Problem deleting media id=8:\n",
      "{\"detail\":\"You do not have permission to perform this action.\"}\n",
      "Problem deleting strain id=4:\n",
      "{\"detail\":\"You do not have permission to perform this action.\"}\n"
     ]
    }
   ],
   "source": [
    "dna_rec1 = fj.create('dna', name='AHL1_REC_TetR')\n",
    "dna_rec2 = fj.create('dna', name='AHL2_REC_LacI')\n",
    "dna_NOR = fj.create('dna', name='LacI_TetR_NOR_GFP')\n",
    "vector = fj.create('vector', name='AHL1_AHL2_NOR_GFP', dnas=[dna_rec1.id, dna_rec2.id, dna_NOR.id])   \n",
    "study = fj.create('study', name='Loica testing', description='Test')\n",
    "media = fj.create('media', name='Loica', description='Simulated loica media')\n",
    "strain = fj.create('strain', name='Loica strain', description='Loica test strain')  \n",
    "gfp = fj.get('signal', name='GFP')\n",
    "biomass_signal = fj.get('signal', name='OD')\n",
    "\n",
    "def growth_rate(t):\n",
    "    return gompertz_growth_rate(t, 0.01, 1, 1, 1)\n",
    "\n",
    "def biomass(t):\n",
    "    return gompertz(t, 0.01, 1, 1, 1)"
   ]
  },
  {
   "cell_type": "markdown",
   "metadata": {},
   "source": [
    "## SBOL Connection"
   ]
  },
  {
   "cell_type": "code",
   "execution_count": null,
   "metadata": {},
   "outputs": [
    {
     "name": "stdout",
     "output_type": "stream",
     "text": [
      "https://github.com/Gonza10V/TP_laci_tetr\n",
      "https://github.com/Gonza10V/TP_laci_tetr_seq\n",
      "https://github.com/Gonza10V/RBS1\n",
      "https://github.com/Gonza10V/RBS1_seq\n",
      "https://github.com/Gonza10V/operator_ptet\n",
      "https://github.com/Gonza10V/GFP_mut3\n",
      "https://github.com/Gonza10V/GFP_mut3_seq\n",
      "https://github.com/Gonza10V/M0050\n",
      "https://github.com/Gonza10V/M0050_seq\n",
      "https://github.com/Gonza10V/TER1\n",
      "https://github.com/Gonza10V/TER1_seq\n",
      "https://github.com/Gonza10V/geneproduct_GFP_mut3_M0050_TER1\n",
      "0\n"
     ]
    }
   ],
   "source": [
    "doc = sbol3.Document()\n",
    "sbol3.set_namespace('https://github.com/Gonza10V')\n",
    "\n",
    "tdm_pro, tdm_pro_seq = component.promoter('TP_laci_tetr','cagtcgggGGTCTCaGGAGtcctgtgaaatctggcagttaccgttagctttcgaattggctaaaaagtgttccctttccgaaacgaaacaagttggattttgccagtcgggGGTCTCaGGAGtcctgtgaaatctggcagttaccgttagctttcgaattggctaaaaagtgttccctttccgaaacgaaacaagttggattttgc acctaccagaactggtagttctgacctgtggctatcttcgaaggcatcgatattatgcacattggaactcttcatgacataacgccgagTACTaGAGACCcacgtagtg ', description='https://synbiohub.org/public/igem/BBa_J23101/1')\n",
    "rbs1, rbs1_seq = component.rbs('RBS1', 'ttgaacaccgtcTCAGGTAAGTATCAGTTGTAAatcacacaggacta', description='BASIC Linker RBS1')\n",
    "\n",
    "op_tdm_pro = component.engineered_region('operator_ptet', [tdm_pro,rbs1], description= 'LOICA Operator J23101')\n",
    "\n",
    "gfpm3, gfpm3_seq = component.cds('GFP_mut3', 'atgcgtaaaggagaagaacttttcactggagttgtcccaattcttgttgaattagatggtgatgttaatgggcacaaattttctgtcagtggagagggtgaaggtgatgcaacatacggaaaacttacccttaaatttatttgcactactggaaaactacctgttccatggccaacacttgtcactactttcggttatggtgttcaatgctttgcgagatacccagatcatatgaaacagcatgactttttcaagagtgccatgcccgaaggttatgtacaggaaagaactatatttttcaaagatgacgggaactacaagacacgtgctgaagtcaagtttgaaggtgatacccttgttaatagaatcgagttaaaaggtattgattttaaagaagatggaaacattcttggacacaaattggaatacaactataactcacacaatgtatacatcatggcagacaaacaaaagaatggaatcaaagttaacttcaaaattagacacaacattgaagatggaagcgttcaactagcagaccattatcaacaaaatactccaattggcgatggccctgtccttttaccagacaaccattacctgtccacacaatctgccctttcgaaagatcccaacgaaaagcgcgaccacatggtccttcttgagtttgtaacagctgctgggattacacatggcatggatgaactatacaaa', description='GFP mut3 Coding Sequence, no BsaI site, no stop codon')\n",
    "m0050, m0050_seq = component.protein_stability_element('M0050', 'gctgctaacgacgaaaactacgctctggctgctTAAattgaacta', description='http://parts.igem.org/wiki/index.php?title=Part:BBa_M0050')\n",
    "ter1, ter1_seq = component.terminator('TER1', 'GTCCatttgtcctactcaggagagcgttcaccgacaaacaacagataaaacgaaaggcccagtctttcgactgagcctttcgttttatttgTAAGGCTCG', description='rrnB T1 terminator from Potvin-Trottier pLPT119, extra stop codon')\n",
    "\n",
    "gp_gfp = geneproduct = component.engineered_region(f'geneproduct_{gfpm3.display_id}_{m0050.display_id}_{ter1.display_id}', [gfpm3, m0050, ter1], description='LOICA GeneProduct GFP')\n",
    "\n",
    "hsl_c4 = component.ed_simple_chemical('https://pubchem.ncbi.nlm.nih.gov/substance/329748866')\n",
    "hsl_c6 = component.ed_simple_chemical('https://pubchem.ncbi.nlm.nih.gov/substance/329748862')\n",
    "doc.add([tdm_pro, tdm_pro_seq, rbs1, rbs1_seq, op_tdm_pro, gfpm3, gfpm3_seq, m0050, m0050_seq, ter1, ter1_seq, gp_gfp])\n",
    "\n",
    "for obj in doc.objects:\n",
    "    print(obj.identity)\n",
    "report_sbol3 = doc.validate()\n",
    "print(len(report_sbol3))"
   ]
  },
  {
   "cell_type": "markdown",
   "metadata": {},
   "source": [
    "## GeneticNetwork Construction"
   ]
  },
  {
   "cell_type": "markdown",
   "metadata": {},
   "source": [
    "Load GeneticalNetwork from file."
   ]
  },
  {
   "cell_type": "code",
   "execution_count": null,
   "metadata": {},
   "outputs": [],
   "source": [
    "hsl1_REC_laci = lc.load_loica('hsl1_REC_laci')"
   ]
  },
  {
   "cell_type": "code",
   "execution_count": null,
   "metadata": {},
   "outputs": [
    {
     "data": {
      "text/plain": [
       "'LacI'"
      ]
     },
     "execution_count": 65,
     "metadata": {},
     "output_type": "execute_result"
    }
   ],
   "source": [
    "hsl1_REC_laci.regulators[0].name"
   ]
  },
  {
   "cell_type": "code",
   "execution_count": null,
   "metadata": {},
   "outputs": [],
   "source": [
    "hsl2_REC_tetr = lc.load_loica('hsl2_REC_tetr')"
   ]
  },
  {
   "cell_type": "markdown",
   "metadata": {},
   "source": [
    "Using the loaded Receivers we can create a new network that will be composed of the two receivers and the NOR. Be care oaboutn how you wire the network, the draw function can be used for visual inspection of the design."
   ]
  },
  {
   "cell_type": "code",
   "execution_count": null,
   "metadata": {},
   "outputs": [
    {
     "data": {
      "image/png": "[encoded data removed]",
      "text/plain": [
       "<Figure size 432x288 with 1 Axes>"
      ]
     },
     "metadata": {},
     "output_type": "display_data"
    }
   ],
   "source": [
    "nor_ex = lc.GeneticNetwork(vector=vector.id[0])\n",
    "\n",
    "gfp_rep = lc.Reporter(name='GFP', degradation_rate=1, signal_id=1, sbol_comp=gp_gfp, color='green')\n",
    "nor_ex.add_reporter(gfp_rep)\n",
    "\n",
    "nor_ex.add_operator([hsl1_REC_laci.operators[0], hsl2_REC_tetr.operators[0]])\n",
    "\n",
    "laci = hsl1_REC_laci.regulators[0]\n",
    "tetr = hsl2_REC_tetr.regulators[0]\n",
    "\n",
    "nor_ex.add_operator(lc.Hill2(input=[laci, tetr], output=gfp_rep, \n",
    "                    alpha=[0.0001,1,1,0], K=[1,1], n=[2,2], sbol_comp=op_tdm_pro))\n",
    "nor_ex.draw(alpha=1)"
   ]
  },
  {
   "cell_type": "markdown",
   "metadata": {},
   "source": [
    "# NOT (Hill1) bicistronic"
   ]
  },
  {
   "cell_type": "markdown",
   "metadata": {},
   "source": [
    "## Flapjack Connection"
   ]
  },
  {
   "cell_type": "code",
   "execution_count": 3,
   "metadata": {},
   "outputs": [],
   "source": [
    "dna = fj.get('dna', name='LacI_NOT_GFP')\n",
    "if len(dna)==0:\n",
    "    dna = fj.create('dna', name='LacI_NOT_GFP')\n",
    "vector = fj.get('vector', name='LacI_NOT_GFP')    \n",
    "if len(vector)==0:\n",
    "    vector = fj.create('vector', name='LacI_NOT_GFP', dnas=dna.id)   \n",
    "study = fj.get('study', name='Loica testing')\n",
    "if len(study)==0:\n",
    "    study = fj.create('study', name='Loica testing', description='Test')\n",
    "media = fj.get('media', name='Loica')\n",
    "if len(media)==0:\n",
    "    media = fj.create('media', name='Loica', description='Simulated loica media')\n",
    "strain = fj.get('strain', name='Loica strain')\n",
    "if len(strain)==0:\n",
    "    strain = fj.create('strain', name='Loica strain', description='Loica test strain')\n",
    "    \n",
    "gfp = fj.get('signal', name='GFP')\n",
    "\n",
    "biomass_signal = fj.get('signal', name='OD')\n",
    "\n",
    "def growth_rate(t):\n",
    "    return gompertz_growth_rate(t, 0.01, 1, 1, 1)\n",
    "\n",
    "def biomass(t):\n",
    "    return gompertz(t, 0.01, 1, 1, 1)"
   ]
  },
  {
   "cell_type": "markdown",
   "metadata": {},
   "source": [
    "## SBOL Connection"
   ]
  },
  {
   "cell_type": "code",
   "execution_count": 4,
   "metadata": {},
   "outputs": [
    {
     "name": "stdout",
     "output_type": "stream",
     "text": [
      "https://github.com/Gonza10V/L3S2P11_UPA20_pLac_RiboJ10\n",
      "https://github.com/Gonza10V/L3S2P11_UPA20_pLac_RiboJ10_seq\n",
      "https://github.com/Gonza10V/RBS1\n",
      "https://github.com/Gonza10V/RBS1_seq\n",
      "https://github.com/Gonza10V/operator_ptet\n",
      "https://github.com/Gonza10V/GFP_mut3\n",
      "https://github.com/Gonza10V/GFP_mut3_seq\n",
      "https://github.com/Gonza10V/M0050\n",
      "https://github.com/Gonza10V/M0050_seq\n",
      "https://github.com/Gonza10V/TER1\n",
      "https://github.com/Gonza10V/TER1_seq\n",
      "https://github.com/Gonza10V/geneproduct_GFP_mut3_M0050_TER1\n",
      "https://github.com/Gonza10V/LacI\n",
      "https://github.com/Gonza10V/LacI_seq\n",
      "https://github.com/Gonza10V/geneproduct_LacI_M0050_TER1\n",
      "0\n"
     ]
    }
   ],
   "source": [
    "doc = sbol3.Document()\n",
    "sbol3.set_namespace('https://github.com/Gonza10V')\n",
    "\n",
    "plac, plac_seq = component.promoter('L3S2P11_UPA20_pLac_RiboJ10', 'GTCCCTCGGTACCAAATTCCAGAAAAGAGACGCTTTCGAGCGTCTTTTTTCGTTTTGGTCCGTGCCTACTCTGGAAAATCTcctttcgtcttcacctcgagaattgtgagcggataacaattgacattgtgagcggataacaagatactgagcacatcagcaggacgcactgaccgaattcattAGCGCTCAACGGGTGTGCTTCCCGTTCTGATGAGTCCGTGAGGACGAAAGCGCCTCTACAAATAATTTTGTTTAAGGCTCG', description='BASIC - Potvin pLac (based on B-P39-pLac-F2)')\n",
    "rbs1, rbs1_seq = component.rbs('RBS1', 'ttgaacaccgtcTCAGGTAAGTATCAGTTGTAAatcacacaggacta', description='BASIC Linker RBS1')\n",
    "op_plac = component.engineered_region('operator_ptet', [plac,rbs1], description= 'LOICA Operator pLac')\n",
    "\n",
    "gfpm3, gfpm3_seq = component.cds('GFP_mut3', 'atgcgtaaaggagaagaacttttcactggagttgtcccaattcttgttgaattagatggtgatgttaatgggcacaaattttctgtcagtggagagggtgaaggtgatgcaacatacggaaaacttacccttaaatttatttgcactactggaaaactacctgttccatggccaacacttgtcactactttcggttatggtgttcaatgctttgcgagatacccagatcatatgaaacagcatgactttttcaagagtgccatgcccgaaggttatgtacaggaaagaactatatttttcaaagatgacgggaactacaagacacgtgctgaagtcaagtttgaaggtgatacccttgttaatagaatcgagttaaaaggtattgattttaaagaagatggaaacattcttggacacaaattggaatacaactataactcacacaatgtatacatcatggcagacaaacaaaagaatggaatcaaagttaacttcaaaattagacacaacattgaagatggaagcgttcaactagcagaccattatcaacaaaatactccaattggcgatggccctgtccttttaccagacaaccattacctgtccacacaatctgccctttcgaaagatcccaacgaaaagcgcgaccacatggtccttcttgagtttgtaacagctgctgggattacacatggcatggatgaactatacaaa', description='GFP mut3 Coding Sequence, no BsaI site, no stop codon')\n",
    "m0050, m0050_seq = component.protein_stability_element('M0050', 'gctgctaacgacgaaaactacgctctggctgctTAAattgaacta', description='http://parts.igem.org/wiki/index.php?title=Part:BBa_M0050')\n",
    "ter1, ter1_seq = component.terminator('TER1', 'GTCCatttgtcctactcaggagagcgttcaccgacaaacaacagataaaacgaaaggcccagtctttcgactgagcctttcgttttatttgTAAGGCTCG', description='rrnB T1 terminator from Potvin-Trottier pLPT119, extra stop codon')\n",
    "gp_gfp = geneproduct = component.engineered_region(f'geneproduct_{gfpm3.display_id}_{m0050.display_id}_{ter1.display_id}', [gfpm3, m0050, ter1], description='LOICA GeneProduct GFP')\n",
    "\n",
    "laci, laci_seq = component.cds('LacI', 'GTCCatggtgaatgtgaaaccagtaacgttatacgatgtcgcagagtatgccggtgtctcttatcagaccgtttcccgcgtggtgaaccaggccagccacgtttctgcgaaaacgcgggaaaaagtggaagcggcgatggcggagctgaattacattcccaaccgcgtggcacaacaactggcgggcaaacagtcgttgctgattggcgttgccacctccagtctggccctgcacgcgccgtcgcaaattgtcgcggcgattaaatctcgcgccgatcaactgggtgccagcgtggtggtgtcgatggtagaacgaagcggcgtcgaagcctgtaaagcggcggtgcacaatcttctcgcgcaacgcgtcagtgggctgatcattaactatccgctggatgaccaggatgccattgctgtggaagctgcctgcactaatgttccggcgttatttcttgatgtctctgaccagacacccatcaacagtattattttctcccatgaagacggtacgcgactgggcgtggagcatctggtcgcattgggtcaccagcaaatcgcgctgttagcgggcccattaagttctgtctcggcgcgtctgcgtctggctggctggcataaatatctcactcgcaatcaaattcagccgatagcggaacgggaaggcgactggagtgccatgtccggttttcaacaaaccatgcaaatgctgaatgagggcatcgttcccactgcgatgctggttgccaacgatcagatggcgctgggcgcaatgcgcgccattaccgagtccgggctgcgcgttggtgcggatatctcggtagtgggatacgacgataccgaagacagctcatgttatatcccgccgttaaccaccatcaaacaggattttcgcctgctggggcaaaccagcgtggaccgcttgctgcaactctctcagggccaggcggtgaagggcaatcagctgttgcccgtctcactggtgaaaagaaaaaccaccctggcgcccaatacgcaaaccgcctctccccgcgcgttggccgattcattaatgcagctggcacgacaggtttcccgactggaaagcgggcagGGCTCG', description='LacI Coding Sequence from Potvin-Trottier pLPT119, no stop codon')\n",
    "gp_laci = geneproduct = component.engineered_region(f'geneproduct_{laci.display_id}_{m0050.display_id}_{ter1.display_id}', [laci, m0050, ter1], description='LOICA GeneProduct LacI')\n",
    "\n",
    "doc.add([plac, plac_seq, rbs1, rbs1_seq, op_plac, gfpm3, gfpm3_seq, m0050, m0050_seq, ter1, ter1_seq, gp_gfp, laci, laci_seq, gp_laci])\n",
    "\n",
    "for obj in doc.objects:\n",
    "    print(obj.identity)\n",
    "report_sbol3 = doc.validate()\n",
    "print(len(report_sbol3))"
   ]
  },
  {
   "cell_type": "markdown",
   "metadata": {},
   "source": [
    "## GeneticNetwork Construction"
   ]
  },
  {
   "cell_type": "code",
   "execution_count": 5,
   "metadata": {},
   "outputs": [
    {
     "data": {
      "image/png": "[encoded data removed]",
      "text/plain": [
       "<Figure size 432x288 with 1 Axes>"
      ]
     },
     "metadata": {},
     "output_type": "display_data"
    }
   ],
   "source": [
    "inv = lc.GeneticNetwork(vector=vector.id[0])\n",
    "\n",
    "gfp_rep = lc.Reporter(name='GFP_mut3', degradation_rate=1, signal_id=gfp.id[0], sbol_comp=gp_gfp, color='green')\n",
    "inv.add_reporter([gfp_rep])\n",
    "\n",
    "laci_reg = lc.Regulator(name='LacI', degradation_rate=1, init_concentration=5, sbol_comp=gp_laci)\n",
    "inv.add_regulator(laci_reg)\n",
    "\n",
    "laci_NOT_gfp = lc.Hill1(input=laci_reg, output=[gfp_rep, laci_reg], alpha=[100,0], K=1, n=2, sbol_comp=op_plac)\n",
    "inv.add_operator(laci_NOT_gfp)\n",
    "inv.draw()"
   ]
  },
  {
   "cell_type": "code",
   "execution_count": 6,
   "metadata": {},
   "outputs": [
    {
     "name": "stdout",
     "output_type": "stream",
     "text": [
      "https://github.com/Gonza10V/L3S2P11_UPA20_pLac_RiboJ10\n",
      "https://github.com/Gonza10V/L3S2P11_UPA20_pLac_RiboJ10_seq\n",
      "https://github.com/Gonza10V/RBS1\n",
      "https://github.com/Gonza10V/RBS1_seq\n",
      "https://github.com/Gonza10V/operator_ptet\n",
      "https://github.com/Gonza10V/GFP_mut3\n",
      "https://github.com/Gonza10V/GFP_mut3_seq\n",
      "https://github.com/Gonza10V/M0050\n",
      "https://github.com/Gonza10V/M0050_seq\n",
      "https://github.com/Gonza10V/TER1\n",
      "https://github.com/Gonza10V/TER1_seq\n",
      "https://github.com/Gonza10V/geneproduct_GFP_mut3_M0050_TER1\n",
      "https://github.com/Gonza10V/LacI\n",
      "https://github.com/Gonza10V/LacI_seq\n",
      "https://github.com/Gonza10V/geneproduct_LacI_M0050_TER1\n",
      "https://github.com/Gonza10V/LOICA_LacI_HILL1_GFP_mut3_LacI_model\n",
      "https://github.com/Gonza10V/TU_LacI_HILL1_GFP_mut3_LacI\n",
      "https://github.com/Gonza10V/LacI_protein\n",
      "https://github.com/Gonza10V/GFP_mut3_protein\n",
      "https://github.com/Gonza10V/geneticnetwork\n",
      "0\n"
     ]
    }
   ],
   "source": [
    "inv_doc = inv.to_sbol(sbol_doc=doc)\n",
    "for obj in inv_doc.objects:\n",
    "    print(obj.identity)\n",
    "report_sbol3 = inv_doc.validate()\n",
    "print(len(report_sbol3))"
   ]
  },
  {
   "cell_type": "code",
   "execution_count": 7,
   "metadata": {},
   "outputs": [],
   "source": [
    "for error in report_sbol3.errors:\n",
    "    print(error.object_id)\n",
    "    print(error.message)"
   ]
  },
  {
   "cell_type": "markdown",
   "metadata": {},
   "source": [
    "# END"
   ]
  }
 ],
 "metadata": {
  "interpreter": {
   "hash": "d35f14161d48a89d75280e9d161142f4fd1e3c65d96fbceb3af0464f1fae0910"
  },
  "kernelspec": {
   "display_name": "Python 3.9.7 64-bit ('LOICA_FlapJack': conda)",
   "name": "python3"
  },
  "language_info": {
   "codemirror_mode": {
    "name": "ipython",
    "version": 3
   },
   "file_extension": ".py",
   "mimetype": "text/x-python",
   "name": "python",
   "nbconvert_exporter": "python",
   "pygments_lexer": "ipython3",
   "version": "3.7.11"
  },
  "orig_nbformat": 4
 },
 "nbformat": 4,
 "nbformat_minor": 2
}
