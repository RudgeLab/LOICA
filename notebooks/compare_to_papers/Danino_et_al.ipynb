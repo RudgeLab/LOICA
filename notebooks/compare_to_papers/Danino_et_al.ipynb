{
 "cells": [
  {
   "cell_type": "markdown",
   "metadata": {},
   "source": [
    "# Genetic clock by *Danino et al. 2010*"
   ]
  },
  {
   "cell_type": "markdown",
   "metadata": {},
   "source": [
    "From:\n",
    "\n",
    "Danino, T., Mondragón-Palomino, O., Tsimring, L. et al. A synchronized quorum of genetic clocks. Nature 463, 326–330 (2010). https://doi.org/10.1038/nature08753"
   ]
  },
  {
   "cell_type": "markdown",
   "metadata": {},
   "source": [
    "This oscillator produces LuxI, which produces signal AHL. AHL upregulates LuxI, GFP and AiiA production. AiiA degrades AHL."
   ]
  },
  {
   "cell_type": "markdown",
   "metadata": {},
   "source": [
    "First, install the latest version of LOICA Consortia."
   ]
  },
  {
   "cell_type": "code",
   "execution_count": null,
   "metadata": {},
   "outputs": [],
   "source": [
    "pip install -e ."
   ]
  },
  {
   "cell_type": "code",
   "execution_count": null,
   "metadata": {},
   "outputs": [],
   "source": [
    "import loica as lc\n",
    "import matplotlib.pyplot as plt\n",
    "import networkx as nx\n",
    "import warnings\n",
    "warnings.simplefilter(action='ignore', category=FutureWarning)"
   ]
  },
  {
   "cell_type": "markdown",
   "metadata": {},
   "source": [
    "Then add gene products involved in genetic networks. "
   ]
  },
  {
   "cell_type": "code",
   "execution_count": null,
   "metadata": {},
   "outputs": [],
   "source": [
    "oscillator = lc.GeneticNetwork()\n",
    "\n",
    "# TODO: determine degr rate\n",
    "ahl = lc.Regulator(name='AHL', init_concentration=1, degradation_rate=0.01, diffusion_rate=2.5)\n",
    "luxi = lc.Regulator(name='LuxI', init_concentration=0, degradation_rate=24)\n",
    "aiia = lc.Regulator(name=\"AiiA\", degradation_rate=15)\n",
    "gfp = lc.Reporter(name=\"yemGFP\", degradation_rate=1, color='green')\n",
    "\n",
    "oscillator.add_regulator([ahl, aiia, luxi])\n",
    "oscillator.add_reporter(gfp)\n",
    "\n",
    "# TODO: find a, K and n\n",
    "ahl_luxi = lc.Hill1(ahl, luxi, alpha=[0.001, 2500], K=0.1, n=2, name='Plux')\n",
    "ahl_gfp = lc.Hill1(ahl, gfp, alpha=[0.001, 2500], K=0.1, n=2, name='Plux')\n",
    "ahl_aiia = lc.Hill1(ahl, aiia, alpha=[0.001, 2500], K=0.1, n=2, name='Plux')\n",
    "\n",
    "luxi_ahl = lc.Producer(enzyme=luxi, product=ahl, k2=0.06, name='LuxI synthase')\n",
    "aiia_ahl = lc.Degrader(enzyme=aiia, substrate=ahl, Km=1, k2=0.01, name=\"Lactonase\")\n",
    "\n",
    "# luxi_ahl = lc.Producer(enzyme=luxi, product=ahl, k2=1.1, name='LuxI synthase')\n",
    "# aiia_ahl = lc.Degrader(enzyme=aiia, substrate=ahl, Km=5.6*10**-6, k2=91, name=\"Lactonase\")\n",
    "\n",
    "oscillator.add_operator([ahl_aiia, ahl_gfp, ahl_luxi])\n",
    "oscillator.add_impactor([luxi_ahl, aiia_ahl])"
   ]
  },
  {
   "cell_type": "code",
   "execution_count": null,
   "metadata": {},
   "outputs": [],
   "source": [
    "plt.figure(figsize=(3.5,3.5), dpi=200)\n",
    "oscillator.draw(pos=nx.planar_layout)"
   ]
  },
  {
   "cell_type": "markdown",
   "metadata": {},
   "source": [
    "Next, add circuit to strain with defined metabolism"
   ]
  },
  {
   "cell_type": "code",
   "execution_count": null,
   "metadata": {},
   "outputs": [],
   "source": [
    "def growth_rate(t):\n",
    "    return lc.gompertz_growth_rate(t, 0.01, 1, 1, 1)\n",
    "\n",
    "def biomass(t):\n",
    "    return lc.gompertz(t, 0.01, 1, 1, 1)\n",
    "\n",
    "metab = lc.SimulatedMetabolism(\"Simulated metabolism\", biomass, growth_rate)\n",
    "clock_strain = lc.Strain(name=\"E. coli\", genetic_network=oscillator, metabolism=metab)"
   ]
  },
  {
   "cell_type": "code",
   "execution_count": null,
   "metadata": {},
   "outputs": [],
   "source": [
    "sample = lc.Sample(strain=clock_strain)\n",
    "sample.set_extracel_degr(chemical_name='AHL', ext_degr_rate=0.01)\n",
    "assay = lc.Assay([sample], \n",
    "                n_measurements=200, \n",
    "                interval=1/60,\n",
    "                name='Quorum clock',\n",
    "                description='Simulated GFP expression of quorum clock by Danino et al. (2010)'\n",
    "                )"
   ]
  },
  {
   "cell_type": "code",
   "execution_count": null,
   "metadata": {},
   "outputs": [],
   "source": [
    "print(0/1)"
   ]
  },
  {
   "cell_type": "code",
   "execution_count": null,
   "metadata": {},
   "outputs": [],
   "source": [
    "assay.run(stochastic=False, track_all=True)"
   ]
  },
  {
   "cell_type": "code",
   "execution_count": null,
   "metadata": {},
   "outputs": [],
   "source": [
    "m = assay.measurements\n",
    "fig,ax = plt.subplots(1,1)\n",
    "m[m.Signal=='Extracellular AHL'].plot(x='Time', y='Measurement', style='-', ax=ax)\n",
    "m[m.Signal=='AHL in E. coli'].plot(x='Time', y='Measurement', style='-', ax=ax)\n",
    "# m[m.Signal=='yemGFP in E. coli'].plot(x='Time', y='Measurement', style='-', ax=ax)\n",
    "m[m.Signal=='AiiA in E. coli'].plot(x='Time', y='Measurement', style='-', ax=ax)\n",
    "m[m.Signal=='LuxI in E. coli'].plot(x='Time', y='Measurement', style='-', ax=ax)\n",
    "# m[m.Signal=='E. coli biomass'].plot(x='Time', y='Measurement', style='-', ax=ax)\n",
    "plt.legend(['Extracellular AHL', 'Internal AHL', 'GFP', 'AiiA', 'LuxI']) #, 'Biomass'"
   ]
  }
 ],
 "metadata": {
  "kernelspec": {
   "display_name": "Python 3.10.4 ('loica')",
   "language": "python",
   "name": "python3"
  },
  "language_info": {
   "codemirror_mode": {
    "name": "ipython",
    "version": 3
   },
   "file_extension": ".py",
   "mimetype": "text/x-python",
   "name": "python",
   "nbconvert_exporter": "python",
   "pygments_lexer": "ipython3",
   "version": "3.10.4"
  },
  "orig_nbformat": 4,
  "vscode": {
   "interpreter": {
    "hash": "5a3b552e1f00b069c0e96dcc3c439489a3953ff59f29351d8119914676dca9ff"
   }
  }
 },
 "nbformat": 4,
 "nbformat_minor": 2
}
