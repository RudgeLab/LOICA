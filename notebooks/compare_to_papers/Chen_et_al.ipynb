{
 "cells": [
  {
   "cell_type": "markdown",
   "metadata": {},
   "source": [
    "# Synthetic microbial consortium by *Chen et al. 2015*"
   ]
  },
  {
   "cell_type": "markdown",
   "metadata": {},
   "source": [
    "From:\n",
    "\n",
    "Chen Y, Kim JK, Hirning AJ, Josić K, Bennett MR. SYNTHETIC BIOLOGY. Emergent genetic oscillations in a synthetic microbial consortium. Science. 2015;349(6251):986-989. doi:10.1126/science.aaa3794 "
   ]
  },
  {
   "cell_type": "markdown",
   "metadata": {},
   "source": [
    "In this oscilator consortium, there are:\n",
    "- activator strain, which produces rhlI(C4), which causes CFP production and self-upregulates. When it senses C14, it produces AiiA which degrades both signaling molecules, and LacI which represesses both rhlI(C4) and CFP production. \n",
    "- repressor strain, which produces cinI(C14) in response to C4. C14 causes production of YFP, LacI (which represses YFP and cinI(C14) production) and AiiA, which degrades both signalling molecules."
   ]
  },
  {
   "cell_type": "markdown",
   "metadata": {},
   "source": [
    "First, install the latest version of LOICA Consortia."
   ]
  },
  {
   "cell_type": "code",
   "execution_count": null,
   "metadata": {},
   "outputs": [],
   "source": [
    "pip install -e ."
   ]
  },
  {
   "cell_type": "code",
   "execution_count": null,
   "metadata": {},
   "outputs": [],
   "source": [
    "import loica as lc\n",
    "import matplotlib.pyplot as plt\n",
    "import networkx as nx\n",
    "import warnings\n",
    "warnings.simplefilter(action='ignore', category=FutureWarning)"
   ]
  },
  {
   "cell_type": "markdown",
   "metadata": {},
   "source": [
    "Then add gene products involved in genetic networks. "
   ]
  },
  {
   "cell_type": "markdown",
   "metadata": {},
   "source": [
    "Since AiiA acts as a repressor by degradation of AHL and current LOICA does not have a class for degradation enzymes, this code is not valid yet."
   ]
  },
  {
   "cell_type": "markdown",
   "metadata": {},
   "source": [
    "## P2N2"
   ]
  },
  {
   "cell_type": "code",
   "execution_count": null,
   "metadata": {},
   "outputs": [],
   "source": [
    "activator = lc.GeneticNetwork()\n",
    "\n",
    "# TODO: determine degr rate\n",
    "rhli = lc.Regulator(name='RhlI')\n",
    "c4 = lc.Regulator(name='C4', diffusion_rate=1)\n",
    "aiia = lc.Regulator(name=\"AiiA\", degradation_rate=0)\n",
    "laci = lc.Regulator(name='LacI', degradation_rate=1)\n",
    "cfp = lc.Reporter(name=\"CFP\", degradation_rate=1, color='green')\n",
    "c14 = lc.Regulator(name='C14', diffusion_rate=1)\n",
    "\n",
    "activator.add_regulator([rhli, c4, aiia, laci, c14])\n",
    "activator.add_reporter(cfp)\n",
    "\n",
    "# TODO: find a, K and n\n",
    "c14_aiia = lc.Hill1(c14, aiia, a=[1, 100], K=10, n=2, name='Pcin')\n",
    "c14_laci = lc.Hill1(c14, laci, a=[1, 100], K=10, n=2, name='Pcin')\n",
    "\n",
    "aiia_deg_c14 = lc.Degrader(enzyme=aiia, substrate=c14, k1=1, k1r=1, k2=3)\n",
    "aiia_deg_c4 = lc.Degrader(enzyme=aiia, substrate=c4, k1=1, k1r=1, k2=3)\n",
    "# or\n",
    "aiia_deg_ahls = lc.Degrader(enzyme=aiia, substrate=[c14, c4], k1=1, k1r=1, k2=3)\n",
    "\n",
    "c4_laci_cfp = lc.Hill2(input=[c4, laci], output=cfp, alpha=[0.1, 100, 0.1, 0.1], K=[10, 10], n=[2, 2], name='Prhl/lac')\n",
    "c4_laci_rhli = lc.Hill2(input=[c4, laci], output=rhli, alpha=[0.1, 100, 0.1, 0.1], K=[10, 10], n=[2, 2], name='Prhl/lac')\n",
    "\n",
    "rhli_c4 = lc.Producer(enzyme=rhli, product=c4, rate=1)\n",
    "\n",
    "activator.add_operator([c14_aiia, c14_laci, aiia_deg_c14, aiia_deg_c4, c4_laci_cfp, c4_laci_rhli, rhli_c4])"
   ]
  },
  {
   "cell_type": "code",
   "execution_count": null,
   "metadata": {},
   "outputs": [],
   "source": [
    "plt.figure(figsize=(3.5,3.5), dpi=200)\n",
    "activator.draw(pos=nx.planar_layout)"
   ]
  },
  {
   "cell_type": "markdown",
   "metadata": {},
   "source": [
    "Next, add circuit to strain with defined metabolism"
   ]
  },
  {
   "cell_type": "code",
   "execution_count": null,
   "metadata": {},
   "outputs": [],
   "source": [
    "def growth_rate(t):\n",
    "    return lc.gompertz_growth_rate(t, 0.01, 1, 1, 0.5)\n",
    "\n",
    "def biomass(t):\n",
    "    return lc.gompertz(t, 0.01, 1, 1, 0.5)\n",
    "\n",
    "metab_act = lc.SimulatedMetabolism(\"Simulated metabolism\", biomass, growth_rate)\n",
    "activator_strain = lc.Strain(name=\"Activator\", genetic_network=activator, metabolism=metab_act)"
   ]
  },
  {
   "cell_type": "code",
   "execution_count": null,
   "metadata": {},
   "outputs": [],
   "source": [
    "repressor = lc.GeneticNetwork()\n",
    "\n",
    "# TODO: determine degr rate\n",
    "cini = lc.Regulator(name='CinI')\n",
    "c4_r = lc.Regulator(name='C4', diffusion_rate=1)\n",
    "aiia_r = lc.Regulator(name=\"AiiA\", degradation_rate=0)\n",
    "laci_r = lc.Regulator(name='LacI', degradation_rate=1)\n",
    "yfp = lc.Reporter(name=\"YFP\", degradation_rate=1, color='green')\n",
    "c14_r = lc.Regulator(name='C14', diffusion_rate=1)\n",
    "\n",
    "repressor.add_regulator([cini, c4_r, aiia_r, laci_r, c14_r])\n",
    "repressor.add_reporter(yfp)\n",
    "\n",
    "# TODO: find a, K and n\n",
    "c14_aiia_r = lc.Hill1(c14_r, aiia_r, a=[1, 100], K=10, n=2, name='Pcin')\n",
    "c14_laci_r = lc.Hill1(c14_r, laci_r, a=[1, 100], K=10, n=2, name='Pcin')\n",
    "\n",
    "aiia_deg_c14_r = lc.Degrader(enzyme=aiia_r, substrate=c14_r, k1=1, k1r=1, k2=3)\n",
    "aiia_deg_c4_r = lc.Degrader(enzyme=aiia_r, substrate=c4_r, k1=1, k1r=1, k2=3)\n",
    "# or\n",
    "aiia_deg_ahls_r = lc.Degrader(enzyme=aiia_r, substrate=[c14_r, c4_r], k1=1, k1r=1, k2=3)\n",
    "\n",
    "c14_laci_yfp = lc.Hill2(input=[c14_r, laci_r], output=yfp, alpha=[0.1, 100, 0.1, 0.1], K=[10, 10], n=[2, 2], name='Pcin/lac')\n",
    "c14_laci_cini = lc.Hill2(input=[c14_r, laci_r], output=cini, alpha=[0.1, 100, 0.1, 0.1], K=[10, 10], n=[2, 2], name='Pcin/lac')\n",
    "\n",
    "cini_c14 = lc.Producer(enzyme=cini, product=c14_r, rate=1)\n",
    "\n",
    "repressor.add_operator([c14_aiia_r, c14_laci_r, aiia_deg_c14_r, aiia_deg_c4_r, c14_laci_yfp, c14_laci_cini, cini_c14])"
   ]
  },
  {
   "cell_type": "code",
   "execution_count": null,
   "metadata": {},
   "outputs": [],
   "source": [
    "plt.figure(figsize=(3.5,3.5), dpi=200)\n",
    "repressor.draw(pos=nx.planar_layout)"
   ]
  },
  {
   "cell_type": "markdown",
   "metadata": {},
   "source": [
    "Next, add circuit to strain with defined metabolism"
   ]
  },
  {
   "cell_type": "code",
   "execution_count": null,
   "metadata": {},
   "outputs": [],
   "source": [
    "metab_rep = lc.SimulatedMetabolism(\"Simulated metabolism\", biomass, growth_rate)\n",
    "repressor_strain = lc.Strain(name=\"Repressor\", genetic_network=repressor, metabolism=metab_rep)"
   ]
  },
  {
   "cell_type": "code",
   "execution_count": null,
   "metadata": {},
   "outputs": [],
   "source": [
    "sample = lc.Sample(strain=[activator_strain, repressor_strain])\n",
    "assay = lc.Assay([sample], \n",
    "                n_measurements=100, \n",
    "                interval=0.24,\n",
    "                name='Quorum clock',\n",
    "                description='Simulated GFP expression of quorum clock by Danino et al. (2010)'\n",
    "                )"
   ]
  },
  {
   "cell_type": "code",
   "execution_count": null,
   "metadata": {},
   "outputs": [],
   "source": [
    "assay.run(stochastic=False, track_all=True)"
   ]
  },
  {
   "cell_type": "code",
   "execution_count": null,
   "metadata": {},
   "outputs": [],
   "source": [
    "m = assay.measurements\n",
    "fig,ax = plt.subplots(1,1)\n",
    "# TODO: rewrite\n",
    "# m[m.Signal=='Extracellular C14'].plot(x='Time', y='Measurement', style='-', ax=ax)\n",
    "# m[m.Signal=='AHL in E. coli'].plot(x='Time', y='Measurement', style='-', ax=ax)\n",
    "# m[m.Signal=='yemGFP in E. coli'].plot(x='Time', y='Measurement', style='-', ax=ax)\n",
    "# m[m.Signal=='AiiA in E. coli'].plot(x='Time', y='Measurement', style='-', ax=ax)\n",
    "# m[m.Signal=='E. coli biomass'].plot(x='Time', y='Measurement', style='-', ax=ax)\n",
    "# plt.legend(['Extracellular AHL', 'Internal AHL', 'GFP', 'AiiA', 'Biomass'])"
   ]
  },
  {
   "cell_type": "markdown",
   "metadata": {},
   "source": [
    "## P1N2"
   ]
  },
  {
   "cell_type": "code",
   "execution_count": null,
   "metadata": {},
   "outputs": [],
   "source": [
    "activator = lc.GeneticNetwork()\n",
    "\n",
    "# TODO: determine degr rate\n",
    "rhli = lc.Regulator(name='RhlI')\n",
    "c4 = lc.Regulator(name='C4', diffusion_rate=1)\n",
    "aiia = lc.Regulator(name=\"AiiA\", degradation_rate=0)\n",
    "laci = lc.Regulator(name='LacI', degradation_rate=1)\n",
    "cfp = lc.Reporter(name=\"CFP\", degradation_rate=1, color='green')\n",
    "c14 = lc.Regulator(name='C14', diffusion_rate=1)\n",
    "\n",
    "activator.add_regulator([rhli, c4, aiia, laci, c14])\n",
    "activator.add_reporter(cfp)\n",
    "\n",
    "# TODO: find a, K and n\n",
    "c14_aiia = lc.Hill1(c14, aiia, a=[1, 100], K=10, n=2, name='Pcin')\n",
    "c14_laci = lc.Hill1(c14, laci, a=[1, 100], K=10, n=2, name='Pcin')\n",
    "\n",
    "aiia_deg_c14 = lc.Degrader(enzyme=aiia, substrate=c14, k1=1, k1r=1, k2=3)\n",
    "aiia_deg_c4 = lc.Degrader(enzyme=aiia, substrate=c4, k1=1, k1r=1, k2=3)\n",
    "# or\n",
    "aiia_deg_ahls = lc.Degrader(enzyme=aiia, substrate=[c14, c4], k1=1, k1r=1, k2=3)\n",
    "\n",
    "laci_cfp = lc.Hill1(laci, cfp, a=[100, 1], K=10, n=2, name='Plac')\n",
    "laci_rhli = lc.Hill1(laci, rhli, a=[100, 1], K=10, n=2, name='Plac')\n",
    "\n",
    "rhli_c4 = lc.Producer(enzyme=rhli, product=c4, rate=1)\n",
    "\n",
    "activator.add_operator([c14_aiia, c14_laci, aiia_deg_c14, aiia_deg_c4, laci_cfp, laci_rhli, rhli_c4])"
   ]
  },
  {
   "cell_type": "code",
   "execution_count": null,
   "metadata": {},
   "outputs": [],
   "source": [
    "plt.figure(figsize=(3.5,3.5), dpi=200)\n",
    "activator.draw(pos=nx.planar_layout)"
   ]
  },
  {
   "cell_type": "markdown",
   "metadata": {},
   "source": [
    "Next, add circuit to strain with defined metabolism"
   ]
  },
  {
   "cell_type": "code",
   "execution_count": null,
   "metadata": {},
   "outputs": [],
   "source": [
    "def growth_rate(t):\n",
    "    return lc.gompertz_growth_rate(t, 0.01, 1, 1, 0.5)\n",
    "\n",
    "def biomass(t):\n",
    "    return lc.gompertz(t, 0.01, 1, 1, 0.5)\n",
    "\n",
    "metab_act = lc.SimulatedMetabolism(\"Simulated metabolism\", biomass, growth_rate)\n",
    "activator_strain = lc.Strain(name=\"Activator\", genetic_network=activator, metabolism=metab_act)"
   ]
  },
  {
   "cell_type": "code",
   "execution_count": null,
   "metadata": {},
   "outputs": [],
   "source": [
    "repressor = lc.GeneticNetwork()\n",
    "\n",
    "# TODO: determine degr rate\n",
    "cini = lc.Regulator(name='CinI')\n",
    "c4_r = lc.Regulator(name='C4', diffusion_rate=1)\n",
    "aiia_r = lc.Regulator(name=\"AiiA\", degradation_rate=0)\n",
    "laci_r = lc.Regulator(name='LacI', degradation_rate=1)\n",
    "yfp = lc.Reporter(name=\"YFP\", degradation_rate=1, color='green')\n",
    "c14_r = lc.Regulator(name='C14', diffusion_rate=1)\n",
    "\n",
    "repressor.add_regulator([cini, c4_r, aiia_r, laci_r, c14_r])\n",
    "repressor.add_reporter(yfp)\n",
    "\n",
    "# TODO: find a, K and n\n",
    "c14_aiia_r = lc.Hill1(c14_r, aiia_r, a=[1, 100], K=10, n=2, name='Pcin')\n",
    "c14_laci_r = lc.Hill1(c14_r, laci_r, a=[1, 100], K=10, n=2, name='Pcin')\n",
    "\n",
    "aiia_deg_c14_r = lc.Degrader(enzyme=aiia_r, substrate=c14_r, k1=1, k1r=1, k2=3)\n",
    "aiia_deg_c4_r = lc.Degrader(enzyme=aiia_r, substrate=c4_r, k1=1, k1r=1, k2=3)\n",
    "# or\n",
    "aiia_deg_ahls_r = lc.Degrader(enzyme=aiia_r, substrate=[c14_r, c4_r], k1=1, k1r=1, k2=3)\n",
    "\n",
    "c14_laci_yfp = lc.Hill2(input=[c14_r, laci_r], output=yfp, alpha=[0.1, 100, 0.1, 0.1], K=[10, 10], n=[2, 2], name='Pcin/lac')\n",
    "c14_laci_cini = lc.Hill2(input=[c14_r, laci_r], output=cini, alpha=[0.1, 100, 0.1, 0.1], K=[10, 10], n=[2, 2], name='Pcin/lac')\n",
    "\n",
    "cini_c14 = lc.Producer(enzyme=cini, product=c14_r, rate=1)\n",
    "\n",
    "repressor.add_operator([c14_aiia_r, c14_laci_r, aiia_deg_c14_r, aiia_deg_c4_r, c14_laci_yfp, c14_laci_cini, cini_c14])"
   ]
  },
  {
   "cell_type": "code",
   "execution_count": null,
   "metadata": {},
   "outputs": [],
   "source": [
    "plt.figure(figsize=(3.5,3.5), dpi=200)\n",
    "repressor.draw(pos=nx.planar_layout)"
   ]
  },
  {
   "cell_type": "markdown",
   "metadata": {},
   "source": [
    "Next, add circuit to strain with defined metabolism"
   ]
  },
  {
   "cell_type": "code",
   "execution_count": null,
   "metadata": {},
   "outputs": [],
   "source": [
    "metab_rep = lc.SimulatedMetabolism(\"Simulated metabolism\", biomass, growth_rate)\n",
    "repressor_strain = lc.Strain(name=\"Repressor\", genetic_network=repressor, metabolism=metab_rep)"
   ]
  },
  {
   "cell_type": "code",
   "execution_count": null,
   "metadata": {},
   "outputs": [],
   "source": [
    "sample = lc.Sample(strain=[activator_strain, repressor_strain])\n",
    "assay = lc.Assay([sample], \n",
    "                n_measurements=100, \n",
    "                interval=0.24,\n",
    "                name='Quorum clock',\n",
    "                description='Simulated GFP expression of quorum clock by Danino et al. (2010)'\n",
    "                )"
   ]
  },
  {
   "cell_type": "code",
   "execution_count": null,
   "metadata": {},
   "outputs": [],
   "source": [
    "assay.run(stochastic=False, track_all=True)"
   ]
  },
  {
   "cell_type": "code",
   "execution_count": null,
   "metadata": {},
   "outputs": [],
   "source": [
    "m = assay.measurements\n",
    "fig,ax = plt.subplots(1,1)\n",
    "# TODO: rewrite\n",
    "# m[m.Signal=='Extracellular C14'].plot(x='Time', y='Measurement', style='-', ax=ax)\n",
    "# m[m.Signal=='AHL in E. coli'].plot(x='Time', y='Measurement', style='-', ax=ax)\n",
    "# m[m.Signal=='yemGFP in E. coli'].plot(x='Time', y='Measurement', style='-', ax=ax)\n",
    "# m[m.Signal=='AiiA in E. coli'].plot(x='Time', y='Measurement', style='-', ax=ax)\n",
    "# m[m.Signal=='E. coli biomass'].plot(x='Time', y='Measurement', style='-', ax=ax)\n",
    "# plt.legend(['Extracellular AHL', 'Internal AHL', 'GFP', 'AiiA', 'Biomass'])"
   ]
  },
  {
   "cell_type": "markdown",
   "metadata": {},
   "source": [
    "## P2N1"
   ]
  },
  {
   "cell_type": "code",
   "execution_count": null,
   "metadata": {},
   "outputs": [],
   "source": [
    "activator = lc.GeneticNetwork()\n",
    "\n",
    "# TODO: determine degr rate\n",
    "rhli = lc.Regulator(name='RhlI')\n",
    "c4 = lc.Regulator(name='C4', diffusion_rate=1)\n",
    "aiia = lc.Regulator(name=\"AiiA\", degradation_rate=0)\n",
    "laci = lc.Regulator(name='LacI', degradation_rate=1)\n",
    "cfp = lc.Reporter(name=\"CFP\", degradation_rate=1, color='green')\n",
    "c14 = lc.Regulator(name='C14', diffusion_rate=1)\n",
    "\n",
    "activator.add_regulator([rhli, c4, aiia, laci, c14])\n",
    "activator.add_reporter(cfp)\n",
    "\n",
    "# TODO: find a, K and n\n",
    "c14_aiia = lc.Hill1(c14, aiia, a=[1, 100], K=10, n=2, name='Pcin')\n",
    "c14_laci = lc.Hill1(c14, laci, a=[1, 100], K=10, n=2, name='Pcin')\n",
    "\n",
    "aiia_deg_c14 = lc.Degrader(enzyme=aiia, substrate=c14, k1=1, k1r=1, k2=3)\n",
    "aiia_deg_c4 = lc.Degrader(enzyme=aiia, substrate=c4, k1=1, k1r=1, k2=3)\n",
    "# or\n",
    "aiia_deg_ahls = lc.Degrader(enzyme=aiia, substrate=[c14, c4], k1=1, k1r=1, k2=3)\n",
    "\n",
    "c4_laci_cfp = lc.Hill2(input=[c4, laci], output=cfp, alpha=[0.1, 100, 0.1, 0.1], K=[10, 10], n=[2, 2], name='Prhl/lac')\n",
    "c4_laci_rhli = lc.Hill2(input=[c4, laci], output=rhli, alpha=[0.1, 100, 0.1, 0.1], K=[10, 10], n=[2, 2], name='Prhl/lac')\n",
    "\n",
    "rhli_c4 = lc.Producer(enzyme=rhli, product=c4, rate=1)\n",
    "\n",
    "activator.add_operator([c14_aiia, c14_laci, aiia_deg_c14, aiia_deg_c4, c4_laci_cfp, c4_laci_rhli, rhli_c4])"
   ]
  },
  {
   "cell_type": "code",
   "execution_count": null,
   "metadata": {},
   "outputs": [],
   "source": [
    "plt.figure(figsize=(3.5,3.5), dpi=200)\n",
    "activator.draw(pos=nx.planar_layout)"
   ]
  },
  {
   "cell_type": "markdown",
   "metadata": {},
   "source": [
    "Next, add circuit to strain with defined metabolism"
   ]
  },
  {
   "cell_type": "code",
   "execution_count": null,
   "metadata": {},
   "outputs": [],
   "source": [
    "def growth_rate(t):\n",
    "    return lc.gompertz_growth_rate(t, 0.01, 1, 1, 0.5)\n",
    "\n",
    "def biomass(t):\n",
    "    return lc.gompertz(t, 0.01, 1, 1, 0.5)\n",
    "\n",
    "metab_act = lc.SimulatedMetabolism(\"Simulated metabolism\", biomass, growth_rate)\n",
    "activator_strain = lc.Strain(name=\"Activator\", genetic_network=activator, metabolism=metab_act)"
   ]
  },
  {
   "cell_type": "code",
   "execution_count": null,
   "metadata": {},
   "outputs": [],
   "source": [
    "repressor = lc.GeneticNetwork()\n",
    "\n",
    "# TODO: determine degr rate\n",
    "cini = lc.Regulator(name='CinI')\n",
    "c4_r = lc.Regulator(name='C4', diffusion_rate=1)\n",
    "aiia_r = lc.Regulator(name=\"AiiA\", degradation_rate=0)\n",
    "yfp = lc.Reporter(name=\"YFP\", degradation_rate=1, color='green')\n",
    "c14_r = lc.Regulator(name='C14', diffusion_rate=1)\n",
    "\n",
    "repressor.add_regulator([cini, c4_r, aiia_r, c14_r])\n",
    "repressor.add_reporter(yfp)\n",
    "\n",
    "# TODO: find a, K and n\n",
    "c14_aiia_r = lc.Hill1(c14_r, aiia_r, a=[1, 100], K=10, n=2, name='Pcin')\n",
    "\n",
    "aiia_deg_c14_r = lc.Degrader(enzyme=aiia_r, substrate=c14_r, k1=1, k1r=1, k2=3)\n",
    "aiia_deg_c4_r = lc.Degrader(enzyme=aiia_r, substrate=c4_r, k1=1, k1r=1, k2=3)\n",
    "# or\n",
    "aiia_deg_ahls_r = lc.Degrader(enzyme=aiia_r, substrate=[c14_r, c4_r], k1=1, k1r=1, k2=3)\n",
    "\n",
    "c14_yfp = lc.Hill1(c14_r, yfp, a=[1, 100], K=10, n=2, name='Pcin/lac')\n",
    "c4_cini = lc.Hill1(c4_r, cini, a=[1, 100], K=10, n=2, name='Prhl/lac')\n",
    "\n",
    "cini_c14 = lc.Producer(enzyme=cini, product=c14_r, rate=1)\n",
    "\n",
    "repressor.add_operator([c14_aiia_r, aiia_deg_c14_r, aiia_deg_c4_r, c14_yfp, c4_cini, cini_c14])"
   ]
  },
  {
   "cell_type": "code",
   "execution_count": null,
   "metadata": {},
   "outputs": [],
   "source": [
    "plt.figure(figsize=(3.5,3.5), dpi=200)\n",
    "repressor.draw(pos=nx.planar_layout)"
   ]
  },
  {
   "cell_type": "markdown",
   "metadata": {},
   "source": [
    "Next, add circuit to strain with defined metabolism"
   ]
  },
  {
   "cell_type": "code",
   "execution_count": null,
   "metadata": {},
   "outputs": [],
   "source": [
    "metab_rep = lc.SimulatedMetabolism(\"Simulated metabolism\", biomass, growth_rate)\n",
    "repressor_strain = lc.Strain(name=\"Repressor\", genetic_network=repressor, metabolism=metab_rep)"
   ]
  },
  {
   "cell_type": "code",
   "execution_count": null,
   "metadata": {},
   "outputs": [],
   "source": [
    "sample = lc.Sample(strain=[activator_strain, repressor_strain])\n",
    "assay = lc.Assay([sample], \n",
    "                n_measurements=100, \n",
    "                interval=0.24,\n",
    "                name='Quorum clock',\n",
    "                description='Simulated GFP expression of quorum clock by Danino et al. (2010)'\n",
    "                )"
   ]
  },
  {
   "cell_type": "code",
   "execution_count": null,
   "metadata": {},
   "outputs": [],
   "source": [
    "assay.run(stochastic=False, track_all=True)"
   ]
  },
  {
   "cell_type": "code",
   "execution_count": null,
   "metadata": {},
   "outputs": [],
   "source": [
    "m = assay.measurements\n",
    "fig,ax = plt.subplots(1,1)\n",
    "# TODO: rewrite\n",
    "# m[m.Signal=='Extracellular C14'].plot(x='Time', y='Measurement', style='-', ax=ax)\n",
    "# m[m.Signal=='AHL in E. coli'].plot(x='Time', y='Measurement', style='-', ax=ax)\n",
    "# m[m.Signal=='yemGFP in E. coli'].plot(x='Time', y='Measurement', style='-', ax=ax)\n",
    "# m[m.Signal=='AiiA in E. coli'].plot(x='Time', y='Measurement', style='-', ax=ax)\n",
    "# m[m.Signal=='E. coli biomass'].plot(x='Time', y='Measurement', style='-', ax=ax)\n",
    "# plt.legend(['Extracellular AHL', 'Internal AHL', 'GFP', 'AiiA', 'Biomass'])"
   ]
  },
  {
   "cell_type": "markdown",
   "metadata": {},
   "source": [
    "## P1N1"
   ]
  },
  {
   "cell_type": "code",
   "execution_count": null,
   "metadata": {},
   "outputs": [],
   "source": [
    "activator = lc.GeneticNetwork()\n",
    "\n",
    "# TODO: determine degr rate\n",
    "rhli = lc.Regulator(name='RhlI')\n",
    "c4 = lc.Regulator(name='C4', diffusion_rate=1)\n",
    "aiia = lc.Regulator(name=\"AiiA\", degradation_rate=0)\n",
    "laci = lc.Regulator(name='LacI', degradation_rate=1)\n",
    "cfp = lc.Reporter(name=\"CFP\", degradation_rate=1, color='green')\n",
    "c14 = lc.Regulator(name='C14', diffusion_rate=1)\n",
    "\n",
    "activator.add_regulator([rhli, c4, aiia, laci, c14])\n",
    "activator.add_reporter(cfp)\n",
    "\n",
    "# TODO: find a, K and n\n",
    "c14_aiia = lc.Hill1(c14, aiia, a=[1, 100], K=10, n=2, name='Pcin')\n",
    "c14_laci = lc.Hill1(c14, laci, a=[1, 100], K=10, n=2, name='Pcin')\n",
    "\n",
    "aiia_deg_c14 = lc.Degrader(enzyme=aiia, substrate=c14, k1=1, k1r=1, k2=3)\n",
    "aiia_deg_c4 = lc.Degrader(enzyme=aiia, substrate=c4, k1=1, k1r=1, k2=3)\n",
    "# or\n",
    "aiia_deg_ahls = lc.Degrader(enzyme=aiia, substrate=[c14, c4], k1=1, k1r=1, k2=3)\n",
    "\n",
    "laci_cfp = lc.Hill1(laci, cfp, a=[100, 1], K=10, n=2, name='Plac')\n",
    "laci_rhli = lc.Hill1(laci, rhli, a=[100, 1], K=10, n=2, name='Plac')\n",
    "\n",
    "rhli_c4 = lc.Producer(enzyme=rhli, product=c4, rate=1)\n",
    "\n",
    "activator.add_operator([c14_aiia, c14_laci, aiia_deg_c14, aiia_deg_c4, laci_cfp, laci_rhli, rhli_c4])"
   ]
  },
  {
   "cell_type": "code",
   "execution_count": null,
   "metadata": {},
   "outputs": [],
   "source": [
    "plt.figure(figsize=(3.5,3.5), dpi=200)\n",
    "activator.draw(pos=nx.planar_layout)"
   ]
  },
  {
   "cell_type": "markdown",
   "metadata": {},
   "source": [
    "Next, add circuit to strain with defined metabolism"
   ]
  },
  {
   "cell_type": "code",
   "execution_count": null,
   "metadata": {},
   "outputs": [],
   "source": [
    "def growth_rate(t):\n",
    "    return lc.gompertz_growth_rate(t, 0.01, 1, 1, 0.5)\n",
    "\n",
    "def biomass(t):\n",
    "    return lc.gompertz(t, 0.01, 1, 1, 0.5)\n",
    "\n",
    "metab_act = lc.SimulatedMetabolism(\"Simulated metabolism\", biomass, growth_rate)\n",
    "activator_strain = lc.Strain(name=\"Activator\", genetic_network=activator, metabolism=metab_act)"
   ]
  },
  {
   "cell_type": "code",
   "execution_count": null,
   "metadata": {},
   "outputs": [],
   "source": [
    "repressor = lc.GeneticNetwork()\n",
    "\n",
    "# TODO: determine degr rate\n",
    "cini = lc.Regulator(name='CinI')\n",
    "c4_r = lc.Regulator(name='C4', diffusion_rate=1)\n",
    "aiia_r = lc.Regulator(name=\"AiiA\", degradation_rate=0)\n",
    "yfp = lc.Reporter(name=\"YFP\", degradation_rate=1, color='green')\n",
    "c14_r = lc.Regulator(name='C14', diffusion_rate=1)\n",
    "\n",
    "repressor.add_regulator([cini, c4_r, aiia_r, c14_r])\n",
    "repressor.add_reporter(yfp)\n",
    "\n",
    "# TODO: find a, K and n\n",
    "c14_aiia_r = lc.Hill1(c14_r, aiia_r, a=[1, 100], K=10, n=2, name='Pcin')\n",
    "\n",
    "aiia_deg_c14_r = lc.Degrader(enzyme=aiia_r, substrate=c14_r, k1=1, k1r=1, k2=3)\n",
    "aiia_deg_c4_r = lc.Degrader(enzyme=aiia_r, substrate=c4_r, k1=1, k1r=1, k2=3)\n",
    "# or\n",
    "aiia_deg_ahls_r = lc.Degrader(enzyme=aiia_r, substrate=[c14_r, c4_r], k1=1, k1r=1, k2=3)\n",
    "\n",
    "c14_yfp = lc.Hill1(c14_r, yfp, a=[1, 100], K=10, n=2, name='Pcin/lac')\n",
    "c4_cini = lc.Hill1(c4_r, cini, a=[1, 100], K=10, n=2, name='Prhl/lac')\n",
    "\n",
    "cini_c14 = lc.Producer(enzyme=cini, product=c14_r, rate=1)\n",
    "\n",
    "repressor.add_operator([c14_aiia_r, aiia_deg_c14_r, aiia_deg_c4_r, c14_yfp, c4_cini, cini_c14])"
   ]
  },
  {
   "cell_type": "code",
   "execution_count": null,
   "metadata": {},
   "outputs": [],
   "source": [
    "plt.figure(figsize=(3.5,3.5), dpi=200)\n",
    "repressor.draw(pos=nx.planar_layout)"
   ]
  },
  {
   "cell_type": "markdown",
   "metadata": {},
   "source": [
    "Next, add circuit to strain with defined metabolism"
   ]
  },
  {
   "cell_type": "code",
   "execution_count": null,
   "metadata": {},
   "outputs": [],
   "source": [
    "metab_rep = lc.SimulatedMetabolism(\"Simulated metabolism\", biomass, growth_rate)\n",
    "repressor_strain = lc.Strain(name=\"Repressor\", genetic_network=repressor, metabolism=metab_rep)"
   ]
  },
  {
   "cell_type": "code",
   "execution_count": null,
   "metadata": {},
   "outputs": [],
   "source": [
    "sample = lc.Sample(strain=[activator_strain, repressor_strain])\n",
    "assay = lc.Assay([sample], \n",
    "                n_measurements=100, \n",
    "                interval=0.24,\n",
    "                name='Quorum clock',\n",
    "                description='Simulated GFP expression of quorum clock by Danino et al. (2010)'\n",
    "                )"
   ]
  },
  {
   "cell_type": "code",
   "execution_count": null,
   "metadata": {},
   "outputs": [],
   "source": [
    "assay.run(stochastic=False, track_all=True)"
   ]
  },
  {
   "cell_type": "code",
   "execution_count": null,
   "metadata": {},
   "outputs": [],
   "source": [
    "m = assay.measurements\n",
    "fig,ax = plt.subplots(1,1)\n",
    "# TODO: rewrite\n",
    "# m[m.Signal=='Extracellular C14'].plot(x='Time', y='Measurement', style='-', ax=ax)\n",
    "# m[m.Signal=='AHL in E. coli'].plot(x='Time', y='Measurement', style='-', ax=ax)\n",
    "# m[m.Signal=='yemGFP in E. coli'].plot(x='Time', y='Measurement', style='-', ax=ax)\n",
    "# m[m.Signal=='AiiA in E. coli'].plot(x='Time', y='Measurement', style='-', ax=ax)\n",
    "# m[m.Signal=='E. coli biomass'].plot(x='Time', y='Measurement', style='-', ax=ax)\n",
    "# plt.legend(['Extracellular AHL', 'Internal AHL', 'GFP', 'AiiA', 'Biomass'])"
   ]
  }
 ],
 "metadata": {
  "kernelspec": {
   "display_name": "Python 3.10.4 ('loica')",
   "language": "python",
   "name": "python3"
  },
  "language_info": {
   "codemirror_mode": {
    "name": "ipython",
    "version": 3
   },
   "file_extension": ".py",
   "mimetype": "text/x-python",
   "name": "python",
   "nbconvert_exporter": "python",
   "pygments_lexer": "ipython3",
   "version": "3.10.4"
  },
  "orig_nbformat": 4,
  "vscode": {
   "interpreter": {
    "hash": "5a3b552e1f00b069c0e96dcc3c439489a3953ff59f29351d8119914676dca9ff"
   }
  }
 },
 "nbformat": 4,
 "nbformat_minor": 2
}
