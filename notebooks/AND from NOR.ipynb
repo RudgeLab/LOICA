{
 "cells": [
  {
   "cell_type": "code",
   "execution_count": null,
   "source": [
    "from loica import *\n",
    "import matplotlib.pyplot as plt\n",
    "import numpy as np\n",
    "import getpass\n",
    "import networkx as nx"
   ],
   "outputs": [],
   "metadata": {}
  },
  {
   "cell_type": "code",
   "execution_count": null,
   "source": [
    "from flapjack import *\n",
    "#fj = Flapjack(url_base='flapjack.rudge-lab.org:8000')\n",
    "fj = Flapjack(url_base='localhost:8000')\n",
    "fj.log_in(username=input('Flapjack username: '), password=getpass.getpass('Password: '))"
   ],
   "outputs": [],
   "metadata": {}
  },
  {
   "cell_type": "code",
   "execution_count": null,
   "source": [
    "dna = fj.get('dna', name='AND3')\n",
    "if len(dna)==0:\n",
    "    dna = fj.create('dna', name='AND3')\n",
    "vector = fj.get('vector', name='AND3')    \n",
    "if len(vector)==0:\n",
    "    vector = fj.create('vector', name='AND3', dnas=dna.id)\n",
    "    "
   ],
   "outputs": [],
   "metadata": {}
  },
  {
   "cell_type": "code",
   "execution_count": null,
   "source": [
    "and_ = GeneticNetwork()"
   ],
   "outputs": [],
   "metadata": {}
  },
  {
   "cell_type": "code",
   "execution_count": null,
   "source": [
    "ahl1 = Supplement(name='AHL1')\n",
    "ahl2 = Supplement(name='AHL2')"
   ],
   "outputs": [],
   "metadata": {}
  },
  {
   "cell_type": "code",
   "execution_count": null,
   "source": [
    "cfp = fj.get('signal', name='CFP')\n",
    "cfp = Reporter(name='CFP', degradation_rate=0, signal_id=cfp.id[0])"
   ],
   "outputs": [],
   "metadata": {}
  },
  {
   "cell_type": "code",
   "execution_count": null,
   "source": [
    "cfp = Reporter(name='CFP', degradation_rate=0)"
   ],
   "outputs": [],
   "metadata": {}
  },
  {
   "cell_type": "code",
   "execution_count": null,
   "source": [
    "rep1 = Regulator('Repressor 1')\n",
    "rep2 = Regulator('Repressor 2')\n",
    "rep3 = Regulator('Repressor 3')\n",
    "rep4 = Regulator('Repressor 4')\n",
    "rep5 = Regulator('Repressor 5')\n",
    "rep6 = Regulator('Repressor 6')\n",
    "reps = [rep1, rep2, rep3, rep4, rep5, rep6]\n",
    "\n",
    "rec1 = Receiver(ahl1, rep1, a=0, b=100, K=1, n=2)\n",
    "rec2 = Receiver(ahl1, rep2, a=0, b=100, K=1, n=2)\n",
    "rec3 = Receiver(ahl2, rep3, a=0, b=100, K=1, n=2)\n",
    "rec4 = Receiver(ahl2, rep4, a=0, b=100, K=1, n=2)\n",
    "recs = [rec1, rec2, rec3, rec4]\n",
    "\n",
    "nor1 = Nor([reps[0],reps[1]], reps[4], a=[100,100], b=[0,0], K=[1,1], n=[2,2], alpha=[0,1,1,1])\n",
    "nor2 = Nor([reps[2],reps[3]], reps[5], a=[100,100], b=[0,0], K=[1,1], n=[2,2], alpha=[0,1,1,1])\n",
    "nor3 = Nor([reps[4],reps[5]], cfp, a=[100,100], b=[0,0], K=[1,1], n=[2,2], alpha=[0,1,1,1])"
   ],
   "outputs": [],
   "metadata": {}
  },
  {
   "cell_type": "code",
   "execution_count": null,
   "source": [
    "and_.add_reporter(cfp)\n",
    "and_.add_regulators(reps)\n",
    "#and_.add_regulator(rep2)\n",
    "#and_.add_regulator(rep3)\n",
    "#and_.add_regulator(rep4)\n",
    "#and_.add_regulator(rep5)\n",
    "#and_.add_regulator(rep6)\n",
    "\n",
    "and_.add_operators(recs)\n",
    "#and_.add_operator(rec2)\n",
    "#and_.add_operator(rec3)\n",
    "#and_.add_operator(rec4)\n",
    "\n",
    "and_.add_operator(nor1)\n",
    "and_.add_operator(nor2)\n",
    "and_.add_operator(nor3)\n",
    "    "
   ],
   "outputs": [],
   "metadata": {}
  },
  {
   "cell_type": "code",
   "execution_count": null,
   "source": [
    "and_.draw(pos=nx.random_layout)"
   ],
   "outputs": [],
   "metadata": {}
  },
  {
   "cell_type": "code",
   "execution_count": null,
   "source": [
    "def growth_rate(t):\n",
    "    return gompertz_growth_rate(t, 0.01, 1, 1, 4)\n",
    "\n",
    "def biomass(t):\n",
    "    return gompertz(t, 0.01, 1, 1, 4)\n",
    "    \n",
    "metab = SimulatedMetabolism(biomass, growth_rate)"
   ],
   "outputs": [],
   "metadata": {}
  },
  {
   "cell_type": "code",
   "execution_count": null,
   "source": [
    "media = fj.get('media', name='Loica')\n",
    "if len(media)==0:\n",
    "    media = fj.create('media', name='Loica', description='Simulated loica media')\n",
    "strain = fj.get('strain', name='Loica strain')\n",
    "if len(strain)==0:\n",
    "    strain = fj.create('strain', name='Loica strain', description='Loica test strain')\n",
    "\n",
    "# Create list of samples    \n",
    "samples = []\n",
    "for conc1 in np.logspace(-3, 3, 12):\n",
    "    for conc2 in np.logspace(-3, 3, 12):\n",
    "        sample = Sample(circuit=and_, \n",
    "                metabolism=metab,\n",
    "                media=media.id[0],\n",
    "                strain=strain.id[0])\n",
    "        # Add AHL to samples at given concentration\n",
    "        sample.add_supplement(ahl1, conc1)\n",
    "        sample.add_supplement(ahl2, conc2)\n",
    "        samples.append(sample)"
   ],
   "outputs": [],
   "metadata": {}
  },
  {
   "cell_type": "code",
   "execution_count": null,
   "source": [
    "biomass_signal = fj.get('signal', name='OD')\n",
    "assay = Assay(samples, \n",
    "              n_measurements=100, \n",
    "              interval=0.25,\n",
    "              name='Loica AND from NOR',\n",
    "              description='Simulated AND gate made from 3 NOR gates generated by loica',\n",
    "              biomass_signal_id=biomass_signal.id[0]\n",
    "             )\n",
    "assay.run()"
   ],
   "outputs": [],
   "metadata": {}
  },
  {
   "cell_type": "code",
   "execution_count": null,
   "source": [
    "study = fj.get('study', name='Loica testing')\n",
    "if len(study)==0:\n",
    "    study = fj.create('study', name='Loica testing', description='Test')\n",
    "\n",
    "assay.upload(fj, study.id[0])"
   ],
   "outputs": [],
   "metadata": {}
  },
  {
   "cell_type": "code",
   "execution_count": null,
   "source": [
    "m = assay.measurements\n",
    "fig,ax = plt.subplots(1,1)\n",
    "m[m.Signal=='OD'] #.plot(x='Time', y='Measurement', style='.', ax=ax)"
   ],
   "outputs": [],
   "metadata": {}
  },
  {
   "cell_type": "code",
   "execution_count": null,
   "source": [
    "m"
   ],
   "outputs": [],
   "metadata": {}
  },
  {
   "cell_type": "code",
   "execution_count": null,
   "source": [
    "import networkx as nx"
   ],
   "outputs": [],
   "metadata": {}
  },
  {
   "cell_type": "code",
   "execution_count": null,
   "source": [
    "G = nx.DiGraph()\n",
    "for op in and_.operators:\n",
    "    if type(op.input)==list:\n",
    "        for i in op.input:\n",
    "            G.add_edge(i, op)\n",
    "    else:\n",
    "        G.add_edge(op.input, op)\n",
    "    if type(op.output)==list:\n",
    "        for i in op.output:\n",
    "            G.add_edge(op, i)\n",
    "    else:\n",
    "        G.add_edge(op, op.output)"
   ],
   "outputs": [],
   "metadata": {}
  },
  {
   "cell_type": "code",
   "execution_count": null,
   "source": [
    "plt.figure(figsize=(12,12))\n",
    "nx.draw(G, with_labels=True)"
   ],
   "outputs": [],
   "metadata": {}
  },
  {
   "cell_type": "code",
   "execution_count": null,
   "source": [
    "len(9)"
   ],
   "outputs": [],
   "metadata": {}
  },
  {
   "cell_type": "code",
   "execution_count": null,
   "source": [],
   "outputs": [],
   "metadata": {}
  }
 ],
 "metadata": {
  "kernelspec": {
   "display_name": "Python 3",
   "language": "python",
   "name": "python3"
  },
  "language_info": {
   "codemirror_mode": {
    "name": "ipython",
    "version": 3
   },
   "file_extension": ".py",
   "mimetype": "text/x-python",
   "name": "python",
   "nbconvert_exporter": "python",
   "pygments_lexer": "ipython3",
   "version": "3.8.5"
  }
 },
 "nbformat": 4,
 "nbformat_minor": 4
}