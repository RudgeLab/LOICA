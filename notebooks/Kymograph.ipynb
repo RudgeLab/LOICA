{
 "cells": [
  {
   "cell_type": "code",
   "execution_count": null,
   "metadata": {},
   "outputs": [],
   "source": [
    "from loica import *\n",
    "import matplotlib.pyplot as plt\n",
    "import numpy as np"
   ]
  },
  {
   "cell_type": "code",
   "execution_count": null,
   "metadata": {},
   "outputs": [],
   "source": [
    "rep = GeneticNetwork()\n",
    "\n",
    "alpha = 1e4\n",
    "gamma = 0.3\n",
    "nx = 250\n",
    "\n",
    "laci = Regulator(name='LacI', degradation_rate=gamma, init_concentration=np.zeros((nx,))+5)\n",
    "tetr = Regulator(name='TetR', degradation_rate=gamma, init_concentration=np.zeros((nx,)))\n",
    "ci = Regulator(name='cI', degradation_rate=gamma, init_concentration=np.zeros((nx,)))\n",
    "rep.add_regulator(laci)\n",
    "rep.add_regulator(tetr)\n",
    "rep.add_regulator(ci)\n",
    "\n",
    "sfp1 = Reporter(name='CFP', degradation_rate=gamma, init_concentration=np.zeros((nx,))+5)\n",
    "rep.add_reporter(sfp1)\n",
    "sfp2 = Reporter(name='YFP', degradation_rate=gamma, init_concentration=np.zeros((nx,)))\n",
    "rep.add_reporter(sfp2)\n",
    "sfp3 = Reporter(name='RFP', degradation_rate=gamma, init_concentration=np.zeros((nx,)))\n",
    "rep.add_reporter(sfp3)\n",
    "\n",
    "rep.add_operator(Not(input=ci, output=laci, a=alpha, b=0, K=1, n=2))\n",
    "rep.add_operator(Not(input=laci, output=tetr, a=alpha, b=0, K=1, n=2))\n",
    "rep.add_operator(Not(input=tetr, output=ci, a=alpha, b=0, K=1, n=2))\n",
    "\n",
    "rep.add_operator(Not(input=ci, output=sfp1, a=alpha, b=0, K=1, n=2))\n",
    "rep.add_operator(Not(input=laci, output=sfp2, a=alpha, b=0, K=1, n=2))\n",
    "rep.add_operator(Not(input=tetr, output=sfp3, a=alpha, b=0, K=1, n=2))"
   ]
  },
  {
   "cell_type": "code",
   "execution_count": null,
   "metadata": {},
   "outputs": [],
   "source": [
    "col = Colony(rep, 1, 1)"
   ]
  },
  {
   "cell_type": "code",
   "execution_count": null,
   "metadata": {},
   "outputs": [],
   "source": [
    "kymo = col.kymograph(nx=nx, nt=100, t0=0, tmax=48)"
   ]
  },
  {
   "cell_type": "code",
   "execution_count": null,
   "metadata": {},
   "outputs": [],
   "source": [
    "plt.imshow(col.norm_kymo(kymo), aspect='auto')"
   ]
  },
  {
   "cell_type": "code",
   "execution_count": null,
   "metadata": {},
   "outputs": [],
   "source": []
  }
 ],
 "metadata": {
  "kernelspec": {
   "display_name": "Python 3",
   "language": "python",
   "name": "python3"
  },
  "language_info": {
   "codemirror_mode": {
    "name": "ipython",
    "version": 3
   },
   "file_extension": ".py",
   "mimetype": "text/x-python",
   "name": "python",
   "nbconvert_exporter": "python",
   "pygments_lexer": "ipython3",
   "version": "3.8.5"
  }
 },
 "nbformat": 4,
 "nbformat_minor": 4
}
