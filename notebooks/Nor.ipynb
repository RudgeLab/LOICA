{
 "cells": [
  {
   "cell_type": "code",
   "execution_count": null,
   "id": "c377f677",
   "metadata": {},
   "outputs": [],
   "source": [
    "from loica import *\n",
    "import matplotlib.pyplot as plt\n",
    "import numpy as np\n",
    "import getpass"
   ]
  },
  {
   "cell_type": "code",
   "execution_count": null,
   "id": "813165b8",
   "metadata": {},
   "outputs": [],
   "source": [
    "from flapjack import *\n",
    "#fj = Flapjack(url_base='flapjack.rudge-lab.org:8000')\n",
    "fj = Flapjack(url_base='localhost:8000')\n",
    "fj.log_in(username=input('Flapjack username: '), password=getpass.getpass('Password: '))"
   ]
  },
  {
   "cell_type": "code",
   "execution_count": null,
   "id": "1eb6bec9",
   "metadata": {},
   "outputs": [],
   "source": [
    "receiver1_vector = fj.get('vector', name='receiver1')\n",
    "receiver2_vector = fj.get('vector', name='receiver2')"
   ]
  },
  {
   "cell_type": "code",
   "execution_count": null,
   "id": "9dc088a6",
   "metadata": {},
   "outputs": [],
   "source": [
    "study = fj.create('study', name='Loica testing', description='Test study for demonstrating Loica')"
   ]
  },
  {
   "cell_type": "code",
   "execution_count": null,
   "id": "a3dbf46c",
   "metadata": {},
   "outputs": [],
   "source": [
    "dna = fj.create('dna', name='nor')\n",
    "vector = fj.create('vector', name='nor', dnas=dna.id)"
   ]
  },
  {
   "cell_type": "code",
   "execution_count": null,
   "id": "b6b76a96",
   "metadata": {},
   "outputs": [],
   "source": [
    "network = GeneticNetwork(vector=vector.id[0])"
   ]
  },
  {
   "cell_type": "code",
   "execution_count": null,
   "id": "d6dc6c88",
   "metadata": {},
   "outputs": [],
   "source": [
    "sfp = fj.create('signal', name='SFP', color='green', description='Simulated fluorescent protein')\n",
    "reporter = Reporter(name='SFP', color='green', degradation_rate=0, init_concentration=0, signal_id=sfp.id[0])"
   ]
  },
  {
   "cell_type": "code",
   "execution_count": null,
   "id": "b2d68b66",
   "metadata": {},
   "outputs": [],
   "source": [
    "network.add_reporter(reporter)"
   ]
  },
  {
   "cell_type": "code",
   "execution_count": null,
   "id": "80c3202d",
   "metadata": {},
   "outputs": [],
   "source": [
    "ahl1 = Supplement(name='AHL1')\n",
    "repressor1 = Regulator('LacI')\n",
    "rec1 = Receiver(input=ahl1, output=repressor1, a=0, b=100, K=1, n=2)\n",
    "\n",
    "ahl2 = Supplement(name='AHL2')\n",
    "repressor2 = Regulator('TetR')\n",
    "rec2 = Receiver(input=ahl2, output=repressor2, a=0, b=100, K=1, n=2)\n",
    "\n",
    "network.add_operators([rec1,rec2])\n",
    "network.add_regulators([repressor1,repressor2])"
   ]
  },
  {
   "cell_type": "markdown",
   "id": "55b16988",
   "metadata": {},
   "source": [
    "The Nor operator represents a device which can be repressed by either of two repressors $r_1$ and $r_2$, and is modeled as follows, where $\\phi(r_1, r_2)$ is the output expression rate:\n",
    "\n",
    "\\begin{equation}\n",
    "    \\phi(r_1, r_2)\n",
    "    =\n",
    "    \\frac{\n",
    "        \\alpha_0 \n",
    "        + \n",
    "        \\alpha_1 (\\frac{r1}{K_1})^{n_1} \n",
    "        + \n",
    "        \\alpha_2 (\\frac{r2}{K_2})^{n_2}\n",
    "        +\n",
    "        \\alpha_3 (\\frac{r1 r2}{K_1 K_2})^{n_1 + n_2}\n",
    "    }\n",
    "    {\n",
    "        1 \n",
    "        + \n",
    "        (\\frac{r1}{K_1})^{n_1}\n",
    "        + \n",
    "        (\\frac{r2}{K_2})^{n_2}\n",
    "        +\n",
    "        (\\frac{r1 r2}{K_1 K_2})^{n_1 + n_2}\n",
    "    }\n",
    "\\end{equation}\n"
   ]
  },
  {
   "cell_type": "code",
   "execution_count": null,
   "id": "e8b68c23",
   "metadata": {},
   "outputs": [],
   "source": [
    "nor = Nor(input=[repressor1, repressor2], output=reporter, alpha=[1,0,0,0], K=[100,1], n=[4,2])"
   ]
  },
  {
   "cell_type": "code",
   "execution_count": null,
   "id": "ed026b83",
   "metadata": {},
   "outputs": [],
   "source": [
    "network.add_operator(nor)"
   ]
  },
  {
   "cell_type": "code",
   "execution_count": null,
   "id": "868ddf02",
   "metadata": {},
   "outputs": [],
   "source": [
    "plt.figure(figsize=(3,3), dpi=150)\n",
    "network.draw()"
   ]
  },
  {
   "cell_type": "code",
   "execution_count": null,
   "id": "4b1f8621",
   "metadata": {},
   "outputs": [],
   "source": [
    "def growth_rate(t):\n",
    "    return gompertz_growth_rate(t, 0.05, 1, 1, 1)\n",
    "\n",
    "def biomass(t):\n",
    "    return gompertz(t, 0.05, 1, 1, 1)\n",
    "    \n",
    "metab = SimulatedMetabolism(biomass, growth_rate)\n",
    "\n",
    "media = fj.create('media', name='loica', description='Simulated loica media')\n",
    "strain = fj.create('strain', name='loica', description='Loica test strain')"
   ]
  },
  {
   "cell_type": "code",
   "execution_count": null,
   "id": "fadc569f",
   "metadata": {},
   "outputs": [],
   "source": [
    "# Create list of samples    \n",
    "samples = []\n",
    "for conc1 in np.append(0, np.logspace(-2, 2, 18)):\n",
    "    for conc2 in np.append(0, np.logspace(-3, 1, 18)):\n",
    "        sample = Sample(genetic_network=network, \n",
    "                metabolism=metab,\n",
    "                media=media.id[0],\n",
    "                strain=strain.id[0])\n",
    "        # Add AHL to samples at given concentration\n",
    "        sample.add_supplement(ahl1, conc1)\n",
    "        sample.add_supplement(ahl2, conc2)\n",
    "        samples.append(sample)"
   ]
  },
  {
   "cell_type": "code",
   "execution_count": null,
   "id": "c8064e76",
   "metadata": {},
   "outputs": [],
   "source": [
    "biomass_signal = fj.create('signal', name='SOD', description='Simulated OD', color='black')"
   ]
  },
  {
   "cell_type": "code",
   "execution_count": null,
   "id": "14ba6ed9",
   "metadata": {},
   "outputs": [],
   "source": [
    "assay = Assay(samples, \n",
    "              n_measurements=100, \n",
    "              interval=0.24,\n",
    "              name='Loica NOR',\n",
    "              description='Simulated NOR generated by loica',\n",
    "              biomass_signal_id=biomass_signal.id[0]\n",
    "             )\n",
    "assay.run(nsr=0)"
   ]
  },
  {
   "cell_type": "code",
   "execution_count": null,
   "id": "819b9c7b",
   "metadata": {},
   "outputs": [],
   "source": [
    "assay.upload(fj, study.id[0])"
   ]
  },
  {
   "cell_type": "code",
   "execution_count": null,
   "id": "024f4954",
   "metadata": {},
   "outputs": [],
   "source": [
    "ahl1_id = fj.get('chemical', name='AHL1').id[0]\n",
    "ahl2_id = fj.get('chemical', name='AHL2').id[0]"
   ]
  },
  {
   "cell_type": "code",
   "execution_count": null,
   "id": "f7c8c7ec",
   "metadata": {},
   "outputs": [],
   "source": [
    "fig = fj.plot(study=study.id,                     \n",
    "                vector=vector.id,\n",
    "                signal=sfp.id,\n",
    "                type='Heatmap',\n",
    "                analyte1=ahl1_id,\n",
    "                analyte2=ahl2_id,\n",
    "                function='Mean Expression',\n",
    "                biomass_signal=biomass_signal.id[0],\n",
    "                normalize='None',\n",
    "                subplots='Signal',\n",
    "                markers='Vector',\n",
    "                plot='All data points'\n",
    "       )\n",
    "fig"
   ]
  },
  {
   "cell_type": "code",
   "execution_count": null,
   "id": "5c4c45bd",
   "metadata": {},
   "outputs": [],
   "source": [
    "nor.characterize(fj, \n",
    "            receiver1_vector.id,\n",
    "            receiver2_vector.id, \n",
    "            ahl1_id,\n",
    "            ahl2_id,\n",
    "            vector.id, \n",
    "            media.id, \n",
    "            strain.id, \n",
    "            sfp.id, \n",
    "            biomass_signal.id,\n",
    "            0\n",
    "            )"
   ]
  },
  {
   "cell_type": "code",
   "execution_count": null,
   "id": "9b3d3938",
   "metadata": {},
   "outputs": [],
   "source": [
    "nor.alpha0, nor.alpha1, nor.alpha2, nor.alpha3"
   ]
  },
  {
   "cell_type": "code",
   "execution_count": null,
   "id": "4e85a165",
   "metadata": {},
   "outputs": [],
   "source": [
    "nor.rep1_K, nor.rep1_n"
   ]
  },
  {
   "cell_type": "code",
   "execution_count": null,
   "id": "49018125",
   "metadata": {},
   "outputs": [],
   "source": [
    "nor.rep2_K, nor.rep2_n"
   ]
  }
 ],
 "metadata": {
  "kernelspec": {
   "display_name": "Python 3 (ipykernel)",
   "language": "python",
   "name": "python3"
  },
  "language_info": {
   "codemirror_mode": {
    "name": "ipython",
    "version": 3
   },
   "file_extension": ".py",
   "mimetype": "text/x-python",
   "name": "python",
   "nbconvert_exporter": "python",
   "pygments_lexer": "ipython3",
   "version": "3.9.7"
  }
 },
 "nbformat": 4,
 "nbformat_minor": 5
}
