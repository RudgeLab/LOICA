{
 "cells": [
  {
   "cell_type": "code",
   "execution_count": null,
   "id": "c377f677",
   "metadata": {},
   "outputs": [],
   "source": [
    "from loica import *\n",
    "import matplotlib.pyplot as plt\n",
    "import numpy as np\n",
    "import getpass"
   ]
  },
  {
   "cell_type": "code",
   "execution_count": null,
   "id": "813165b8",
   "metadata": {},
   "outputs": [],
   "source": [
    "from flapjack import *\n",
    "#fj = Flapjack(url_base='flapjack.rudge-lab.org:8000')\n",
    "fj = Flapjack(url_base='localhost:8000')\n",
    "fj.log_in(username=input('Flapjack username: '), password=getpass.getpass('Password: '))"
   ]
  },
  {
   "cell_type": "code",
   "execution_count": null,
   "id": "1eb6bec9",
   "metadata": {},
   "outputs": [],
   "source": [
    "receiver1_vector = fj.get('vector', name='receiver1')\n",
    "receiver2_vector = fj.get('vector', name='receiver2')"
   ]
  },
  {
   "cell_type": "code",
   "execution_count": null,
   "id": "9dc088a6",
   "metadata": {},
   "outputs": [],
   "source": [
    "study = fj.create('study', name='Loica testing', description='Test study for demonstrating Loica')"
   ]
  },
  {
   "cell_type": "code",
   "execution_count": null,
   "id": "a3dbf46c",
   "metadata": {},
   "outputs": [],
   "source": [
    "dna = fj.create('dna', name='nor')\n",
    "vector = fj.create('vector', name='nor', dnas=dna.id)"
   ]
  },
  {
   "cell_type": "code",
   "execution_count": null,
   "id": "b6b76a96",
   "metadata": {},
   "outputs": [],
   "source": [
    "network = GeneticNetwork(vector=vector.id[0])"
   ]
  },
  {
   "cell_type": "code",
   "execution_count": null,
   "id": "d6dc6c88",
   "metadata": {},
   "outputs": [],
   "source": [
    "sfp = fj.create('signal', name='SFP', color='green', description='Simulated fluorescent protein')\n",
    "reporter = Reporter(name='SFP', color='green', degradation_rate=0, init_concentration=0, signal_id=sfp.id[0])"
   ]
  },
  {
   "cell_type": "code",
   "execution_count": null,
   "id": "b2d68b66",
   "metadata": {},
   "outputs": [],
   "source": [
    "network.add_reporter(reporter)"
   ]
  },
  {
   "cell_type": "code",
   "execution_count": null,
   "id": "80c3202d",
   "metadata": {},
   "outputs": [],
   "source": [
    "ahl1 = Supplement(name='AHL1')\n",
    "repressor1 = Regulator('LacI')\n",
    "rec1 = Receiver(input=ahl1, output=repressor1, a=0, b=1, K=1, n=2)\n",
    "\n",
    "ahl2 = Supplement(name='AHL2')\n",
    "repressor2 = Regulator('TetR')\n",
    "rec2 = Receiver(input=ahl2, output=repressor2, a=0, b=1, K=1, n=2)\n",
    "\n",
    "network.add_operators([rec1,rec2])\n",
    "network.add_regulators([repressor1,repressor2])"
   ]
  },
  {
   "cell_type": "code",
   "execution_count": null,
   "id": "e8b68c23",
   "metadata": {},
   "outputs": [],
   "source": [
    "nor = Nor(input=[repressor1, repressor2], output=reporter, alpha=[10,0,0,0], K=[1,1], n=[2,4])"
   ]
  },
  {
   "cell_type": "code",
   "execution_count": null,
   "id": "ed026b83",
   "metadata": {},
   "outputs": [],
   "source": [
    "network.add_operator(nor)"
   ]
  },
  {
   "cell_type": "code",
   "execution_count": null,
   "id": "868ddf02",
   "metadata": {},
   "outputs": [],
   "source": [
    "plt.figure(figsize=(3,3), dpi=150)\n",
    "network.draw()"
   ]
  },
  {
   "cell_type": "code",
   "execution_count": null,
   "id": "4b1f8621",
   "metadata": {},
   "outputs": [],
   "source": [
    "def growth_rate(t):\n",
    "    return gompertz_growth_rate(t, 0.05, 1, 1, 1)\n",
    "\n",
    "def biomass(t):\n",
    "    return gompertz(t, 0.05, 1, 1, 1)\n",
    "    \n",
    "metab = SimulatedMetabolism(biomass, growth_rate)\n",
    "\n",
    "media = fj.create('media', name='loica', description='Simulated loica media')\n",
    "strain = fj.create('strain', name='loica', description='Loica test strain')"
   ]
  },
  {
   "cell_type": "code",
   "execution_count": null,
   "id": "fadc569f",
   "metadata": {},
   "outputs": [],
   "source": [
    "# Create list of samples    \n",
    "samples = []\n",
    "for conc1 in np.append(np.logspace(-6, 6, 12), 0):\n",
    "    for conc2 in np.append(np.logspace(-6, 6, 12), 0):\n",
    "        sample = Sample(circuit=network, \n",
    "                metabolism=metab,\n",
    "                media=media.id[0],\n",
    "                strain=strain.id[0])\n",
    "        # Add AHL to samples at given concentration\n",
    "        sample.add_supplement(ahl1, conc1)\n",
    "        sample.add_supplement(ahl2, conc2)\n",
    "        samples.append(sample)"
   ]
  },
  {
   "cell_type": "code",
   "execution_count": null,
   "id": "c8064e76",
   "metadata": {},
   "outputs": [],
   "source": [
    "biomass_signal = fj.create('signal', name='SOD', description='Simulated OD', color='black')"
   ]
  },
  {
   "cell_type": "code",
   "execution_count": null,
   "id": "14ba6ed9",
   "metadata": {},
   "outputs": [],
   "source": [
    "assay = Assay(samples, \n",
    "              n_measurements=100, \n",
    "              interval=0.24,\n",
    "              name='Loica NOR',\n",
    "              description='Simulated NOR generated by loica',\n",
    "              biomass_signal_id=biomass_signal.id[0]\n",
    "             )\n",
    "assay.run(nsr=0)"
   ]
  },
  {
   "cell_type": "code",
   "execution_count": null,
   "id": "819b9c7b",
   "metadata": {},
   "outputs": [],
   "source": [
    "assay.upload(fj, study.id[0])"
   ]
  },
  {
   "cell_type": "code",
   "execution_count": null,
   "id": "1e0d7b09",
   "metadata": {},
   "outputs": [],
   "source": [
    "len(assay.measurements)"
   ]
  },
  {
   "cell_type": "code",
   "execution_count": null,
   "id": "b4b0852f",
   "metadata": {},
   "outputs": [],
   "source": [
    "nor_inverter = fj.analysis(type='Background Correct',\n",
    "                            vector=vector.id,\n",
    "                            media=media.id,\n",
    "                            strain=strain.id,\n",
    "                            signal=sfp.id,\n",
    "                            biomass_signal=biomass_signal.id[0]\n",
    "                         )"
   ]
  },
  {
   "cell_type": "code",
   "execution_count": null,
   "id": "5c4c45bd",
   "metadata": {},
   "outputs": [],
   "source": [
    "nor.characterize(fj, \n",
    "            receiver1_vector.id,\n",
    "            receiver2_vector.id, \n",
    "            vector.id, \n",
    "            media.id, \n",
    "            strain.id, \n",
    "            sfp.id, \n",
    "            biomass_signal.id,\n",
    "            gamma=0,\n",
    "            init_x=[1,1,1,1,1,1,1,1]\n",
    "            )"
   ]
  },
  {
   "cell_type": "code",
   "execution_count": null,
   "id": "6e0070f3",
   "metadata": {},
   "outputs": [],
   "source": [
    "nor.res.x"
   ]
  },
  {
   "cell_type": "code",
   "execution_count": null,
   "id": "9b3d3938",
   "metadata": {},
   "outputs": [],
   "source": [
    "nor.alpha0, nor.alpha1, nor.alpha2, nor.alpha3"
   ]
  },
  {
   "cell_type": "code",
   "execution_count": null,
   "id": "4e85a165",
   "metadata": {},
   "outputs": [],
   "source": [
    "nor.rep1_K, nor.rep1_n"
   ]
  },
  {
   "cell_type": "code",
   "execution_count": null,
   "id": "49018125",
   "metadata": {},
   "outputs": [],
   "source": [
    "nor.rep2_K, nor.rep2_n"
   ]
  },
  {
   "cell_type": "code",
   "execution_count": null,
   "id": "e7c4bc1c",
   "metadata": {},
   "outputs": [],
   "source": [
    "alpha=[10,0,0,0], K=[1,1], n=[2,4]"
   ]
  },
  {
   "cell_type": "code",
   "execution_count": null,
   "id": "914fb808",
   "metadata": {},
   "outputs": [],
   "source": [
    "nor.a_A, nor.b_A, nor.K_A, nor.n_A"
   ]
  },
  {
   "cell_type": "code",
   "execution_count": null,
   "id": "a0cfa888",
   "metadata": {},
   "outputs": [],
   "source": [
    "nor.a_B, nor.b_B, nor.K_B, nor.n_B"
   ]
  },
  {
   "cell_type": "code",
   "execution_count": null,
   "id": "0883f75d",
   "metadata": {},
   "outputs": [],
   "source": []
  }
 ],
 "metadata": {
  "kernelspec": {
   "display_name": "Python 3 (ipykernel)",
   "language": "python",
   "name": "python3"
  },
  "language_info": {
   "codemirror_mode": {
    "name": "ipython",
    "version": 3
   },
   "file_extension": ".py",
   "mimetype": "text/x-python",
   "name": "python",
   "nbconvert_exporter": "python",
   "pygments_lexer": "ipython3",
   "version": "3.9.7"
  }
 },
 "nbformat": 4,
 "nbformat_minor": 5
}
