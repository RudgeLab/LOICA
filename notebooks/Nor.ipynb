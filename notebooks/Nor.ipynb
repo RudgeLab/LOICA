{
 "cells": [
  {
   "cell_type": "markdown",
   "id": "ec6a40e7",
   "metadata": {},
   "source": [
    "# Nor operator modeling and characterization\n",
    "In this notebook we will construct a genetic network to model a Nor operator, a device that is repressed by either of two inputs, upload the simulated data to Flapjack, and then show how to characterize the operator based on this data. The GeneticNetwork will use two Receiver operators to drive the input repressors, and a Nor operator to produce the output based on these inputs.\n",
    "\n",
    "NOTE: In order to run this notebook, and characterize the Nor operator, you must first run Receiver1.ipynb and Receiver2.ipynb to generate data for the Receivers used in the network."
   ]
  },
  {
   "cell_type": "markdown",
   "id": "aa2d2b43",
   "metadata": {},
   "source": [
    "## Import required packages"
   ]
  },
  {
   "cell_type": "code",
   "execution_count": null,
   "id": "c377f677",
   "metadata": {},
   "outputs": [],
   "source": [
    "from loica import *\n",
    "import matplotlib.pyplot as plt\n",
    "import numpy as np\n",
    "import getpass"
   ]
  },
  {
   "cell_type": "markdown",
   "id": "6a200dfc",
   "metadata": {},
   "source": [
    "## Make a connection to Flapjack\n",
    "Note here you should specify which instance of Flapjack you will use, whether it is local or the public instance for example."
   ]
  },
  {
   "cell_type": "code",
   "execution_count": null,
   "id": "813165b8",
   "metadata": {},
   "outputs": [],
   "source": [
    "from flapjack import *\n",
    "#fj = Flapjack(url_base='flapjack.rudge-lab.org:8000')\n",
    "fj = Flapjack(url_base='localhost:8000')\n",
    "fj.log_in(username=input('Flapjack username: '), password=getpass.getpass('Password: '))"
   ]
  },
  {
   "cell_type": "markdown",
   "id": "a4ecea7a",
   "metadata": {},
   "source": [
    "## Get or create Flapjack objects\n",
    "To associate with the components of the genetic network and the simulated data with Flapjack we need the Ids of the appropriate objects. Note that if the objects already exist you will be prompted and can simply hit return to use the existing objects."
   ]
  },
  {
   "cell_type": "code",
   "execution_count": null,
   "id": "1eb6bec9",
   "metadata": {},
   "outputs": [],
   "source": [
    "receiver1_vector = fj.get('vector', name='receiver1')\n",
    "receiver2_vector = fj.get('vector', name='receiver2')"
   ]
  },
  {
   "cell_type": "code",
   "execution_count": null,
   "id": "9dc088a6",
   "metadata": {},
   "outputs": [],
   "source": [
    "study = fj.create('study', name='Loica testing', description='Test study for demonstrating Loica')"
   ]
  },
  {
   "cell_type": "code",
   "execution_count": null,
   "id": "a3dbf46c",
   "metadata": {},
   "outputs": [],
   "source": [
    "dna = fj.create('dna', name='nor')\n",
    "vector = fj.create('vector', name='nor', dnas=dna.id)"
   ]
  },
  {
   "cell_type": "code",
   "execution_count": null,
   "id": "0811a1a8",
   "metadata": {},
   "outputs": [],
   "source": [
    "sfp = fj.create('signal', name='SFP', color='green', description='Simulated fluorescent protein')"
   ]
  },
  {
   "cell_type": "markdown",
   "id": "2c7c596e",
   "metadata": {},
   "source": [
    "## Create the network with measurable reporter\n",
    "First we create a GeneticNetwork object and associate it with a Flapjack Vector (collection of DNA). The connection to Flapjack is optional, but we will use it here to upload data and characterize our components."
   ]
  },
  {
   "cell_type": "code",
   "execution_count": null,
   "id": "b6b76a96",
   "metadata": {},
   "outputs": [],
   "source": [
    "network = GeneticNetwork(vector=vector.id[0])"
   ]
  },
  {
   "cell_type": "code",
   "execution_count": null,
   "id": "d6dc6c88",
   "metadata": {},
   "outputs": [],
   "source": [
    "reporter = Reporter(name='SFP', color='green', degradation_rate=0, init_concentration=0, signal_id=sfp.id[0])"
   ]
  },
  {
   "cell_type": "code",
   "execution_count": null,
   "id": "b2d68b66",
   "metadata": {},
   "outputs": [],
   "source": [
    "network.add_reporter(reporter)"
   ]
  },
  {
   "cell_type": "markdown",
   "id": "37060290",
   "metadata": {},
   "source": [
    "## Create and add the Receiver operators\n",
    "The receiver operator responds to a signal $s$ to produce an output expression rate $\\phi(s)$ modeled as follows:\n",
    "\n",
    "\\begin{equation}\n",
    "    \\phi(s)\n",
    "    =\n",
    "    \\frac\n",
    "    {\n",
    "        a + b (\\frac{s}{K})^n\n",
    "    }\n",
    "    {\n",
    "        1 + (\\frac{s}{K})^n\n",
    "    }\n",
    "\\end{equation}\n",
    "\n",
    "Here we must create two Supplement objects to represent the signals, in this case modeling acyl-homoserine lactones (AHLs). The Receivers drive the input repressors, which then are the inputs to the Nor operator."
   ]
  },
  {
   "cell_type": "code",
   "execution_count": null,
   "id": "80c3202d",
   "metadata": {},
   "outputs": [],
   "source": [
    "ahl1 = Supplement(name='AHL1')\n",
    "repressor1 = Regulator('LacI')\n",
    "rec1 = Receiver(input=ahl1, output=repressor1, a=0, b=100, K=1, n=2)\n",
    "\n",
    "ahl2 = Supplement(name='AHL2')\n",
    "repressor2 = Regulator('TetR')\n",
    "rec2 = Receiver(input=ahl2, output=repressor2, a=0, b=100, K=1, n=2)\n",
    "\n",
    "network.add_operators([rec1,rec2])\n",
    "network.add_regulators([repressor1,repressor2])"
   ]
  },
  {
   "cell_type": "markdown",
   "id": "6bf12d83",
   "metadata": {},
   "source": [
    "## Create and add the Nor operator\n",
    "The Nor operator represents a device which can be repressed by either of two repressors $r_1$ and $r_2$, and is modeled as follows, where $\\phi(r_1, r_2)$ is the output expression rate:\n",
    "\n",
    "\\begin{equation}\n",
    "    \\phi(r_1, r_2)\n",
    "    =\n",
    "    \\frac{\n",
    "        \\alpha_0 \n",
    "        + \n",
    "        \\alpha_1 (\\frac{r1}{K_1})^{n_1} \n",
    "        + \n",
    "        \\alpha_2 (\\frac{r2}{K_2})^{n_2}\n",
    "        +\n",
    "        \\alpha_3 (\\frac{r1 r2}{K_1 K_2})^{n_1 + n_2}\n",
    "    }\n",
    "    {\n",
    "        1 \n",
    "        + \n",
    "        (\\frac{r1}{K_1})^{n_1}\n",
    "        + \n",
    "        (\\frac{r2}{K_2})^{n_2}\n",
    "        +\n",
    "        (\\frac{r1 r2}{K_1 K_2})^{n_1 + n_2}\n",
    "    }\n",
    "\\end{equation}\n"
   ]
  },
  {
   "cell_type": "code",
   "execution_count": null,
   "id": "e8b68c23",
   "metadata": {},
   "outputs": [],
   "source": [
    "nor = Nor(input=[repressor1, repressor2], output=reporter, alpha=[1,0,0,0], K=[100,1], n=[4,2])"
   ]
  },
  {
   "cell_type": "code",
   "execution_count": null,
   "id": "ed026b83",
   "metadata": {},
   "outputs": [],
   "source": [
    "network.add_operator(nor)"
   ]
  },
  {
   "cell_type": "markdown",
   "id": "d142030c",
   "metadata": {},
   "source": [
    "## Draw the GeneticNetwork as a graph\n",
    "We can now make a visual representation of our GeneticNetwork to check it is wired up correctly."
   ]
  },
  {
   "cell_type": "code",
   "execution_count": null,
   "id": "868ddf02",
   "metadata": {},
   "outputs": [],
   "source": [
    "plt.figure(figsize=(3,3), dpi=150)\n",
    "network.draw()"
   ]
  },
  {
   "cell_type": "markdown",
   "id": "412f4588",
   "metadata": {},
   "source": [
    "## Simulate the GeneticNetwork\n",
    "In order to simulate the GeneticNetwork behaviour we need to specify the growth conditions in which it will operate. To do this we create a SimulatedMetabolism object which specifies growth functions."
   ]
  },
  {
   "cell_type": "code",
   "execution_count": null,
   "id": "4b1f8621",
   "metadata": {},
   "outputs": [],
   "source": [
    "def growth_rate(t):\n",
    "    return gompertz_growth_rate(t, 0.05, 1, 1, 1)\n",
    "\n",
    "def biomass(t):\n",
    "    return gompertz(t, 0.05, 1, 1, 1)\n",
    "    \n",
    "metab = SimulatedMetabolism(biomass, growth_rate)\n",
    "\n",
    "media = fj.create('media', name='loica', description='Simulated loica media')\n",
    "strain = fj.create('strain', name='loica', description='Loica test strain')"
   ]
  },
  {
   "cell_type": "markdown",
   "id": "9a3dffb9",
   "metadata": {},
   "source": [
    "Now we can create Samples that contain our GeneticNetwork driven by the SimulatedMetabolism. We also need to specify the Media and Strain, in order to link to the Flapjack data model. To test the inverter behaviour we must also add the signals (ahls) at a range of concentrations."
   ]
  },
  {
   "cell_type": "code",
   "execution_count": null,
   "id": "fadc569f",
   "metadata": {},
   "outputs": [],
   "source": [
    "# Create list of samples    \n",
    "samples = []\n",
    "for conc1 in np.append(0, np.logspace(-2, 2, 12)):\n",
    "    for conc2 in np.append(0, np.logspace(-3, 1, 12)):\n",
    "        for _ in range(1):\n",
    "            sample = Sample(genetic_network=network, \n",
    "                    metabolism=metab,\n",
    "                    media=media.id[0],\n",
    "                    strain=strain.id[0])\n",
    "            # Add AHL to samples at given concentration\n",
    "            sample.add_supplement(ahl1, conc1)\n",
    "            sample.add_supplement(ahl2, conc2)\n",
    "            samples.append(sample)"
   ]
  },
  {
   "cell_type": "markdown",
   "id": "25d654dd",
   "metadata": {},
   "source": [
    "Given our Samples, we can now create an Assay which will simulate an experiment containing them. We need to specify the biomass signal in order to link to the Flapjack data model for later upload. Running the assay will simulate the behaviour of the GeneticNetwork."
   ]
  },
  {
   "cell_type": "code",
   "execution_count": null,
   "id": "c8064e76",
   "metadata": {},
   "outputs": [],
   "source": [
    "biomass_signal = fj.create('signal', name='SOD', description='Simulated OD', color='black')"
   ]
  },
  {
   "cell_type": "code",
   "execution_count": null,
   "id": "14ba6ed9",
   "metadata": {},
   "outputs": [],
   "source": [
    "assay = Assay(samples, \n",
    "              n_measurements=100, \n",
    "              interval=0.24,\n",
    "              name='Loica NOR',\n",
    "              description='Simulated NOR generated by loica',\n",
    "              biomass_signal_id=biomass_signal.id[0]\n",
    "             )\n",
    "assay.run()"
   ]
  },
  {
   "cell_type": "markdown",
   "id": "7545e22e",
   "metadata": {},
   "source": [
    "## Upload simulated data to Flapjack"
   ]
  },
  {
   "cell_type": "code",
   "execution_count": null,
   "id": "819b9c7b",
   "metadata": {},
   "outputs": [],
   "source": [
    "assay.upload(fj, study.id[0])"
   ]
  },
  {
   "cell_type": "markdown",
   "id": "f5c4341a",
   "metadata": {},
   "source": [
    "Now we can check that the simulation worked by plotting a heatmap using the PyFlapjack package to connect to the Flapjack API. This also allows us to see if we have covered the dynamic range of the Nor operator, in order to correctly characterize it."
   ]
  },
  {
   "cell_type": "code",
   "execution_count": null,
   "id": "51d15583",
   "metadata": {},
   "outputs": [],
   "source": [
    "ahl1_id = fj.get('chemical', name='AHL1').id[0]\n",
    "ahl2_id = fj.get('chemical', name='AHL2').id[0]"
   ]
  },
  {
   "cell_type": "code",
   "execution_count": null,
   "id": "14f60895",
   "metadata": {},
   "outputs": [],
   "source": [
    "fig = fj.plot(study=study.id,                     \n",
    "                vector=vector.id,\n",
    "                signal=sfp.id,\n",
    "                type='Heatmap',\n",
    "                analyte1=ahl1_id,\n",
    "                analyte2=ahl2_id,\n",
    "                function='Mean Expression',\n",
    "                biomass_signal=biomass_signal.id[0],\n",
    "                normalize='None',\n",
    "                subplots='Signal',\n",
    "                markers='Vector',\n",
    "                plot='All data points'\n",
    "       )\n",
    "fig"
   ]
  },
  {
   "cell_type": "markdown",
   "id": "25a94a17",
   "metadata": {},
   "source": [
    "## Characterize the Not operator from the uploaded data"
   ]
  },
  {
   "cell_type": "code",
   "execution_count": null,
   "id": "5c4c45bd",
   "metadata": {},
   "outputs": [],
   "source": [
    "nor.characterize(fj, \n",
    "            receiver1_vector.id,\n",
    "            receiver2_vector.id, \n",
    "            ahl1_id,\n",
    "            ahl2_id,\n",
    "            vector.id, \n",
    "            media.id, \n",
    "            strain.id, \n",
    "            sfp.id, \n",
    "            biomass_signal.id,\n",
    "            0\n",
    "            )"
   ]
  },
  {
   "cell_type": "code",
   "execution_count": null,
   "id": "9b3d3938",
   "metadata": {},
   "outputs": [],
   "source": [
    "nor.alpha0, nor.alpha1, nor.alpha2, nor.alpha3"
   ]
  },
  {
   "cell_type": "code",
   "execution_count": null,
   "id": "4e85a165",
   "metadata": {},
   "outputs": [],
   "source": [
    "nor.rep1_K, nor.rep1_n"
   ]
  },
  {
   "cell_type": "code",
   "execution_count": null,
   "id": "49018125",
   "metadata": {},
   "outputs": [],
   "source": [
    "nor.rep2_K, nor.rep2_n"
   ]
  }
 ],
 "metadata": {
  "kernelspec": {
   "display_name": "Python 3 (ipykernel)",
   "language": "python",
   "name": "python3"
  },
  "language_info": {
   "codemirror_mode": {
    "name": "ipython",
    "version": 3
   },
   "file_extension": ".py",
   "mimetype": "text/x-python",
   "name": "python",
   "nbconvert_exporter": "python",
   "pygments_lexer": "ipython3",
   "version": "3.9.7"
  }
 },
 "nbformat": 4,
 "nbformat_minor": 5
}
