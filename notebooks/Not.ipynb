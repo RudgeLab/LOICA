{
 "cells": [
  {
   "cell_type": "markdown",
   "id": "bd7443cc",
   "metadata": {},
   "source": [
    "# Source operator modeling and characterization\n",
    "In this notebook we will construct a genetic network to model a Not operator, a device that is repressed by an input, upload the simulated data to Flapjack, and then show how to characterize the operator based on this data. The GeneticNetwork will be a signal inverter, requiring both a Receiver and a Not operator."
   ]
  },
  {
   "cell_type": "markdown",
   "id": "9d339c16",
   "metadata": {},
   "source": [
    "## Import required packages"
   ]
  },
  {
   "cell_type": "code",
   "execution_count": null,
   "id": "28b0928f",
   "metadata": {},
   "outputs": [],
   "source": [
    "from loica import *\n",
    "import matplotlib.pyplot as plt\n",
    "import numpy as np\n",
    "import getpass"
   ]
  },
  {
   "cell_type": "markdown",
   "id": "65cb21a3",
   "metadata": {},
   "source": [
    "## Make a connection to Flapjack\n",
    "Note here you should specify which instance of Flapjack you will use, whether it is local or the public instance for example."
   ]
  },
  {
   "cell_type": "code",
   "execution_count": null,
   "id": "2019b2c9",
   "metadata": {},
   "outputs": [],
   "source": [
    "from flapjack import *\n",
    "#fj = Flapjack(url_base='flapjack.rudge-lab.org:8000')\n",
    "fj = Flapjack(url_base='localhost:8000')\n",
    "fj.log_in(username=input('Flapjack username: '), password=getpass.getpass('Password: '))"
   ]
  },
  {
   "cell_type": "markdown",
   "id": "b4b5dac3",
   "metadata": {},
   "source": [
    "## Get or create Flapjack objects\n",
    "To associate with the components of the genetic network and the simulated data with Flapjack we need the Ids of the appropriate objects. Note that if the objects already exist you will be prompted and can simply hit return to use the existing objects."
   ]
  },
  {
   "cell_type": "code",
   "execution_count": null,
   "id": "21686ae0",
   "metadata": {},
   "outputs": [],
   "source": [
    "receiver_vector = fj.get('vector', name='receiver1')"
   ]
  },
  {
   "cell_type": "code",
   "execution_count": null,
   "id": "bc77ff3c",
   "metadata": {},
   "outputs": [],
   "source": [
    "study = fj.create('study', name='Loica testing', description='Test study for demonstrating Loica')"
   ]
  },
  {
   "cell_type": "code",
   "execution_count": null,
   "id": "7294f1f1",
   "metadata": {},
   "outputs": [],
   "source": [
    "dna = fj.create('dna', name='not')\n",
    "vector = fj.create('vector', name='not', dnas=dna.id)"
   ]
  },
  {
   "cell_type": "code",
   "execution_count": null,
   "id": "8f60fb1f",
   "metadata": {},
   "outputs": [],
   "source": [
    "sfp = fj.create('signal', name='SFP', color='green', description='Simulated fluorescent protein')"
   ]
  },
  {
   "cell_type": "markdown",
   "id": "14aa5054",
   "metadata": {},
   "source": [
    "## Create the network with measurable reporter\n",
    "First we create a GeneticNetwork object and associate it with a Flapjack Vector (collection of DNA). The connection to Flapjack is optional, but we will use it here to upload data and characterize our components."
   ]
  },
  {
   "cell_type": "code",
   "execution_count": null,
   "id": "306d70fc",
   "metadata": {},
   "outputs": [],
   "source": [
    "network = GeneticNetwork(vector=vector.id[0])"
   ]
  },
  {
   "cell_type": "code",
   "execution_count": null,
   "id": "c28ce3a4",
   "metadata": {},
   "outputs": [],
   "source": [
    "reporter = Reporter(name='SFP', color='green', degradation_rate=0, init_concentration=0, signal_id=sfp.id[0])"
   ]
  },
  {
   "cell_type": "code",
   "execution_count": null,
   "id": "52ea5b4a",
   "metadata": {},
   "outputs": [],
   "source": [
    "network.add_reporter(reporter)"
   ]
  },
  {
   "cell_type": "markdown",
   "id": "7717188b",
   "metadata": {},
   "source": [
    "## Create the Not operator\n",
    "The Not operator is a device which is repressed by a single repressor $r$, and produces an output expression rate $\\phi(r)$ modeled as follows:\n",
    "\n",
    "\\begin{equation}\n",
    "    \\phi(r)\n",
    "    =\n",
    "    \\frac\n",
    "    {\n",
    "        a + b (\\frac{r}{K})^n\n",
    "    }\n",
    "    {\n",
    "        1 + (\\frac{r}{K})^n\n",
    "    }\n",
    "\\end{equation}"
   ]
  },
  {
   "cell_type": "code",
   "execution_count": null,
   "id": "376184fb",
   "metadata": {},
   "outputs": [],
   "source": [
    "repressor = Regulator('LacI')\n",
    "not_ = Not(input=repressor, output=reporter, a=1, b=0, K=1, n=2)"
   ]
  },
  {
   "cell_type": "markdown",
   "id": "7cf60b82",
   "metadata": {},
   "source": [
    "## Create the Receiver operator\n",
    "The receiver operator responds to a signal $s$ to produce an output expression rate $\\phi(s)$ modeled as follows:\n",
    "\n",
    "\\begin{equation}\n",
    "    \\phi(s)\n",
    "    =\n",
    "    \\frac\n",
    "    {\n",
    "        a + b (\\frac{s}{K})^n\n",
    "    }\n",
    "    {\n",
    "        1 + (\\frac{s}{K})^n\n",
    "    }\n",
    "\\end{equation}\n",
    "\n",
    "Here we must create a Supplement object to represent the signal, in this case modeling an acyl-homoserine lactone (AHL). The Receiver drives the repressor, which then is the input to the Not operator."
   ]
  },
  {
   "cell_type": "code",
   "execution_count": null,
   "id": "7ae71a9d",
   "metadata": {},
   "outputs": [],
   "source": [
    "ahl = Supplement(name='AHL1')\n",
    "rec = Receiver(input=ahl, output=repressor, a=0, b=100, K=1, n=2)"
   ]
  },
  {
   "cell_type": "markdown",
   "id": "dcbdfa1b",
   "metadata": {},
   "source": [
    "## Add the Operators and Regulator to the GeneticNetwork\n",
    "Adding the two Operators and the Regulator effectively forms an inverter circuit, as can be seen from the graph visualization."
   ]
  },
  {
   "cell_type": "code",
   "execution_count": null,
   "id": "321667f1",
   "metadata": {},
   "outputs": [],
   "source": [
    "network.add_operators([rec,not_])\n",
    "network.add_regulator(repressor)"
   ]
  },
  {
   "cell_type": "markdown",
   "id": "e7df0c7b",
   "metadata": {},
   "source": [
    "## Draw the GeneticNetwork as a graph\n",
    "We can now make a visual representation of our GeneticNetwork to check it is wired up correctly."
   ]
  },
  {
   "cell_type": "code",
   "execution_count": null,
   "id": "4954a97a",
   "metadata": {},
   "outputs": [],
   "source": [
    "plt.figure(figsize=(3,3), dpi=150)\n",
    "network.draw()"
   ]
  },
  {
   "cell_type": "markdown",
   "id": "e8a5aafb",
   "metadata": {},
   "source": [
    "## Simulate the GeneticNetwork\n",
    "In order to simulate the GeneticNetwork behaviour we need to specify the growth conditions in which it will operate. To do this we create a SimulatedMetabolism object which specifies growth functions."
   ]
  },
  {
   "cell_type": "code",
   "execution_count": null,
   "id": "646e6af7",
   "metadata": {},
   "outputs": [],
   "source": [
    "def growth_rate(t):\n",
    "    return gompertz_growth_rate(t, 0.05, 1, 1, 1)\n",
    "\n",
    "def biomass(t):\n",
    "    return gompertz(t, 0.05, 1, 1, 1)\n",
    "    \n",
    "metab = SimulatedMetabolism(biomass, growth_rate)\n",
    "\n",
    "media = fj.create('media', name='loica', description='Simulated loica media')\n",
    "strain = fj.create('strain', name='loica', description='Loica test strain')"
   ]
  },
  {
   "cell_type": "markdown",
   "id": "2033ebc5",
   "metadata": {},
   "source": [
    "Now we can create Samples that contain our GeneticNetwork driven by the SimulatedMetabolism. We also need to specify the Media and Strain, in order to link to the Flapjack data model. To test the inverter behaviour we must also add the signal (ahl) at a range of concentrations."
   ]
  },
  {
   "cell_type": "code",
   "execution_count": null,
   "id": "3be6df49",
   "metadata": {},
   "outputs": [],
   "source": [
    "# Create list of samples    \n",
    "samples = []\n",
    "concs = np.append(0, np.logspace(-4, 2, 18))\n",
    "for conc in concs:\n",
    "    for _ in range(1):\n",
    "        sample = Sample(genetic_network=network, \n",
    "                    metabolism=metab,\n",
    "                    media=media.id[0],\n",
    "                    strain=strain.id[0])\n",
    "        # Add AHL to samples at given concentration\n",
    "        sample.add_supplement(ahl, conc)\n",
    "        samples.append(sample)"
   ]
  },
  {
   "cell_type": "markdown",
   "id": "3eed8abc",
   "metadata": {},
   "source": [
    "Given our Samples, we can now create an Assay which will simulate an experiment containing them. We need to specify the biomass signal in order to link to the Flapjack data model for later upload. Running the assay will simulate the behaviour of the GeneticNetwork."
   ]
  },
  {
   "cell_type": "code",
   "execution_count": null,
   "id": "e50551bb",
   "metadata": {},
   "outputs": [],
   "source": [
    "biomass_signal = fj.create('signal', name='SOD', description='Simulated OD', color='black')"
   ]
  },
  {
   "cell_type": "code",
   "execution_count": null,
   "id": "bd47ae5b",
   "metadata": {},
   "outputs": [],
   "source": [
    "assay = Assay(samples, \n",
    "              n_measurements=100, \n",
    "              interval=0.24,\n",
    "              name='Loica inverter',\n",
    "              description='Simulated inverter generated by loica',\n",
    "              biomass_signal_id=biomass_signal.id[0]\n",
    "             )\n",
    "assay.run()"
   ]
  },
  {
   "cell_type": "markdown",
   "id": "46812a80",
   "metadata": {},
   "source": [
    "## Upload simulated data to Flapjack"
   ]
  },
  {
   "cell_type": "code",
   "execution_count": null,
   "id": "ccefc7b8",
   "metadata": {},
   "outputs": [],
   "source": [
    "assay.upload(fj, study.id[0])"
   ]
  },
  {
   "cell_type": "markdown",
   "id": "dc08adb2",
   "metadata": {},
   "source": [
    "Now we can check that the simulation worked by plotting an induction curve using the PyFlapjack package to connect to the Flapjack API. This also allows us to see if we have covered the dynamic range of the inverter, in order to correctly characterize the Not opertor."
   ]
  },
  {
   "cell_type": "code",
   "execution_count": null,
   "id": "f77b6d0d",
   "metadata": {},
   "outputs": [],
   "source": [
    "ahl1_id = fj.get('chemical', name='AHL1').id[0]\n",
    "fig = fj.plot(study=study.id,                     \n",
    "                vector=vector.id,\n",
    "                signal=sfp.id,\n",
    "                type='Induction Curve',\n",
    "                analyte=ahl1_id,\n",
    "                function='Mean Expression',\n",
    "                biomass_signal=biomass_signal.id[0],\n",
    "                normalize='None',\n",
    "                subplots='Signal',\n",
    "                markers='Vector',\n",
    "                plot='All data points'\n",
    "       )\n",
    "fig"
   ]
  },
  {
   "cell_type": "markdown",
   "id": "94d1bfaf",
   "metadata": {},
   "source": [
    "## Characterize the Not operator from the uploaded data"
   ]
  },
  {
   "cell_type": "code",
   "execution_count": null,
   "id": "0035c2f5",
   "metadata": {
    "scrolled": true
   },
   "outputs": [],
   "source": [
    "not_.characterize(\n",
    "    fj,\n",
    "    receiver=receiver_vector.id,\n",
    "    inverter=vector.id,\n",
    "    media=media.id,\n",
    "    strain=strain.id,\n",
    "    signal=sfp.id,\n",
    "    biomass_signal=biomass_signal.id,\n",
    "    gamma=0\n",
    ")"
   ]
  },
  {
   "cell_type": "code",
   "execution_count": null,
   "id": "9d4cadb1",
   "metadata": {},
   "outputs": [],
   "source": [
    "not_.a, not_.b, not_.K, not_.n"
   ]
  },
  {
   "cell_type": "code",
   "execution_count": null,
   "id": "2fcadaca",
   "metadata": {},
   "outputs": [],
   "source": [
    "not_.a_A, not_.b_A, not_.K_A, not_.n_A"
   ]
  },
  {
   "cell_type": "code",
   "execution_count": null,
   "id": "923b4599",
   "metadata": {},
   "outputs": [],
   "source": []
  }
 ],
 "metadata": {
  "kernelspec": {
   "display_name": "Python 3 (ipykernel)",
   "language": "python",
   "name": "python3"
  },
  "language_info": {
   "codemirror_mode": {
    "name": "ipython",
    "version": 3
   },
   "file_extension": ".py",
   "mimetype": "text/x-python",
   "name": "python",
   "nbconvert_exporter": "python",
   "pygments_lexer": "ipython3",
   "version": "3.9.7"
  }
 },
 "nbformat": 4,
 "nbformat_minor": 5
}
