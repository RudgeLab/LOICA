{
 "cells": [
  {
   "cell_type": "code",
   "execution_count": null,
   "id": "28b0928f",
   "metadata": {},
   "outputs": [],
   "source": [
    "from loica import *\n",
    "import matplotlib.pyplot as plt\n",
    "import numpy as np\n",
    "import getpass"
   ]
  },
  {
   "cell_type": "code",
   "execution_count": null,
   "id": "2019b2c9",
   "metadata": {},
   "outputs": [],
   "source": [
    "from flapjack import *\n",
    "#fj = Flapjack(url_base='flapjack.rudge-lab.org:8000')\n",
    "fj = Flapjack(url_base='localhost:8000')\n",
    "fj.log_in(username=input('Flapjack username: '), password=getpass.getpass('Password: '))"
   ]
  },
  {
   "cell_type": "code",
   "execution_count": null,
   "id": "21686ae0",
   "metadata": {},
   "outputs": [],
   "source": [
    "receiver_vector = fj.get('vector', name='receiver1')"
   ]
  },
  {
   "cell_type": "code",
   "execution_count": null,
   "id": "bc77ff3c",
   "metadata": {},
   "outputs": [],
   "source": [
    "study = fj.create('study', name='Loica testing', description='Test study for demonstrating Loica')"
   ]
  },
  {
   "cell_type": "code",
   "execution_count": null,
   "id": "7294f1f1",
   "metadata": {},
   "outputs": [],
   "source": [
    "dna = fj.create('dna', name='not')\n",
    "vector = fj.create('vector', name='not', dnas=dna.id)"
   ]
  },
  {
   "cell_type": "code",
   "execution_count": null,
   "id": "306d70fc",
   "metadata": {},
   "outputs": [],
   "source": [
    "network = GeneticNetwork(vector=vector.id[0])"
   ]
  },
  {
   "cell_type": "code",
   "execution_count": null,
   "id": "c28ce3a4",
   "metadata": {},
   "outputs": [],
   "source": [
    "sfp = fj.create('signal', name='SFP', color='green', description='Simulated fluorescent protein')\n",
    "reporter = Reporter(name='SFP', color='green', degradation_rate=0, init_concentration=0, signal_id=sfp.id[0])"
   ]
  },
  {
   "cell_type": "code",
   "execution_count": null,
   "id": "52ea5b4a",
   "metadata": {},
   "outputs": [],
   "source": [
    "network.add_reporter(reporter)"
   ]
  },
  {
   "cell_type": "markdown",
   "id": "dc2ecdbe",
   "metadata": {},
   "source": [
    "The Not operator is a device which is repressed by a single repressor $r$, and produces an output expression rate $\\phi(r)$ modeled as follows:\n",
    "\n",
    "\\begin{equation}\n",
    "    \\phi(s)\n",
    "    =\n",
    "    \\frac\n",
    "    {\n",
    "        a + b (\\frac{r}{K})^n\n",
    "    }\n",
    "    {\n",
    "        1 + (\\frac{r}{K})^n\n",
    "    }\n",
    "\\end{equation}"
   ]
  },
  {
   "cell_type": "code",
   "execution_count": null,
   "id": "376184fb",
   "metadata": {},
   "outputs": [],
   "source": [
    "ahl = Supplement(name='AHL')\n",
    "repressor = Regulator('LacI')\n",
    "rec = Receiver(input=ahl, output=repressor, a=0, b=1, K=1, n=2)\n",
    "not_ = Not(input=repressor, output=reporter, a=1, b=0, K=1, n=2)\n",
    "network.add_operators([rec,not_])\n",
    "network.add_regulator(repressor)"
   ]
  },
  {
   "cell_type": "code",
   "execution_count": null,
   "id": "a93267a5",
   "metadata": {},
   "outputs": [],
   "source": [
    "network.operators"
   ]
  },
  {
   "cell_type": "code",
   "execution_count": null,
   "id": "4954a97a",
   "metadata": {},
   "outputs": [],
   "source": [
    "plt.figure(figsize=(3,3), dpi=150)\n",
    "network.draw()"
   ]
  },
  {
   "cell_type": "code",
   "execution_count": null,
   "id": "646e6af7",
   "metadata": {},
   "outputs": [],
   "source": [
    "def growth_rate(t):\n",
    "    return gompertz_growth_rate(t, 0.05, 1, 1, 1)\n",
    "\n",
    "def biomass(t):\n",
    "    return gompertz(t, 0.05, 1, 1, 1)\n",
    "    \n",
    "metab = SimulatedMetabolism(biomass, growth_rate)\n",
    "\n",
    "media = fj.create('media', name='loica', description='Simulated loica media')\n",
    "strain = fj.create('strain', name='loica', description='Loica test strain')"
   ]
  },
  {
   "cell_type": "code",
   "execution_count": null,
   "id": "3be6df49",
   "metadata": {},
   "outputs": [],
   "source": [
    "# Create list of samples    \n",
    "samples = []\n",
    "concs = np.logspace(-6, 6, 24)\n",
    "for conc in concs:\n",
    "    sample = Sample(geneetic_network=network, \n",
    "                metabolism=metab,\n",
    "                media=media.id[0],\n",
    "                strain=strain.id[0])\n",
    "    # Add AHL to samples at given concentration\n",
    "    sample.add_supplement(ahl, conc)\n",
    "    samples.append(sample)\n",
    "    \n",
    "# Add sample with no inducer\n",
    "sample = Sample(circuit=network, \n",
    "                metabolism=metab,\n",
    "                media=media.id[0],\n",
    "                strain=strain.id[0])\n",
    "# Add AHL to samples at given concentration\n",
    "sample.add_supplement(ahl, 0)\n",
    "samples.append(sample)"
   ]
  },
  {
   "cell_type": "code",
   "execution_count": null,
   "id": "bd47ae5b",
   "metadata": {},
   "outputs": [],
   "source": [
    "biomass_signal = fj.create('signal', name='SOD', description='Simulated OD', color='black')\n",
    "assay = Assay(samples, \n",
    "              n_measurements=100, \n",
    "              interval=0.24,\n",
    "              name='Loica inverter',\n",
    "              description='Simulated inverter generated by loica',\n",
    "              biomass_signal_id=biomass_signal.id[0]\n",
    "             )\n",
    "assay.run(nsr=0)"
   ]
  },
  {
   "cell_type": "code",
   "execution_count": null,
   "id": "ccefc7b8",
   "metadata": {},
   "outputs": [],
   "source": [
    "assay.upload(fj, study.id[0])"
   ]
  },
  {
   "cell_type": "code",
   "execution_count": null,
   "id": "0035c2f5",
   "metadata": {},
   "outputs": [],
   "source": [
    "not_.characterize(\n",
    "    fj,\n",
    "    receiver=receiver_vector.id,\n",
    "    inverter=vector.id,\n",
    "    media=media.id,\n",
    "    strain=strain.id,\n",
    "    signal=sfp.id,\n",
    "    biomass_signal=biomass_signal.id,\n",
    "    gamma=0\n",
    ")"
   ]
  },
  {
   "cell_type": "code",
   "execution_count": null,
   "id": "9d4cadb1",
   "metadata": {},
   "outputs": [],
   "source": [
    "not_.a, not_.b, not_.K, not_.n"
   ]
  },
  {
   "cell_type": "code",
   "execution_count": null,
   "id": "a843cc56",
   "metadata": {},
   "outputs": [],
   "source": [
    "not_.a_A, not_.b_A, not_.K_A, not_.n_A"
   ]
  },
  {
   "cell_type": "code",
   "execution_count": null,
   "id": "a3d842fb",
   "metadata": {},
   "outputs": [],
   "source": []
  }
 ],
 "metadata": {
  "kernelspec": {
   "display_name": "Python 3 (ipykernel)",
   "language": "python",
   "name": "python3"
  },
  "language_info": {
   "codemirror_mode": {
    "name": "ipython",
    "version": 3
   },
   "file_extension": ".py",
   "mimetype": "text/x-python",
   "name": "python",
   "nbconvert_exporter": "python",
   "pygments_lexer": "ipython3",
   "version": "3.9.7"
  }
 },
 "nbformat": 4,
 "nbformat_minor": 5
}
