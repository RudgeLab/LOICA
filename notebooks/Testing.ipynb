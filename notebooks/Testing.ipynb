{
 "cells": [
  {
   "cell_type": "code",
   "execution_count": null,
   "metadata": {},
   "outputs": [],
   "source": [
    "from loica import *\n",
    "import matplotlib.pyplot as plt\n",
    "import numpy as np"
   ]
  },
  {
   "cell_type": "markdown",
   "metadata": {},
   "source": [
    "### Repressilator"
   ]
  },
  {
   "cell_type": "code",
   "execution_count": null,
   "metadata": {},
   "outputs": [],
   "source": [
    "rep = GeneticNetwork()\n",
    "\n",
    "laci = Regulator(name='LacI', degradation_rate=1, init_concentration=5)\n",
    "tetr = Regulator(name='TetR', degradation_rate=1)\n",
    "ci = Regulator(name='cI', degradation_rate=1)\n",
    "rep.add_regulator(laci)\n",
    "rep.add_regulator(tetr)\n",
    "rep.add_regulator(ci)\n",
    "\n",
    "tu1 = RepressedRepressor(input=ci, output=laci, a=100, b=0, K=1, n=2)\n",
    "tu2 = RepressedRepressor(input=laci, output=tetr, a=100, b=0, K=1, n=2)\n",
    "tu3 = RepressedRepressor(input=tetr, output=ci, a=100, b=0, K=1, n=2)\n",
    "rep.add_tu(tu1)\n",
    "rep.add_tu(tu2)\n",
    "rep.add_tu(tu3)"
   ]
  },
  {
   "cell_type": "code",
   "execution_count": null,
   "metadata": {},
   "outputs": [],
   "source": [
    "def growth_rate(t):\n",
    "    return gompertz_growth_rate(t, 0.01, 1, 1, 4)\n",
    "\n",
    "def biomass(t):\n",
    "    return gompertz(t, 0.01, 1, 1, 4)\n",
    "\n",
    "def profile(biomass, gr, t):\n",
    "    return gr * 10 + 1\n",
    "    \n",
    "metab = SimulatedMetabolism(biomass, growth_rate, profile)\n",
    "sample = Sample(circuit=rep, metabolism=metab)\n",
    "assay = Assay([sample], 100, 0.25)\n",
    "assay.run()"
   ]
  },
  {
   "cell_type": "code",
   "execution_count": null,
   "metadata": {},
   "outputs": [],
   "source": [
    "m = assay.measurements\n",
    "fig,ax = plt.subplots(1,1)\n",
    "m[m.Signal=='LacI'].plot(x='Time', y='Measurement', ax=ax)\n",
    "m[m.Signal=='TetR'].plot(x='Time', y='Measurement', ax=ax)\n",
    "m[m.Signal=='cI'].plot(x='Time', y='Measurement', ax=ax)"
   ]
  },
  {
   "cell_type": "markdown",
   "metadata": {},
   "source": [
    "### Toggle switch"
   ]
  },
  {
   "cell_type": "code",
   "execution_count": null,
   "metadata": {},
   "outputs": [],
   "source": [
    "tog = GeneticNetwork()\n",
    "\n",
    "laci = Regulator(name='LacI', degradation_rate=1, init_concentration=0.1)\n",
    "ci = Regulator(name='cI', degradation_rate=1)\n",
    "tog.add_regulator(laci)\n",
    "tog.add_regulator(ci)\n",
    "\n",
    "tu1 = RepressedRepressor(input=laci, output=ci, a=10, b=0, K=1, n=2)\n",
    "tu2 = RepressedRepressor(input=ci, output=laci, a=10, b=0, K=1, n=2)\n",
    "tog.add_tu(tu1)\n",
    "tog.add_tu(tu2)"
   ]
  },
  {
   "cell_type": "code",
   "execution_count": null,
   "metadata": {},
   "outputs": [],
   "source": [
    "sample = Sample(circuit=tog, metabolism=metab)\n",
    "assay = Assay([sample], 100, 0.25)\n",
    "assay.run()"
   ]
  },
  {
   "cell_type": "code",
   "execution_count": null,
   "metadata": {},
   "outputs": [],
   "source": [
    "m = assay.measurements\n",
    "fig,ax = plt.subplots(1,1)\n",
    "m[m.Signal=='LacI'].plot(x='Time', y='Measurement', ax=ax)\n",
    "m[m.Signal=='cI'].plot(x='Time', y='Measurement', ax=ax)"
   ]
  },
  {
   "cell_type": "code",
   "execution_count": null,
   "metadata": {},
   "outputs": [],
   "source": []
  }
 ],
 "metadata": {
  "kernelspec": {
   "display_name": "Python 3",
   "language": "python",
   "name": "python3"
  },
  "language_info": {
   "codemirror_mode": {
    "name": "ipython",
    "version": 3
   },
   "file_extension": ".py",
   "mimetype": "text/x-python",
   "name": "python",
   "nbconvert_exporter": "python",
   "pygments_lexer": "ipython3",
   "version": "3.8.5"
  }
 },
 "nbformat": 4,
 "nbformat_minor": 4
}
