{
 "cells": [
  {
   "cell_type": "code",
   "execution_count": null,
   "metadata": {},
   "outputs": [],
   "source": [
    "from loica import *\n",
    "import matplotlib.pyplot as plt\n",
    "import numpy as np\n",
    "import getpass"
   ]
  },
  {
   "cell_type": "code",
   "execution_count": null,
   "metadata": {},
   "outputs": [],
   "source": [
    "from numpy.fft import fft, ifft, fftfreq\n",
    "from scipy.interpolate import interp1d, UnivariateSpline\n",
    "\n",
    "def random_profile(t0, tmax, nt, fmax):\n",
    "    freqs = fftfreq(nt)\n",
    "    tff = np.zeros((nt,), dtype=np.complex)\n",
    "    ncomps = len(freqs[np.abs(freqs)<fmax])\n",
    "    tff[np.abs(freqs)<fmax] = np.random.normal(size=(ncomps,)) + np.random.normal(size=(ncomps,))*1j\n",
    "    profile = ifft(tff).real\n",
    "    profile = (profile - profile.min()) / (profile.max() - profile.min())\n",
    "    t = np.linspace(t0, tmax, nt)\n",
    "    return interp1d(t, profile)\n",
    "\n",
    "def spline_profile(t0, tmax, nst):\n",
    "    st = np.linspace(t0, tmax, nst)\n",
    "    y = np.random.uniform(size=st.shape)\n",
    "    profile = UnivariateSpline(st, y-y.min(), s=0)\n",
    "    return profile\n",
    "\n",
    "def gaussian_profile(t0, tmax, nt, n_blobs):\n",
    "    t = np.linspace(t0, tmax, nt)\n",
    "    profile = np.zeros_like(t)\n",
    "    means = np.linspace(t.min(), t.max(), n_blobs)\n",
    "    vars = [t.max()/n_blobs]*n_blobs #res.x[:n_blobs]\n",
    "    heights = np.random.lognormal(size=(n_blobs,))\n",
    "    for mean,var,height in zip(means, vars, heights):\n",
    "        gaussian = height * np.exp(-(t-mean)*(t-mean) / var / 2) / np.sqrt(2 * np.pi * var)\n",
    "        profile += gaussian\n",
    "    return interp1d(t, profile/profile.max())"
   ]
  },
  {
   "cell_type": "code",
   "execution_count": null,
   "metadata": {},
   "outputs": [],
   "source": [
    "from flapjack import *\n",
    "fj = Flapjack(url_base='flapjack.rudge-lab.org:8000')\n",
    "#fj = Flapjack(url_base='localhost:8000')\n",
    "fj.log_in(username=input('Flapjack username: '), password=getpass.getpass('Password: '))"
   ]
  },
  {
   "cell_type": "code",
   "execution_count": null,
   "metadata": {},
   "outputs": [],
   "source": [
    "study = fj.get('study', name='Loica testing')\n",
    "if len(study):\n",
    "    fj.delete('study', study.id[0])"
   ]
  },
  {
   "cell_type": "markdown",
   "metadata": {},
   "source": [
    "### Constitutive gene"
   ]
  },
  {
   "cell_type": "code",
   "execution_count": null,
   "metadata": {},
   "outputs": [],
   "source": [
    "dna = fj.get('dna', name='Const_1e-3_nsr_blob')\n",
    "if len(dna)==0:\n",
    "    dna = fj.create('dna', name='Const_1e-3_nsr_blob')\n",
    "vector = fj.get('vector', name='Const_1e-3_nsr_blob')    \n",
    "if len(vector)==0:\n",
    "    vector = fj.create('vector', name='Const_1e-3_nsr_blob', dnas=dna.id)\n",
    "    \n",
    "const = GeneticNetwork(vector=vector.id[0])"
   ]
  },
  {
   "cell_type": "code",
   "execution_count": null,
   "metadata": {},
   "outputs": [],
   "source": [
    "sfp1 = fj.get('signal', name='SFP0')\n",
    "sfp1 = Reporter(name='CFP', degradation_rate=0, init_concentration=0, signal_id=sfp1.id[0])\n",
    "\n",
    "const.add_reporter(sfp1)"
   ]
  },
  {
   "cell_type": "code",
   "execution_count": null,
   "metadata": {},
   "outputs": [],
   "source": [
    "#def profile(t):\n",
    "#    return 1 - gompertz_growth_rate(t, 0.01, 1, 1, 4)\n",
    "#profile = random_profile(t0=0, tmax=24, nt=100, fmax=0.025)\n",
    "#profile = spline_profile(t0=0, tmax=24, nst=20)\n",
    "profile = gaussian_profile(t0=0, tmax=24, nt=100, n_blobs=20)\n",
    "const.add_operator(Source(output=sfp1, rate=1, profile=profile))"
   ]
  },
  {
   "cell_type": "code",
   "execution_count": null,
   "metadata": {},
   "outputs": [],
   "source": [
    "t = np.linspace(0, 24, 100)\n",
    "plt.plot(t, profile(t))\n",
    "st = np.linspace(0, 24, 20)\n",
    "plt.plot(st, profile(st), 'x')\n",
    "print(len(profile(t)))"
   ]
  },
  {
   "cell_type": "code",
   "execution_count": null,
   "metadata": {},
   "outputs": [],
   "source": [
    "print(profile(t))"
   ]
  },
  {
   "cell_type": "code",
   "execution_count": null,
   "metadata": {},
   "outputs": [],
   "source": [
    "def growth_rate(t):\n",
    "    return gompertz_growth_rate(t, 0.01, 1, 1, 0.5)\n",
    "\n",
    "def biomass(t):\n",
    "    return gompertz(t, 0.01, 1, 1, 0.5)\n",
    "    \n",
    "#od = fj.get('signal', name='OD')\n",
    "#const_study = fj.get('study', name=['Context effects'])\n",
    "#vector = fj.get('vector', name='pAAA')\n",
    "#print(vector)\n",
    "#media = fj.get('media', name='M9-glucosa')\n",
    "#print(media)\n",
    "#strain = fj.get('strain', name='Top10')\n",
    "#print(strain)\n",
    "\n",
    "metab = SimulatedMetabolism(biomass, growth_rate)\n",
    "#metab = DataMetabolism(fj, media, strain, vector, od)"
   ]
  },
  {
   "cell_type": "code",
   "execution_count": null,
   "metadata": {},
   "outputs": [],
   "source": [
    "media = fj.get('media', name='Loica')\n",
    "if len(media)==0:\n",
    "    media = fj.create('media', name='Loica', description='Simulated loica media')\n",
    "strain = fj.get('strain', name='Loica strain')\n",
    "if len(strain)==0:\n",
    "    strain = fj.create('strain', name='Loica strain', description='Loica test strain')\n",
    "\n",
    "samples = []\n",
    "for i in range(5):\n",
    "    sample = Sample(circuit=const, \n",
    "                    metabolism=metab,\n",
    "                    media=media.id[0],\n",
    "                    strain=strain.id[0])\n",
    "    samples.append(sample)"
   ]
  },
  {
   "cell_type": "code",
   "execution_count": null,
   "metadata": {},
   "outputs": [],
   "source": [
    "print(sample.biomass)"
   ]
  },
  {
   "cell_type": "code",
   "execution_count": null,
   "metadata": {},
   "outputs": [],
   "source": [
    "biomass_signal = fj.get('signal', name='OD')\n",
    "print(biomass_signal)\n",
    "assay = Assay(samples, \n",
    "              n_measurements=100, \n",
    "              interval=0.24,\n",
    "              name='Loica constitutive expression (no noise)',\n",
    "              description='Simulated constitutive gene generated by loica',\n",
    "              biomass_signal_id=biomass_signal.id[0]\n",
    "             )\n",
    "assay.run(nsr=1e-3)"
   ]
  },
  {
   "cell_type": "code",
   "execution_count": null,
   "metadata": {},
   "outputs": [],
   "source": [
    "m = assay.measurements\n",
    "fig,ax = plt.subplots(1,1)\n",
    "m[m.Signal=='CFP'].plot(x='Time', y='Measurement', style='.', ax=ax)"
   ]
  },
  {
   "cell_type": "code",
   "execution_count": null,
   "metadata": {},
   "outputs": [],
   "source": [
    "study = fj.get('study', name='Loica testing')\n",
    "if len(study)==0:\n",
    "    study = fj.create('study', name='Loica testing', description='Testing')\n",
    "assay.upload(fj, study.id[0])"
   ]
  },
  {
   "cell_type": "code",
   "execution_count": null,
   "metadata": {
    "scrolled": true
   },
   "outputs": [],
   "source": [
    "vector = fj.get('vector', name='Const_1e-3_nsr_blob')\n",
    "media = fj.get('media', name='Loica')\n",
    "strain = fj.get('strain', name='Loica strain')\n",
    "cfp = fj.get('signal', name='SFP0')\n",
    "biomass_signal = fj.get('signal', name='OD')\n",
    "print(biomass_signal)\n",
    "\n",
    "source = Source(None, 0) #const.operators[0]\n",
    "source.characterize(\n",
    "    fj,\n",
    "    vector=vector.id,\n",
    "    media=media.id,\n",
    "    strain=strain.id,\n",
    "    signal=cfp.id,\n",
    "    biomass_signal=biomass_signal.id,\n",
    "    n_gaussians=20,\n",
    "    epsilon=0\n",
    ")"
   ]
  },
  {
   "cell_type": "code",
   "execution_count": null,
   "metadata": {},
   "outputs": [],
   "source": [
    "er_indirect = fj.analysis(media=media.id, \n",
    "                    strain=strain.id,\n",
    "                    vector=[vector.id[0]],\n",
    "                    type='Expression Rate (indirect)',\n",
    "                    biomass_signal=biomass_signal.id,\n",
    "                    eps_L=1e-6,\n",
    "                    pre_smoothing=11,\n",
    "                    post_smoothing=11,\n",
    "                    #bg_correction=2,\n",
    "                    #min_biomass=0.05,\n",
    "                    #remove_data=False\n",
    "                      )\n",
    "er_direct = fj.analysis(media=media.id, \n",
    "                    strain=strain.id,\n",
    "                    vector=[vector.id[0]],\n",
    "                    type='Expression Rate (direct)',\n",
    "                    biomass_signal=biomass_signal.id,\n",
    "                    eps_L=1e-6,\n",
    "                    pre_smoothing=11,\n",
    "                    post_smoothing=11,\n",
    "                    #bg_correction=2,\n",
    "                    #min_biomass=0.05,\n",
    "                    #remove_data=False\n",
    "                      )"
   ]
  },
  {
   "cell_type": "code",
   "execution_count": null,
   "metadata": {},
   "outputs": [],
   "source": [
    "indirect = er_indirect[er_indirect.Signal=='SFP0'].groupby('Time').Rate.mean().values\n",
    "direct = er_direct[er_direct.Signal=='SFP0'].groupby('Time').Rate.mean().values\n",
    "plt.plot(t[1:], indirect / 0.24, 'r-+')\n",
    "plt.plot(t[1:], direct, 'g^-')\n",
    "plt.plot(t, source.profile(t)*source.rate, 'b')\n",
    "plt.plot(t, profile(t)/profile(t).max(), 'k--')"
   ]
  },
  {
   "cell_type": "code",
   "execution_count": null,
   "metadata": {},
   "outputs": [],
   "source": [
    "LOICA_profile = source.profile(t)*source.rate\n",
    "true_profile = profile(t)/profile(t).max()"
   ]
  },
  {
   "cell_type": "code",
   "execution_count": null,
   "metadata": {},
   "outputs": [],
   "source": [
    "from sklearn.metrics import mean_squared_error"
   ]
  },
  {
   "cell_type": "code",
   "execution_count": null,
   "metadata": {},
   "outputs": [],
   "source": [
    "# mean_squared_error(y_true, y_pred)\n",
    "mean_squared_error(true_profile[1:], indirect)"
   ]
  },
  {
   "cell_type": "code",
   "execution_count": null,
   "metadata": {},
   "outputs": [],
   "source": [
    "mean_squared_error(true_profile[1:], direct)"
   ]
  },
  {
   "cell_type": "code",
   "execution_count": null,
   "metadata": {},
   "outputs": [],
   "source": [
    "mean_squared_error(true_profile[1:], LOICA_profile[1:])"
   ]
  },
  {
   "cell_type": "code",
   "execution_count": null,
   "metadata": {},
   "outputs": [],
   "source": [
    "mean_squared_error(y_true, y_pred)"
   ]
  },
  {
   "cell_type": "code",
   "execution_count": null,
   "metadata": {},
   "outputs": [],
   "source": []
  },
  {
   "cell_type": "markdown",
   "metadata": {},
   "source": [
    "### Receiver"
   ]
  },
  {
   "cell_type": "markdown",
   "metadata": {},
   "source": [
    "Create a genetic network and associate it with a Flapjack vector:"
   ]
  },
  {
   "cell_type": "code",
   "execution_count": null,
   "metadata": {},
   "outputs": [],
   "source": [
    "dna = fj.get('dna', name='Rec_1e-3_nsr')\n",
    "if len(dna)==0:\n",
    "    dna = fj.create('dna', name='Rec_1e-3_nsr')\n",
    "vector = fj.get('vector', name='Rec_1e-3_nsr')    \n",
    "if len(vector)==0:\n",
    "    vector = fj.create('vector', name='Rec_1e-3_nsr', dnas=dna.id)\n",
    "    \n",
    "rec = GeneticNetwork(vector=vector.id[0])"
   ]
  },
  {
   "cell_type": "markdown",
   "metadata": {},
   "source": [
    "Create a reporter and associate it with a Flapjack signal so we can record the behaviour of the circuit:"
   ]
  },
  {
   "cell_type": "code",
   "execution_count": null,
   "metadata": {},
   "outputs": [],
   "source": [
    "cfp = fj.get('signal', name='CFP')\n",
    "sfp1 = Reporter(name='CFP', degradation_rate=0, init_concentration=1, signal_id=cfp.id[0])\n",
    "\n",
    "rec.add_reporter(sfp1)"
   ]
  },
  {
   "cell_type": "markdown",
   "metadata": {},
   "source": [
    "Create and add a receiver operator to the circuit, linking it to an AHL supplement:"
   ]
  },
  {
   "cell_type": "code",
   "execution_count": null,
   "metadata": {},
   "outputs": [],
   "source": [
    "ahl = Supplement(name='AHL')\n",
    "def sin_profile(t):\n",
    "    return 1 - np.cos(2 * np.pi * t / 12)\n",
    "def mu_profile(t):\n",
    "    return 1 - gompertz_growth_rate(t, 0.01, 1, 1, 4)\n",
    "rec_profile = random_profile(t0=0, tmax=24, nt=100, fmax=0.05)\n",
    "rec.add_operator(Receiver(inducer=ahl, output=sfp1, a=0, b=100, K=1, n=2, profile=rec_profile))"
   ]
  },
  {
   "cell_type": "markdown",
   "metadata": {},
   "source": [
    "Now we have constructed the circuit we need to run an assay containing some samples. The sample is driven by a metabolism which defines the dynamics of growth and gene expression profiles:"
   ]
  },
  {
   "cell_type": "code",
   "execution_count": null,
   "metadata": {},
   "outputs": [],
   "source": [
    "def growth_rate(t):\n",
    "    return gompertz_growth_rate(t, 0.05, 1, 1, 1)\n",
    "\n",
    "def biomass(t):\n",
    "    return gompertz(t, 0.05, 1, 1, 1)\n",
    "    \n",
    "metab = SimulatedMetabolism(biomass, growth_rate)"
   ]
  },
  {
   "cell_type": "markdown",
   "metadata": {},
   "source": [
    "Next we create a set of samples associated to Flapjack media and strain, and containing our AHL at different concentrations"
   ]
  },
  {
   "cell_type": "code",
   "execution_count": null,
   "metadata": {},
   "outputs": [],
   "source": [
    "media = fj.get('media', name='Loica')\n",
    "if len(media)==0:\n",
    "    media = fj.create('media', name='Loica', description='Simulated loica media')\n",
    "strain = fj.get('strain', name='Loica strain')\n",
    "if len(strain)==0:\n",
    "    strain = fj.create('strain', name='Loica strain', description='Loica test strain')\n",
    "\n",
    "# Create list of samples    \n",
    "samples = []\n",
    "for conc in np.logspace(-6, 6, 12):\n",
    "    sample = Sample(circuit=rec, \n",
    "                metabolism=metab,\n",
    "                media=media.id[0],\n",
    "                strain=strain.id[0])\n",
    "    # Add AHL to samples at given concentration\n",
    "    sample.add_supplement(ahl, conc)\n",
    "    samples.append(sample)"
   ]
  },
  {
   "cell_type": "markdown",
   "metadata": {},
   "source": [
    "Now we can create and run the assay:"
   ]
  },
  {
   "cell_type": "code",
   "execution_count": null,
   "metadata": {},
   "outputs": [],
   "source": [
    "biomass_signal = fj.get('signal', name='OD')\n",
    "assay = Assay(samples, \n",
    "              n_measurements=100, \n",
    "              interval=0.24,\n",
    "              name='Loica receiver',\n",
    "              description='Simulated receiver generated by loica',\n",
    "              biomass_signal_id=biomass_signal.id[0]\n",
    "             )\n",
    "assay.run(nsr=1e-3)"
   ]
  },
  {
   "cell_type": "markdown",
   "metadata": {},
   "source": [
    "Plot the results:"
   ]
  },
  {
   "cell_type": "code",
   "execution_count": null,
   "metadata": {},
   "outputs": [],
   "source": [
    "m = assay.measurements\n",
    "fig,ax = plt.subplots(1,1)\n",
    "m[m.Signal=='CFP'].groupby('Sample').plot(x='Time', y='Measurement', style='.', ax=ax)\n",
    "plt.yscale('log')\n",
    "len(m)"
   ]
  },
  {
   "cell_type": "markdown",
   "metadata": {},
   "source": [
    "Upload the simulated data to flapjack"
   ]
  },
  {
   "cell_type": "code",
   "execution_count": null,
   "metadata": {},
   "outputs": [],
   "source": [
    "study = fj.get('study', name='Loica testing')\n",
    "if len(study)==0:\n",
    "    study = fj.create('study', name='Loica testing', description='Test')\n",
    "\n",
    "assay.upload(fj, study.id[0])"
   ]
  },
  {
   "cell_type": "code",
   "execution_count": null,
   "metadata": {},
   "outputs": [],
   "source": [
    "#vector = fj.get('vector', name='pREC')\n",
    "#media = fj.get('media', name='Simulated media')\n",
    "#strain = fj.get('strain', name='Simulated strain')\n",
    "#signal = fj.get('signal', name='CFP')\n",
    "#biomass_signal = fj.get('signal', name='OD')\n",
    "#print(biomass_signal)\n",
    "\n",
    "signal = fj.get('signal', name='CFP')\n",
    "vector = fj.get('vector', name='Rec_1e-3_nsr')\n",
    "media = fj.get('media', name='Loica')\n",
    "strain = fj.get('strain', name='Loica strain')\n",
    "cfp = fj.get('signal', name='CFP')\n",
    "biomass_signal = fj.get('signal', name='OD')\n",
    "analyte = fj.get('chemical', name='AHL')\n",
    "\n",
    "char_receiver = Receiver(None, None, 0,0,0,0)\n",
    "char_receiver.characterize(\n",
    "    fj,\n",
    "    vector=vector.id,\n",
    "    media=media.id,\n",
    "    strain=strain.id,\n",
    "    signal=signal.id,\n",
    "    biomass_signal=biomass_signal.id,\n",
    "    n_gaussians=20,\n",
    "    epsilon=0\n",
    ")"
   ]
  },
  {
   "cell_type": "code",
   "execution_count": null,
   "metadata": {},
   "outputs": [],
   "source": [
    "t = np.linspace(0, 24, 100)\n",
    "print(f'a = {char_receiver.a}')\n",
    "print('b = ', char_receiver.b)\n",
    "print('K = ', char_receiver.K)\n",
    "print('n = ', char_receiver.n)\n",
    "\n",
    "plt.plot(t, char_receiver.profile(t))\n",
    "plt.plot(t, rec_profile(t))\n",
    "plt.legend(['Characterization', 'True'])"
   ]
  },
  {
   "cell_type": "code",
   "execution_count": null,
   "metadata": {},
   "outputs": [],
   "source": []
  },
  {
   "cell_type": "markdown",
   "metadata": {},
   "source": [
    "### Inverter"
   ]
  },
  {
   "cell_type": "code",
   "execution_count": null,
   "metadata": {},
   "outputs": [],
   "source": [
    "dna = fj.get('dna', name='Inv_1e-3_nsr')\n",
    "if len(dna)==0:\n",
    "    dna = fj.create('dna', name='Inv_1e-3_nsr')\n",
    "vector = fj.get('vector', name='Inv_1e-3_nsr')    \n",
    "if len(vector)==0:\n",
    "    vector = fj.create('vector', name='Inv_1e-3_nsr', dnas=dna.id)\n",
    "    \n",
    "inv = GeneticNetwork(vector=vector.id[0])"
   ]
  },
  {
   "cell_type": "code",
   "execution_count": null,
   "metadata": {},
   "outputs": [],
   "source": [
    "def mu_profile(t):\n",
    "    return gompertz_growth_rate(t, 0.01, 1, 1, 1)\n",
    "inv_profile = random_profile(t0=0, tmax=24, nt=100, fmax=0.05)"
   ]
  },
  {
   "cell_type": "code",
   "execution_count": null,
   "metadata": {},
   "outputs": [],
   "source": [
    "ahl = Supplement(name='AHL')\n",
    "laci = Regulator('LacI', degradation_rate=2)\n",
    "rec = Receiver(inducer=ahl, output=laci, a=0, b=100, K=1, n=2, profile=rec_profile)\n",
    "inv.add_operator(rec)\n",
    "inv.add_regulator(laci)"
   ]
  },
  {
   "cell_type": "code",
   "execution_count": null,
   "metadata": {},
   "outputs": [],
   "source": [
    "cfp = fj.get('signal', name='CFP')\n",
    "cfp = Reporter('CFP', signal_id=cfp.id[0])\n",
    "inv.add_reporter(cfp)\n",
    "inv.add_operator(Not(input=laci, output=cfp, a=100, b=0, K=1, n=2, profile=inv_profile))"
   ]
  },
  {
   "cell_type": "code",
   "execution_count": null,
   "metadata": {},
   "outputs": [],
   "source": [
    "# Create list of samples    \n",
    "samples = []\n",
    "media = fj.get('media', name='Loica')\n",
    "strain = fj.get('strain', name='Loica strain')\n",
    "for conc in np.logspace(-6, 6, 12):\n",
    "    sample = Sample(circuit=inv, \n",
    "                metabolism=metab,\n",
    "                media=media.id[0],\n",
    "                strain=strain.id[0])\n",
    "    # Add AHL to samples at given concentration\n",
    "    sample.add_supplement(ahl, conc)\n",
    "    samples.append(sample)"
   ]
  },
  {
   "cell_type": "code",
   "execution_count": null,
   "metadata": {},
   "outputs": [],
   "source": [
    "biomass_signal = fj.get('signal', name='OD')\n",
    "assay = Assay(samples, \n",
    "              n_measurements=100, \n",
    "              interval=0.24,\n",
    "              name='Loica inverter',\n",
    "              description='Simulated inverter generated by loica',\n",
    "              biomass_signal_id=biomass_signal.id[0]\n",
    "             )\n",
    "assay.run()"
   ]
  },
  {
   "cell_type": "code",
   "execution_count": null,
   "metadata": {},
   "outputs": [],
   "source": [
    "m = assay.measurements\n",
    "fig,ax = plt.subplots(1,1)\n",
    "m[m.Signal=='CFP'].plot(x='Time', y='Measurement', style='.', ax=ax)"
   ]
  },
  {
   "cell_type": "code",
   "execution_count": null,
   "metadata": {},
   "outputs": [],
   "source": [
    "study = fj.get('study', name='Loica testing')\n",
    "if len(study)==0:\n",
    "    study = fj.create('study', name='Loica testing', description='Test')\n",
    "\n",
    "assay.upload(fj, study.id[0])"
   ]
  },
  {
   "cell_type": "code",
   "execution_count": null,
   "metadata": {},
   "outputs": [],
   "source": [
    "signal = fj.get('signal', name='CFP')\n",
    "receiver = fj.get('vector', name='Rec_1e-3_nsr')\n",
    "inverter = fj.get('vector', name='Inv_1e-3_nsr')\n",
    "media = fj.get('media', name='Loica')\n",
    "strain = fj.get('strain', name='Loica strain')\n",
    "biomass_signal = fj.get('signal', name='OD')\n",
    "analyte = fj.get('chemical', name='AHL')\n",
    "\n",
    "char_not = Not(input=None, output=None, a=100, b=0, K=1, n=2)\n",
    "char_not.characterize(\n",
    "    fj,\n",
    "    receiver = receiver.id,\n",
    "    inverter=inverter.id,\n",
    "    media=media.id,\n",
    "    strain=strain.id,\n",
    "    signal=signal.id,\n",
    "    biomass_signal=biomass_signal.id,\n",
    "    n_gaussians=20,\n",
    "    epsilon=0,\n",
    "    gamma=2\n",
    ")"
   ]
  },
  {
   "cell_type": "code",
   "execution_count": null,
   "metadata": {},
   "outputs": [],
   "source": [
    "t = np.linspace(0, 24, 100)\n",
    "plt.plot(t, char_not.profile(t), 'r--')\n",
    "plt.plot(t, inv_profile(t), 'r')\n",
    "plt.plot(t, rec_profile(t), 'g')\n",
    "plt.plot(t, char_not.profile_A(t), 'g--')\n",
    "\n",
    "print(char_not.a_A, char_not.b_A, char_not.K_A, char_not.n_A)\n",
    "print(char_not.a, char_not.b, char_not.K, char_not.n) #, char_not.gamma)"
   ]
  },
  {
   "cell_type": "code",
   "execution_count": null,
   "metadata": {},
   "outputs": [],
   "source": [
    "J = char_not.res.jac\n",
    "H = J.T.dot(J)\n",
    "C = np.linalg.inv(H) * np.sum(char_not.res.fun*char_not.res.fun) / 100\n",
    "covar = np.diag(np.abs(C))\n",
    "std = np.sqrt(covar)\n",
    "print(std[:3])\n",
    "print(char_not.n, char_not.K, char_not.b)\n",
    "plt.imshow(C[:,:]); plt.colorbar()"
   ]
  },
  {
   "cell_type": "code",
   "execution_count": null,
   "metadata": {},
   "outputs": [],
   "source": [
    "means = np.linspace(t.min(), t.max(), 20)\n",
    "vars = [t.max()/20]*20 #res.x[:n_blobs]\n",
    "\n",
    "profiles = []\n",
    "for i in range(1000):\n",
    "    rheights = np.random.multivariate_normal(char_not.res.x[3:], C[3:,3:])\n",
    "    profile = np.zeros_like(t)\n",
    "    for mean,var,height in zip(means, vars, rheights):\n",
    "        gaussian = height * np.exp(-(t-mean)*(t-mean) / var / 2) / np.sqrt(2 * np.pi * var)\n",
    "        profile += gaussian\n",
    "    profiles.append(np.array(profile))\n",
    "profiles = np.array(profiles)\n",
    "mean = np.mean(profiles, axis=0)\n",
    "std = np.std(profiles, axis=0)\n",
    "plt.plot(t, mean, 'k')\n",
    "plt.fill_between(t, mean-std, mean+std, color='k', alpha=0.2)"
   ]
  },
  {
   "cell_type": "markdown",
   "metadata": {},
   "source": [
    "### Repressilator"
   ]
  },
  {
   "cell_type": "code",
   "execution_count": null,
   "metadata": {},
   "outputs": [],
   "source": [
    "dna = fj.get('dna', name='Rep')\n",
    "if len(dna)==0:\n",
    "    dna = fj.create('dna', name='Rep')\n",
    "vector = fj.get('vector', name='Rep')    \n",
    "if len(vector)==0:\n",
    "    vector = fj.create('vector', name='Rep', dnas=dna.id)\n",
    "    \n",
    "rep = GeneticNetwork(vector=vector.id[0])"
   ]
  },
  {
   "cell_type": "code",
   "execution_count": null,
   "metadata": {},
   "outputs": [],
   "source": [
    "laci = Regulator(name='LacI', degradation_rate=1, init_concentration=5)\n",
    "tetr = Regulator(name='TetR', degradation_rate=1)\n",
    "ci = Regulator(name='cI', degradation_rate=1)\n",
    "rep.add_regulator(laci)\n",
    "rep.add_regulator(tetr)\n",
    "rep.add_regulator(ci)\n",
    "\n",
    "cfp = fj.get('signal', name='CFP')\n",
    "yfp = fj.get('signal', name='YFP')\n",
    "rfp = fj.get('signal', name='RFP')\n",
    "\n",
    "sfp1 = Reporter(name='CFP', degradation_rate=1, signal_id=cfp.id[0])\n",
    "rep.add_reporter(sfp1)\n",
    "sfp2 = Reporter(name='YFP', degradation_rate=1, signal_id=yfp.id[0])\n",
    "rep.add_reporter(sfp2)\n",
    "sfp3 = Reporter(name='RFP', degradation_rate=1, signal_id=rfp.id[0])\n",
    "rep.add_reporter(sfp3)\n",
    "\n",
    "rep.add_operator(Not(input=ci, output=laci, a=100, b=0, K=1, n=2))\n",
    "rep.add_operator(Not(input=laci, output=tetr, a=100, b=0, K=1, n=2))\n",
    "rep.add_operator(Not(input=tetr, output=ci, a=100, b=0, K=1, n=2))\n",
    "\n",
    "rep.add_operator(Not(input=ci, output=sfp1, a=100, b=0, K=1, n=2))\n",
    "rep.add_operator(Not(input=laci, output=sfp2, a=100, b=0, K=1, n=2))\n",
    "rep.add_operator(Not(input=tetr, output=sfp3, a=100, b=0, K=1, n=2))"
   ]
  },
  {
   "cell_type": "code",
   "execution_count": null,
   "metadata": {},
   "outputs": [],
   "source": [
    "study = fj.get('study', name='Loica testing')\n",
    "if len(study)==0:\n",
    "    study = fj.create('study', name='Loica testing', description='Test')\n",
    "media = fj.get('media', name='Loica')\n",
    "if len(media)==0:\n",
    "    media = fj.create('media', name='Loica', description='Simulated loica media')\n",
    "strain = fj.get('strain', name='Loica strain')\n",
    "if len(strain)==0:\n",
    "    strain = fj.create('strain', name='Loica strain', description='Loica test strain')\n",
    "\n",
    "biomass_signal = fj.get('signal', name='OD')\n",
    "\n",
    "sample = Sample(circuit=rep, \n",
    "                metabolism=metab,\n",
    "                media=media.id[0],\n",
    "                strain=strain.id[0]\n",
    "               )\n",
    "assay = Assay([sample], \n",
    "              n_measurements=100, \n",
    "              interval=0.25,\n",
    "              name='Loica repressilator',\n",
    "              description='Simulated repressilator generated by loica',\n",
    "              biomass_signal_id=biomass_signal.id[0]\n",
    "             )\n",
    "assay.run()"
   ]
  },
  {
   "cell_type": "code",
   "execution_count": null,
   "metadata": {},
   "outputs": [],
   "source": [
    "assay.measurements"
   ]
  },
  {
   "cell_type": "code",
   "execution_count": null,
   "metadata": {
    "scrolled": true
   },
   "outputs": [],
   "source": [
    "m = assay.measurements\n",
    "fig,ax = plt.subplots(1,1)\n",
    "m[m.Signal=='CFP'].plot(x='Time', y='Measurement', ax=ax)\n",
    "m[m.Signal=='YFP'].plot(x='Time', y='Measurement', ax=ax)\n",
    "m[m.Signal=='RFP'].plot(x='Time', y='Measurement', ax=ax)"
   ]
  },
  {
   "cell_type": "markdown",
   "metadata": {},
   "source": [
    "Upload simulated data to flapjack"
   ]
  },
  {
   "cell_type": "code",
   "execution_count": null,
   "metadata": {},
   "outputs": [],
   "source": [
    "assay.upload(fj, study.id[0])"
   ]
  },
  {
   "cell_type": "markdown",
   "metadata": {},
   "source": [
    "### Toggle switch"
   ]
  },
  {
   "cell_type": "code",
   "execution_count": null,
   "metadata": {},
   "outputs": [],
   "source": [
    "dna = fj.create('dna', name='Toggle')\n",
    "vector = fj.create('vector', name='Toggle', dnas=dna.id)\n",
    "tog = GeneticNetwork(vector=vector.id[0])\n",
    "\n",
    "laci = Regulator(name='LacI', degradation_rate=1, init_concentration=0.1)\n",
    "ci = Regulator(name='cI', degradation_rate=1)\n",
    "tog.add_regulator(laci)\n",
    "tog.add_regulator(ci)\n",
    "\n",
    "cfp = fj.get('signal', name='CFP')\n",
    "yfp = fj.get('signal', name='YFP')\n",
    "sfp1 = Reporter(name='CFP', degradation_rate=1, signal_id=cfp.id[0])\n",
    "tog.add_reporter(sfp1)\n",
    "sfp2 = Reporter(name='YFP', degradation_rate=1, signal_id=yfp.id[0])\n",
    "tog.add_reporter(sfp2)\n",
    "\n",
    "tog.add_operator(Not(input=laci, output=ci, a=10, b=0, K=1, n=2))\n",
    "tog.add_operator(Not(input=ci, output=laci, a=10, b=0, K=1, n=2))\n",
    "\n",
    "tog.add_operator(Not(input=ci, output=sfp1, a=10, b=0, K=1, n=2))\n",
    "tog.add_operator(Not(input=laci, output=sfp2, a=10, b=0, K=1, n=2))"
   ]
  },
  {
   "cell_type": "code",
   "execution_count": null,
   "metadata": {},
   "outputs": [],
   "source": [
    "study = fj.get('study', name='Loica testing')\n",
    "if len(study)==0:\n",
    "    study = fj.create('study', name='Loica testing', description='Test')\n",
    "media = fj.get('media', name='Loica')\n",
    "if len(media)==0:\n",
    "    media = fj.create('media', name='Loica', description='Simulated loica media')\n",
    "strain = fj.get('strain', name='Loica strain')\n",
    "if len(strain)==0:\n",
    "    strain = fj.create('strain', name='Loica strain', description='Loica test strain')\n",
    "\n",
    "biomass_signal = fj.get('signal', name='OD')\n",
    "sample = Sample(circuit=tog, \n",
    "                metabolism=metab,\n",
    "                media=media.id[0],\n",
    "                strain=strain.id[0]\n",
    "               )\n",
    "assay = Assay([sample], \n",
    "              n_measurements=100, \n",
    "              interval=0.25,\n",
    "              name='Loica toggle',\n",
    "              description='Simulated toggle switch generated by loica',\n",
    "              biomass_signal_id=biomass_signal.id[0]\n",
    "             )\n",
    "assay.run()"
   ]
  },
  {
   "cell_type": "code",
   "execution_count": null,
   "metadata": {},
   "outputs": [],
   "source": [
    "m = assay.measurements\n",
    "fig,ax = plt.subplots(1,1)\n",
    "m[m.Signal=='CFP'].plot(x='Time', y='Measurement', ax=ax)\n",
    "m[m.Signal=='YFP'].plot(x='Time', y='Measurement', ax=ax)"
   ]
  },
  {
   "cell_type": "markdown",
   "metadata": {},
   "source": [
    "Upload simulated data to flapjack"
   ]
  },
  {
   "cell_type": "code",
   "execution_count": null,
   "metadata": {},
   "outputs": [],
   "source": [
    "assay.upload(fj, study.id[0])"
   ]
  },
  {
   "cell_type": "code",
   "execution_count": null,
   "metadata": {},
   "outputs": [],
   "source": []
  },
  {
   "cell_type": "markdown",
   "metadata": {},
   "source": [
    "### Nor gate"
   ]
  },
  {
   "cell_type": "code",
   "execution_count": null,
   "metadata": {},
   "outputs": [],
   "source": [
    "dna = fj.get('dna', name='Nor')\n",
    "if len(dna)==0:\n",
    "    dna = fj.create('dna', name='Nor')\n",
    "vector = fj.get('vector', name='Nor')    \n",
    "if len(vector)==0:\n",
    "    vector = fj.create('vector', name='Nor', dnas=dna.id)\n",
    "    \n",
    "nor = GeneticNetwork(vector=vector.id[0])"
   ]
  },
  {
   "cell_type": "markdown",
   "metadata": {},
   "source": [
    "Create a reporter and associate it with a Flapjack signal so we can record the behaviour of the circuit:"
   ]
  },
  {
   "cell_type": "code",
   "execution_count": null,
   "metadata": {},
   "outputs": [],
   "source": [
    "cfp = fj.get('signal', name='CFP')\n",
    "sfp1 = Reporter(name='CFP', degradation_rate=0, signal_id=cfp.id[0])\n",
    "\n",
    "nor.add_reporter(sfp1)"
   ]
  },
  {
   "cell_type": "markdown",
   "metadata": {},
   "source": [
    "Create and add a receiver operator to the circuit, linking it to an AHL supplement and the receptor we just created:"
   ]
  },
  {
   "cell_type": "code",
   "execution_count": null,
   "metadata": {},
   "outputs": [],
   "source": [
    "ahl1 = Supplement(name='AHL1')\n",
    "ahl2 = Supplement(name='AHL2')\n",
    "nor.add_operator(Nor(input=[ahl1, ahl2], output=sfp1, alpha=[0.0001,1,1,1], a=[100,100], b=[1,1], K=[1,1], n=[2,2]))"
   ]
  },
  {
   "cell_type": "markdown",
   "metadata": {},
   "source": [
    "Now we have constructed the circuit we need to run an assay containing some samples. The sample is driven by a metabolism which defines the dynamics of growth and gene expression profiles:"
   ]
  },
  {
   "cell_type": "code",
   "execution_count": null,
   "metadata": {},
   "outputs": [],
   "source": [
    "def growth_rate(t):\n",
    "    return gompertz_growth_rate(t, 0.01, 1, 1, 4)\n",
    "\n",
    "def biomass(t):\n",
    "    return gompertz(t, 0.01, 1, 1, 4)\n",
    "    \n",
    "metab = SimulatedMetabolism(biomass, growth_rate)"
   ]
  },
  {
   "cell_type": "markdown",
   "metadata": {},
   "source": [
    "Next we create a set of samples associated to Flapjack media and strain, and containing our AHL at different concentrations"
   ]
  },
  {
   "cell_type": "code",
   "execution_count": null,
   "metadata": {},
   "outputs": [],
   "source": [
    "media = fj.get('media', name='Loica')\n",
    "if len(media)==0:\n",
    "    media = fj.create('media', name='Loica', description='Simulated loica media')\n",
    "strain = fj.get('strain', name='Loica strain')\n",
    "if len(strain)==0:\n",
    "    strain = fj.create('strain', name='Loica strain', description='Loica test strain')\n",
    "\n",
    "# Create list of samples    \n",
    "samples = []\n",
    "for conc1 in np.logspace(-3, 3, 6):\n",
    "    for conc2 in np.logspace(-3,3,6):\n",
    "        sample = Sample(circuit=nor, \n",
    "                metabolism=metab,\n",
    "                media=media.id[0],\n",
    "                strain=strain.id[0])\n",
    "        # Add AHL to samples at given concentration\n",
    "        sample.add_supplement(ahl1, conc1)\n",
    "        sample.add_supplement(ahl2, conc2)\n",
    "        samples.append(sample)"
   ]
  },
  {
   "cell_type": "markdown",
   "metadata": {},
   "source": [
    "Now we can create and run the assay:"
   ]
  },
  {
   "cell_type": "code",
   "execution_count": null,
   "metadata": {},
   "outputs": [],
   "source": [
    "biomass_signal = fj.get('signal', name='OD')\n",
    "assay = Assay(samples, \n",
    "              n_measurements=100, \n",
    "              interval=0.25,\n",
    "              name='Loica nor',\n",
    "              description='Simulated nor generated by loica',\n",
    "              biomass_signal_id=biomass_signal.id[0]\n",
    "             )\n",
    "assay.run()"
   ]
  },
  {
   "cell_type": "markdown",
   "metadata": {},
   "source": [
    "Plot the results:"
   ]
  },
  {
   "cell_type": "code",
   "execution_count": null,
   "metadata": {},
   "outputs": [],
   "source": [
    "m = assay.measurements\n",
    "fig,ax = plt.subplots(1,1)\n",
    "m[m.Signal=='CFP'].plot(x='Time', y='Measurement', style='.', ax=ax)"
   ]
  },
  {
   "cell_type": "markdown",
   "metadata": {},
   "source": [
    "Upload the simulated data to flapjack"
   ]
  },
  {
   "cell_type": "code",
   "execution_count": null,
   "metadata": {},
   "outputs": [],
   "source": [
    "study = fj.get('study', name='Loica testing')\n",
    "if len(study)==0:\n",
    "    study = fj.create('study', name='Loica testing', description='Test')\n",
    "\n",
    "assay.upload(fj, study.id[0])"
   ]
  },
  {
   "cell_type": "code",
   "execution_count": null,
   "metadata": {},
   "outputs": [],
   "source": []
  },
  {
   "cell_type": "code",
   "execution_count": null,
   "metadata": {},
   "outputs": [],
   "source": []
  }
 ],
 "metadata": {
  "kernelspec": {
   "display_name": "Python 3",
   "language": "python",
   "name": "python3"
  },
  "language_info": {
   "codemirror_mode": {
    "name": "ipython",
    "version": 3
   },
   "file_extension": ".py",
   "mimetype": "text/x-python",
   "name": "python",
   "nbconvert_exporter": "python",
   "pygments_lexer": "ipython3",
   "version": "3.8.5"
  }
 },
 "nbformat": 4,
 "nbformat_minor": 4
}
