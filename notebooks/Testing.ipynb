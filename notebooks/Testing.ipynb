{
 "cells": [
  {
   "cell_type": "code",
   "execution_count": null,
   "metadata": {},
   "outputs": [],
   "source": [
    "from loica import *\n",
    "import matplotlib.pyplot as plt\n",
    "import numpy as np"
   ]
  },
  {
   "cell_type": "markdown",
   "metadata": {},
   "source": [
    "### Repressilator"
   ]
  },
  {
   "cell_type": "code",
   "execution_count": null,
   "metadata": {},
   "outputs": [],
   "source": [
    "rep = GeneticNetwork()\n",
    "\n",
    "laci = Regulator(name='LacI', degradation_rate=1, init_concentration=5)\n",
    "tetr = Regulator(name='TetR', degradation_rate=1)\n",
    "ci = Regulator(name='cI', degradation_rate=1)\n",
    "rep.add_regulator(laci)\n",
    "rep.add_regulator(tetr)\n",
    "rep.add_regulator(ci)\n",
    "\n",
    "sfp1 = Reporter(name='SFP1', degradation_rate=1)\n",
    "rep.add_reporter(sfp1)\n",
    "sfp2 = Reporter(name='SFP2', degradation_rate=1)\n",
    "rep.add_reporter(sfp2)\n",
    "sfp3 = Reporter(name='SFP3', degradation_rate=1)\n",
    "rep.add_reporter(sfp3)\n",
    "\n",
    "rep.add_tu(RepressedRepressor(input=ci, output=laci, a=100, b=0, K=1, n=2))\n",
    "rep.add_tu(RepressedRepressor(input=laci, output=tetr, a=100, b=0, K=1, n=2))\n",
    "rep.add_tu(RepressedRepressor(input=tetr, output=ci, a=100, b=0, K=1, n=2))\n",
    "\n",
    "rep.add_tu(RepressedRepressor(input=ci, output=sfp1, a=100, b=0, K=1, n=2))\n",
    "rep.add_tu(RepressedRepressor(input=laci, output=sfp2, a=100, b=0, K=1, n=2))\n",
    "rep.add_tu(RepressedRepressor(input=tetr, output=sfp3, a=100, b=0, K=1, n=2))"
   ]
  },
  {
   "cell_type": "code",
   "execution_count": null,
   "metadata": {},
   "outputs": [],
   "source": [
    "def growth_rate(t):\n",
    "    return gompertz_growth_rate(t, 0.01, 1, 1, 4)\n",
    "\n",
    "def biomass(t):\n",
    "    return gompertz(t, 0.01, 1, 1, 4)\n",
    "\n",
    "def profile(biomass, gr, t):\n",
    "    return gr * 10 + 1\n",
    "    \n",
    "metab = SimulatedMetabolism(biomass, growth_rate, profile)\n",
    "sample = Sample(circuit=rep, metabolism=metab)\n",
    "assay = Assay([sample], 100, 0.25)\n",
    "assay.run()"
   ]
  },
  {
   "cell_type": "code",
   "execution_count": null,
   "metadata": {},
   "outputs": [],
   "source": [
    "m = assay.measurements\n",
    "fig,ax = plt.subplots(1,1)\n",
    "m[m.Signal=='SFP1'].plot(x='Time', y='Measurement', ax=ax)\n",
    "m[m.Signal=='SFP2'].plot(x='Time', y='Measurement', ax=ax)\n",
    "m[m.Signal=='SFP3'].plot(x='Time', y='Measurement', ax=ax)"
   ]
  },
  {
   "cell_type": "markdown",
   "metadata": {},
   "source": [
    "### Toggle switch"
   ]
  },
  {
   "cell_type": "code",
   "execution_count": null,
   "metadata": {},
   "outputs": [],
   "source": [
    "from flapjack import *\n",
    "fj = Flapjack(url_base='3.128.232.8:8000')\n",
    "fj.log_in(username='timrudge', password='chicken')"
   ]
  },
  {
   "cell_type": "code",
   "execution_count": null,
   "metadata": {},
   "outputs": [],
   "source": [
    "dna = fj.create('dna', name='Toggle')\n",
    "vector = fj.create('vector', name='Toggle', dnas=dna.id)\n",
    "tog = GeneticNetwork(vector=vector.id[0])\n",
    "\n",
    "laci = Regulator(name='LacI', degradation_rate=1, init_concentration=0.1)\n",
    "ci = Regulator(name='cI', degradation_rate=1)\n",
    "tog.add_regulator(laci)\n",
    "tog.add_regulator(ci)\n",
    "\n",
    "cfp = fj.get('signal', name='CFP')\n",
    "yfp = fj.get('signal', name='YFP')\n",
    "sfp1 = Reporter(name='CFP', degradation_rate=1, signal_id=cfp.id[0])\n",
    "tog.add_reporter(sfp1)\n",
    "sfp2 = Reporter(name='YFP', degradation_rate=1, signal_id=yfp.id[0])\n",
    "tog.add_reporter(sfp2)\n",
    "\n",
    "tog.add_tu(RepressedRepressor(input=laci, output=ci, a=10, b=0, K=1, n=2))\n",
    "tog.add_tu(RepressedRepressor(input=ci, output=laci, a=10, b=0, K=1, n=2))\n",
    "\n",
    "tog.add_tu(RepressedRepressor(input=ci, output=sfp1, a=10, b=0, K=1, n=2))\n",
    "tog.add_tu(RepressedRepressor(input=laci, output=sfp2, a=10, b=0, K=1, n=2))"
   ]
  },
  {
   "cell_type": "code",
   "execution_count": null,
   "metadata": {},
   "outputs": [],
   "source": [
    "study = fj.get('study', name='Loica testing')\n",
    "if len(study)==0:\n",
    "    study = fj.create('study', name='Loica testing', description='Test')\n",
    "media = fj.get('media', name='Loica')\n",
    "if len(media)==0:\n",
    "    media = fj.create('media', name='Loica', description='Simulated loica media')\n",
    "strain = fj.get('strain', name='Loica strain')\n",
    "if len(strain)==0:\n",
    "    strain = fj.create('strain', name='Loica strain', description='Loica test strain')\n",
    "\n",
    "biomass_signal = fj.get('signal', name='OD')\n",
    "sample = Sample(circuit=tog, \n",
    "                metabolism=metab,\n",
    "                media=media.id[0],\n",
    "                strain=strain.id[0],\n",
    "                vector=vector.id[0]\n",
    "               )\n",
    "assay = Assay([sample], \n",
    "              n_measurements=100, \n",
    "              interval=0.25,\n",
    "              name='Loica toggle',\n",
    "              description='Simulated toggle switch generated by loica',\n",
    "              biomass_signal_id=biomass_signal.id[0]\n",
    "             )\n",
    "assay.run()"
   ]
  },
  {
   "cell_type": "code",
   "execution_count": null,
   "metadata": {},
   "outputs": [],
   "source": [
    "m = assay.measurements\n",
    "fig,ax = plt.subplots(1,1)\n",
    "m[m.Signal=='CFP'].plot(x='Time', y='Measurement', ax=ax)\n",
    "m[m.Signal=='YFP'].plot(x='Time', y='Measurement', ax=ax)"
   ]
  },
  {
   "cell_type": "markdown",
   "metadata": {},
   "source": [
    "### Upload simulated data to flapjack"
   ]
  },
  {
   "cell_type": "code",
   "execution_count": null,
   "metadata": {},
   "outputs": [],
   "source": [
    "assay.upload(fj, study.id[0])"
   ]
  }
 ],
 "metadata": {
  "kernelspec": {
   "display_name": "Python 3",
   "language": "python",
   "name": "python3"
  },
  "language_info": {
   "codemirror_mode": {
    "name": "ipython",
    "version": 3
   },
   "file_extension": ".py",
   "mimetype": "text/x-python",
   "name": "python",
   "nbconvert_exporter": "python",
   "pygments_lexer": "ipython3",
   "version": "3.8.5"
  }
 },
 "nbformat": 4,
 "nbformat_minor": 4
}
