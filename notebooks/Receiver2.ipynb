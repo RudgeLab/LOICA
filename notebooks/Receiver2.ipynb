{
 "cells": [
  {
   "cell_type": "code",
   "execution_count": 1,
   "id": "23ce0f63",
   "metadata": {},
   "outputs": [],
   "source": [
    "from loica import *\n",
    "import matplotlib.pyplot as plt\n",
    "import numpy as np\n",
    "import getpass"
   ]
  },
  {
   "cell_type": "code",
   "execution_count": 2,
   "id": "d6b04b97",
   "metadata": {},
   "outputs": [
    {
     "name": "stdout",
     "output_type": "stream",
     "text": [
      "Flapjack username: tim\n",
      "Password: ········\n"
     ]
    }
   ],
   "source": [
    "from flapjack import *\n",
    "#fj = Flapjack(url_base='flapjack.rudge-lab.org:8000')\n",
    "fj = Flapjack(url_base='localhost:8000')\n",
    "fj.log_in(username=input('Flapjack username: '), password=getpass.getpass('Password: '))"
   ]
  },
  {
   "cell_type": "code",
   "execution_count": 3,
   "id": "12135973",
   "metadata": {},
   "outputs": [
    {
     "name": "stdout",
     "output_type": "stream",
     "text": [
      "One or more study already exists, type \"yes\" to replace them:\n"
     ]
    }
   ],
   "source": [
    "study = fj.create('study', name='Loica testing', description='Test study for demonstrating Loica')"
   ]
  },
  {
   "cell_type": "code",
   "execution_count": 16,
   "id": "f187f36a",
   "metadata": {},
   "outputs": [
    {
     "name": "stdout",
     "output_type": "stream",
     "text": [
      "One or more dna already exists, type \"yes\" to replace them:\n",
      "One or more vector already exists, type \"yes\" to replace them:\n"
     ]
    }
   ],
   "source": [
    "dna = fj.create('dna', name='receiver2')\n",
    "vector = fj.create('vector', name='receiver2', dnas=dna.id)"
   ]
  },
  {
   "cell_type": "code",
   "execution_count": 17,
   "id": "d8f66467",
   "metadata": {},
   "outputs": [],
   "source": [
    "network = GeneticNetwork(vector=vector.id[0])"
   ]
  },
  {
   "cell_type": "code",
   "execution_count": 18,
   "id": "23424030",
   "metadata": {},
   "outputs": [
    {
     "name": "stdout",
     "output_type": "stream",
     "text": [
      "One or more signal already exists, type \"yes\" to replace them:\n"
     ]
    }
   ],
   "source": [
    "sfp = fj.create('signal', name='SFP', color='green', description='Simulated fluorescent protein')\n",
    "reporter = Reporter(name='SFP', degradation_rate=0, init_concentration=0, signal_id=sfp.id[0])"
   ]
  },
  {
   "cell_type": "code",
   "execution_count": 19,
   "id": "f1bed322",
   "metadata": {},
   "outputs": [],
   "source": [
    "network.add_reporter(reporter)"
   ]
  },
  {
   "cell_type": "code",
   "execution_count": 20,
   "id": "d1df4d20",
   "metadata": {},
   "outputs": [],
   "source": [
    "ahl = Supplement(name='AHL2')\n",
    "rec = Receiver(input=ahl, output=reporter, a=0, b=1000, K=1, n=2)\n",
    "network.add_operator(rec)"
   ]
  },
  {
   "cell_type": "code",
   "execution_count": 21,
   "id": "af462019",
   "metadata": {},
   "outputs": [
    {
     "data": {
      "image/png": "[encoded data removed]",
      "text/plain": [
       "<Figure size 450x450 with 1 Axes>"
      ]
     },
     "metadata": {},
     "output_type": "display_data"
    }
   ],
   "source": [
    "plt.figure(figsize=(3,3), dpi=150)\n",
    "network.draw()"
   ]
  },
  {
   "cell_type": "code",
   "execution_count": 22,
   "id": "831c8d86",
   "metadata": {},
   "outputs": [
    {
     "name": "stdout",
     "output_type": "stream",
     "text": [
      "One or more media already exists, type \"yes\" to replace them:\n",
      "One or more strain already exists, type \"yes\" to replace them:\n"
     ]
    }
   ],
   "source": [
    "def growth_rate(t):\n",
    "    return gompertz_growth_rate(t, 0.05, 1, 1, 1)\n",
    "\n",
    "def biomass(t):\n",
    "    return gompertz(t, 0.05, 1, 1, 1)\n",
    "    \n",
    "metab = SimulatedMetabolism(biomass, growth_rate)\n",
    "\n",
    "media = fj.create('media', name='loica', description='Simulated loica media')\n",
    "strain = fj.create('strain', name='loica', description='Loica test strain')"
   ]
  },
  {
   "cell_type": "code",
   "execution_count": 23,
   "id": "2dbe3824",
   "metadata": {},
   "outputs": [],
   "source": [
    "# Create list of samples    \n",
    "samples = []\n",
    "concs = np.append(0, np.logspace(-6, 6, 24))\n",
    "for conc in concs:\n",
    "    sample = Sample(genetic_network=network, \n",
    "                metabolism=metab,\n",
    "                media=media.id[0],\n",
    "                strain=strain.id[0])\n",
    "    # Add AHL to samples at given concentration\n",
    "    sample.add_supplement(ahl, conc)\n",
    "    samples.append(sample)"
   ]
  },
  {
   "cell_type": "code",
   "execution_count": 24,
   "id": "defa2bb8",
   "metadata": {},
   "outputs": [
    {
     "name": "stdout",
     "output_type": "stream",
     "text": [
      "One or more signal already exists, type \"yes\" to replace them:\n"
     ]
    }
   ],
   "source": [
    "biomass_signal = fj.create('signal', name='SOD', description='Simulated OD', color='black')\n",
    "assay = Assay(samples, \n",
    "              n_measurements=100, \n",
    "              interval=0.24,\n",
    "              name='Loica receiver2',\n",
    "              description='Simulated receiver generated by loica',\n",
    "              biomass_signal_id=biomass_signal.id[0]\n",
    "             )\n",
    "assay.run(nsr=0)"
   ]
  },
  {
   "cell_type": "code",
   "execution_count": 25,
   "id": "c088d80b",
   "metadata": {},
   "outputs": [
    {
     "name": "stdout",
     "output_type": "stream",
     "text": [
      "One or more assay already exists, type \"yes\" to replace them:yes\n"
     ]
    }
   ],
   "source": [
    "assay.upload(fj, study.id[0])"
   ]
  },
  {
   "cell_type": "code",
   "execution_count": 26,
   "id": "c617e72f",
   "metadata": {},
   "outputs": [
    {
     "name": "stderr",
     "output_type": "stream",
     "text": [
      "100%|████████████████████████████████████████████████████████████| 100/100 [00:00<00:00, 137.98it/s]\n"
     ]
    },
    {
     "name": "stdout",
     "output_type": "stream",
     "text": [
      "Returning dataframe\n"
     ]
    },
    {
     "name": "stderr",
     "output_type": "stream",
     "text": [
      "100%|█████████████████████████████████████████████████████████████| 100/100 [00:01<00:00, 91.93it/s]\n"
     ]
    },
    {
     "name": "stdout",
     "output_type": "stream",
     "text": [
      "Returning dataframe\n"
     ]
    }
   ],
   "source": [
    "rec.characterize(\n",
    "    fj,\n",
    "    vector=vector.id,\n",
    "    media=media.id,\n",
    "    strain=strain.id,\n",
    "    signal=sfp.id,\n",
    "    biomass_signal=biomass_signal.id\n",
    ")"
   ]
  },
  {
   "cell_type": "code",
   "execution_count": 27,
   "id": "2bb4b644",
   "metadata": {},
   "outputs": [
    {
     "data": {
      "text/plain": [
       "(0.00018698345313776626,\n",
       " 1007.9741027129568,\n",
       " 1.000000291238369,\n",
       " 2.000000778448353)"
      ]
     },
     "execution_count": 27,
     "metadata": {},
     "output_type": "execute_result"
    }
   ],
   "source": [
    "rec.a, rec.b, rec.K, rec.n"
   ]
  },
  {
   "cell_type": "code",
   "execution_count": null,
   "id": "122b1b8a",
   "metadata": {},
   "outputs": [],
   "source": []
  }
 ],
 "metadata": {
  "kernelspec": {
   "display_name": "Python 3 (ipykernel)",
   "language": "python",
   "name": "python3"
  },
  "language_info": {
   "codemirror_mode": {
    "name": "ipython",
    "version": 3
   },
   "file_extension": ".py",
   "mimetype": "text/x-python",
   "name": "python",
   "nbconvert_exporter": "python",
   "pygments_lexer": "ipython3",
   "version": "3.9.7"
  }
 },
 "nbformat": 4,
 "nbformat_minor": 5
}
