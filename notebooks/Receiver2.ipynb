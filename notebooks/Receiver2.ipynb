{
 "cells": [
  {
   "cell_type": "markdown",
   "id": "092598f5",
   "metadata": {},
   "source": [
    "# Receiver operator modeling and characterization\n",
    "In this notebook we will construct a genetic network to model a Receiver operator, a signal receiver device, upload the simulated data to Flapjack, and then show how to characterize the operator based on this data. Note this is exactly the same process as in the Receiver1.ipynb notebook. We need two receivers in order to simulate and characterize the Nor operator."
   ]
  },
  {
   "cell_type": "markdown",
   "id": "3e978a77",
   "metadata": {},
   "source": [
    "## Import required packages\n"
   ]
  },
  {
   "cell_type": "code",
   "execution_count": null,
   "id": "70b6a67e",
   "metadata": {},
   "outputs": [],
   "source": [
    "from loica import *\n",
    "import matplotlib.pyplot as plt\n",
    "import numpy as np\n",
    "import getpass"
   ]
  },
  {
   "cell_type": "markdown",
   "id": "6d5376cd",
   "metadata": {},
   "source": [
    "## Make a connection to Flapjack\n",
    "Note here you should specify which instance of Flapjack you will use, whether it is local or the public instance for example."
   ]
  },
  {
   "cell_type": "code",
   "execution_count": null,
   "id": "bb14e296",
   "metadata": {},
   "outputs": [],
   "source": [
    "from flapjack import *\n",
    "#fj = Flapjack(url_base='flapjack.rudge-lab.org:8000')\n",
    "fj = Flapjack(url_base='localhost:8000')\n",
    "fj.log_in(username=input('Flapjack username: '), password=getpass.getpass('Password: '))"
   ]
  },
  {
   "cell_type": "markdown",
   "id": "4359b77b",
   "metadata": {},
   "source": [
    "## Get or create Flapjack objects\n",
    "To associate with the components of the genetic network and the simulated data with Flapjack we need the Ids of the appropriate objects. Note that if the objects already exist you will be prompted and can simply hit return to use the existing objects."
   ]
  },
  {
   "cell_type": "code",
   "execution_count": null,
   "id": "8a885561",
   "metadata": {},
   "outputs": [],
   "source": [
    "study = fj.create('study', name='Loica testing', description='Test study for demonstrating Loica')"
   ]
  },
  {
   "cell_type": "code",
   "execution_count": null,
   "id": "47570151",
   "metadata": {},
   "outputs": [],
   "source": [
    "sfp = fj.create('signal', name='SFP', color='green', description='Simulated fluorescent protein')"
   ]
  },
  {
   "cell_type": "code",
   "execution_count": null,
   "id": "6afd4b84",
   "metadata": {},
   "outputs": [],
   "source": [
    "dna = fj.create('dna', name='receiver2')\n",
    "vector = fj.create('vector', name='receiver2', dnas=dna.id)"
   ]
  },
  {
   "cell_type": "markdown",
   "id": "c7577cec",
   "metadata": {},
   "source": [
    "# Create the network with measurable reporter\n",
    "First we create a GeneticNetwork object and associate it with a Flapjack Vector (collection of DNA). The connection to Flapjack is optional, but we will use it here to upload data and characterize our components."
   ]
  },
  {
   "cell_type": "code",
   "execution_count": null,
   "id": "4b3986ab",
   "metadata": {},
   "outputs": [],
   "source": [
    "network = GeneticNetwork(vector=vector.id[0])"
   ]
  },
  {
   "cell_type": "code",
   "execution_count": null,
   "id": "219fe738",
   "metadata": {},
   "outputs": [],
   "source": [
    "reporter = Reporter(name='SFP', color='green', degradation_rate=0, init_concentration=0, signal_id=sfp.id[0])"
   ]
  },
  {
   "cell_type": "code",
   "execution_count": null,
   "id": "a446a4be",
   "metadata": {},
   "outputs": [],
   "source": [
    "network.add_reporter(reporter)"
   ]
  },
  {
   "cell_type": "markdown",
   "id": "926decb2",
   "metadata": {},
   "source": [
    "## Create the Receiver operator\n",
    "The receiver operator responds to a signal $s$ to produce an output expression rate $\\phi(s)$ modeled as follows:\n",
    "\n",
    "\\begin{equation}\n",
    "    \\phi(s)\n",
    "    =\n",
    "    \\frac\n",
    "    {\n",
    "        a + b (\\frac{s}{K})^n\n",
    "    }\n",
    "    {\n",
    "        1 + (\\frac{s}{K})^n\n",
    "    }\n",
    "\\end{equation}\n",
    "\n",
    "Here we must create a Supplement object to represent the signal, in this case modeling an acyl-homoserine lactone (AHL)."
   ]
  },
  {
   "cell_type": "code",
   "execution_count": null,
   "id": "4c19899e",
   "metadata": {},
   "outputs": [],
   "source": [
    "ahl = Supplement(name='AHL2')\n",
    "rec = Receiver(input=ahl, output=reporter, a=0, b=100, K=1, n=2)\n",
    "network.add_operator(rec)"
   ]
  },
  {
   "cell_type": "markdown",
   "id": "e1924598",
   "metadata": {},
   "source": [
    "## Draw the GeneticNetwork as a graph\n",
    "We can now make a visual representation of our GeneticNetwork to check it is wired up correctly."
   ]
  },
  {
   "cell_type": "code",
   "execution_count": null,
   "id": "f23d3046",
   "metadata": {},
   "outputs": [],
   "source": [
    "plt.figure(figsize=(3,3), dpi=150)\n",
    "network.draw()"
   ]
  },
  {
   "cell_type": "markdown",
   "id": "b6f00b16",
   "metadata": {},
   "source": [
    "## Simulate the GeneticNetwork\n",
    "In order to simulate the GeneticNetwork behaviour we need to specify the growth conditions in which it will operate. To do this we create a SimulatedMetabolism object which specifies growth functions."
   ]
  },
  {
   "cell_type": "code",
   "execution_count": null,
   "id": "9abd5c41",
   "metadata": {},
   "outputs": [],
   "source": [
    "def growth_rate(t):\n",
    "    return gompertz_growth_rate(t, 0.05, 1, 1, 1)\n",
    "\n",
    "def biomass(t):\n",
    "    return gompertz(t, 0.05, 1, 1, 1)\n",
    "    \n",
    "metab = SimulatedMetabolism(biomass, growth_rate)\n",
    "\n",
    "media = fj.create('media', name='loica', description='Simulated loica media')\n",
    "strain = fj.create('strain', name='loica', description='Loica test strain')"
   ]
  },
  {
   "cell_type": "markdown",
   "id": "31bb49b4",
   "metadata": {},
   "source": [
    "Now we can create Samples that contain our GeneticNetwork driven by the SimulatedMetabolism. We also need to specify the Media and Strain, in order to link to the Flapjack data model. To test the signal receiving behaviour we must also add the signal (ahl) at a range of concentrations."
   ]
  },
  {
   "cell_type": "code",
   "execution_count": null,
   "id": "80c0a8c4",
   "metadata": {},
   "outputs": [],
   "source": [
    "# Create list of samples    \n",
    "samples = []\n",
    "concs = np.append(0, np.logspace(-3, 3, 12))\n",
    "for conc in concs:\n",
    "    for _ in range(1):\n",
    "        sample = Sample(genetic_network=network, \n",
    "                    metabolism=metab,\n",
    "                    media=media.id[0],\n",
    "                    strain=strain.id[0])\n",
    "        # Add AHL to samples at given concentration\n",
    "        sample.add_supplement(ahl, conc)\n",
    "        samples.append(sample)"
   ]
  },
  {
   "cell_type": "markdown",
   "id": "988c7fd0",
   "metadata": {},
   "source": [
    "Given our Samples, we can now create an Assay which will simulate an experiment containing them. We need to specify the biomass signal in order to link to the Flapjack data model for later upload. Running the assay will simulate the behaviour of the GeneticNetwork."
   ]
  },
  {
   "cell_type": "code",
   "execution_count": null,
   "id": "ec01ac6f",
   "metadata": {},
   "outputs": [],
   "source": [
    "biomass_signal = fj.create('signal', name='SOD', description='Simulated OD', color='black')\n",
    "assay = Assay(samples, \n",
    "              n_measurements=100, \n",
    "              interval=0.24,\n",
    "              name='Loica receiver1',\n",
    "              description='Simulated receiver generated by loica',\n",
    "              biomass_signal_id=biomass_signal.id[0]\n",
    "             )\n",
    "assay.run()"
   ]
  },
  {
   "cell_type": "markdown",
   "id": "79b34a14",
   "metadata": {},
   "source": [
    "## Upload simulated data to Flapjack"
   ]
  },
  {
   "cell_type": "code",
   "execution_count": null,
   "id": "8f8b8555",
   "metadata": {},
   "outputs": [],
   "source": [
    "assay.upload(fj, study.id[0])"
   ]
  },
  {
   "cell_type": "markdown",
   "id": "0f35facb",
   "metadata": {},
   "source": [
    "Now we can check that the simulation worked by plotting an induction curve using the PyFlapjack package to connect to the Flapjack API. This also allows us to see if we have covered the dynamic range of the Receiver, in order to correctly characterize it."
   ]
  },
  {
   "cell_type": "code",
   "execution_count": null,
   "id": "9c283f1c",
   "metadata": {},
   "outputs": [],
   "source": [
    "ahl2_id = fj.get('chemical', name='AHL2').id[0]\n",
    "fig = fj.plot(study=study.id,                     \n",
    "                vector=vector.id,\n",
    "                signal=sfp.id,\n",
    "                type='Induction Curve',\n",
    "                analyte=ahl2_id,\n",
    "                function='Mean Expression',\n",
    "                biomass_signal=biomass_signal.id[0],\n",
    "                normalize='None',\n",
    "                subplots='Signal',\n",
    "                markers='Vector',\n",
    "                plot='All data points'\n",
    "       )\n",
    "fig"
   ]
  },
  {
   "cell_type": "markdown",
   "id": "a4afe091",
   "metadata": {},
   "source": [
    "## Characterize the Receiver operator from the uploaded data"
   ]
  },
  {
   "cell_type": "code",
   "execution_count": null,
   "id": "53a68fda",
   "metadata": {},
   "outputs": [],
   "source": [
    "rec.characterize(\n",
    "    fj,\n",
    "    vector=vector.id,\n",
    "    media=media.id,\n",
    "    strain=strain.id,\n",
    "    signal=sfp.id,\n",
    "    biomass_signal=biomass_signal.id\n",
    ")"
   ]
  },
  {
   "cell_type": "code",
   "execution_count": null,
   "id": "8d8b171a",
   "metadata": {},
   "outputs": [],
   "source": [
    "rec.a, rec.b, rec.K, rec.n"
   ]
  },
  {
   "cell_type": "code",
   "execution_count": null,
   "id": "233272f8",
   "metadata": {},
   "outputs": [],
   "source": []
  }
 ],
 "metadata": {
  "kernelspec": {
   "display_name": "Python 3 (ipykernel)",
   "language": "python",
   "name": "python3"
  },
  "language_info": {
   "codemirror_mode": {
    "name": "ipython",
    "version": 3
   },
   "file_extension": ".py",
   "mimetype": "text/x-python",
   "name": "python",
   "nbconvert_exporter": "python",
   "pygments_lexer": "ipython3",
   "version": "3.9.7"
  }
 },
 "nbformat": 4,
 "nbformat_minor": 5
}
