{
 "cells": [
  {
   "cell_type": "code",
   "execution_count": null,
   "metadata": {},
   "outputs": [],
   "source": [
    "from loica import *\n",
    "import matplotlib.pyplot as plt\n",
    "import numpy as np\n",
    "import getpass\n",
    "import matplotlib.pyplot as plt\n",
    "from scipy.signal import correlate\n",
    "plt.rcParams.update({'font.size': 8})"
   ]
  },
  {
   "cell_type": "code",
   "execution_count": null,
   "metadata": {
    "scrolled": true
   },
   "outputs": [],
   "source": [
    "from flapjack import *\n",
    "fj = Flapjack(url_base='3.128.232.8:8000')\n",
    "#fj = Flapjack(url_base='localhost:8000')\n",
    "fj.log_in(username=input('Flapjack username: '), password=getpass.getpass('Password: '))"
   ]
  },
  {
   "cell_type": "code",
   "execution_count": null,
   "metadata": {},
   "outputs": [],
   "source": [
    "fj.get('study')"
   ]
  },
  {
   "cell_type": "markdown",
   "metadata": {},
   "source": [
    "### Constitutive gene"
   ]
  },
  {
   "cell_type": "code",
   "execution_count": null,
   "metadata": {},
   "outputs": [],
   "source": [
    "area = fj.get('signal', name='OD')\n",
    "red = fj.get('signal', name='RFP')\n",
    "green = fj.get('signal', name='YFP')\n",
    "blue = fj.get('signal', name='CFP')\n",
    "r = Reporter(name='R', degradation_rate=0, signal_id=red.id[0])\n",
    "g = Reporter(name='G', degradation_rate=0, signal_id=green.id[0])\n",
    "b = Reporter(name='B', degradation_rate=0, signal_id=blue.id[0])    \n",
    "rsource = Source(r, 1)\n",
    "gsource = Source(g, 1)\n",
    "bsource = Source(b, 1)"
   ]
  },
  {
   "cell_type": "code",
   "execution_count": null,
   "metadata": {},
   "outputs": [],
   "source": [
    "medias = ['M9-glucose', 'M9-glycerol']\n",
    "strains = ['MG1655z1', 'Top10']\n",
    "vector = fj.get('vector', name='pAAA')\n",
    "signals = [red, green, blue]\n",
    "colors = ['red', 'green', 'blue']\n",
    "eps = 0.01"
   ]
  },
  {
   "cell_type": "code",
   "execution_count": null,
   "metadata": {
    "scrolled": true
   },
   "outputs": [],
   "source": [
    "from mpl_toolkits.axes_grid1.inset_locator import inset_axes\n",
    "for color,sig in zip(colors,signals):\n",
    "    fig,axs = plt.subplots(1, 4, sharex=True, sharey=True, figsize=(6.5,1.25))            \n",
    "    col = 0\n",
    "    for med in medias:\n",
    "        for st in strains:\n",
    "            media = fj.get('media', name=med)\n",
    "            strain = fj.get('strain', name=st)\n",
    "            \n",
    "            df = fj.analysis(vector=vector.id,\n",
    "                            media=media.id,\n",
    "                            strain=strain.id,\n",
    "                            signal=sig.id,\n",
    "                            type='Expression Rate (inverse)',\n",
    "                            eps=1e-2,\n",
    "                            n_gaussians=24,\n",
    "                            biomass_signal=area.id,\n",
    "                           )\n",
    "            rprofile = df.groupby('Time').Rate.mean().values\n",
    "            rstd = df.groupby('Time').Rate.std().values / rprofile.std()\n",
    "            t = df.groupby('Time').mean().index\n",
    "            #rsource.characterize(fj, vector.id, media.id, strain.id, sig.id, area.id, 20, eps)\n",
    "            #t = np.linspace(0, 24, 100)\n",
    "            #rprofile = rsource.profile(t) * rsource.rate\n",
    "            rprofile = (rprofile - rprofile.mean()) / rprofile.std()\n",
    "            axs[col].plot(t, rprofile, '-', color=color, linewidth=1)\n",
    "            axs[col].fill_between(t, rprofile-rstd, rprofile+rstd, color=color, alpha=0.2)\n",
    "            \n",
    "            df = fj.analysis(vector=vector.id,\n",
    "                            media=media.id,\n",
    "                            strain=strain.id,\n",
    "                            signal=area.id,\n",
    "                            type='Expression Rate (inverse)',\n",
    "                            eps=1e-2,\n",
    "                            n_gaussians=24,\n",
    "                            biomass_signal=area.id,\n",
    "                           )\n",
    "            muval = df.groupby('Time').Rate.mean().values\n",
    "            t = df.groupby('Time').mean().index\n",
    "            #od0, od, mu = characterize_growth(fj, vector.id, media.id, strain.id, area.id, 20, epsilon=eps)\n",
    "            #muval = mu(t)\n",
    "            muval = (muval-muval.mean()) / muval.std()\n",
    "            corr = correlate(rprofile, muval)\n",
    "            axin = axs[col].inset_axes([0.6, 0.6, 0.35, 0.35])\n",
    "            axin.set_xticks([])\n",
    "            axin.set_yticks([])\n",
    "            axin.axhline(linewidth=1, color='gray')\n",
    "            axin.axvline(x=100, linewidth=1, color='gray')\n",
    "            axin.plot(corr, '-', color='black', linewidth=1)\n",
    "            \n",
    "            #er_direct = fj.analysis(media=media.id, \n",
    "            #                strain=strain.id,\n",
    "            #                vector=vector.id,\n",
    "            #                signal=sig.id,\n",
    "            #                type='Expression Rate (direct)',\n",
    "            #                biomass_signal=area.id,\n",
    "            #                eps_L=1e-5\n",
    "            #                  )\n",
    "            #er_direct = er_direct.sort_values('Time')\n",
    "            #rfp = er_direct[er_direct.Signal==sig.name[0]].groupby('Time').mean().Rate.values\n",
    "            #rt = er_direct[er_direct.Signal==sig.name[0]].groupby('Time').mean().index\n",
    "            #rfp = (rfp - np.nanmean(rfp)) / np.nanstd(rfp)\n",
    "            #axs[col].plot(rt, rfp, '--', color=color, linewidth=1)\n",
    "            #axs[col].set_xticks([0,24])\n",
    "            \n",
    "            col += 1\n",
    "    #plt.legend(['Inverse method', 'Direct method'])\n",
    "    #plt.yticks([])\n",
    "    plt.tight_layout()\n",
    "    plt.subplots_adjust(left=0.1)\n",
    "    plt.savefig(f'{vector.name[0]}_{sig.name[0]}.png', dpi=300)\n",
    "\n",
    "\n",
    "\n",
    "\n"
   ]
  },
  {
   "cell_type": "code",
   "execution_count": null,
   "metadata": {},
   "outputs": [],
   "source": [
    "from scipy.stats import ttest_ind\n",
    "top10 = fj.get('strain', name='Top10').id[0]\n",
    "mg1655z1 = fj.get('strain', name='MG1655z1').id[0]\n",
    "dfred = fj.analysis(vector=vector.id,\n",
    "                            media=media.id,\n",
    "                            strain=[top10],\n",
    "                            signal=red.id,\n",
    "                            type='Expression Rate (inverse)',\n",
    "                            eps=1e-2,\n",
    "                            n_gaussians=20,\n",
    "                            biomass_signal=area.id,\n",
    "                           )\n",
    "dfgreen = fj.analysis(vector=vector.id,\n",
    "                            media=media.id,\n",
    "                            strain=[top10],\n",
    "                            signal=green.id,\n",
    "                            type='Expression Rate (inverse)',\n",
    "                            eps=1e-2,\n",
    "                            n_gaussians=20,\n",
    "                            biomass_signal=area.id,\n",
    "                           )\n",
    "dfblue = fj.analysis(vector=vector.id,\n",
    "                            media=media.id,\n",
    "                            strain=[top10],\n",
    "                            signal=blue.id,\n",
    "                            type='Expression Rate (inverse)',\n",
    "                            eps=1e-2,\n",
    "                            n_gaussians=20,\n",
    "                            biomass_signal=area.id,\n",
    "                           )"
   ]
  },
  {
   "cell_type": "code",
   "execution_count": null,
   "metadata": {},
   "outputs": [],
   "source": [
    "rc = dfgreen.groupby('Time').mean().Rate.values #/ dfblue.groupby('Time').mean().Rate.values\n",
    "plt.plot(rc)"
   ]
  },
  {
   "cell_type": "code",
   "execution_count": null,
   "metadata": {},
   "outputs": [],
   "source": [
    "from scipy.stats import kruskal\n",
    "\n",
    "gstrain = df.groupby('Strain')\n",
    "for st,stdata in gstrain:\n",
    "    gs = stdata.groupby('Sample')\n",
    "    rcorrs=[]\n",
    "    ycorrs=[]\n",
    "    ccorrs=[]\n",
    "    for s,data in gs:\n",
    "        r = data[data.Signal=='RFP'].sort_values('Time')\n",
    "        y = data[data.Signal=='YFP'].sort_values('Time')\n",
    "        c = data[data.Signal=='CFP'].sort_values('Time')\n",
    "        od = data[data.Signal=='OD'].sort_values('Time')\n",
    "        rc = np.corrcoef(r.Rate.values, od.Rate.values[1:])\n",
    "        rcorrs.append(rc[1,0])\n",
    "        yy = np.corrcoef(y.Rate.values, od.Rate.values[1:])\n",
    "        ycorrs.append(yy[1,0])\n",
    "        cc = np.corrcoef(c.Rate.values, od.Rate.values[1:])\n",
    "        ccorrs.append(cc[1,0])\n",
    "\n",
    "    plt.hist(rcorrs) #, color='red')\n",
    "    plt.hist(ycorrs) #, color='yellow')\n",
    "    plt.hist(ccorrs) #, color='cyan')\n",
    "\n",
    "    print(kruskal(rcorrs, ycorrs, ccorrs))\n",
    "    print(ttest_ind(rcorrs, ycorrs))\n",
    "    print(ttest_ind(rcorrs, ccorrs))\n",
    "    print(ttest_ind(ycorrs, ccorrs))"
   ]
  },
  {
   "cell_type": "code",
   "execution_count": null,
   "metadata": {},
   "outputs": [],
   "source": [
    "gs = df.groupby('Sample')\n",
    "t10corrs = []\n",
    "mgcorrs = []\n",
    "for s,data in gs:\n",
    "    t10 = data[data.Strain=='Top10'].sort_values('Time')\n",
    "    mg = data[data.Strain=='MG1655z1'].sort_values('Time')\n",
    "    t10corrs.append(np.corrcoef(t10[t10.Signal=='OD'].Rate.values[1:], t10[t10.Signal=='RFP'].Rate.values)[0,1])\n",
    "    mgcorrs.append(np.corrcoef(mg[mg.Signal=='OD'].Rate.values[1:], mg[mg.Signal=='RFP'].Rate.values)[0,1])\n",
    "    \n",
    "plt.hist(t10corrs)\n",
    "plt.hist(mgcorrs)"
   ]
  },
  {
   "cell_type": "code",
   "execution_count": null,
   "metadata": {},
   "outputs": [],
   "source": [
    "df = fj.analysis(vector=vector.id,\n",
    "                            media=media.id,\n",
    "                            strain=strain.id,\n",
    "                            signal=area.id,\n",
    "                            type='Expression Rate (inverse)',\n",
    "                            eps=1e-2,\n",
    "                            n_gaussians=24,\n",
    "                            biomass_signal=area.id,\n",
    "                           )\n",
    "rprofile = df.groupby('Time').Rate.mean().values\n",
    "rstd = df.groupby('Time').Rate.std().values  #/ rprofile.std()\n",
    "#rprofile = (rprofile - rprofile.mean()) / rprofile.std()\n",
    "plt.plot(t, rprofile, '-', color=color, linewidth=1)\n",
    "plt.fill_between(t, rprofile-rstd, rprofile+rstd, color=color, alpha=0.2)"
   ]
  },
  {
   "cell_type": "code",
   "execution_count": null,
   "metadata": {},
   "outputs": [],
   "source": [
    "## corr = correlate(muval, muval)\n",
    "plt.plot(corr)"
   ]
  },
  {
   "cell_type": "code",
   "execution_count": null,
   "metadata": {},
   "outputs": [],
   "source": [
    "media = fj.get('media', name=medias[0])\n",
    "strain = fj.get('strain', name=strains[0])\n",
    "rsource.characterize(fj, vector.id, media.id, strain.id, blue.id, area.id, 20, eps)"
   ]
  },
  {
   "cell_type": "code",
   "execution_count": null,
   "metadata": {},
   "outputs": [],
   "source": [
    "rsource.res.x[1]"
   ]
  },
  {
   "cell_type": "code",
   "execution_count": null,
   "metadata": {},
   "outputs": [],
   "source": [
    "fig,axs = plt.subplots(1, 4, sharex=True, sharey=True, figsize=(6.5,1.25))            \n",
    "col = 0\n",
    "for med in medias:\n",
    "    for st in strains:\n",
    "        media = fj.get('media', name=med)\n",
    "        strain = fj.get('strain', name=st)\n",
    "        df = fj.analysis(vector=vector.id,\n",
    "                            media=media.id,\n",
    "                            strain=strain.id,\n",
    "                            signal=area.id,\n",
    "                            type='Expression Rate (inverse)',\n",
    "                            eps=1e-2,\n",
    "                            n_gaussians=24,\n",
    "                            biomass_signal=area.id,\n",
    "                           )\n",
    "        muval = df.groupby('Time').Rate.mean().values\n",
    "        t = df.groupby('Time').mean().index\n",
    "        mustd = df.groupby('Time').Rate.std().values / muval.std()\n",
    "        muval = (muval-muval.mean()) / muval.std()\n",
    "        axs[col].plot(t, muval, '-', color='black', linewidth=1)\n",
    "        axs[col].fill_between(t, muval-mustd, muval+mustd, color='black', alpha=0.2)\n",
    "            \n",
    "        corr = correlate(muval, muval)\n",
    "        axin = axs[col].inset_axes([0.6, 0.6, 0.35, 0.35])\n",
    "        axin.set_xticks([])\n",
    "        axin.set_yticks([])\n",
    "        axin.axhline(linewidth=1, color='gray')\n",
    "        axin.axvline(x=100, linewidth=1, color='gray')\n",
    "        axin.plot(corr, '-', color='black', linewidth=1)\n",
    "\n",
    "        #er_direct = fj.analysis(media=media.id, \n",
    "        #                strain=strain.id,\n",
    "        #                vector=vector.id,\n",
    "        #                type='Expression Rate (direct)',\n",
    "        #                biomass_signal=area.id,\n",
    "        #                eps_L=1e-5\n",
    "        #                  )\n",
    "        #er_direct = er_direct.sort_values('Time')\n",
    "        #mu = er_direct[er_direct.Signal=='Area'].groupby('Time').mean().Rate.values\n",
    "        #mut = er_direct[er_direct.Signal=='Area'].groupby('Time').mean().index\n",
    "        ##rfp = (rfp - np.nanmean(rfp)) / np.nanstd(rfp)\n",
    "        #axs[col].plot(mut, mu, '--', color='black', linewidth=1)\n",
    "        axs[col].set_xticks([0,24])\n",
    "\n",
    "        col += 1\n",
    "#plt.legend(['Inverse method', 'Direct method'], loc=(1,0))\n",
    "#plt.yticks([])\n",
    "plt.tight_layout()\n",
    "plt.subplots_adjust(left=0.1)\n",
    "plt.savefig(f'{vector.name[0]}_growth_rate.png', dpi=300)"
   ]
  },
  {
   "cell_type": "code",
   "execution_count": null,
   "metadata": {},
   "outputs": [],
   "source": [
    "media = fj.get('media', name='M9-glucose')\n",
    "strain = fj.get('strain', name='MG1655z1')\n",
    "vector = fj.get('vector', name='pAAA')\n",
    "meas = fj.analysis(media=media.id, \n",
    "                        strain=strain.id,\n",
    "                        vector=vector.id,\n",
    "                        type='Expression Rate (direct)',\n",
    "                        biomass_signal=area.id,\n",
    "                        eps_L=1e-5\n",
    "                          )\n",
    "rfp = meas[meas.Signal=='RFP'].sort_values('Time').groupby('Time').mean().Measurement.values\n",
    "yfp = meas[meas.Signal=='YFP'].sort_values('Time').groupby('Time').mean().Measurement.values\n",
    "cfp = meas[meas.Signal=='CFP'].sort_values('Time').groupby('Time').mean().Measurement.values\n",
    "od = meas[meas.Signal=='OD'].sort_values('Time').groupby('Time').mean().Measurement.values\n"
   ]
  },
  {
   "cell_type": "code",
   "execution_count": null,
   "metadata": {},
   "outputs": [],
   "source": [
    "plt.plot(np.diff(yfp[10:40])/np.diff(cfp[10:40]), '.-')\n",
    "plt.figure()\n",
    "plt.plot(np.diff(rfp[10:40])/np.diff(cfp[10:40]), '.-')\n",
    "plt.figure()\n",
    "plt.plot(np.diff(yfp[10:40])/np.diff(rfp[10:40]), '.-')\n",
    "#plt.plot(cfp[10:40]/yfp[10:40], '.-')\n",
    "\n",
    "plt.figure()\n",
    "plt.plot(rfp[10:40], yfp[10:40], '.-')\n",
    "\n",
    "plt.figure()\n",
    "plt.plot(od[10:40])"
   ]
  },
  {
   "cell_type": "code",
   "execution_count": null,
   "metadata": {},
   "outputs": [],
   "source": [
    "odmeas = er_direct[er_direct.Signal=='Area'].groupby('Time').mean().Measurement.values\n",
    "plt.plot(od, 'k')\n",
    "plt.plot(odmeas, 'k--')\n",
    "plt.yscale('log')\n",
    "print(od0)\n",
    "print(odmeas[0])"
   ]
  },
  {
   "cell_type": "code",
   "execution_count": null,
   "metadata": {},
   "outputs": [],
   "source": [
    "paaa = fj.measurements(media=media.id, \n",
    "                        strain=strain.id,\n",
    "                        vector=vector.id,\n",
    "                          )\n",
    "samples = paaa.Sample.unique()\n",
    "s0 = samples[0]\n",
    "paaa = paaa.sort_values('Time')\n",
    "od = paaa[paaa.Signal=='OD'][paaa.Sample==s0]\n",
    "rfp = paaa[paaa.Signal=='RFP'][paaa.Sample==s0]\n",
    "yfp = paaa[paaa.Signal=='YFP'][paaa.Sample==s0]\n",
    "cfp = paaa[paaa.Signal=='CFP'][paaa.Sample==s0]\n",
    "plt.figure(figsize=(1,1))\n",
    "plt.plot(od.Time, od.Measurement, 'k-')\n",
    "plt.xticks([])\n",
    "plt.yticks([])\n",
    "plt.savefig('od.png', dpi=300)\n",
    "plt.figure(figsize=(1,1))\n",
    "plt.plot(rfp.Time, rfp.Measurement, 'r-')\n",
    "plt.xticks([])\n",
    "plt.yticks([])\n",
    "plt.savefig('rfp.png', dpi=300)\n",
    "plt.figure(figsize=(1,1))\n",
    "plt.plot(yfp.Time, yfp.Measurement, 'g-')\n",
    "plt.xticks([])\n",
    "plt.yticks([])\n",
    "plt.savefig('yfp.png', dpi=300)\n",
    "plt.figure(figsize=(1,1))\n",
    "plt.plot(cfp.Time, cfp.Measurement, 'b-')\n",
    "plt.xticks([])\n",
    "plt.yticks([])\n",
    "plt.savefig('cfp.png', dpi=300)"
   ]
  },
  {
   "cell_type": "code",
   "execution_count": null,
   "metadata": {},
   "outputs": [],
   "source": [
    "plt.plot(gr[1:][0])"
   ]
  },
  {
   "cell_type": "code",
   "execution_count": null,
   "metadata": {},
   "outputs": [],
   "source": [
    "from scipy.signal import correlate\n",
    "c = correlate(rfp, rprofile[5:])\n",
    "plt.plot(c, 'gray')\n",
    "plt.plot([95,95], [0, c.max()], 'k--')\n",
    "rfp.shape"
   ]
  },
  {
   "cell_type": "code",
   "execution_count": null,
   "metadata": {},
   "outputs": [],
   "source": [
    "t = np.linspace(0, 24, 100)\n",
    "rprofile = rsource.profile(t) * rsource.rate\n",
    "#rprofile = (rprofile - rprofile.mean()) / rprofile.std()\n",
    "plt.plot(t, rprofile, 'r')\n",
    "gprofile = gsource.profile(t) * gsource.rate\n",
    "#gprofile = (gprofile - gprofile.mean()) / gprofile.std()\n",
    "plt.plot(t, gprofile, 'g')\n",
    "bprofile = bsource.profile(t) * bsource.rate\n",
    "#bprofile = (bprofile - bprofile.mean()) / bprofile.std()\n",
    "plt.plot(t, bprofile, 'b')"
   ]
  },
  {
   "cell_type": "code",
   "execution_count": null,
   "metadata": {},
   "outputs": [],
   "source": [
    "er_direct = fj.analysis(media=media.id, \n",
    "                    strain=strain.id,\n",
    "                    vector=[vector.id[0]],\n",
    "                    type='Expression Rate (direct)',\n",
    "                    biomass_signal=area.id,\n",
    "                    eps_L=1e-5,\n",
    "                    pre_smoothing=11,\n",
    "                    post_smoothing=11,\n",
    "                    #bg_correction=2,\n",
    "                    #min_biomass=0.05,\n",
    "                    #remove_data=False\n",
    "                      )"
   ]
  },
  {
   "cell_type": "code",
   "execution_count": null,
   "metadata": {},
   "outputs": [],
   "source": [
    "er_direct[er_direct.Signal=='RFP'].groupby('Time').mean().plot(y='Rate', style='-.')\n",
    "plt.plot(t, rprofile, 'r')\n",
    "er_direct[er_direct.Signal=='YFP'].groupby('Time').mean().plot(y='Rate', style='-.')\n",
    "plt.plot(t, gprofile, 'g')\n",
    "er_direct[er_direct.Signal=='CFP'].groupby('Time').mean().plot(y='Rate', style='-.')\n",
    "plt.plot(t, bprofile, 'b')\n",
    "\n",
    "er_direct[er_direct.Signal=='OD'].groupby('Time').mean().plot(y='Rate', style='-.')\n"
   ]
  },
  {
   "cell_type": "code",
   "execution_count": null,
   "metadata": {},
   "outputs": [],
   "source": [
    "#def profile(t):\n",
    "#    return 0.1 + 0.9 * gompertz_growth_rate(t, 0.01, 1, 1, 4)\n",
    "profile = random_profile(t0=0, tmax=24, nt=100, fmax=0.05)\n",
    "const.add_operator(Source(output=sfp1, rate=1, profile=profile))"
   ]
  },
  {
   "cell_type": "code",
   "execution_count": null,
   "metadata": {},
   "outputs": [],
   "source": [
    "def growth_rate(t):\n",
    "    return gompertz_growth_rate(t, 0.01, 1, 1, 4)\n",
    "\n",
    "def biomass(t):\n",
    "    return gompertz(t, 0.01, 1, 1, 4)\n",
    "    \n",
    "metab = SimulatedMetabolism(biomass, growth_rate)"
   ]
  },
  {
   "cell_type": "code",
   "execution_count": null,
   "metadata": {},
   "outputs": [],
   "source": [
    "media = fj.get('media', name='Loica')\n",
    "if len(media)==0:\n",
    "    media = fj.create('media', name='Loica', description='Simulated loica media')\n",
    "strain = fj.get('strain', name='Loica strain')\n",
    "if len(strain)==0:\n",
    "    strain = fj.create('strain', name='Loica strain', description='Loica test strain')\n",
    "\n",
    "sample = Sample(circuit=const, \n",
    "                metabolism=metab,\n",
    "                media=media.id[0],\n",
    "                strain=strain.id[0])"
   ]
  },
  {
   "cell_type": "code",
   "execution_count": null,
   "metadata": {},
   "outputs": [],
   "source": [
    "biomass_signal = fj.get('signal', name='OD')\n",
    "assay = Assay([sample], \n",
    "              n_measurements=100, \n",
    "              interval=0.24,\n",
    "              name='Loica constitutive expression',\n",
    "              description='Simulated constitutive gene generated by loica',\n",
    "              biomass_signal_id=biomass_signal.id[0]\n",
    "             )\n",
    "assay.run()"
   ]
  },
  {
   "cell_type": "code",
   "execution_count": null,
   "metadata": {},
   "outputs": [],
   "source": [
    "m = assay.measurements\n",
    "fig,ax = plt.subplots(1,1)\n",
    "m[m.Signal=='CFP'].plot(x='Time', y='Measurement', style='.', ax=ax)"
   ]
  },
  {
   "cell_type": "code",
   "execution_count": null,
   "metadata": {},
   "outputs": [],
   "source": [
    "study = fj.get('study', name='Loica testing')\n",
    "if len(study)==0:\n",
    "    study = fj.create('study', name='Loica testing', description='Testing')\n",
    "assay.upload(fj, study.id[0])"
   ]
  },
  {
   "cell_type": "code",
   "execution_count": null,
   "metadata": {},
   "outputs": [],
   "source": [
    "source = const.operators[0]\n",
    "source.characterize(\n",
    "    fj,\n",
    "    vector=vector.id,\n",
    "    media=media.id,\n",
    "    strain=strain.id,\n",
    "    signal=cfp.id,\n",
    "    biomass_signal=biomass_signal.id,\n",
    "    fmax=0.1,\n",
    "    epsilon=0\n",
    ")"
   ]
  },
  {
   "cell_type": "code",
   "execution_count": null,
   "metadata": {},
   "outputs": [],
   "source": [
    "print('Protein degradation rate = ', source.gamma)\n",
    "t = np.linspace(1, 23, 100)\n",
    "plt.plot(t, source.profile(t))\n",
    "plt.plot(t, profile(t))\n",
    "plt.legend(['Characterization', 'True'])"
   ]
  },
  {
   "cell_type": "markdown",
   "metadata": {},
   "source": [
    "### Receiver"
   ]
  },
  {
   "cell_type": "markdown",
   "metadata": {},
   "source": [
    "Create a genetic network and associate it with a Flapjack vector:"
   ]
  },
  {
   "cell_type": "code",
   "execution_count": null,
   "metadata": {},
   "outputs": [],
   "source": [
    "dna = fj.get('dna', name='Rec1')\n",
    "if len(dna)==0:\n",
    "    dna = fj.create('dna', name='Rec1')\n",
    "vector = fj.get('vector', name='Rec1')    \n",
    "if len(vector)==0:\n",
    "    vector = fj.create('vector', name='Rec1', dnas=dna.id)\n",
    "    \n",
    "rec = GeneticNetwork(vector=vector.id[0])"
   ]
  },
  {
   "cell_type": "markdown",
   "metadata": {},
   "source": [
    "Create a reporter and associate it with a Flapjack signal so we can record the behaviour of the circuit:"
   ]
  },
  {
   "cell_type": "code",
   "execution_count": null,
   "metadata": {},
   "outputs": [],
   "source": [
    "cfp = fj.get('signal', name='CFP')\n",
    "sfp1 = Reporter(name='CFP', degradation_rate=0, signal_id=cfp.id[0])\n",
    "\n",
    "rec.add_reporter(sfp1)"
   ]
  },
  {
   "cell_type": "markdown",
   "metadata": {},
   "source": [
    "Create and add a receiver operator to the circuit, linking it to an AHL supplement:"
   ]
  },
  {
   "cell_type": "code",
   "execution_count": null,
   "metadata": {},
   "outputs": [],
   "source": [
    "ahl = Supplement(name='AHL')\n",
    "def sin_profile(t):\n",
    "    return 1 - np.cos(2 * np.pi * t / 12)\n",
    "def mu_profile(t):\n",
    "    return 100 + 1000 * gompertz_growth_rate(t, 0.01, 1, 1, 4)\n",
    "profile = random_profile(t0=0, tmax=24, nt=100, fmax=0.05)\n",
    "rec.add_operator(Receiver(inducer=ahl, output=sfp1, a=0, b=1, K=1, n=2, profile=mu_profile))"
   ]
  },
  {
   "cell_type": "markdown",
   "metadata": {},
   "source": [
    "Now we have constructed the circuit we need to run an assay containing some samples. The sample is driven by a metabolism which defines the dynamics of growth and gene expression profiles:"
   ]
  },
  {
   "cell_type": "code",
   "execution_count": null,
   "metadata": {},
   "outputs": [],
   "source": [
    "def growth_rate(t):\n",
    "    return gompertz_growth_rate(t, 0.01, 1, 1, 4)\n",
    "\n",
    "def biomass(t):\n",
    "    return gompertz(t, 0.01, 1, 1, 4)\n",
    "    \n",
    "metab = SimulatedMetabolism(biomass, growth_rate)"
   ]
  },
  {
   "cell_type": "markdown",
   "metadata": {},
   "source": [
    "Next we create a set of samples associated to Flapjack media and strain, and containing our AHL at different concentrations"
   ]
  },
  {
   "cell_type": "code",
   "execution_count": null,
   "metadata": {},
   "outputs": [],
   "source": [
    "media = fj.get('media', name='Loica')\n",
    "if len(media)==0:\n",
    "    media = fj.create('media', name='Loica', description='Simulated loica media')\n",
    "strain = fj.get('strain', name='Loica strain')\n",
    "if len(strain)==0:\n",
    "    strain = fj.create('strain', name='Loica strain', description='Loica test strain')\n",
    "\n",
    "# Create list of samples    \n",
    "samples = []\n",
    "for conc in np.logspace(-3, 3, 24):\n",
    "    sample = Sample(circuit=rec, \n",
    "                metabolism=metab,\n",
    "                media=media.id[0],\n",
    "                strain=strain.id[0])\n",
    "    # Add AHL to samples at given concentration\n",
    "    sample.add_supplement(ahl, conc)\n",
    "    samples.append(sample)"
   ]
  },
  {
   "cell_type": "markdown",
   "metadata": {},
   "source": [
    "Now we can create and run the assay:"
   ]
  },
  {
   "cell_type": "code",
   "execution_count": null,
   "metadata": {},
   "outputs": [],
   "source": [
    "biomass_signal = fj.get('signal', name='OD')\n",
    "assay = Assay(samples, \n",
    "              n_measurements=100, \n",
    "              interval=0.24,\n",
    "              name='Loica receiver',\n",
    "              description='Simulated receiver generated by loica',\n",
    "              biomass_signal_id=biomass_signal.id[0]\n",
    "             )\n",
    "assay.run()"
   ]
  },
  {
   "cell_type": "markdown",
   "metadata": {},
   "source": [
    "Plot the results:"
   ]
  },
  {
   "cell_type": "code",
   "execution_count": null,
   "metadata": {},
   "outputs": [],
   "source": [
    "m = assay.measurements\n",
    "fig,ax = plt.subplots(1,1)\n",
    "m[m.Signal=='Biomass'].plot(x='Time', y='Measurement', style='.', ax=ax)"
   ]
  },
  {
   "cell_type": "markdown",
   "metadata": {},
   "source": [
    "Upload the simulated data to flapjack"
   ]
  },
  {
   "cell_type": "code",
   "execution_count": null,
   "metadata": {},
   "outputs": [],
   "source": [
    "study = fj.get('study', name='Loica testing')\n",
    "if len(study)==0:\n",
    "    study = fj.create('study', name='Loica testing', description='Test')\n",
    "\n",
    "assay.upload(fj, study.id[0])"
   ]
  },
  {
   "cell_type": "code",
   "execution_count": null,
   "metadata": {},
   "outputs": [],
   "source": [
    "vector = fj.get('vector', name='pREC4')\n",
    "media = fj.get('media', name='Simulated media')\n",
    "strain = fj.get('strain', name='Simulated strain')\n",
    "signal = fj.get('signal', name='SFP0')\n",
    "biomass_signal = fj.get('signal', name='SOD')\n",
    "#print(biomass_signal)\n",
    "\n",
    "receiver = Receiver(None, None, 0,0,0,0) #rec.operators[0]\n",
    "receiver.characterize(\n",
    "    fj,\n",
    "    vector=vector.id,\n",
    "    media=media.id,\n",
    "    strain=strain.id,\n",
    "    signal=signal.id,\n",
    "    biomass_signal=biomass_signal.id,\n",
    "    fmax=0.05,\n",
    "    epsilon=0.1\n",
    ")"
   ]
  },
  {
   "cell_type": "code",
   "execution_count": null,
   "metadata": {},
   "outputs": [],
   "source": [
    "print('K = ', receiver.K)\n",
    "print('n = ', receiver.n)\n",
    "t = np.linspace(0, 24, 100)\n",
    "plt.plot(t, receiver.profile(t))\n",
    "plt.plot(t, 1000 + 500 * gompertz_growth_rate(t, 0.01, 1, 1, 4))\n",
    "plt.legend(['Characterization', 'True'])\n",
    "\n",
    "print(receiver.profile(t).mean())\n",
    "print((1000 + 500 * gompertz_growth_rate(t, 0.01, 1, 1, 4)).mean())"
   ]
  },
  {
   "cell_type": "code",
   "execution_count": null,
   "metadata": {},
   "outputs": [],
   "source": [
    "meas_true = assay.measurements\n",
    "\n",
    "assay.run()"
   ]
  },
  {
   "cell_type": "code",
   "execution_count": null,
   "metadata": {},
   "outputs": [],
   "source": [
    "m = assay.measurements\n",
    "fig,ax = plt.subplots(1,1)\n",
    "m[m.Signal=='CFP'].plot(x='Time', y='Measurement', style='.', ax=ax)\n",
    "\n",
    "m = meas_true\n",
    "m[m.Signal=='CFP'].plot(x='Time', y='Measurement', style='r.', ax=ax)"
   ]
  },
  {
   "cell_type": "code",
   "execution_count": null,
   "metadata": {},
   "outputs": [],
   "source": [
    "const = GeneticNetwork(vector.id[0])\n",
    "const.add_operator(Source(output=sfp1, rate=1, profile=profile))\n",
    "source = const.operators[0]\n",
    "source.characterize(\n",
    "    fj,\n",
    "    vector=vector.id,\n",
    "    media=media.id,\n",
    "    strain=strain.id,\n",
    "    signal=cfp.id,\n",
    "    biomass_signal=biomass_signal.id,\n",
    "    fmax=0.1,\n",
    "    epsilon=0\n",
    ")"
   ]
  },
  {
   "cell_type": "code",
   "execution_count": null,
   "metadata": {},
   "outputs": [],
   "source": [
    "t = np.linspace(0.25, 23, 100)\n",
    "plt.plot(t, source.profile(t)*2)\n",
    "plt.plot(t, mu_profile(t))\n",
    "print(source.gamma)"
   ]
  },
  {
   "cell_type": "markdown",
   "metadata": {},
   "source": [
    "### Inverter"
   ]
  },
  {
   "cell_type": "code",
   "execution_count": null,
   "metadata": {},
   "outputs": [],
   "source": [
    "dna = fj.get('dna', name='Inv')\n",
    "if len(dna)==0:\n",
    "    dna = fj.create('dna', name='Inv')\n",
    "vector = fj.get('vector', name='Inv')    \n",
    "if len(vector)==0:\n",
    "    vector = fj.create('vector', name='Inv', dnas=dna.id)\n",
    "    \n",
    "inv = GeneticNetwork(vector=vector.id[0])"
   ]
  },
  {
   "cell_type": "code",
   "execution_count": null,
   "metadata": {},
   "outputs": [],
   "source": [
    "inv.add_regulator(receptor)\n",
    "inv.add_operator(Source(output=receptor, rate=1))"
   ]
  },
  {
   "cell_type": "code",
   "execution_count": null,
   "metadata": {},
   "outputs": [],
   "source": [
    "inv.add_reporter(sfp1)\n",
    "laci = Regulator(name='LacI', degradation_rate=1)\n",
    "inv.add_regulator(laci)\n",
    "inv.add_operator(Not(input=laci, output=sfp1, a=100, b=0, K=1, n=2))"
   ]
  },
  {
   "cell_type": "code",
   "execution_count": null,
   "metadata": {},
   "outputs": [],
   "source": [
    "inv.add_operator(\n",
    "    Receiver(receptor=receptor, inducer=ahl, output=laci, a=0, b=100, K=1, n=2)\n",
    ")"
   ]
  },
  {
   "cell_type": "code",
   "execution_count": null,
   "metadata": {},
   "outputs": [],
   "source": [
    "# Create list of samples    \n",
    "samples = []\n",
    "for conc in np.logspace(-3, 3, 12):\n",
    "    sample = Sample(circuit=inv, \n",
    "                metabolism=metab,\n",
    "                media=media.id[0],\n",
    "                strain=strain.id[0])\n",
    "    # Add AHL to samples at given concentration\n",
    "    sample.add_supplement(ahl, conc)\n",
    "    samples.append(sample)"
   ]
  },
  {
   "cell_type": "code",
   "execution_count": null,
   "metadata": {},
   "outputs": [],
   "source": [
    "biomass_signal = fj.get('signal', name='OD')\n",
    "assay = Assay(samples, \n",
    "              n_measurements=100, \n",
    "              interval=0.25,\n",
    "              name='Loica inverter',\n",
    "              description='Simulated inverter generated by loica',\n",
    "              biomass_signal_id=biomass_signal.id[0]\n",
    "             )\n",
    "assay.run()"
   ]
  },
  {
   "cell_type": "code",
   "execution_count": null,
   "metadata": {},
   "outputs": [],
   "source": [
    "m = assay.measurements\n",
    "fig,ax = plt.subplots(1,1)\n",
    "m[m.Signal=='CFP'].plot(x='Time', y='Measurement', style='.', ax=ax)"
   ]
  },
  {
   "cell_type": "code",
   "execution_count": null,
   "metadata": {},
   "outputs": [],
   "source": [
    "study = fj.get('study', name='Loica testing')\n",
    "if len(study)==0:\n",
    "    study = fj.create('study', name='Loica testing', description='Test')\n",
    "\n",
    "assay.upload(fj, study.id[0])"
   ]
  },
  {
   "cell_type": "markdown",
   "metadata": {},
   "source": [
    "### Repressilator"
   ]
  },
  {
   "cell_type": "code",
   "execution_count": null,
   "metadata": {},
   "outputs": [],
   "source": [
    "dna = fj.get('dna', name='Rep')\n",
    "if len(dna)==0:\n",
    "    dna = fj.create('dna', name='Rep')\n",
    "vector = fj.get('vector', name='Rep')    \n",
    "if len(vector)==0:\n",
    "    vector = fj.create('vector', name='Rep', dnas=dna.id)\n",
    "    \n"
   ]
  },
  {
   "cell_type": "code",
   "execution_count": null,
   "metadata": {},
   "outputs": [],
   "source": [
    "rep = GeneticNetwork()"
   ]
  },
  {
   "cell_type": "code",
   "execution_count": null,
   "metadata": {},
   "outputs": [],
   "source": [
    "laci = Regulator(name='LacI', degradation_rate=1, init_concentration=5)\n",
    "tetr = Regulator(name='TetR', degradation_rate=1)\n",
    "ci = Regulator(name='cI', degradation_rate=1)\n",
    "rep.add_regulator(laci)\n",
    "rep.add_regulator(tetr)\n",
    "rep.add_regulator(ci)\n",
    "\n",
    "cfp = fj.get('signal', name='CFP')\n",
    "yfp = fj.get('signal', name='YFP')\n",
    "rfp = fj.get('signal', name='RFP')\n",
    "\n",
    "sfp1 = Reporter(name='CFP', degradation_rate=1, signal_id=cfp.id[0])\n",
    "rep.add_reporter(sfp1)\n",
    "sfp2 = Reporter(name='YFP', degradation_rate=1, signal_id=yfp.id[0])\n",
    "rep.add_reporter(sfp2)\n",
    "sfp3 = Reporter(name='RFP', degradation_rate=1, signal_id=rfp.id[0])\n",
    "rep.add_reporter(sfp3)\n",
    "\n",
    "rep.add_operator(Not(input=ci, output=laci, a=100, b=0, K=1, n=2))\n",
    "rep.add_operator(Not(input=laci, output=tetr, a=100, b=0, K=1, n=2))\n",
    "rep.add_operator(Nor(input=[tetr, laci], output=ci, alpha=[0.0001,1,1,1], a=[100,100], b=[0,0], K=[1,1], n=[2,2]))\n",
    "\n",
    "rep.add_operator(Not(input=ci, output=sfp1, a=100, b=0, K=1, n=2))\n",
    "rep.add_operator(Not(input=laci, output=sfp2, a=100, b=0, K=1, n=2))\n",
    "rep.add_operator(Nor(input=[tetr, laci], output=sfp3, alpha=[0.0001,1,1,1], a=[100,100], b=[0,0], K=[1,1], n=[2,2]))"
   ]
  },
  {
   "cell_type": "code",
   "execution_count": null,
   "metadata": {},
   "outputs": [],
   "source": [
    "def growth_rate(t):\n",
    "    return 1 # gompertz_growth_rate(t, 0.01, 1, 1, 4)\n",
    "\n",
    "def biomass(t):\n",
    "    return 1 # gompertz(t, 0.01, 1, 1, 4)\n",
    "    \n",
    "metab = SimulatedMetabolism(biomass, growth_rate)"
   ]
  },
  {
   "cell_type": "code",
   "execution_count": null,
   "metadata": {},
   "outputs": [],
   "source": [
    "'''\n",
    "study = fj.get('study', name='Loica testing')\n",
    "if len(study)==0:\n",
    "    study = fj.create('study', name='Loica testing', description='Test')\n",
    "media = fj.get('media', name='Loica')\n",
    "if len(media)==0:\n",
    "    media = fj.create('media', name='Loica', description='Simulated loica media')\n",
    "strain = fj.get('strain', name='Loica strain')\n",
    "if len(strain)==0:\n",
    "    strain = fj.create('strain', name='Loica strain', description='Loica test strain')\n",
    "'''\n",
    "biomass_signal = fj.get('signal', name='OD')\n",
    "\n",
    "sample = Sample(circuit=rep, \n",
    "                metabolism=metab,\n",
    "                #media=media.id[0],\n",
    "                #strain=strain.id[0]\n",
    "               )\n",
    "assay = Assay([sample], \n",
    "              n_measurements=100, \n",
    "              interval=0.25,\n",
    "              name='Loica repressilator',\n",
    "              description='Simulated repressilator generated by loica',\n",
    "              #biomass_signal_id=biomass_signal.id[0]\n",
    "             )\n",
    "assay.run()"
   ]
  },
  {
   "cell_type": "code",
   "execution_count": null,
   "metadata": {},
   "outputs": [],
   "source": [
    "assay.measurements"
   ]
  },
  {
   "cell_type": "code",
   "execution_count": null,
   "metadata": {
    "scrolled": true
   },
   "outputs": [],
   "source": [
    "m = assay.measurements\n",
    "fig,ax = plt.subplots(1,1)\n",
    "m[m.Signal=='CFP'].plot(x='Time', y='Measurement', ax=ax)\n",
    "m[m.Signal=='YFP'].plot(x='Time', y='Measurement', ax=ax)\n",
    "m[m.Signal=='RFP'].plot(x='Time', y='Measurement', ax=ax)\n",
    "m[m.Signal=='SFP4'].plot(x='Time', y='Measurement', ax=ax)\n",
    "m[m.Signal=='SFP5'].plot(x='Time', y='Measurement', ax=ax)\n",
    "\n",
    "#plt.plot(m.groupby('Time').sum().index, m.groupby('Time').Measurement.sum())"
   ]
  },
  {
   "cell_type": "markdown",
   "metadata": {},
   "source": [
    "Upload simulated data to flapjack"
   ]
  },
  {
   "cell_type": "code",
   "execution_count": null,
   "metadata": {},
   "outputs": [],
   "source": [
    "assay.upload(fj, study.id[0])"
   ]
  },
  {
   "cell_type": "markdown",
   "metadata": {},
   "source": [
    "### Toggle switch"
   ]
  },
  {
   "cell_type": "code",
   "execution_count": null,
   "metadata": {},
   "outputs": [],
   "source": [
    "dna = fj.create('dna', name='Toggle')\n",
    "vector = fj.create('vector', name='Toggle', dnas=dna.id)\n",
    "tog = GeneticNetwork(vector=vector.id[0])\n",
    "\n",
    "laci = Regulator(name='LacI', degradation_rate=1, init_concentration=0.1)\n",
    "ci = Regulator(name='cI', degradation_rate=1)\n",
    "tog.add_regulator(laci)\n",
    "tog.add_regulator(ci)\n",
    "\n",
    "cfp = fj.get('signal', name='CFP')\n",
    "yfp = fj.get('signal', name='YFP')\n",
    "sfp1 = Reporter(name='CFP', degradation_rate=1, signal_id=cfp.id[0])\n",
    "tog.add_reporter(sfp1)\n",
    "sfp2 = Reporter(name='YFP', degradation_rate=1, signal_id=yfp.id[0])\n",
    "tog.add_reporter(sfp2)\n",
    "\n",
    "tog.add_operator(Not(input=laci, output=ci, a=10, b=0, K=1, n=2))\n",
    "tog.add_operator(Not(input=ci, output=laci, a=10, b=0, K=1, n=2))\n",
    "\n",
    "tog.add_operator(Not(input=ci, output=sfp1, a=10, b=0, K=1, n=2))\n",
    "tog.add_operator(Not(input=laci, output=sfp2, a=10, b=0, K=1, n=2))"
   ]
  },
  {
   "cell_type": "code",
   "execution_count": null,
   "metadata": {},
   "outputs": [],
   "source": [
    "study = fj.get('study', name='Loica testing')\n",
    "if len(study)==0:\n",
    "    study = fj.create('study', name='Loica testing', description='Test')\n",
    "media = fj.get('media', name='Loica')\n",
    "if len(media)==0:\n",
    "    media = fj.create('media', name='Loica', description='Simulated loica media')\n",
    "strain = fj.get('strain', name='Loica strain')\n",
    "if len(strain)==0:\n",
    "    strain = fj.create('strain', name='Loica strain', description='Loica test strain')\n",
    "\n",
    "biomass_signal = fj.get('signal', name='OD')\n",
    "sample = Sample(circuit=tog, \n",
    "                metabolism=metab,\n",
    "                media=media.id[0],\n",
    "                strain=strain.id[0]\n",
    "               )\n",
    "assay = Assay([sample], \n",
    "              n_measurements=100, \n",
    "              interval=0.25,\n",
    "              name='Loica toggle',\n",
    "              description='Simulated toggle switch generated by loica',\n",
    "              biomass_signal_id=biomass_signal.id[0]\n",
    "             )\n",
    "assay.run()"
   ]
  },
  {
   "cell_type": "code",
   "execution_count": null,
   "metadata": {},
   "outputs": [],
   "source": [
    "m = assay.measurements\n",
    "fig,ax = plt.subplots(1,1)\n",
    "m[m.Signal=='CFP'].plot(x='Time', y='Measurement', ax=ax)\n",
    "m[m.Signal=='YFP'].plot(x='Time', y='Measurement', ax=ax)"
   ]
  },
  {
   "cell_type": "markdown",
   "metadata": {},
   "source": [
    "Upload simulated data to flapjack"
   ]
  },
  {
   "cell_type": "code",
   "execution_count": null,
   "metadata": {},
   "outputs": [],
   "source": [
    "assay.upload(fj, study.id[0])"
   ]
  },
  {
   "cell_type": "code",
   "execution_count": null,
   "metadata": {},
   "outputs": [],
   "source": []
  },
  {
   "cell_type": "code",
   "execution_count": null,
   "metadata": {},
   "outputs": [],
   "source": []
  }
 ],
 "metadata": {
  "kernelspec": {
   "display_name": "Python 3",
   "language": "python",
   "name": "python3"
  },
  "language_info": {
   "codemirror_mode": {
    "name": "ipython",
    "version": 3
   },
   "file_extension": ".py",
   "mimetype": "text/x-python",
   "name": "python",
   "nbconvert_exporter": "python",
   "pygments_lexer": "ipython3",
   "version": "3.8.5"
  }
 },
 "nbformat": 4,
 "nbformat_minor": 4
}
