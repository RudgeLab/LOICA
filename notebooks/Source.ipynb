{
 "cells": [
  {
   "cell_type": "markdown",
   "id": "97a8d4fc",
   "metadata": {},
   "source": [
    "# Source operator modeling and characterization\n",
    "In this notebook we will construct a genetic network to model a Source operator, a simple constitutive expression device, upload the simulated data to Flapjack, and then show how to characterize the operator based on this data."
   ]
  },
  {
   "cell_type": "markdown",
   "id": "dd6489dd",
   "metadata": {},
   "source": [
    "## Import required packages"
   ]
  },
  {
   "cell_type": "code",
   "execution_count": null,
   "id": "568a105f",
   "metadata": {},
   "outputs": [],
   "source": [
    "from loica import *\n",
    "import matplotlib.pyplot as plt\n",
    "import numpy as np\n",
    "import getpass"
   ]
  },
  {
   "cell_type": "markdown",
   "id": "7d3bfb9a",
   "metadata": {},
   "source": [
    "## Make a connection to Flapjack\n",
    "Note here you should specify which instance of Flapjack you will use, whether it is local or the public instance for example."
   ]
  },
  {
   "cell_type": "code",
   "execution_count": null,
   "id": "ebf5f937",
   "metadata": {},
   "outputs": [],
   "source": [
    "from flapjack import *\n",
    "#fj = Flapjack(url_base='flapjack.rudge-lab.org:8000')\n",
    "fj = Flapjack(url_base='localhost:8000')\n",
    "fj.log_in(username=input('Flapjack username: '), password=getpass.getpass('Password: '))"
   ]
  },
  {
   "cell_type": "markdown",
   "id": "0ca13ca3",
   "metadata": {},
   "source": [
    "## Get or create Flapjack objects\n",
    "To associate with the components of the genetic network and the simulated data with Flapjack we need the Ids of the appropriate objects. Note that if the objects already exist you will be prompted and can simply hit return to use the existing objects."
   ]
  },
  {
   "cell_type": "code",
   "execution_count": null,
   "id": "04dc51c2",
   "metadata": {},
   "outputs": [],
   "source": [
    "study = fj.create('study', name='Loica testing', description='Test study for demonstrating Loica')"
   ]
  },
  {
   "cell_type": "code",
   "execution_count": null,
   "id": "d17ee1b4",
   "metadata": {},
   "outputs": [],
   "source": [
    "dna = fj.create('dna', name='source')\n",
    "vector = fj.create('vector', name='source', dnas=dna.id)"
   ]
  },
  {
   "cell_type": "code",
   "execution_count": null,
   "id": "ae096b31",
   "metadata": {},
   "outputs": [],
   "source": [
    "sfp = fj.create('signal', name='SFP', color='green', description='Simulated fluorescent protein')"
   ]
  },
  {
   "cell_type": "markdown",
   "id": "b0c66554",
   "metadata": {},
   "source": [
    "## Create the network with measurable reporter\n",
    "First we create a GeneticNetwork object and associate it with a Flapjack Vector (collection of DNA). The connection to Flapjack is optional, but we will use it here to upload data and characterize our components."
   ]
  },
  {
   "cell_type": "code",
   "execution_count": null,
   "id": "af9e671c",
   "metadata": {},
   "outputs": [],
   "source": [
    "network = GeneticNetwork(vector=vector.id[0])"
   ]
  },
  {
   "cell_type": "markdown",
   "id": "16ea3321",
   "metadata": {},
   "source": [
    "Next, we create and add a Reporter object to produce a measurable output signal."
   ]
  },
  {
   "cell_type": "code",
   "execution_count": null,
   "id": "24508426",
   "metadata": {},
   "outputs": [],
   "source": [
    "reporter = Reporter(name='SFP', color='green', degradation_rate=0, init_concentration=0, signal_id=sfp.id[0])"
   ]
  },
  {
   "cell_type": "code",
   "execution_count": null,
   "id": "54b62b9c",
   "metadata": {},
   "outputs": [],
   "source": [
    "network.add_reporter(reporter)"
   ]
  },
  {
   "cell_type": "markdown",
   "id": "675b2dcb",
   "metadata": {},
   "source": [
    "## Create the Source operator \n",
    "The source operator is a simple constitutive gene, which outputs a constant expression rate $\\phi = C$. We create the Source operator object, specifying its output as our previously created Reporter, and its expression rate."
   ]
  },
  {
   "cell_type": "code",
   "execution_count": null,
   "id": "a1e0ce53",
   "metadata": {},
   "outputs": [],
   "source": [
    "source = Source(output=reporter, rate=10)\n",
    "network.add_operator(source)"
   ]
  },
  {
   "cell_type": "markdown",
   "id": "b7d50256",
   "metadata": {},
   "source": [
    "## Draw the GeneticNetwork as a graph\n",
    "We can now make a visual representation of our GeneticNetwork to check it is wired up correctly."
   ]
  },
  {
   "cell_type": "code",
   "execution_count": null,
   "id": "e42fbfc4",
   "metadata": {},
   "outputs": [],
   "source": [
    "plt.figure(figsize=(3,3), dpi=150)\n",
    "network.draw()"
   ]
  },
  {
   "cell_type": "markdown",
   "id": "93e6414c",
   "metadata": {},
   "source": [
    "## Simulate the GeneticNetwork\n",
    "In order to simulate the GeneticNetwork behaviour we need to specify the growth conditions in which it will operate. To do this we create a SimulatedMetabolism object which specifies growth functions."
   ]
  },
  {
   "cell_type": "code",
   "execution_count": null,
   "id": "5879a1db",
   "metadata": {},
   "outputs": [],
   "source": [
    "def growth_rate(t):\n",
    "    return gompertz_growth_rate(t, 0.01, 1, 1, 0.5)\n",
    "\n",
    "def biomass(t):\n",
    "    return gompertz(t, 0.01, 1, 1, 0.5)\n",
    "\n",
    "metab = SimulatedMetabolism(biomass, growth_rate)"
   ]
  },
  {
   "cell_type": "markdown",
   "id": "a1371481",
   "metadata": {},
   "source": [
    "Now we can create Samples that contain our GeneticNetwork driven by the SimulatedMetabolism. We also need to specify the Media and Strain, in order to link to the Flapjack data model."
   ]
  },
  {
   "cell_type": "code",
   "execution_count": null,
   "id": "a0ed72ae",
   "metadata": {},
   "outputs": [],
   "source": [
    "media = fj.create('media', name='loica', description='Simulated loica media')\n",
    "strain = fj.create('strain', name='loica', description='Loica test strain')\n",
    "\n",
    "samples = []\n",
    "# Create 5 replicate samples for simulation\n",
    "for _ in range(5):\n",
    "    sample = Sample(genetic_network=network, \n",
    "                    metabolism=metab,\n",
    "                    media=media.id[0],\n",
    "                    strain=strain.id[0])\n",
    "    samples.append(sample)"
   ]
  },
  {
   "cell_type": "markdown",
   "id": "cba65b9e",
   "metadata": {},
   "source": [
    "Given our Samples, we can now create an Assay which will simulate an experiment containing them. We need to specify the biomass signal in order to link to the Flapjack data model for later upload. Running the assay will simulate the behaviour of the GeneticNetwork."
   ]
  },
  {
   "cell_type": "code",
   "execution_count": null,
   "id": "3294ef95",
   "metadata": {},
   "outputs": [],
   "source": [
    "biomass_signal = fj.create('signal', name='SOD', description='Simulated OD', color='black')\n",
    "assay = Assay(samples, \n",
    "              n_measurements=100, \n",
    "              interval=0.24,\n",
    "              name='Loica constitutive expression (no noise)',\n",
    "              description='Simulated constitutive gene generated by loica',\n",
    "              biomass_signal_id=biomass_signal.id[0]\n",
    "             )\n",
    "assay.run()"
   ]
  },
  {
   "cell_type": "markdown",
   "id": "dd6fef07",
   "metadata": {},
   "source": [
    "Now we can check the results of our simulations."
   ]
  },
  {
   "cell_type": "code",
   "execution_count": null,
   "id": "c5988c64",
   "metadata": {},
   "outputs": [],
   "source": [
    "m = assay.measurements\n",
    "fig,ax = plt.subplots(1,1)\n",
    "m[m.Signal=='SFP'].plot(x='Time', y='Measurement', style='.', ax=ax)"
   ]
  },
  {
   "cell_type": "markdown",
   "id": "24692921",
   "metadata": {},
   "source": [
    "## Upload simulated data to Flapjack"
   ]
  },
  {
   "cell_type": "code",
   "execution_count": null,
   "id": "7b75c17f",
   "metadata": {},
   "outputs": [],
   "source": [
    "assay.upload(fj, study=study.id[0])"
   ]
  },
  {
   "cell_type": "markdown",
   "id": "aa5cb06e",
   "metadata": {},
   "source": [
    "## Characterize the Source operator from the uploaded data"
   ]
  },
  {
   "cell_type": "code",
   "execution_count": null,
   "id": "3e1b10b8",
   "metadata": {},
   "outputs": [],
   "source": [
    "source.characterize(\n",
    "    fj,\n",
    "    vector=vector.id,\n",
    "    media=media.id,\n",
    "    strain=strain.id,\n",
    "    signal=sfp.id,\n",
    "    biomass_signal=biomass_signal.id\n",
    ")"
   ]
  },
  {
   "cell_type": "code",
   "execution_count": null,
   "id": "636abd22",
   "metadata": {},
   "outputs": [],
   "source": [
    "source.rate"
   ]
  },
  {
   "cell_type": "code",
   "execution_count": null,
   "id": "66e681c7",
   "metadata": {},
   "outputs": [],
   "source": []
  }
 ],
 "metadata": {
  "kernelspec": {
   "display_name": "Python 3 (ipykernel)",
   "language": "python",
   "name": "python3"
  },
  "language_info": {
   "codemirror_mode": {
    "name": "ipython",
    "version": 3
   },
   "file_extension": ".py",
   "mimetype": "text/x-python",
   "name": "python",
   "nbconvert_exporter": "python",
   "pygments_lexer": "ipython3",
   "version": "3.9.7"
  }
 },
 "nbformat": 4,
 "nbformat_minor": 5
}
