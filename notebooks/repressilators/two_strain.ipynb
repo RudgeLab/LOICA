{
 "cells": [
  {
   "cell_type": "markdown",
   "metadata": {},
   "source": [
    "# Repressilator split between 2 strains"
   ]
  },
  {
   "cell_type": "markdown",
   "metadata": {},
   "source": [
    "This repressilator is split between 2 strains - one stops producing red fluorescent protein and c14 in response to c4. Second strain has yellow fluorescence and tetR synthesis repressed by c14, and tetR in turn represses cyan fluorescence and c4 synthesis."
   ]
  },
  {
   "cell_type": "code",
   "execution_count": 1,
   "metadata": {},
   "outputs": [
    {
     "name": "stdout",
     "output_type": "stream",
     "text": [
      "Note: you may need to restart the kernel to use updated packages.\n"
     ]
    },
    {
     "name": "stderr",
     "output_type": "stream",
     "text": [
      "ERROR: File \"setup.py\" or \"setup.cfg\" not found. Directory cannot be installed in editable mode: c:\\Users\\User\\OneDrive\\Desktop\\Masters PJ\\GitHub\\LOICA\\notebooks\\repressilators\n"
     ]
    }
   ],
   "source": [
    "pip install -e ."
   ]
  },
  {
   "cell_type": "code",
   "execution_count": 2,
   "metadata": {},
   "outputs": [],
   "source": [
    "import loica as lc\n",
    "import matplotlib.pyplot as plt\n",
    "import networkx as nx\n",
    "import warnings\n",
    "warnings.simplefilter(action='ignore', category=FutureWarning)"
   ]
  },
  {
   "cell_type": "code",
   "execution_count": 3,
   "metadata": {},
   "outputs": [],
   "source": [
    "def growth_rate(t):\n",
    "    return lc.gompertz_growth_rate(t, 0.01, 1, 1, 1)\n",
    "\n",
    "def biomass(t):\n",
    "    return lc.gompertz(t, 0.01, 1, 1, 1)"
   ]
  },
  {
   "cell_type": "markdown",
   "metadata": {},
   "source": [
    "## Strain 1 (one node)"
   ]
  },
  {
   "cell_type": "code",
   "execution_count": 4,
   "metadata": {},
   "outputs": [],
   "source": [
    "gn1 = lc.GeneticNetwork()\n",
    "metab1 = lc.SimulatedMetabolism(\"Simulated metabolism\", biomass, growth_rate)\n",
    "strain_1 = lc.Strain('Strain 1', gn1, metab1)"
   ]
  },
  {
   "cell_type": "code",
   "execution_count": 5,
   "metadata": {},
   "outputs": [],
   "source": [
    "# Transcription factors\n",
    "laci_1 = lc.Regulator(name='LacI', degradation_rate=1)\n",
    "\n",
    "# Signalling molecules\n",
    "c4_1 = lc.Regulator(name='C4', degradation_rate=1, diffusion_rate=1)\n",
    "c14_1 = lc.Regulator(name='C14', degradation_rate=1, diffusion_rate=1)\n",
    "\n",
    "gn1.add_regulator([laci_1, c4_1, c14_1])"
   ]
  },
  {
   "cell_type": "code",
   "execution_count": 6,
   "metadata": {},
   "outputs": [],
   "source": [
    "# option with producers\n",
    "# cini = lc.Regulator(name='CinI', degradation_rate=1)\n",
    "# gn1.add_regulator(cini)"
   ]
  },
  {
   "cell_type": "code",
   "execution_count": 7,
   "metadata": {},
   "outputs": [],
   "source": [
    "mcherry = lc.Reporter(name='mCherry', degradation_rate=1, color='red') \n",
    "gn1.add_reporter(mcherry)"
   ]
  },
  {
   "cell_type": "code",
   "execution_count": 8,
   "metadata": {},
   "outputs": [],
   "source": [
    "c4_laci = lc.Hill1(name='Prhl', input=c4_1, output=laci_1, alpha=[0.1, 10000], K=10, n=2)\n",
    "laci_not_c14 = lc.Hill1(name='Plac', input=laci_1, output=[c14_1, mcherry], alpha=[10000,0.1], K=10, n=2)\n",
    "\n",
    "gn1.add_operator([c4_laci, laci_not_c14])"
   ]
  },
  {
   "cell_type": "code",
   "execution_count": 9,
   "metadata": {},
   "outputs": [],
   "source": [
    "# # option with producers\n",
    "# c4_laci = lc.Hill1(name='Prhl', input=c4_1, output=laci_1, alpha=[0.1, 10000], K=10, n=2)\n",
    "# laci_not_cini = lc.Hill1(name='Plac', input=laci_1, output=[cini, mcherry], alpha=[10000,0.1], K=10, n=2)\n",
    "# cini_c14 = lc.Producer(name='CinI', input=cini, output=c14_1, k1a=1, k2=1)\n",
    "\n",
    "# gn1.add_operator([c4_laci, laci_not_cini, cini_c14])"
   ]
  },
  {
   "cell_type": "code",
   "execution_count": 20,
   "metadata": {},
   "outputs": [
    {
     "data": {
      "image/png": "[encoded data removed]",
      "text/plain": [
       "<Figure size 350x350 with 1 Axes>"
      ]
     },
     "metadata": {},
     "output_type": "display_data"
    }
   ],
   "source": [
    "plt.figure(figsize=(3.5,3.5), dpi=100)\n",
    "gn1.draw(pos=nx.planar_layout)"
   ]
  },
  {
   "cell_type": "markdown",
   "metadata": {},
   "source": [
    "## Strain 2 (two nodes)"
   ]
  },
  {
   "cell_type": "code",
   "execution_count": 11,
   "metadata": {},
   "outputs": [],
   "source": [
    "gn2 = lc.GeneticNetwork()\n",
    "metab2 = lc.SimulatedMetabolism(\"Simulated metabolism\", biomass, growth_rate)\n",
    "strain_2 = lc.Strain('Strain 2', gn2, metab2)"
   ]
  },
  {
   "cell_type": "code",
   "execution_count": 12,
   "metadata": {},
   "outputs": [],
   "source": [
    "# Transcription factors\n",
    "laci_2 = lc.Regulator(name='LacI', degradation_rate=1)\n",
    "tetr_2 = lc.Regulator(name='TetR', degradation_rate=1)\n",
    "\n",
    "# Signalling molecules\n",
    "c4_2 = lc.Regulator(name='C4', degradation_rate=1, diffusion_rate=1)\n",
    "c14_2 = lc.Regulator(name='C14', degradation_rate=1, diffusion_rate=1)\n",
    "\n",
    "gn2.add_regulator([tetr_2, laci_2, c4_2, c14_2])"
   ]
  },
  {
   "cell_type": "code",
   "execution_count": 13,
   "metadata": {},
   "outputs": [],
   "source": [
    "# option with producers\n",
    "# rhli = lc.Regulator(name='RhlI', degradation_rate=1)\n",
    "# gn2.add_regulator(rhli)"
   ]
  },
  {
   "cell_type": "code",
   "execution_count": 14,
   "metadata": {},
   "outputs": [],
   "source": [
    "cyan = lc.Reporter(name='CFP', degradation_rate=1, color='blue') \n",
    "mven = lc.Reporter(name='mVenus', degradation_rate=1, color='yellow') \n",
    "\n",
    "gn2.add_reporter([cyan, mven])"
   ]
  },
  {
   "cell_type": "code",
   "execution_count": 15,
   "metadata": {},
   "outputs": [],
   "source": [
    "# One node\n",
    "c14_laci = lc.Hill1(name='Pcin', input=c14_2, output=laci_2, alpha=[0.1,10000], K=10, n=2)\n",
    "laci_not_tetr = lc.Hill1(name='Plac', input=laci_2, output=[tetr_2, mven], alpha=[10000,0.1], K=10, n=2)\n",
    "# Second node\n",
    "tetr_not_c4 = lc.Hill1(name='Ptet', input=tetr_2, output=[c4_2, cyan], alpha=[10000,0.1], K=10, n=2)\n",
    "\n",
    "gn2.add_operator([c4_laci, laci_not_tetr, tetr_not_c4])"
   ]
  },
  {
   "cell_type": "code",
   "execution_count": 16,
   "metadata": {},
   "outputs": [],
   "source": [
    "# # option with producers\n",
    "# # One node\n",
    "# c14_laci = lc.Hill1(name='Pcin', input=c14_2, output=laci_2, alpha=[0.1,10000], K=10, n=2)\n",
    "# laci_not_tetr = lc.Hill1(name='Plac', input=laci_2, output=[tetr_2, mven], alpha=[10000,0.1], K=10, n=2)\n",
    "# # Second node\n",
    "# tetr_not_c4 = lc.Hill1(name='Ptet', input=tetr_2, output=[rhli, cyan], alpha=[10000,0.1], K=10, n=2)\n",
    "# rhli_c4 = lc.Producer(name='ScbB', input=rhli, output=c4_2, k1a=1, k2=1)\n",
    "\n",
    "# gn2.add_operator([c4_laci, laci_not_tetr, tetr_not_c4, rhli_c4])"
   ]
  },
  {
   "cell_type": "code",
   "execution_count": 19,
   "metadata": {},
   "outputs": [
    {
     "data": {
      "image/png": "[encoded data removed]",
      "text/plain": [
       "<Figure size 350x350 with 1 Axes>"
      ]
     },
     "metadata": {},
     "output_type": "display_data"
    }
   ],
   "source": [
    "plt.figure(figsize=(3.5,3.5), dpi=100)\n",
    "gn2.draw(pos=nx.planar_layout)"
   ]
  },
  {
   "cell_type": "code",
   "execution_count": 18,
   "metadata": {},
   "outputs": [],
   "source": [
    "sample = lc.Sample(strain=[strain_1, strain_2])\n",
    "# set starting external concentration\n",
    "sample.set_ext_conc('C4', 50)\n",
    "assay = lc.Assay([sample], \n",
    "                n_measurements=100, \n",
    "                interval=0.24,\n",
    "                name='Extended repressilator',\n",
    "                description='Simulated expression of extended repressilator strain'\n",
    "                )"
   ]
  }
 ],
 "metadata": {
  "kernelspec": {
   "display_name": "Python 3.10.4 ('loica')",
   "language": "python",
   "name": "python3"
  },
  "language_info": {
   "codemirror_mode": {
    "name": "ipython",
    "version": 3
   },
   "file_extension": ".py",
   "mimetype": "text/x-python",
   "name": "python",
   "nbconvert_exporter": "python",
   "pygments_lexer": "ipython3",
   "version": "3.10.4"
  },
  "orig_nbformat": 4,
  "vscode": {
   "interpreter": {
    "hash": "5a3b552e1f00b069c0e96dcc3c439489a3953ff59f29351d8119914676dca9ff"
   }
  }
 },
 "nbformat": 4,
 "nbformat_minor": 2
}
