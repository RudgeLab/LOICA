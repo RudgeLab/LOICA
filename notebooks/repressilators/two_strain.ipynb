{
 "cells": [
  {
   "cell_type": "markdown",
   "metadata": {},
   "source": [
    "# Repressilator split between 2 strains"
   ]
  },
  {
   "cell_type": "markdown",
   "metadata": {},
   "source": [
    "This repressilator is split between 2 strains - one stops producing red fluorescent protein and c14 in response to c4. Second strain has yellow fluorescence and tetR synthesis repressed by c14, and tetR in turn represses cyan fluorescence and c4 synthesis."
   ]
  },
  {
   "cell_type": "code",
   "execution_count": null,
   "metadata": {},
   "outputs": [],
   "source": [
    "pip install -e ."
   ]
  },
  {
   "cell_type": "code",
   "execution_count": null,
   "metadata": {},
   "outputs": [],
   "source": [
    "import loica as lc\n",
    "import matplotlib.pyplot as plt\n",
    "import networkx as nx\n",
    "import warnings\n",
    "warnings.simplefilter(action='ignore', category=FutureWarning)"
   ]
  },
  {
   "cell_type": "code",
   "execution_count": null,
   "metadata": {},
   "outputs": [],
   "source": [
    "def growth_rate(t):\n",
    "    return lc.gompertz_growth_rate(t, 0.005, 0.5, 1, 1)\n",
    "\n",
    "def biomass(t):\n",
    "    return lc.gompertz(t, 0.005, 0.5, 1, 1)"
   ]
  },
  {
   "cell_type": "markdown",
   "metadata": {},
   "source": [
    "# No AiiA"
   ]
  },
  {
   "cell_type": "markdown",
   "metadata": {},
   "source": [
    "## Strain 1 (one node)"
   ]
  },
  {
   "cell_type": "code",
   "execution_count": null,
   "metadata": {},
   "outputs": [],
   "source": [
    "gn1 = lc.GeneticNetwork()\n",
    "metab1 = lc.SimulatedMetabolism(\"Simulated metabolism\", biomass, growth_rate)\n",
    "strain_1 = lc.Strain('Strain 1', gn1, metab1)"
   ]
  },
  {
   "cell_type": "code",
   "execution_count": null,
   "metadata": {},
   "outputs": [],
   "source": [
    "# Transcription factors\n",
    "laci_1 = lc.Regulator(name='LacI', degradation_rate=1, init_concentration=10)\n",
    "\n",
    "# Signalling molecules\n",
    "c4_1 = lc.Regulator(name='C4', diffusion_rate=100)\n",
    "c14_1 = lc.Regulator(name='C14', diffusion_rate=100)\n",
    "\n",
    "gn1.add_regulator([laci_1, c4_1, c14_1])"
   ]
  },
  {
   "cell_type": "code",
   "execution_count": null,
   "metadata": {},
   "outputs": [],
   "source": [
    "cini = lc.Regulator(name='CinI', degradation_rate=1)\n",
    "gn1.add_regulator(cini)"
   ]
  },
  {
   "cell_type": "code",
   "execution_count": null,
   "metadata": {},
   "outputs": [],
   "source": [
    "mcherry = lc.Reporter(name='mCherry', degradation_rate=1, color='red') \n",
    "gn1.add_reporter(mcherry)"
   ]
  },
  {
   "cell_type": "code",
   "execution_count": null,
   "metadata": {},
   "outputs": [],
   "source": [
    "aiia_1 = lc.Regulator(name='AiiA', degradation_rate=1)\n",
    "gn1.add_regulator(aiia_1)\n",
    "\n",
    "j23100_1 = lc.Source(output=aiia_1, rate=1, name='J23100')\n",
    "gn1.add_operator(j23100_1)\n",
    "\n",
    "lactonase_1 = lc.Degrader(name='Lactonase', enzyme=aiia_1, substrate=[c4_1, c14_1], Km=10000, k2=2)\n",
    "gn1.add_impactor(lactonase_1)\n"
   ]
  },
  {
   "cell_type": "code",
   "execution_count": null,
   "metadata": {},
   "outputs": [],
   "source": [
    "c4_laci = lc.Hill1(name='Prhl', input=c4_1, output=[laci_1,mcherry], alpha=[0, 10000], K=1, n=2)\n",
    "laci_not_cini = lc.Hill1(name='Plac', input=laci_1, output=cini, alpha=[10000, 0], K=1, n=2)\n",
    "cini_c14 = lc.Producer(name='CinI', enzyme=cini, product=c14_1, k2=0.01)\n",
    "\n",
    "gn1.add_operator([c4_laci, laci_not_cini])\n",
    "gn1.add_impactor(cini_c14)"
   ]
  },
  {
   "cell_type": "code",
   "execution_count": null,
   "metadata": {},
   "outputs": [],
   "source": [
    "plt.figure(figsize=(3.5,3.5), dpi=100)\n",
    "gn1.draw() #pos=nx.planar_layout"
   ]
  },
  {
   "cell_type": "markdown",
   "metadata": {},
   "source": [
    "## Strain 2 (two nodes)"
   ]
  },
  {
   "cell_type": "code",
   "execution_count": null,
   "metadata": {},
   "outputs": [],
   "source": [
    "gn2 = lc.GeneticNetwork()\n",
    "metab2 = lc.SimulatedMetabolism(\"Simulated metabolism\", biomass, growth_rate)\n",
    "strain_2 = lc.Strain('Strain 2', gn2, metab2)"
   ]
  },
  {
   "cell_type": "code",
   "execution_count": null,
   "metadata": {},
   "outputs": [],
   "source": [
    "# Transcription factors\n",
    "laci_2 = lc.Regulator(name='LacI', degradation_rate=1)\n",
    "tetr_2 = lc.Regulator(name='TetR', degradation_rate=1)\n",
    "\n",
    "# Signalling molecules\n",
    "c4_2 = lc.Regulator(name='C4', diffusion_rate=1)\n",
    "c14_2 = lc.Regulator(name='C14', diffusion_rate=1)\n",
    "\n",
    "gn2.add_regulator([tetr_2, laci_2, c4_2, c14_2])"
   ]
  },
  {
   "cell_type": "code",
   "execution_count": null,
   "metadata": {},
   "outputs": [],
   "source": [
    "rhli = lc.Regulator(name='RhlI', degradation_rate=1)\n",
    "gn2.add_regulator(rhli)"
   ]
  },
  {
   "cell_type": "code",
   "execution_count": null,
   "metadata": {},
   "outputs": [],
   "source": [
    "cyan = lc.Reporter(name='CFP', degradation_rate=1, color='blue') \n",
    "mven = lc.Reporter(name='mVenus', degradation_rate=1, color='yellow') \n",
    "\n",
    "gn2.add_reporter([cyan, mven])"
   ]
  },
  {
   "cell_type": "code",
   "execution_count": null,
   "metadata": {},
   "outputs": [],
   "source": [
    "aiia_2 = lc.Regulator(name='AiiA', degradation_rate=1)\n",
    "gn2.add_regulator(aiia_2)\n",
    "\n",
    "j23100_2 = lc.Source(output=aiia_2, rate=1, name='J23100')\n",
    "gn2.add_operator(j23100_2)\n",
    "\n",
    "lactonase_2 = lc.Degrader(name='Lactonase', enzyme=aiia_2, substrate=[c4_2, c14_2], Km=10000, k2=2)\n",
    "gn2.add_impactor(lactonase_2)"
   ]
  },
  {
   "cell_type": "code",
   "execution_count": null,
   "metadata": {},
   "outputs": [],
   "source": [
    "\n",
    "# One node\n",
    "c14_laci = lc.Hill1(name='Pcin', input=c14_2, output=[laci_2, mven], alpha=[0, 10000], K=1, n=2)\n",
    "laci_not_tetr = lc.Hill1(name='Plac', input=laci_2, output=[tetr_2, cyan], alpha=[10000, 0], K=1, n=2)\n",
    "# Second node\n",
    "tetr_not_c4 = lc.Hill1(name='Ptet', input=tetr_2, output=rhli, alpha=[10000, 0], K=1, n=2)\n",
    "rhli_c4 = lc.Producer(name='RhlI', enzyme=rhli, product=c4_2, k2=0.01)\n",
    "\n",
    "gn2.add_operator([c14_laci, laci_not_tetr, tetr_not_c4])\n",
    "gn2.add_impactor(rhli_c4)"
   ]
  },
  {
   "cell_type": "code",
   "execution_count": null,
   "metadata": {},
   "outputs": [],
   "source": [
    "plt.figure(figsize=(3.5,3.5), dpi=100)\n",
    "gn2.draw() #pos=nx.planar_layout"
   ]
  },
  {
   "cell_type": "code",
   "execution_count": null,
   "metadata": {},
   "outputs": [],
   "source": [
    "sample = lc.Sample(strain=[strain_1, strain_2])\n",
    "# # set starting external concentration\n",
    "# sample.set_ext_conc('C4', 50)\n",
    "assay = lc.Assay([sample], \n",
    "                n_measurements=100, \n",
    "                interval=0.24,\n",
    "                name='Extended repressilator',\n",
    "                description='Simulated expression of extended repressilator strain'\n",
    "                )"
   ]
  },
  {
   "cell_type": "code",
   "execution_count": null,
   "metadata": {},
   "outputs": [],
   "source": [
    "assay.run(substeps=100, mode=\"track_all\")"
   ]
  },
  {
   "cell_type": "code",
   "execution_count": null,
   "metadata": {},
   "outputs": [],
   "source": [
    "m = assay.measurements\n",
    "fig, ax = plt.subplots()\n",
    "fig1, ax1 = plt.subplots()\n",
    "fig2, ax2 = plt.subplots()\n",
    "fig3, ax3 = plt.subplots()\n",
    "fig4, ax4 = plt.subplots()\n",
    "m[m.Signal=='mCherry in Strain 1'].plot(x='Time', y='Measurement', color='red', style='-', ax=ax)\n",
    "m[m.Signal=='LacI in Strain 1'].plot(x='Time', y='Measurement', style='-', ax=ax1)\n",
    "m[m.Signal=='C4 in Strain 1'].plot(x='Time', y='Measurement', style='-', ax=ax2)\n",
    "m[m.Signal=='C14 in Strain 1'].plot(x='Time', y='Measurement', style='-', ax=ax2)\n",
    "m[m.Signal=='CinI in Strain 1'].plot(x='Time', y='Measurement', style='-', ax=ax3)\n",
    "m[m.Signal=='AiiA in Strain 1'].plot(x='Time', y='Measurement', style='-', ax=ax4)\n",
    "ax.legend(['mCherry'])\n",
    "ax.set_xlabel('Time (h)')\n",
    "ax.set_ylabel('Concentration (M)')\n",
    "ax1.legend(['LacI in S1'])\n",
    "ax1.set_xlabel('Time (h)')\n",
    "ax1.set_ylabel('Concentration (M)')\n",
    "ax2.legend(['C4 in S1', 'C14 in S1'])\n",
    "ax2.set_xlabel('Time (h)')\n",
    "ax2.set_ylabel('Concentration (M)')\n",
    "ax3.legend(['CinI'])\n",
    "ax3.set_xlabel('Time (h)')\n",
    "ax3.set_ylabel('Concentration (M)')\n",
    "ax4.legend(['AiiA'])\n",
    "ax4.set_xlabel('Time (h)')\n",
    "ax4.set_ylabel('Concentration (M)')"
   ]
  },
  {
   "cell_type": "code",
   "execution_count": null,
   "metadata": {},
   "outputs": [],
   "source": [
    "fig, ax = plt.subplots()\n",
    "fig1, ax1 = plt.subplots()\n",
    "fig2, ax2 = plt.subplots()\n",
    "fig3, ax3 = plt.subplots()\n",
    "fig4, ax4 = plt.subplots()\n",
    "m[m.Signal=='CFP in Strain 2'].plot(x='Time', y='Measurement', color='cyan', style='-', ax=ax)\n",
    "m[m.Signal=='mVenus in Strain 2'].plot(x='Time', y='Measurement', color='yellow', style='-', ax=ax)\n",
    "m[m.Signal=='LacI in Strain 2'].plot(x='Time', y='Measurement', style='-', ax=ax1)\n",
    "m[m.Signal=='TetR in Strain 2'].plot(x='Time', y='Measurement', style='-', ax=ax1)\n",
    "m[m.Signal=='C4 in Strain 2'].plot(x='Time', y='Measurement', style='-', ax=ax2)\n",
    "m[m.Signal=='C14 in Strain 2'].plot(x='Time', y='Measurement', style='-', ax=ax2)\n",
    "m[m.Signal=='RhlI in Strain 2'].plot(x='Time', y='Measurement', style='-', ax=ax3)\n",
    "m[m.Signal=='AiiA in Strain 2'].plot(x='Time', y='Measurement', style='-', ax=ax4)\n",
    "ax.legend(['CFP', 'mVenus'])\n",
    "ax.set_xlabel('Time (h)')\n",
    "ax.set_ylabel('Concentration (M)')\n",
    "ax1.legend(['LacI in S2', 'TetR'])\n",
    "ax1.set_xlabel('Time (h)')\n",
    "ax1.set_ylabel('Concentration (M)')\n",
    "ax2.legend(['C4 in S2', 'C14 in S2'])\n",
    "ax2.set_xlabel('Time (h)')\n",
    "ax2.set_ylabel('Concentration (M)')\n",
    "ax3.legend(['RhlI'])\n",
    "ax3.set_xlabel('Time (h)')\n",
    "ax3.set_ylabel('Concentration (M)')\n",
    "ax4.legend(['AiiA'])\n",
    "ax4.set_xlabel('Time (h)')\n",
    "ax4.set_ylabel('Concentration (M)')"
   ]
  },
  {
   "cell_type": "code",
   "execution_count": null,
   "metadata": {},
   "outputs": [],
   "source": [
    "fig, ax = plt.subplots()\n",
    "\n",
    "m[m.Signal=='mCherry in Strain 1'].plot(x='Time', y='Measurement', color='red', style='-', ax=ax)\n",
    "m[m.Signal=='CFP in Strain 2'].plot(x='Time', y='Measurement', color='cyan', style='-', ax=ax)\n",
    "m[m.Signal=='mVenus in Strain 2'].plot(x='Time', y='Measurement', color='yellow', style='-', ax=ax)\n",
    "ax.legend(['mCherry','CFP', 'mVenus'])\n",
    "ax.set_xlabel('Time (h)')\n",
    "ax.set_ylabel('Concentration (M)')\n",
    "\n"
   ]
  },
  {
   "cell_type": "code",
   "execution_count": null,
   "metadata": {},
   "outputs": [],
   "source": [
    "fig2, ax2 = plt.subplots()\n",
    "\n",
    "m[m.Signal=='Extracellular C4'].plot(x='Time', y='Measurement', style='-', ax=ax2)\n",
    "m[m.Signal=='Extracellular C14'].plot(x='Time', y='Measurement', style='-', ax=ax2)\n",
    "\n",
    "ax2.legend(['Ext C4', 'Ext C14'])\n",
    "ax2.set_xlabel('Time (h)')\n",
    "ax2.set_ylabel('Concentration (M)')\n"
   ]
  }
 ],
 "metadata": {
  "kernelspec": {
   "display_name": "Python 3.10.4 ('loica')",
   "language": "python",
   "name": "python3"
  },
  "language_info": {
   "codemirror_mode": {
    "name": "ipython",
    "version": 3
   },
   "file_extension": ".py",
   "mimetype": "text/x-python",
   "name": "python",
   "nbconvert_exporter": "python",
   "pygments_lexer": "ipython3",
   "version": "3.10.4"
  },
  "orig_nbformat": 4,
  "vscode": {
   "interpreter": {
    "hash": "5a3b552e1f00b069c0e96dcc3c439489a3953ff59f29351d8119914676dca9ff"
   }
  }
 },
 "nbformat": 4,
 "nbformat_minor": 2
}
