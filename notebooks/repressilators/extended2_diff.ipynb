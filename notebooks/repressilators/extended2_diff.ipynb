{
 "cells": [
  {
   "cell_type": "markdown",
   "metadata": {},
   "source": [
    "# 2-node extended repressilator"
   ]
  },
  {
   "cell_type": "markdown",
   "metadata": {},
   "source": [
    "This repressilator includes additional \"steps\" - C4 and C14 signalling molecules that act as intermediates between repressors."
   ]
  },
  {
   "cell_type": "code",
   "execution_count": null,
   "metadata": {},
   "outputs": [],
   "source": [
    "pip install -e ."
   ]
  },
  {
   "cell_type": "code",
   "execution_count": null,
   "metadata": {},
   "outputs": [],
   "source": [
    "import loica as lc\n",
    "import matplotlib.pyplot as plt\n",
    "import networkx as nx\n",
    "import warnings\n",
    "warnings.simplefilter(action='ignore', category=FutureWarning)"
   ]
  },
  {
   "cell_type": "markdown",
   "metadata": {},
   "source": [
    "# Diff, continuous AiiA"
   ]
  },
  {
   "cell_type": "markdown",
   "metadata": {},
   "source": [
    "#### code"
   ]
  },
  {
   "cell_type": "code",
   "execution_count": null,
   "metadata": {},
   "outputs": [],
   "source": [
    "def growth_rate(t):\n",
    "    return lc.gompertz_growth_rate(t, 0.01, 1, 1, 1)\n",
    "\n",
    "def biomass(t):\n",
    "    return lc.gompertz(t, 0.01, 1, 1, 1)\n",
    "\n",
    "metab = lc.SimulatedMetabolism(\"Simulated metabolism\", biomass, growth_rate)\n",
    "genetic_n = lc.GeneticNetwork()"
   ]
  },
  {
   "cell_type": "code",
   "execution_count": null,
   "metadata": {},
   "outputs": [],
   "source": [
    "strain = lc.Strain('Strain', genetic_n, metab)"
   ]
  },
  {
   "cell_type": "code",
   "execution_count": null,
   "metadata": {},
   "outputs": [],
   "source": [
    "# Transcription factors\n",
    "laci = lc.Regulator(name='LacI', degradation_rate=1.02, init_concentration=10**-7)\n",
    "tetr = lc.Regulator(name='TetR', degradation_rate=1.02)\n",
    "ci = lc.Regulator(name='cI', degradation_rate=1.02)\n",
    "\n",
    "# Signalling molecules\n",
    "c4 = lc.Regulator(name='C4', diffusion_rate=180)\n",
    "c14 = lc.Regulator(name='C14', diffusion_rate=126)\n",
    "\n",
    "genetic_n.add_regulator([tetr, laci, ci, c4, c14])"
   ]
  },
  {
   "cell_type": "code",
   "execution_count": null,
   "metadata": {},
   "outputs": [],
   "source": [
    "# option with producers\n",
    "rhli = lc.Regulator(name='RhlI', degradation_rate=1.02)\n",
    "cini = lc.Regulator(name='CinI', degradation_rate=1.02)\n",
    "genetic_n.add_regulator([rhli, cini])"
   ]
  },
  {
   "cell_type": "code",
   "execution_count": null,
   "metadata": {},
   "outputs": [],
   "source": [
    "aiia = lc.Regulator(name='AiiA', degradation_rate=1.02)\n",
    "genetic_n.add_regulator(aiia)"
   ]
  },
  {
   "cell_type": "code",
   "execution_count": null,
   "metadata": {},
   "outputs": [],
   "source": [
    "mcherry = lc.Reporter(name='mCherry', degradation_rate=1.02, color='red') \n",
    "cyan = lc.Reporter(name='CFP', degradation_rate=1.02, color='blue') \n",
    "mven = lc.Reporter(name='mVenus', degradation_rate=1.02, color='yellow') \n",
    "\n",
    "genetic_n.add_reporter([mcherry, cyan, mven])"
   ]
  },
  {
   "cell_type": "code",
   "execution_count": null,
   "metadata": {},
   "outputs": [],
   "source": [
    "# option with producers\n",
    "\n",
    "#First extended node\n",
    "laci_not_cini = lc.Hill1(name='Plac', input=laci, output=cini, alpha=[1.44*10**-4, 1.44*10**-7], K=6.64*10**-8, n=2)\n",
    "cini_c14 = lc.Producer(name='CinI', enzyme=cini, product=c14, k2=60)\n",
    "c14_tetr = lc.Hill1(name='Pcin', input=c14, output=[tetr, mcherry], alpha=[2.15*10**-8, 7.35*10**-8], K=3.41*10**-6, n=1.87)\n",
    "\n",
    "# Second node\n",
    "tetr_not_ci = lc.Hill1(name='Ptet', input=tetr, output=[ci, mven], alpha=[1.44*10**-4, 1.44*10**-7], K=6.64*10**-8, n=2)\n",
    "\n",
    "# Third extended node\n",
    "ci_not_rhli = lc.Hill1(name='PcI', input=ci, output=rhli, alpha=[1.44*10**-4, 1.44*10**-7], K=6.64*10**-8, n=2)\n",
    "rhli_c4 = lc.Producer(name='RhlI', enzyme=rhli, product=c4, k2=960)\n",
    "c4_laci = lc.Hill1(name='Prhl', input=c4, output=[laci, cyan], alpha=[0, 2.15*10**-8], K=4.68*10**-5, n=0.64)\n",
    "\n",
    "genetic_n.add_operator([c4_laci, laci_not_cini, c14_tetr, ci_not_rhli, tetr_not_ci])\n",
    "genetic_n.add_impactor([cini_c14, rhli_c4])"
   ]
  },
  {
   "cell_type": "code",
   "execution_count": null,
   "metadata": {},
   "outputs": [],
   "source": [
    "lactonase = lc.Degrader(name='Lactonase', enzyme=aiia, substrate=[c4, c14], Km=[0.00511, 0.00143], k2=[1.35*10**5, 7.28*10**4])\n",
    "genetic_n.add_impactor(lactonase)\n",
    "\n",
    "# continuous expression of AiiA, one copy\n",
    "j23100 = lc.Source(output=aiia, rate=2.56*10**-7, name='J23100')\n",
    "genetic_n.add_operator(j23100)"
   ]
  },
  {
   "cell_type": "code",
   "execution_count": null,
   "metadata": {},
   "outputs": [],
   "source": [
    "plt.figure(figsize=(3.5,3.5), dpi=100)\n",
    "genetic_n.draw() #pos=nx.planar_layout"
   ]
  },
  {
   "cell_type": "code",
   "execution_count": null,
   "metadata": {},
   "outputs": [],
   "source": [
    "sample = lc.Sample(strain=strain)\n",
    "assay = lc.Assay([sample], \n",
    "                n_measurements=100, \n",
    "                interval=0.24,\n",
    "                name='Extended repressilator',\n",
    "                description='Simulated expression of extended repressilator strain'\n",
    "                )"
   ]
  },
  {
   "cell_type": "code",
   "execution_count": null,
   "metadata": {},
   "outputs": [],
   "source": [
    "assay.run(substeps=100, mode=\"track_all\")"
   ]
  },
  {
   "cell_type": "markdown",
   "metadata": {},
   "source": [
    "#### results"
   ]
  },
  {
   "cell_type": "code",
   "execution_count": null,
   "metadata": {},
   "outputs": [],
   "source": [
    "m = assay.measurements\n",
    "fig, ax = plt.subplots()\n",
    "fig1, ax1 = plt.subplots()\n",
    "fig2, ax2 = plt.subplots()\n",
    "fig3, ax3 = plt.subplots()\n",
    "m[m.Signal=='mCherry in Strain'].plot(x='Time', y='Measurement', color='red', style='-', ax=ax)\n",
    "m[m.Signal=='CFP in Strain'].plot(x='Time', y='Measurement', color='cyan', style='-', ax=ax)\n",
    "m[m.Signal=='mVenus in Strain'].plot(x='Time', y='Measurement', color='yellow', style='-', ax=ax)\n",
    "m[m.Signal=='LacI in Strain'].plot(x='Time', y='Measurement', style='-', ax=ax1)\n",
    "m[m.Signal=='TetR in Strain'].plot(x='Time', y='Measurement', style='-', ax=ax1)\n",
    "m[m.Signal=='cI in Strain'].plot(x='Time', y='Measurement', style='-', ax=ax1)\n",
    "m[m.Signal=='C4 in Strain'].plot(x='Time', y='Measurement', style='-', ax=ax2)\n",
    "m[m.Signal=='C14 in Strain'].plot(x='Time', y='Measurement', style='-', ax=ax2)\n",
    "m[m.Signal=='RhlI in Strain'].plot(x='Time', y='Measurement', style='-', ax=ax3)\n",
    "m[m.Signal=='CinI in Strain'].plot(x='Time', y='Measurement', style='-', ax=ax3)\n",
    "ax.legend(['mCherry', 'CFP', 'mVenus'])\n",
    "ax.set_xlabel('Time (h)')\n",
    "ax.set_ylabel('Concentration (M)')\n",
    "ax1.legend(['LacI', 'TetR', 'cI'])\n",
    "ax1.set_xlabel('Time (h)')\n",
    "ax1.set_ylabel('Concentration (M)')\n",
    "ax2.legend(['C4', 'C14'])\n",
    "ax2.set_xlabel('Time (h)')\n",
    "ax2.set_ylabel('Concentration (M)')\n",
    "ax3.legend(['RhlI', 'CinI'])\n",
    "ax3.set_xlabel('Time (h)')\n",
    "ax3.set_ylabel('Concentration (M)')\n",
    "\n",
    "fig4, ax4 = plt.subplots()\n",
    "m[m.Signal=='mCherry in Strain'].plot(x='Time', y='Measurement', color='red', style='-', ax=ax4)\n",
    "m[m.Signal=='CFP in Strain'].plot(x='Time', y='Measurement', color='cyan', style='-', ax=ax4)\n",
    "ax4.legend(['mCherry', 'CFP'])\n",
    "ax4.set_xlabel('Time (h)')\n",
    "ax4.set_ylabel('Concentration (M)')\n",
    "\n",
    "fig5, ax5 = plt.subplots()\n",
    "m[m.Signal=='LacI in Strain'].plot(x='Time', y='Measurement', style='-', ax=ax5)\n",
    "m[m.Signal=='TetR in Strain'].plot(x='Time', y='Measurement', style='-', ax=ax5)\n",
    "ax5.legend(['LacI', 'TetR'])\n",
    "ax5.set_xlabel('Time (h)')\n",
    "ax5.set_ylabel('Concentration (M)')\n",
    "\n",
    "\n",
    "fig6, ax6 = plt.subplots()\n",
    "m[m.Signal=='AiiA in Strain'].plot(x='Time', y='Measurement', style='-', ax=ax6)\n",
    "ax6.legend(['AiiA'])\n",
    "ax6.set_xlabel('Time (h)')\n",
    "ax6.set_ylabel('Concentration (M)')\n",
    "\n",
    "fig7, ax7 = plt.subplots()\n",
    "m[m.Signal=='Extracellular C4'].plot(x='Time', y='Measurement', style='-', ax=ax7)\n",
    "m[m.Signal=='Extracellular C14'].plot(x='Time', y='Measurement', style='-', ax=ax7)\n",
    "ax7.legend(['C4', 'C14'])\n",
    "ax7.set_xlabel('Time (h)')\n",
    "ax7.set_ylabel('Concentration (M)')"
   ]
  },
  {
   "cell_type": "markdown",
   "metadata": {},
   "source": [
    "# Continuos signals"
   ]
  },
  {
   "cell_type": "code",
   "execution_count": null,
   "metadata": {},
   "outputs": [],
   "source": [
    "def growth_rate(t):\n",
    "    return lc.gompertz_growth_rate(t, 0.01, 1, 1, 1)\n",
    "\n",
    "def biomass(t):\n",
    "    return lc.gompertz(t, 0.01, 1, 1, 1)\n",
    "\n",
    "metab = lc.SimulatedMetabolism(\"Simulated metabolism\", biomass, growth_rate)\n",
    "genetic_n = lc.GeneticNetwork()"
   ]
  },
  {
   "cell_type": "code",
   "execution_count": null,
   "metadata": {},
   "outputs": [],
   "source": [
    "strain = lc.Strain('Strain', genetic_n, metab)"
   ]
  },
  {
   "cell_type": "code",
   "execution_count": null,
   "metadata": {},
   "outputs": [],
   "source": [
    "# Transcription factors\n",
    "laci = lc.Regulator(name='LacI', degradation_rate=1.02, init_concentration=10**-7)\n",
    "tetr = lc.Regulator(name='TetR', degradation_rate=1.02)\n",
    "ci = lc.Regulator(name='cI', degradation_rate=1.02)\n",
    "\n",
    "# Signalling molecules\n",
    "c4 = lc.Regulator(name='C4', diffusion_rate=180)\n",
    "c14 = lc.Regulator(name='C14', diffusion_rate=126)\n",
    "\n",
    "genetic_n.add_regulator([tetr, laci, ci, c4, c14])"
   ]
  },
  {
   "cell_type": "code",
   "execution_count": null,
   "metadata": {},
   "outputs": [],
   "source": [
    "# option with producers\n",
    "rhli = lc.Regulator(name='RhlI', degradation_rate=1.02)\n",
    "cini = lc.Regulator(name='CinI', degradation_rate=1.02)\n",
    "genetic_n.add_regulator([rhli, cini])"
   ]
  },
  {
   "cell_type": "code",
   "execution_count": null,
   "metadata": {},
   "outputs": [],
   "source": [
    "aiia = lc.Regulator(name='AiiA', degradation_rate=1.02)\n",
    "genetic_n.add_regulator(aiia)"
   ]
  },
  {
   "cell_type": "code",
   "execution_count": null,
   "metadata": {},
   "outputs": [],
   "source": [
    "mcherry = lc.Reporter(name='mCherry', degradation_rate=1.02, color='red') \n",
    "cyan = lc.Reporter(name='CFP', degradation_rate=1.02, color='blue') \n",
    "mven = lc.Reporter(name='mVenus', degradation_rate=1.02, color='yellow') \n",
    "\n",
    "genetic_n.add_reporter([mcherry, cyan, mven])"
   ]
  },
  {
   "cell_type": "code",
   "execution_count": null,
   "metadata": {},
   "outputs": [],
   "source": [
    "# option with producers\n",
    "\n",
    "#First extended node\n",
    "laci_not_aiia = lc.Hill1(name='Plac', input=laci, output=aiia, alpha=[1.44*10**-4, 1.44*10**-7], K=6.64*10**-8, n=2)\n",
    "cini_c14 = lc.Producer(name='CinI', enzyme=cini, product=c14, k2=60)\n",
    "c14_tetr = lc.Hill1(name='Pcin', input=c14, output=[tetr, mcherry], alpha=[2.15*10**-8, 7.35*10**-8], K=3.41*10**-6, n=1.87)\n",
    "\n",
    "# Second node\n",
    "tetr_not_ci = lc.Hill1(name='Ptet', input=tetr, output=[ci, mven], alpha=[1.44*10**-4, 1.44*10**-7], K=6.64*10**-8, n=2)\n",
    "\n",
    "# Third extended node\n",
    "ci_not_aiia = lc.Hill1(name='PcI', input=ci, output=aiia, alpha=[1.44*10**-4, 1.44*10**-7], K=6.64*10**-8, n=2)\n",
    "rhli_c4 = lc.Producer(name='RhlI', enzyme=rhli, product=c4, k2=960)\n",
    "c4_laci = lc.Hill1(name='Prhl', input=c4, output=[laci, cyan], alpha=[0, 2.15*10**-8], K=4.68*10**-5, n=0.64)\n",
    "\n",
    "genetic_n.add_operator([c4_laci, laci_not_aiia, c14_tetr, ci_not_aiia, tetr_not_ci])\n",
    "genetic_n.add_impactor([cini_c14, rhli_c4])"
   ]
  },
  {
   "cell_type": "code",
   "execution_count": null,
   "metadata": {},
   "outputs": [],
   "source": [
    "lactonase = lc.Degrader(name='Lactonase', enzyme=aiia, substrate=[c4, c14], Km=[0.00511, 0.00143], k2=[1.35*10**5, 7.28*10**4])\n",
    "genetic_n.add_impactor(lactonase)\n",
    "\n",
    "# continuous expression of AiiA, one copy\n",
    "j23117 = lc.Source(output=[rhli, cini], rate=1.54*10**-8, name='J23117')\n",
    "genetic_n.add_operator(j23117)"
   ]
  },
  {
   "cell_type": "code",
   "execution_count": null,
   "metadata": {},
   "outputs": [],
   "source": [
    "plt.figure(figsize=(3.5,3.5), dpi=100)\n",
    "genetic_n.draw() #pos=nx.planar_layout"
   ]
  },
  {
   "cell_type": "code",
   "execution_count": null,
   "metadata": {},
   "outputs": [],
   "source": [
    "sample = lc.Sample(strain=strain)\n",
    "assay = lc.Assay([sample], \n",
    "                n_measurements=100, \n",
    "                interval=0.24,\n",
    "                name='Extended repressilator',\n",
    "                description='Simulated expression of extended repressilator strain'\n",
    "                )"
   ]
  },
  {
   "cell_type": "code",
   "execution_count": null,
   "metadata": {},
   "outputs": [],
   "source": [
    "assay.run(substeps=100, mode=\"track_all\")"
   ]
  },
  {
   "cell_type": "code",
   "execution_count": null,
   "metadata": {},
   "outputs": [],
   "source": [
    "m = assay.measurements\n",
    "fig, ax = plt.subplots()\n",
    "fig1, ax1 = plt.subplots()\n",
    "fig2, ax2 = plt.subplots()\n",
    "fig3, ax3 = plt.subplots()\n",
    "m[m.Signal=='mCherry in Strain'].plot(x='Time', y='Measurement', color='red', style='-', ax=ax)\n",
    "m[m.Signal=='CFP in Strain'].plot(x='Time', y='Measurement', color='cyan', style='-', ax=ax)\n",
    "m[m.Signal=='mVenus in Strain'].plot(x='Time', y='Measurement', color='yellow', style='-', ax=ax)\n",
    "m[m.Signal=='LacI in Strain'].plot(x='Time', y='Measurement', style='-', ax=ax1)\n",
    "m[m.Signal=='TetR in Strain'].plot(x='Time', y='Measurement', style='-', ax=ax1)\n",
    "m[m.Signal=='cI in Strain'].plot(x='Time', y='Measurement', style='-', ax=ax1)\n",
    "m[m.Signal=='C4 in Strain'].plot(x='Time', y='Measurement', style='-', ax=ax2)\n",
    "m[m.Signal=='C14 in Strain'].plot(x='Time', y='Measurement', style='-', ax=ax2)\n",
    "m[m.Signal=='RhlI in Strain'].plot(x='Time', y='Measurement', style='-', ax=ax3)\n",
    "m[m.Signal=='CinI in Strain'].plot(x='Time', y='Measurement', style='-', ax=ax3)\n",
    "ax.legend(['mCherry', 'CFP', 'mVenus'])\n",
    "ax.set_xlabel('Time (h)')\n",
    "ax.set_ylabel('Concentration (M)')\n",
    "ax1.legend(['LacI', 'TetR', 'cI'])\n",
    "ax1.set_xlabel('Time (h)')\n",
    "ax1.set_ylabel('Concentration (M)')\n",
    "ax2.legend(['C4', 'C14'])\n",
    "ax2.set_xlabel('Time (h)')\n",
    "ax2.set_ylabel('Concentration (M)')\n",
    "ax3.legend(['RhlI', 'CinI'])\n",
    "ax3.set_xlabel('Time (h)')\n",
    "ax3.set_ylabel('Concentration (M)')\n",
    "\n",
    "fig4, ax4 = plt.subplots()\n",
    "m[m.Signal=='mCherry in Strain'].plot(x='Time', y='Measurement', color='red', style='-', ax=ax4)\n",
    "m[m.Signal=='CFP in Strain'].plot(x='Time', y='Measurement', color='cyan', style='-', ax=ax4)\n",
    "ax4.legend(['mCherry', 'CFP'])\n",
    "ax4.set_xlabel('Time (h)')\n",
    "ax4.set_ylabel('Concentration (M)')\n",
    "\n",
    "fig5, ax5 = plt.subplots()\n",
    "m[m.Signal=='LacI in Strain'].plot(x='Time', y='Measurement', style='-', ax=ax5)\n",
    "m[m.Signal=='TetR in Strain'].plot(x='Time', y='Measurement', style='-', ax=ax5)\n",
    "ax5.legend(['LacI', 'TetR'])\n",
    "ax5.set_xlabel('Time (h)')\n",
    "ax5.set_ylabel('Concentration (M)')\n",
    "\n",
    "fig6, ax6 = plt.subplots()\n",
    "m[m.Signal=='AiiA in Strain'].plot(x='Time', y='Measurement', style='-', ax=ax6)\n",
    "ax6.legend(['AiiA'])\n",
    "ax6.set_xlabel('Time (h)')\n",
    "ax6.set_ylabel('Concentration (M)')\n",
    "\n",
    "fig7, ax7 = plt.subplots()\n",
    "m[m.Signal=='Extracellular C4'].plot(x='Time', y='Measurement', style='-', ax=ax7)\n",
    "m[m.Signal=='Extracellular C14'].plot(x='Time', y='Measurement', style='-', ax=ax7)\n",
    "ax7.legend(['C4', 'C14'])\n",
    "ax7.set_xlabel('Time (h)')\n",
    "ax7.set_ylabel('Concentration (M)')"
   ]
  }
 ],
 "metadata": {
  "kernelspec": {
   "display_name": "Python 3.10.4 ('loica')",
   "language": "python",
   "name": "python3"
  },
  "language_info": {
   "codemirror_mode": {
    "name": "ipython",
    "version": 3
   },
   "file_extension": ".py",
   "mimetype": "text/x-python",
   "name": "python",
   "nbconvert_exporter": "python",
   "pygments_lexer": "ipython3",
   "version": "3.10.4"
  },
  "orig_nbformat": 4,
  "vscode": {
   "interpreter": {
    "hash": "5a3b552e1f00b069c0e96dcc3c439489a3953ff59f29351d8119914676dca9ff"
   }
  }
 },
 "nbformat": 4,
 "nbformat_minor": 2
}
