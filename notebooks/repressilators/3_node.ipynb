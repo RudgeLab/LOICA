{
 "cells": [
  {
   "cell_type": "markdown",
   "metadata": {},
   "source": [
    "# Extended repressilator"
   ]
  },
  {
   "cell_type": "markdown",
   "metadata": {},
   "source": [
    "This repressilator includes additional \"steps\" - signalling molecules that act as intermediates between repressors."
   ]
  },
  {
   "cell_type": "code",
   "execution_count": null,
   "metadata": {},
   "outputs": [],
   "source": [
    "pip install -e ."
   ]
  },
  {
   "cell_type": "code",
   "execution_count": null,
   "metadata": {},
   "outputs": [],
   "source": [
    "import loica as lc\n",
    "import matplotlib.pyplot as plt\n",
    "import networkx as nx\n",
    "import warnings\n",
    "warnings.simplefilter(action='ignore', category=FutureWarning)"
   ]
  },
  {
   "cell_type": "code",
   "execution_count": null,
   "metadata": {},
   "outputs": [],
   "source": [
    "def growth_rate(t):\n",
    "    return 1 # lc.gompertz_growth_rate(t, 0.01, 1, 1, 1)\n",
    "\n",
    "def biomass(t):\n",
    "    return 1 #lc.gompertz(t, 0.01, 1, 1, 1)"
   ]
  },
  {
   "cell_type": "code",
   "execution_count": null,
   "metadata": {},
   "outputs": [],
   "source": [
    "k2 = [1, 10, 100, 1000]\n",
    "alpha = [10**-8, 10**-7, 10**-6, 10**-5, 10**-4, 10**-3, 10**-2, 0.1]\n",
    "\n",
    "for a in alpha:\n",
    "    for k in k2:\n",
    "        metab = lc.SimulatedMetabolism(\"Simulated metabolism\", biomass, growth_rate)\n",
    "        genetic_n = lc.GeneticNetwork()\n",
    "        strain = lc.Strain('Strain', genetic_n, metab)\n",
    "        # Transcription factors\n",
    "        laci = lc.Regulator(name='LacI', degradation_rate=1, init_concentration=10**-7)\n",
    "        tetr = lc.Regulator(name='TetR', degradation_rate=1)\n",
    "        ci = lc.Regulator(name='cI', degradation_rate=1)\n",
    "\n",
    "        # Signalling molecules\n",
    "        c4 = lc.Regulator(name='C4', degradation_rate=1)\n",
    "        scb2 = lc.Regulator(name='SCB2', degradation_rate=1)\n",
    "        c14 = lc.Regulator(name='C14', degradation_rate=1)\n",
    "\n",
    "        genetic_n.add_regulator([tetr, laci, ci, c4, scb2, c14])\n",
    "\n",
    "        rhli = lc.Regulator(name='RhlI', degradation_rate=1)\n",
    "        scbb = lc.Regulator(name='ScbB', degradation_rate=1)\n",
    "        cini = lc.Regulator(name='CinI', degradation_rate=1)\n",
    "        genetic_n.add_regulator([rhli, scbb, cini])\n",
    "\n",
    "        mcherry = lc.Reporter(name='mCherry', degradation_rate=1, color='red') \n",
    "        cyan = lc.Reporter(name='CFP', degradation_rate=1, color='blue') \n",
    "        mven = lc.Reporter(name='mVenus', degradation_rate=1, color='yellow') \n",
    "\n",
    "        genetic_n.add_reporter([mcherry, cyan, mven])\n",
    "\n",
    "        #First extended node\n",
    "        c4_laci = lc.Hill1(name='Prhl', input=c4, output=[laci, cyan], alpha=[0, a], K=10**-5, n=1.255)\n",
    "        laci_not_scbb = lc.Hill1(name='Plac', input=laci, output=scbb,  alpha=[10**-4, 0], K=10**-8, n=2)\n",
    "        scbb_scb2 = lc.Producer(name='ScbB', enzyme=scbb, product=scb2, k2=k)\n",
    "\n",
    "        # Second\n",
    "        scb2_tetr = lc.Hill1(name='Pscb', input=scb2, output=[tetr, mcherry], alpha=[0, a], K=10**-5, n=1.255)\n",
    "        tetr_not_cini = lc.Hill1(name='Ptet', input=tetr, output=cini,  alpha=[10**-4, 0], K=10**-8, n=2)\n",
    "        cini_c14 = lc.Producer(name='CinI', enzyme=cini, product=c14, k2=k)\n",
    "\n",
    "        # Third\n",
    "        c14_ci = lc.Hill1(name='Pcin', input=c14, output=[ci, mven], alpha=[0, a], K=10**-5, n=1.255)\n",
    "        ci_not_rhli = lc.Hill1(name='PcI', input=ci, output=rhli,  alpha=[10**-4, 0], K=10**-8, n=2)\n",
    "        rhli_c4 = lc.Producer(name='RhlI', enzyme=rhli, product=c4, k2=k)\n",
    "\n",
    "        genetic_n.add_operator([c4_laci, laci_not_scbb, scb2_tetr, tetr_not_cini, c14_ci, ci_not_rhli]) \n",
    "        genetic_n.add_impactor([scbb_scb2, cini_c14, rhli_c4])\n",
    "\n",
    "        sample = lc.Sample(strain=strain)\n",
    "        assay = lc.Assay([sample], \n",
    "                        n_measurements=100, \n",
    "                        interval=0.24,\n",
    "                        name='Extended repressilator',\n",
    "                        description='Simulated expression of extended repressilator strain'\n",
    "                        )\n",
    "        assay.run(substeps=10, mode=\"track_all\")\n",
    "\n",
    "        m = assay.measurements\n",
    "        fig, ax = plt.subplots()\n",
    "        fig1, ax1 = plt.subplots()\n",
    "        fig2, ax2 = plt.subplots()\n",
    "        fig3, ax3 = plt.subplots()\n",
    "        m[m.Signal=='mCherry in Strain'].plot(x='Time', y='Measurement', color='red', style='-', ax=ax)\n",
    "        m[m.Signal=='CFP in Strain'].plot(x='Time', y='Measurement', color='cyan', style='-', ax=ax)\n",
    "        m[m.Signal=='mVenus in Strain'].plot(x='Time', y='Measurement', color='yellow', style='-', ax=ax)\n",
    "        m[m.Signal=='LacI in Strain'].plot(x='Time', y='Measurement', style='-', ax=ax1)\n",
    "        m[m.Signal=='TetR in Strain'].plot(x='Time', y='Measurement', style='-', ax=ax1)\n",
    "        m[m.Signal=='cI in Strain'].plot(x='Time', y='Measurement', style='-', ax=ax1)\n",
    "        m[m.Signal=='C4 in Strain'].plot(x='Time', y='Measurement', style='-', ax=ax2)\n",
    "        m[m.Signal=='SCB2 in Strain'].plot(x='Time', y='Measurement', style='-', ax=ax2)\n",
    "        m[m.Signal=='C14 in Strain'].plot(x='Time', y='Measurement', style='-', ax=ax2)\n",
    "        m[m.Signal=='RhlI in Strain'].plot(x='Time', y='Measurement', style='-', ax=ax3)\n",
    "        m[m.Signal=='ScbB in Strain'].plot(x='Time', y='Measurement', style='-', ax=ax3)\n",
    "        m[m.Signal=='CinI in Strain'].plot(x='Time', y='Measurement', style='-', ax=ax3)\n",
    "        ax.legend(['mCherry', 'CFP', 'mVenus'])\n",
    "        ax.set_xlabel('Time (h)')\n",
    "        ax.set_ylabel('Concentration (M)')\n",
    "        ax1.legend(['LacI', 'TetR', 'cI'])\n",
    "        ax1.set_xlabel('Time (h)')\n",
    "        ax1.set_ylabel('Concentration (M)')\n",
    "        ax2.legend(['C4', 'SCB2', 'C14'])\n",
    "        ax2.set_xlabel('Time (h)')\n",
    "        ax2.set_ylabel('Concentration (M)')\n",
    "        ax3.legend(['RhlI', 'ScbB', 'CinI'])\n",
    "        ax3.set_xlabel('Time (h)')\n",
    "        ax3.set_ylabel('Concentration (M)')\n"
   ]
  }
 ],
 "metadata": {
  "kernelspec": {
   "display_name": "Python 3.10.4 ('loica')",
   "language": "python",
   "name": "python3"
  },
  "language_info": {
   "codemirror_mode": {
    "name": "ipython",
    "version": 3
   },
   "file_extension": ".py",
   "mimetype": "text/x-python",
   "name": "python",
   "nbconvert_exporter": "python",
   "pygments_lexer": "ipython3",
   "version": "3.10.4"
  },
  "orig_nbformat": 4,
  "vscode": {
   "interpreter": {
    "hash": "5a3b552e1f00b069c0e96dcc3c439489a3953ff59f29351d8119914676dca9ff"
   }
  }
 },
 "nbformat": 4,
 "nbformat_minor": 2
}
