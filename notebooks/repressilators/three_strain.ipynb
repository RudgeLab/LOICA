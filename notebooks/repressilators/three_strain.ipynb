{
 "cells": [
  {
   "cell_type": "markdown",
   "metadata": {},
   "source": [
    "# Repressilator split between 3 strains"
   ]
  },
  {
   "cell_type": "markdown",
   "metadata": {},
   "source": [
    "This repressilator is split between 3 strains - each of them is producing an orthogonal signalling molecule and a fluorescent protein. Like in repressilator, expression of each signalling molecule will cause the repression of the next signalling molecule synthesis."
   ]
  },
  {
   "cell_type": "code",
   "execution_count": null,
   "metadata": {},
   "outputs": [],
   "source": [
    "pip install -e ."
   ]
  },
  {
   "cell_type": "code",
   "execution_count": null,
   "metadata": {},
   "outputs": [],
   "source": [
    "import loica as lc\n",
    "import matplotlib.pyplot as plt\n",
    "import networkx as nx\n",
    "import warnings\n",
    "warnings.simplefilter(action='ignore', category=FutureWarning)"
   ]
  },
  {
   "cell_type": "code",
   "execution_count": null,
   "metadata": {},
   "outputs": [],
   "source": [
    "def growth_rate(t):\n",
    "    return lc.gompertz_growth_rate(t, 0.01, 1, 1, 1)\n",
    "\n",
    "def biomass(t):\n",
    "    return lc.gompertz(t, 0.01, 1, 1, 1)"
   ]
  },
  {
   "cell_type": "markdown",
   "metadata": {},
   "source": [
    "## Strain 1"
   ]
  },
  {
   "cell_type": "code",
   "execution_count": null,
   "metadata": {},
   "outputs": [],
   "source": [
    "gn1 = lc.GeneticNetwork()\n",
    "metab1 = lc.SimulatedMetabolism(\"Simulated metabolism\", biomass, growth_rate)\n",
    "strain_1 = lc.Strain('Strain 1', gn1, metab1)"
   ]
  },
  {
   "cell_type": "code",
   "execution_count": null,
   "metadata": {},
   "outputs": [],
   "source": [
    "# Transcription factors\n",
    "laci_1 = lc.Regulator(name='LacI', degradation_rate=1)\n",
    "\n",
    "# Signalling molecules\n",
    "c4_1 = lc.Regulator(name='C4', degradation_rate=1, diffusion_rate=1)\n",
    "scb2_1 = lc.Regulator(name='SCB2', degradation_rate=1, diffusion_rate=1)\n",
    "c14_1 = lc.Regulator(name='C14', degradation_rate=1, diffusion_rate=1)\n",
    "\n",
    "gn1.add_regulator([laci_1, c4_1, scb2_1, c14_1])"
   ]
  },
  {
   "cell_type": "code",
   "execution_count": null,
   "metadata": {},
   "outputs": [],
   "source": [
    "# option with producers\n",
    "# scbb = lc.Regulator(name='ScbB', degradation_rate=1)\n",
    "# gn1.add_regulator(scbb)"
   ]
  },
  {
   "cell_type": "code",
   "execution_count": null,
   "metadata": {},
   "outputs": [],
   "source": [
    "mcherry = lc.Reporter(name='mCherry', degradation_rate=1, color='red') \n",
    "gn1.add_reporter(mcherry)"
   ]
  },
  {
   "cell_type": "code",
   "execution_count": null,
   "metadata": {},
   "outputs": [],
   "source": [
    "c4_laci = lc.Hill1(name='Prhl', input=c4_1, output=laci_1, alpha=[0.1, 10000], K=10, n=2)\n",
    "laci_not_scb2 = lc.Hill1(name='Plac', input=laci_1, output=[scb2_1, mcherry], alpha=[10000,0.1], K=10, n=2)\n",
    "\n",
    "gn1.add_operator([c4_laci, laci_not_scb2])"
   ]
  },
  {
   "cell_type": "code",
   "execution_count": null,
   "metadata": {},
   "outputs": [],
   "source": [
    "# # option with producers\n",
    "# c4_laci = lc.Hill1(name='Prhl', input=c4_1, output=laci_1, alpha=[0.1, 10000], K=10, n=2)\n",
    "# laci_not_scbb = lc.Hill1(name='Plac', input=laci_1, output=[scbb, mcherry], alpha=[10000,0.1], K=10, n=2)\n",
    "# scbb_scb2 = lc.Producer(name='ScbB', input=scbb, output=scb2, k1a=1, k2=1)\n",
    "\n",
    "# gn1.add_operator([c4_laci, laci_not_scbb, scbb_scb2])"
   ]
  },
  {
   "cell_type": "code",
   "execution_count": null,
   "metadata": {},
   "outputs": [],
   "source": [
    "plt.figure(figsize=(3.5,3.5), dpi=100)\n",
    "gn1.draw(pos=nx.planar_layout)"
   ]
  },
  {
   "cell_type": "markdown",
   "metadata": {},
   "source": [
    "## Strain 2"
   ]
  },
  {
   "cell_type": "code",
   "execution_count": null,
   "metadata": {},
   "outputs": [],
   "source": [
    "gn2 = lc.GeneticNetwork()\n",
    "metab2 = lc.SimulatedMetabolism(\"Simulated metabolism\", biomass, growth_rate)\n",
    "strain_2 = lc.Strain('Strain 2', gn2, metab2)"
   ]
  },
  {
   "cell_type": "code",
   "execution_count": null,
   "metadata": {},
   "outputs": [],
   "source": [
    "# Transcription factors\n",
    "laci_2 = lc.Regulator(name='LacI', degradation_rate=1)\n",
    "\n",
    "# Signalling molecules\n",
    "c4_2 = lc.Regulator(name='C4', degradation_rate=1, diffusion_rate=1)\n",
    "scb2_2 = lc.Regulator(name='SCB2', degradation_rate=1, diffusion_rate=1)\n",
    "c14_2 = lc.Regulator(name='C14', degradation_rate=1, diffusion_rate=1)\n",
    "\n",
    "gn2.add_regulator([laci_2, c4_2, scb2_2, c14_2])"
   ]
  },
  {
   "cell_type": "code",
   "execution_count": null,
   "metadata": {},
   "outputs": [],
   "source": [
    "# option with producers\n",
    "# cini = lc.Regulator(name='CinI', degradation_rate=1)\n",
    "# gn2.add_regulator(cini)"
   ]
  },
  {
   "cell_type": "code",
   "execution_count": null,
   "metadata": {},
   "outputs": [],
   "source": [
    "mven = lc.Reporter(name='mVenus', degradation_rate=1, color='yellow') \n",
    "gn2.add_reporter(mven)"
   ]
  },
  {
   "cell_type": "code",
   "execution_count": null,
   "metadata": {},
   "outputs": [],
   "source": [
    "scb2_laci = lc.Hill1(name='Pscb', input=scb2_2, output=laci_2, alpha=[0.1,10000], K=10, n=2)\n",
    "laci_not_c14 = lc.Hill1(name='Plac', input=laci_2, output=[c14_2, mven], alpha=[10000,0.1], K=10, n=2)\n",
    "\n",
    "gn2.add_operator([scb2_laci, laci_not_c14])"
   ]
  },
  {
   "cell_type": "code",
   "execution_count": null,
   "metadata": {},
   "outputs": [],
   "source": [
    "# # option with producers\n",
    "# scb2_laci = lc.Hill1(name='Pscb', input=scb2_2, output=laci_2, alpha=[0.1,10000], K=10, n=2)\n",
    "# laci_not_cini = lc.Hill1(name='Plac', input=laci_2, output=[cini, mven], alpha=[10000,0.1], K=10, n=2)\n",
    "# cini_c14 = lc.Producer(name='CinI', input=cini, output=c14_2, k1a=1, k2=1)\n",
    "\n",
    "# gn2.add_operator([scb2_laci, laci_not_cini, cini_c14])"
   ]
  },
  {
   "cell_type": "code",
   "execution_count": null,
   "metadata": {},
   "outputs": [],
   "source": [
    "plt.figure(figsize=(3.5,3.5), dpi=100)\n",
    "gn2.draw(pos=nx.planar_layout)"
   ]
  },
  {
   "cell_type": "markdown",
   "metadata": {},
   "source": [
    "## Strain 3"
   ]
  },
  {
   "cell_type": "code",
   "execution_count": null,
   "metadata": {},
   "outputs": [],
   "source": [
    "gn3 = lc.GeneticNetwork()\n",
    "metab3 = lc.SimulatedMetabolism(\"Simulated metabolism\", biomass, growth_rate)\n",
    "strain_3 = lc.Strain('Strain 3', gn3, metab3)"
   ]
  },
  {
   "cell_type": "code",
   "execution_count": null,
   "metadata": {},
   "outputs": [],
   "source": [
    "# Transcription factors\n",
    "laci_3 = lc.Regulator(name='LacI', degradation_rate=1)\n",
    "\n",
    "# Signalling molecules\n",
    "c4_3 = lc.Regulator(name='C4', degradation_rate=1, diffusion_rate=1)\n",
    "scb2_3 = lc.Regulator(name='SCB2', degradation_rate=1, diffusion_rate=1)\n",
    "c14_3 = lc.Regulator(name='C14', degradation_rate=1, diffusion_rate=1)\n",
    "\n",
    "gn3.add_regulator([laci_3, c4_3, scb2_3, c14_3])"
   ]
  },
  {
   "cell_type": "code",
   "execution_count": null,
   "metadata": {},
   "outputs": [],
   "source": [
    "# option with producers\n",
    "# rhli = lc.Regulator(name='RhlI', degradation_rate=1)\n",
    "# gn3.add_regulator(rhli)"
   ]
  },
  {
   "cell_type": "code",
   "execution_count": null,
   "metadata": {},
   "outputs": [],
   "source": [
    "cyan = lc.Reporter(name='CFP', degradation_rate=1, color='blue')\n",
    "gn3.add_reporter(cyan)"
   ]
  },
  {
   "cell_type": "code",
   "execution_count": null,
   "metadata": {},
   "outputs": [],
   "source": [
    "# One node\n",
    "c14_laci = lc.Hill1(name='Pcin', input=c14_3, output=laci_3, alpha=[0.1,10000], K=10, n=2)\n",
    "laci_not_c4 = lc.Hill1(name='Plac', input=laci_3, output=[c4_3, cyan], alpha=[10000,0.1], K=10, n=2)\n",
    "\n",
    "gn3.add_operator([c14_laci, laci_not_c4])"
   ]
  },
  {
   "cell_type": "code",
   "execution_count": null,
   "metadata": {},
   "outputs": [],
   "source": [
    "# # option with producers\n",
    "# c14_laci = lc.Hill1(name='Pcin', input=c14_3, output=laci_3, alpha=[0.1,10000], K=10, n=2)\n",
    "# laci_not_c4 = lc.Hill1(name='Plac', input=laci_3, output=[rhli, cyan], alpha=[10000,0.1], K=10, n=2)\n",
    "\n",
    "# rhli_c4 = lc.Producer(name='ScbB', input=rhli, output=c4_3, k1a=1, k2=1)\n",
    "\n",
    "# gn3.add_operator([c14_laci, laci_not_c4, rhli_c4])"
   ]
  },
  {
   "cell_type": "code",
   "execution_count": null,
   "metadata": {},
   "outputs": [],
   "source": [
    "plt.figure(figsize=(3.5,3.5), dpi=100)\n",
    "gn3.draw(pos=nx.planar_layout)"
   ]
  },
  {
   "cell_type": "markdown",
   "metadata": {},
   "source": [
    "## Set up consortium"
   ]
  },
  {
   "cell_type": "code",
   "execution_count": null,
   "metadata": {},
   "outputs": [],
   "source": [
    "sample = lc.Sample(strain=[strain_1, strain_2, strain_3])\n",
    "# set starting external concentration\n",
    "sample.set_ext_conc('C4', 50)\n",
    "assay = lc.Assay([sample], \n",
    "                n_measurements=100, \n",
    "                interval=0.24,\n",
    "                name='Extended repressilator',\n",
    "                description='Simulated expression of extended repressilator strain'\n",
    "                )"
   ]
  }
 ],
 "metadata": {
  "kernelspec": {
   "display_name": "Python 3.10.4 ('loica')",
   "language": "python",
   "name": "python3"
  },
  "language_info": {
   "codemirror_mode": {
    "name": "ipython",
    "version": 3
   },
   "file_extension": ".py",
   "mimetype": "text/x-python",
   "name": "python",
   "nbconvert_exporter": "python",
   "pygments_lexer": "ipython3",
   "version": "3.10.4"
  },
  "orig_nbformat": 4,
  "vscode": {
   "interpreter": {
    "hash": "5a3b552e1f00b069c0e96dcc3c439489a3953ff59f29351d8119914676dca9ff"
   }
  }
 },
 "nbformat": 4,
 "nbformat_minor": 2
}
