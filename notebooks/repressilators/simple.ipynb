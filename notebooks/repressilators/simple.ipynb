{
 "cells": [
  {
   "cell_type": "markdown",
   "metadata": {},
   "source": [
    "# Repressilator"
   ]
  },
  {
   "cell_type": "code",
   "execution_count": null,
   "metadata": {},
   "outputs": [],
   "source": [
    "pip install -e ."
   ]
  },
  {
   "cell_type": "code",
   "execution_count": null,
   "metadata": {},
   "outputs": [],
   "source": [
    "import loica as lc\n",
    "import matplotlib.pyplot as plt\n",
    "import networkx as nx\n",
    "import warnings\n",
    "warnings.simplefilter(action='ignore', category=FutureWarning)"
   ]
  },
  {
   "cell_type": "code",
   "execution_count": null,
   "metadata": {},
   "outputs": [],
   "source": [
    "def growth_rate(t):\n",
    "    return 1 #lc.gompertz_growth_rate(t, 0.01, 1, 1, 1)\n",
    "\n",
    "def biomass(t):\n",
    "    return 1 #lc.gompertz(t, 0.01, 1, 1, 1)\n",
    "\n",
    "metab = lc.SimulatedMetabolism(\"Simulated metabolism\", biomass, growth_rate)\n",
    "genetic_n = lc.GeneticNetwork()"
   ]
  },
  {
   "cell_type": "code",
   "execution_count": null,
   "metadata": {},
   "outputs": [],
   "source": [
    "strain = lc.Strain('Strain', genetic_n, metab)"
   ]
  },
  {
   "cell_type": "code",
   "execution_count": null,
   "metadata": {},
   "outputs": [],
   "source": [
    "# Transcription factors\n",
    "laci = lc.Regulator(name='LacI', degradation_rate=1, init_concentration=10**-7)\n",
    "tetr = lc.Regulator(name='TetR', degradation_rate=1)\n",
    "ci = lc.Regulator(name='cI', degradation_rate=1)\n",
    "\n",
    "genetic_n.add_regulator([tetr, laci, ci])"
   ]
  },
  {
   "cell_type": "code",
   "execution_count": null,
   "metadata": {},
   "outputs": [],
   "source": [
    "mcherry = lc.Reporter(name='mCherry', degradation_rate=1, color='red') \n",
    "cyan = lc.Reporter(name='CFP', degradation_rate=1, color='blue') \n",
    "mven = lc.Reporter(name='mVenus', degradation_rate=1, color='yellow') \n",
    "\n",
    "genetic_n.add_reporter([mcherry, cyan, mven])"
   ]
  },
  {
   "cell_type": "code",
   "execution_count": null,
   "metadata": {},
   "outputs": [],
   "source": [
    "laci_not_tetr = lc.Hill1(name='Plac', input=laci, output=[tetr, mcherry], alpha=[10**-4, 0], K=10**-8, n=2)\n",
    "tetr_not_ci = lc.Hill1(name='Ptet', input=tetr, output=[ci, mven], alpha=[10**-4, 0], K=10**-8, n=2)\n",
    "ci_not_laci = lc.Hill1(name='PcI', input=ci, output=[laci, cyan], alpha=[10**-4, 0], K=10**-8, n=2)\n",
    "\n",
    "genetic_n.add_operator([laci_not_tetr, tetr_not_ci, ci_not_laci])"
   ]
  },
  {
   "cell_type": "code",
   "execution_count": null,
   "metadata": {},
   "outputs": [],
   "source": [
    "plt.figure(figsize=(3.5,3.5), dpi=100)\n",
    "genetic_n.draw()"
   ]
  },
  {
   "cell_type": "code",
   "execution_count": null,
   "metadata": {},
   "outputs": [],
   "source": [
    "sample = lc.Sample(strain=strain)\n",
    "assay = lc.Assay([sample], \n",
    "                n_measurements=100, \n",
    "                interval=0.24,\n",
    "                name='Extended repressilator',\n",
    "                description='Simulated expression of extended repressilator strain'\n",
    "                )"
   ]
  },
  {
   "cell_type": "code",
   "execution_count": null,
   "metadata": {},
   "outputs": [],
   "source": [
    "assay.run(substeps=10, mode='track_all')"
   ]
  },
  {
   "cell_type": "code",
   "execution_count": null,
   "metadata": {},
   "outputs": [],
   "source": [
    "m = assay.measurements\n",
    "fig,ax = plt.subplots()\n",
    "m[m.Signal=='mCherry in Strain'].plot(x='Time', y='Measurement', color='red', style='-', ax=ax)\n",
    "m[m.Signal=='CFP in Strain'].plot(x='Time', y='Measurement', color='cyan', style='-', ax=ax)\n",
    "m[m.Signal=='mVenus in Strain'].plot(x='Time', y='Measurement', color='yellow', style='-', ax=ax)\n",
    "ax.set_xlabel('Time (h)')\n",
    "ax.set_ylabel('Concentration (M)')\n",
    "\n",
    "fig1,ax1 = plt.subplots()\n",
    "m[m.Signal=='LacI in Strain'].plot(x='Time', y='Measurement', style='-', ax=ax1)\n",
    "m[m.Signal=='TetR in Strain'].plot(x='Time', y='Measurement', style='-', ax=ax1)\n",
    "m[m.Signal=='cI in Strain'].plot(x='Time', y='Measurement', style='-', ax=ax1)\n",
    "ax1.set_xlabel('Time (h)')\n",
    "ax1.set_ylabel('Concentration (M)')\n",
    "\n",
    "fig2, ax2 = plt.subplots()\n",
    "m[m.Signal=='Strain biomass'].plot(x='Time', y='Measurement', style='-', ax=ax2)\n",
    "ax2.set_xlabel('Time (h)')\n",
    "ax2.set_ylabel('OD 600')\n",
    "\n",
    "ax.legend(['mCherry', 'CFP', 'mVenus'])\n",
    "ax1.legend(['LacI', 'TetR', 'cI'])\n",
    "ax2.legend(['Biomass'])"
   ]
  }
 ],
 "metadata": {
  "kernelspec": {
   "display_name": "Python 3.10.4 ('loica')",
   "language": "python",
   "name": "python3"
  },
  "language_info": {
   "codemirror_mode": {
    "name": "ipython",
    "version": 3
   },
   "file_extension": ".py",
   "mimetype": "text/x-python",
   "name": "python",
   "nbconvert_exporter": "python",
   "pygments_lexer": "ipython3",
   "version": "3.10.4"
  },
  "orig_nbformat": 4,
  "vscode": {
   "interpreter": {
    "hash": "5a3b552e1f00b069c0e96dcc3c439489a3953ff59f29351d8119914676dca9ff"
   }
  }
 },
 "nbformat": 4,
 "nbformat_minor": 2
}
