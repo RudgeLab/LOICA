{
 "cells": [
  {
   "cell_type": "markdown",
   "metadata": {},
   "source": [
    "# 1-node extended repressilator"
   ]
  },
  {
   "cell_type": "markdown",
   "metadata": {},
   "source": [
    "This repressilator includes additional \"step\" - signalling molecule that acts as an intermediate between 2 repressors."
   ]
  },
  {
   "cell_type": "code",
   "execution_count": null,
   "metadata": {},
   "outputs": [],
   "source": [
    "pip install -e ."
   ]
  },
  {
   "cell_type": "code",
   "execution_count": null,
   "metadata": {},
   "outputs": [],
   "source": [
    "import loica as lc\n",
    "import matplotlib.pyplot as plt\n",
    "import networkx as nx\n",
    "import warnings\n",
    "warnings.simplefilter(action='ignore', category=FutureWarning)"
   ]
  },
  {
   "cell_type": "markdown",
   "metadata": {},
   "source": [
    "# AiiA expressed continuosly"
   ]
  },
  {
   "cell_type": "markdown",
   "metadata": {},
   "source": [
    "#### code"
   ]
  },
  {
   "cell_type": "code",
   "execution_count": null,
   "metadata": {},
   "outputs": [],
   "source": [
    "def growth_rate(t):\n",
    "    return lc.gompertz_growth_rate(t, 0.01, 1, 1, 1)\n",
    "\n",
    "def biomass(t):\n",
    "    return lc.gompertz(t, 0.01, 1, 1, 1)\n",
    "\n",
    "metab = lc.SimulatedMetabolism(\"Simulated metabolism\", biomass, growth_rate)\n",
    "genetic_n = lc.GeneticNetwork()"
   ]
  },
  {
   "cell_type": "code",
   "execution_count": null,
   "metadata": {},
   "outputs": [],
   "source": [
    "strain = lc.Strain('Strain', genetic_n, metab)"
   ]
  },
  {
   "cell_type": "code",
   "execution_count": null,
   "metadata": {},
   "outputs": [],
   "source": [
    "aiia = lc.Regulator(name='AiiA', degradation_rate=1)\n",
    "genetic_n.add_regulator(aiia)"
   ]
  },
  {
   "cell_type": "code",
   "execution_count": null,
   "metadata": {},
   "outputs": [],
   "source": [
    "# Transcription factors\n",
    "laci = lc.Regulator(name='LacI', degradation_rate=1, init_concentration=10)\n",
    "tetr = lc.Regulator(name='TetR', degradation_rate=1)\n",
    "ci = lc.Regulator(name='cI', degradation_rate=1)\n",
    "\n",
    "# Signalling molecules\n",
    "c4 = lc.Regulator(name='C4')\n",
    "\n",
    "genetic_n.add_regulator([tetr, laci, ci, c4])"
   ]
  },
  {
   "cell_type": "code",
   "execution_count": null,
   "metadata": {},
   "outputs": [],
   "source": [
    "# option with producers\n",
    "rhli = lc.Regulator(name='RhlI', degradation_rate=1)\n",
    "genetic_n.add_regulator(rhli)"
   ]
  },
  {
   "cell_type": "code",
   "execution_count": null,
   "metadata": {},
   "outputs": [],
   "source": [
    "mcherry = lc.Reporter(name='mCherry', degradation_rate=1, color='red') \n",
    "cyan = lc.Reporter(name='CFP', degradation_rate=1, color='blue') \n",
    "mven = lc.Reporter(name='mVenus', degradation_rate=1, color='yellow') \n",
    "\n",
    "genetic_n.add_reporter([mcherry, cyan, mven])"
   ]
  },
  {
   "cell_type": "code",
   "execution_count": null,
   "metadata": {},
   "outputs": [],
   "source": [
    "laci_not_tetr = lc.Hill1(name='Plac', input=laci, output=[tetr, mcherry], alpha=[10000, 0], K=1, n=2)\n",
    "tetr_not_cini = lc.Hill1(name='Ptet', input=tetr, output=[ci, mven], alpha=[10000, 0], K=1, n=2)\n",
    "# extended\n",
    "ci_not_rhli = lc.Hill1(name='PcI', input=ci, output=rhli, alpha=[10000, 0], K=1, n=2)\n",
    "rhli_c4 = lc.Producer(name='RhlI', enzyme=rhli, product=c4, k2=0.001)\n",
    "c4_laci = lc.Hill1(name='Prhl', input=c4, output=[laci, cyan], alpha=[0, 10000], K=1, n=2)\n",
    "\n",
    "# continuous expression of AiiA, one copy\n",
    "j23100 = lc.Source(output=aiia, rate=1, name='J23100')\n",
    "\n",
    "genetic_n.add_operator([c4_laci, laci_not_tetr, tetr_not_cini, ci_not_rhli, j23100])\n",
    "genetic_n.add_impactor(rhli_c4)"
   ]
  },
  {
   "cell_type": "code",
   "execution_count": null,
   "metadata": {},
   "outputs": [],
   "source": [
    "lactonase = lc.Degrader(name='Lactonase', enzyme=aiia, substrate=c4, Km=10000, k2=2)\n",
    "genetic_n.add_impactor(lactonase)\n"
   ]
  },
  {
   "cell_type": "code",
   "execution_count": null,
   "metadata": {},
   "outputs": [],
   "source": [
    "plt.figure(figsize=(5,5), dpi=100)\n",
    "genetic_n.draw()"
   ]
  },
  {
   "cell_type": "code",
   "execution_count": null,
   "metadata": {},
   "outputs": [],
   "source": [
    "sample = lc.Sample(strain=strain)\n",
    "assay = lc.Assay([sample], \n",
    "                n_measurements=100, \n",
    "                interval=0.24,\n",
    "                name='Extended repressilator',\n",
    "                description='Simulated expression of extended repressilator strain'\n",
    "                )"
   ]
  },
  {
   "cell_type": "code",
   "execution_count": null,
   "metadata": {},
   "outputs": [],
   "source": [
    "assay.run(substeps=10, mode=\"track_all\")"
   ]
  },
  {
   "cell_type": "markdown",
   "metadata": {},
   "source": [
    "#### results"
   ]
  },
  {
   "cell_type": "code",
   "execution_count": null,
   "metadata": {},
   "outputs": [],
   "source": [
    "m = assay.measurements\n",
    "fig, ax = plt.subplots()\n",
    "fig1, ax1 = plt.subplots()\n",
    "fig2, ax2 = plt.subplots()\n",
    "fig3, ax3 = plt.subplots()\n",
    "fig4, ax4 = plt.subplots()\n",
    "fig5, ax5 = plt.subplots()\n",
    "fig6, ax6 = plt.subplots()\n",
    "m[m.Signal=='mCherry in Strain'].plot(x='Time', y='Measurement', color='red', style='-', ax=ax)\n",
    "m[m.Signal=='CFP in Strain'].plot(x='Time', y='Measurement', color='cyan', style='-', ax=ax)\n",
    "m[m.Signal=='mVenus in Strain'].plot(x='Time', y='Measurement', color='yellow', style='-', ax=ax)\n",
    "# m[m.Signal=='CFP in Strain'].plot(x='Time', y='Measurement', color='cyan', style='-', ax=ax5)\n",
    "# m[m.Signal=='mVenus in Strain'].plot(x='Time', y='Measurement', color='yellow', style='-', ax=ax5)\n",
    "m[m.Signal=='LacI in Strain'].plot(x='Time', y='Measurement', style='-', ax=ax1)\n",
    "# m[m.Signal=='LacI in Strain'].plot(x='Time', y='Measurement', style='-', ax=ax6)\n",
    "m[m.Signal=='TetR in Strain'].plot(x='Time', y='Measurement', style='-', ax=ax1)\n",
    "m[m.Signal=='cI in Strain'].plot(x='Time', y='Measurement', style='-', ax=ax1)\n",
    "# m[m.Signal=='cI in Strain'].plot(x='Time', y='Measurement', style='-', ax=ax6)\n",
    "m[m.Signal=='C4 in Strain'].plot(x='Time', y='Measurement', style='-', ax=ax2)\n",
    "m[m.Signal=='RhlI in Strain'].plot(x='Time', y='Measurement', style='-', ax=ax3)\n",
    "m[m.Signal=='AiiA in Strain'].plot(x='Time', y='Measurement', style='-', ax=ax4)\n",
    "ax.legend(['mCherry', 'CFP', 'mVenus'])\n",
    "ax.set_xlabel('Time (h)')\n",
    "ax.set_ylabel('Concentration (M)')\n",
    "ax1.legend(['LacI', 'TetR', 'cI'])\n",
    "ax1.set_xlabel('Time (h)')\n",
    "ax1.set_ylabel('Concentration (M)')\n",
    "ax2.legend(['C4'])\n",
    "ax2.set_xlabel('Time (h)')\n",
    "ax2.set_ylabel('Concentration (M)')\n",
    "ax3.legend(['RhlI'])\n",
    "ax3.set_xlabel('Time (h)')\n",
    "ax3.set_ylabel('Concentration (M)')\n",
    "ax4.legend(['AiiA'])\n",
    "ax4.set_xlabel('Time (h)')\n",
    "ax4.set_ylabel('Concentration (M)')\n",
    "\n",
    "# ax5.legend(['CFP', 'mVenus'])\n",
    "m[m.Signal=='mCherry in Strain'].plot(x='Time', y='Measurement', color='red', style='-', ax=ax5)\n",
    "ax5.legend(['RFP'])\n",
    "ax5.set_xlabel('Time (h)')\n",
    "ax5.set_ylabel('Concentration (M)')\n",
    "\n",
    "# ax6.legend(['LacI', 'cI'])\n",
    "m[m.Signal=='TetR in Strain'].plot(x='Time', y='Measurement', style='-', ax=ax6)\n",
    "ax6.legend(['TetR'])\n",
    "ax6.set_xlabel('Time (h)')\n",
    "ax6.set_ylabel('Concentration (M)')"
   ]
  },
  {
   "cell_type": "code",
   "execution_count": null,
   "metadata": {},
   "outputs": [],
   "source": [
    "# import loica as lc\n",
    "# import matplotlib.pyplot as plt\n",
    "# import networkx as nx\n",
    "# import warnings\n",
    "# warnings.simplefilter(action='ignore', category=FutureWarning)"
   ]
  },
  {
   "cell_type": "markdown",
   "metadata": {},
   "source": [
    "# With diffusion"
   ]
  },
  {
   "cell_type": "code",
   "execution_count": null,
   "metadata": {},
   "outputs": [],
   "source": [
    "def growth_rate(t):\n",
    "    return lc.gompertz_growth_rate(t, 0.01, 1, 1, 1)\n",
    "\n",
    "def biomass(t):\n",
    "    return lc.gompertz(t, 0.01, 1, 1, 1)\n",
    "\n",
    "metab = lc.SimulatedMetabolism(\"Simulated metabolism\", biomass, growth_rate)\n",
    "genetic_n = lc.GeneticNetwork()"
   ]
  },
  {
   "cell_type": "code",
   "execution_count": null,
   "metadata": {},
   "outputs": [],
   "source": [
    "strain = lc.Strain('Strain', genetic_n, metab)"
   ]
  },
  {
   "cell_type": "code",
   "execution_count": null,
   "metadata": {},
   "outputs": [],
   "source": [
    "aiia = lc.Regulator(name='AiiA', degradation_rate=1.02)\n",
    "genetic_n.add_regulator(aiia)"
   ]
  },
  {
   "cell_type": "code",
   "execution_count": null,
   "metadata": {},
   "outputs": [],
   "source": [
    "# Transcription factors\n",
    "laci = lc.Regulator(name='LacI', degradation_rate=1.02, init_concentration=10**-7)\n",
    "tetr = lc.Regulator(name='TetR', degradation_rate=1.02)\n",
    "ci = lc.Regulator(name='cI', degradation_rate=1.02)\n",
    "\n",
    "# Signalling molecules\n",
    "c4 = lc.Regulator(name='C4', diffusion_rate=180)\n",
    "\n",
    "genetic_n.add_regulator([tetr, laci, ci, c4])"
   ]
  },
  {
   "cell_type": "code",
   "execution_count": null,
   "metadata": {},
   "outputs": [],
   "source": [
    "# option with producers\n",
    "rhli = lc.Regulator(name='RhlI', degradation_rate=1.02)\n",
    "genetic_n.add_regulator(rhli)"
   ]
  },
  {
   "cell_type": "code",
   "execution_count": null,
   "metadata": {},
   "outputs": [],
   "source": [
    "mcherry = lc.Reporter(name='mCherry', degradation_rate=1.02, color='red') \n",
    "cyan = lc.Reporter(name='CFP', degradation_rate=1.02, color='blue') \n",
    "mven = lc.Reporter(name='mVenus', degradation_rate=1.02, color='yellow') \n",
    "\n",
    "genetic_n.add_reporter([mcherry, cyan, mven])"
   ]
  },
  {
   "cell_type": "code",
   "execution_count": null,
   "metadata": {},
   "outputs": [],
   "source": [
    "laci_not_tetr = lc.Hill1(name='Plac', input=laci, output=[tetr, mcherry], alpha=[1.44*10**-4, 1.44*10**-7], K=6.64*10**-8, n=2)\n",
    "tetr_not_cini = lc.Hill1(name='Ptet', input=tetr, output=[ci, mven], alpha=[1.44*10**-4, 1.44*10**-7], K=6.64*10**-8, n=2)\n",
    "# extended\n",
    "ci_not_rhli = lc.Hill1(name='PcI', input=ci, output=rhli, alpha=[1.44*10**-4, 1.44*10**-7], K=6.64*10**-8, n=2)\n",
    "rhli_c4 = lc.Producer(name='RhlI', enzyme=rhli, product=c4, k2=960)\n",
    "c4_laci = lc.Hill1(name='Prhl', input=c4, output=[laci, cyan], alpha=[0, 2.15*10**-8], K=4.68*10**-5, n=0.64)\n",
    "\n",
    "# continuous expression of AiiA, one copy\n",
    "j23100 = lc.Source(output=aiia, rate=3*2.56*10**-7, name='J23100')\n",
    "\n",
    "genetic_n.add_operator([c4_laci, laci_not_tetr, tetr_not_cini, ci_not_rhli, j23100])\n",
    "genetic_n.add_impactor(rhli_c4)"
   ]
  },
  {
   "cell_type": "code",
   "execution_count": null,
   "metadata": {},
   "outputs": [],
   "source": [
    "lactonase = lc.Degrader(name='Lactonase', enzyme=aiia, substrate=c4, Km=0.00511, k2=1.35*10**5)\n",
    "genetic_n.add_impactor(lactonase)\n"
   ]
  },
  {
   "cell_type": "code",
   "execution_count": null,
   "metadata": {},
   "outputs": [],
   "source": [
    "plt.figure(figsize=(5,5), dpi=100)\n",
    "genetic_n.draw()"
   ]
  },
  {
   "cell_type": "code",
   "execution_count": null,
   "metadata": {},
   "outputs": [],
   "source": [
    "sample = lc.Sample(strain=strain)\n",
    "assay = lc.Assay([sample], \n",
    "                n_measurements=100, \n",
    "                interval=0.24,\n",
    "                name='Extended repressilator',\n",
    "                description='Simulated expression of extended repressilator strain'\n",
    "                )"
   ]
  },
  {
   "cell_type": "code",
   "execution_count": null,
   "metadata": {},
   "outputs": [],
   "source": [
    "assay.run(substeps=100, mode=\"track_all\")"
   ]
  },
  {
   "cell_type": "code",
   "execution_count": null,
   "metadata": {},
   "outputs": [],
   "source": [
    "m = assay.measurements\n",
    "fig, ax = plt.subplots()\n",
    "fig1, ax1 = plt.subplots()\n",
    "fig2, ax2 = plt.subplots()\n",
    "fig3, ax3 = plt.subplots()\n",
    "fig4, ax4 = plt.subplots()\n",
    "fig5, ax5 = plt.subplots()\n",
    "fig6, ax6 = plt.subplots()\n",
    "fig7, ax7 = plt.subplots()\n",
    "m[m.Signal=='mCherry in Strain'].plot(x='Time', y='Measurement', color='red', style='-', ax=ax)\n",
    "m[m.Signal=='CFP in Strain'].plot(x='Time', y='Measurement', color='cyan', style='-', ax=ax)\n",
    "m[m.Signal=='mVenus in Strain'].plot(x='Time', y='Measurement', color='yellow', style='-', ax=ax)\n",
    "m[m.Signal=='CFP in Strain'].plot(x='Time', y='Measurement', color='cyan', style='-', ax=ax5)\n",
    "m[m.Signal=='mVenus in Strain'].plot(x='Time', y='Measurement', color='yellow', style='-', ax=ax5)\n",
    "m[m.Signal=='LacI in Strain'].plot(x='Time', y='Measurement', style='-', ax=ax6)\n",
    "m[m.Signal=='LacI in Strain'].plot(x='Time', y='Measurement', style='-', ax=ax1)\n",
    "m[m.Signal=='TetR in Strain'].plot(x='Time', y='Measurement', style='-', ax=ax1)\n",
    "m[m.Signal=='cI in Strain'].plot(x='Time', y='Measurement', style='-', ax=ax1)\n",
    "m[m.Signal=='cI in Strain'].plot(x='Time', y='Measurement', style='-', ax=ax6)\n",
    "m[m.Signal=='C4 in Strain'].plot(x='Time', y='Measurement', style='-', ax=ax2)\n",
    "m[m.Signal=='Extracellular C4'].plot(x='Time', y='Measurement', style='-', ax=ax7)\n",
    "m[m.Signal=='RhlI in Strain'].plot(x='Time', y='Measurement', style='-', ax=ax3)\n",
    "m[m.Signal=='AiiA in Strain'].plot(x='Time', y='Measurement', style='-', ax=ax4)\n",
    "ax.legend(['mCherry', 'CFP', 'mVenus'])\n",
    "ax.set_xlabel('Time (h)')\n",
    "ax.set_ylabel('Concentration (M)')\n",
    "ax1.legend(['LacI', 'TetR', 'cI'])\n",
    "ax1.set_xlabel('Time (h)')\n",
    "ax1.set_ylabel('Concentration (M)')\n",
    "ax2.legend(['C4'])\n",
    "ax2.set_xlabel('Time (h)')\n",
    "ax2.set_ylabel('Concentration (M)')\n",
    "ax3.legend(['RhlI'])\n",
    "ax3.set_xlabel('Time (h)')\n",
    "ax3.set_ylabel('Concentration (M)')\n",
    "ax4.legend(['AiiA'])\n",
    "ax4.set_xlabel('Time (h)')\n",
    "ax4.set_ylabel('Concentration (M)')\n",
    "\n",
    "ax5.legend(['CFP', 'mVenus'])\n",
    "ax5.set_xlabel('Time (h)')\n",
    "ax5.set_ylabel('Concentration (M)')\n",
    "\n",
    "ax6.legend(['LacI', 'cI'])\n",
    "ax6.set_xlabel('Time (h)')\n",
    "ax6.set_ylabel('Concentration (M)')\n",
    "\n",
    "ax7.legend(['C4'])\n",
    "ax7.set_xlabel('Time (h)')\n",
    "ax7.set_ylabel('Concentration (M)')"
   ]
  },
  {
   "cell_type": "code",
   "execution_count": null,
   "metadata": {},
   "outputs": [],
   "source": [
    "# import loica as lc\n",
    "# import matplotlib.pyplot as plt\n",
    "# import networkx as nx\n",
    "# import warnings\n",
    "# warnings.simplefilter(action='ignore', category=FutureWarning)"
   ]
  },
  {
   "cell_type": "markdown",
   "metadata": {},
   "source": [
    "# Continuous RhlI"
   ]
  },
  {
   "cell_type": "code",
   "execution_count": null,
   "metadata": {},
   "outputs": [],
   "source": [
    "def growth_rate(t):\n",
    "    return lc.gompertz_growth_rate(t, 0.01, 1, 1, 1)\n",
    "\n",
    "def biomass(t):\n",
    "    return lc.gompertz(t, 0.01, 1, 1, 1)\n",
    "\n",
    "metab = lc.SimulatedMetabolism(\"Simulated metabolism\", biomass, growth_rate)\n",
    "genetic_n = lc.GeneticNetwork()"
   ]
  },
  {
   "cell_type": "code",
   "execution_count": null,
   "metadata": {},
   "outputs": [],
   "source": [
    "strain = lc.Strain('Strain', genetic_n, metab)"
   ]
  },
  {
   "cell_type": "code",
   "execution_count": null,
   "metadata": {},
   "outputs": [],
   "source": [
    "aiia = lc.Regulator(name='AiiA', degradation_rate=1.02)\n",
    "genetic_n.add_regulator(aiia)"
   ]
  },
  {
   "cell_type": "code",
   "execution_count": null,
   "metadata": {},
   "outputs": [],
   "source": [
    "# Transcription factors\n",
    "laci = lc.Regulator(name='LacI', degradation_rate=1.02, init_concentration=10**-7)\n",
    "tetr = lc.Regulator(name='TetR', degradation_rate=1.02)\n",
    "ci = lc.Regulator(name='cI', degradation_rate=1.02)\n",
    "\n",
    "# Signalling molecules\n",
    "c4 = lc.Regulator(name='C4')\n",
    "\n",
    "genetic_n.add_regulator([tetr, laci, ci, c4])"
   ]
  },
  {
   "cell_type": "code",
   "execution_count": null,
   "metadata": {},
   "outputs": [],
   "source": [
    "# option with producers\n",
    "rhli = lc.Regulator(name='RhlI', degradation_rate=1.02)\n",
    "genetic_n.add_regulator(rhli)"
   ]
  },
  {
   "cell_type": "code",
   "execution_count": null,
   "metadata": {},
   "outputs": [],
   "source": [
    "mcherry = lc.Reporter(name='mCherry', degradation_rate=1.02, color='red') \n",
    "cyan = lc.Reporter(name='CFP', degradation_rate=1.02, color='blue') \n",
    "mven = lc.Reporter(name='mVenus', degradation_rate=1.02, color='yellow') \n",
    "\n",
    "genetic_n.add_reporter([mcherry, cyan, mven])"
   ]
  },
  {
   "cell_type": "code",
   "execution_count": null,
   "metadata": {},
   "outputs": [],
   "source": [
    "laci_not_tetr = lc.Hill1(name='Plac', input=laci, output=[tetr, mcherry], alpha=[1.44*10**-4, 1.44*10**-7], K=6.64*10**-8, n=2)\n",
    "tetr_not_cini = lc.Hill1(name='Ptet', input=tetr, output=[ci, mven], alpha=[1.44*10**-4, 1.44*10**-7], K=6.64*10**-8, n=2)\n",
    "# extended\n",
    "ci_not_aiia = lc.Hill1(name='PcI', input=ci, output=aiia, alpha=[1.44*10**-4, 1.44*10**-7], K=6.64*10**-8, n=2)\n",
    "rhli_c4 = lc.Producer(name='RhlI', enzyme=rhli, product=c4, k2=960)\n",
    "c4_laci = lc.Hill1(name='Prhl', input=c4, output=[laci, cyan], alpha=[0, 2.15*10**-8], K=4.68*10**-5, n=0.64)\n",
    "\n",
    "# continuous expression of RhlI, one copy\n",
    "j23117 = lc.Source(output=rhli, rate=1.54*10**-8, name='J23117')\n",
    "\n",
    "genetic_n.add_operator([c4_laci, laci_not_tetr, tetr_not_cini, ci_not_aiia, j23117])\n",
    "genetic_n.add_impactor(rhli_c4)"
   ]
  },
  {
   "cell_type": "code",
   "execution_count": null,
   "metadata": {},
   "outputs": [],
   "source": [
    "lactonase = lc.Degrader(name='Lactonase', enzyme=aiia, substrate=c4, Km=0.00511, k2=1.35*10**5)\n",
    "genetic_n.add_impactor(lactonase)\n"
   ]
  },
  {
   "cell_type": "code",
   "execution_count": null,
   "metadata": {},
   "outputs": [],
   "source": [
    "plt.figure(figsize=(5,5), dpi=100)\n",
    "genetic_n.draw()"
   ]
  },
  {
   "cell_type": "code",
   "execution_count": null,
   "metadata": {},
   "outputs": [],
   "source": [
    "sample = lc.Sample(strain=strain)\n",
    "assay = lc.Assay([sample], \n",
    "                n_measurements=100, \n",
    "                interval=0.24,\n",
    "                name='Extended repressilator',\n",
    "                description='Simulated expression of extended repressilator strain'\n",
    "                )"
   ]
  },
  {
   "cell_type": "code",
   "execution_count": null,
   "metadata": {},
   "outputs": [],
   "source": [
    "assay.run(substeps=10, mode=\"track_all\")"
   ]
  },
  {
   "cell_type": "code",
   "execution_count": null,
   "metadata": {},
   "outputs": [],
   "source": [
    "m = assay.measurements\n",
    "fig, ax = plt.subplots()\n",
    "fig1, ax1 = plt.subplots()\n",
    "fig2, ax2 = plt.subplots()\n",
    "fig3, ax3 = plt.subplots()\n",
    "fig4, ax4 = plt.subplots()\n",
    "fig5, ax5 = plt.subplots()\n",
    "fig6, ax6 = plt.subplots()\n",
    "m[m.Signal=='mCherry in Strain'].plot(x='Time', y='Measurement', color='red', style='-', ax=ax)\n",
    "m[m.Signal=='CFP in Strain'].plot(x='Time', y='Measurement', color='cyan', style='-', ax=ax)\n",
    "m[m.Signal=='mVenus in Strain'].plot(x='Time', y='Measurement', color='yellow', style='-', ax=ax)\n",
    "m[m.Signal=='CFP in Strain'].plot(x='Time', y='Measurement', color='cyan', style='-', ax=ax5)\n",
    "m[m.Signal=='mVenus in Strain'].plot(x='Time', y='Measurement', color='yellow', style='-', ax=ax5)\n",
    "m[m.Signal=='LacI in Strain'].plot(x='Time', y='Measurement', style='-', ax=ax1)\n",
    "m[m.Signal=='LacI in Strain'].plot(x='Time', y='Measurement', style='-', ax=ax6)\n",
    "m[m.Signal=='TetR in Strain'].plot(x='Time', y='Measurement', style='-', ax=ax1)\n",
    "m[m.Signal=='cI in Strain'].plot(x='Time', y='Measurement', style='-', ax=ax1)\n",
    "m[m.Signal=='cI in Strain'].plot(x='Time', y='Measurement', style='-', ax=ax6)\n",
    "m[m.Signal=='C4 in Strain'].plot(x='Time', y='Measurement', style='-', ax=ax2)\n",
    "m[m.Signal=='RhlI in Strain'].plot(x='Time', y='Measurement', style='-', ax=ax3)\n",
    "m[m.Signal=='AiiA in Strain'].plot(x='Time', y='Measurement', style='-', ax=ax4)\n",
    "ax.legend(['mCherry', 'CFP', 'mVenus'])\n",
    "ax.set_xlabel('Time (h)')\n",
    "ax.set_ylabel('Concentration (M)')\n",
    "ax1.legend(['LacI', 'TetR', 'cI'])\n",
    "ax1.set_xlabel('Time (h)')\n",
    "ax1.set_ylabel('Concentration (M)')\n",
    "ax2.legend(['C4'])\n",
    "ax2.set_xlabel('Time (h)')\n",
    "ax2.set_ylabel('Concentration (M)')\n",
    "ax3.legend(['RhlI'])\n",
    "ax3.set_xlabel('Time (h)')\n",
    "ax3.set_ylabel('Concentration (M)')\n",
    "ax4.legend(['AiiA'])\n",
    "ax4.set_xlabel('Time (h)')\n",
    "ax4.set_ylabel('Concentration (M)')\n",
    "\n",
    "ax5.legend(['CFP', 'mVenus'])\n",
    "ax5.set_xlabel('Time (h)')\n",
    "ax5.set_ylabel('Concentration (M)')\n",
    "\n",
    "ax6.legend(['LacI', 'cI'])\n",
    "ax6.set_xlabel('Time (h)')\n",
    "ax6.set_ylabel('Concentration (M)')"
   ]
  },
  {
   "cell_type": "code",
   "execution_count": null,
   "metadata": {},
   "outputs": [],
   "source": [
    "# import loica as lc\n",
    "# import matplotlib.pyplot as plt\n",
    "# import networkx as nx\n",
    "# import warnings\n",
    "# warnings.simplefilter(action='ignore', category=FutureWarning)"
   ]
  },
  {
   "cell_type": "markdown",
   "metadata": {},
   "source": [
    "# Continuous RhlI with diffusion"
   ]
  },
  {
   "cell_type": "code",
   "execution_count": null,
   "metadata": {},
   "outputs": [],
   "source": [
    "def growth_rate(t):\n",
    "    return lc.gompertz_growth_rate(t, 0.01, 1, 1, 1)\n",
    "\n",
    "def biomass(t):\n",
    "    return lc.gompertz(t, 0.01, 1, 1, 1)\n",
    "\n",
    "metab = lc.SimulatedMetabolism(\"Simulated metabolism\", biomass, growth_rate)\n",
    "genetic_n = lc.GeneticNetwork()"
   ]
  },
  {
   "cell_type": "code",
   "execution_count": null,
   "metadata": {},
   "outputs": [],
   "source": [
    "strain = lc.Strain('Strain', genetic_n, metab)"
   ]
  },
  {
   "cell_type": "code",
   "execution_count": null,
   "metadata": {},
   "outputs": [],
   "source": [
    "aiia = lc.Regulator(name='AiiA', degradation_rate=1.02)\n",
    "genetic_n.add_regulator(aiia)"
   ]
  },
  {
   "cell_type": "code",
   "execution_count": null,
   "metadata": {},
   "outputs": [],
   "source": [
    "# Transcription factors\n",
    "laci = lc.Regulator(name='LacI', degradation_rate=1.02, init_concentration=10**-7)\n",
    "tetr = lc.Regulator(name='TetR', degradation_rate=1.02)\n",
    "ci = lc.Regulator(name='cI', degradation_rate=1.02)\n",
    "\n",
    "# Signalling molecules\n",
    "c4 = lc.Regulator(name='C4', diffusion_rate=180)\n",
    "\n",
    "genetic_n.add_regulator([tetr, laci, ci, c4])"
   ]
  },
  {
   "cell_type": "code",
   "execution_count": null,
   "metadata": {},
   "outputs": [],
   "source": [
    "# option with producers\n",
    "rhli = lc.Regulator(name='RhlI', degradation_rate=1.02)\n",
    "genetic_n.add_regulator(rhli)"
   ]
  },
  {
   "cell_type": "code",
   "execution_count": null,
   "metadata": {},
   "outputs": [],
   "source": [
    "mcherry = lc.Reporter(name='mCherry', degradation_rate=1.02, color='red') \n",
    "cyan = lc.Reporter(name='CFP', degradation_rate=1.02, color='blue') \n",
    "mven = lc.Reporter(name='mVenus', degradation_rate=1.02, color='yellow') \n",
    "\n",
    "genetic_n.add_reporter([mcherry, cyan, mven])"
   ]
  },
  {
   "cell_type": "code",
   "execution_count": null,
   "metadata": {},
   "outputs": [],
   "source": [
    "laci_not_tetr = lc.Hill1(name='Plac', input=laci, output=[tetr, mcherry], alpha=[1.44*10**-4, 1.44*10**-7], K=6.64*10**-8, n=2)\n",
    "tetr_not_cini = lc.Hill1(name='Ptet', input=tetr, output=[ci, mven], alpha=[1.44*10**-4, 1.44*10**-7], K=6.64*10**-8, n=2)\n",
    "# extended\n",
    "ci_not_aiia = lc.Hill1(name='PcI', input=ci, output=aiia, alpha=[1.44*10**-4, 1.44*10**-7], K=6.64*10**-8, n=2)\n",
    "rhli_c4 = lc.Producer(name='RhlI', enzyme=rhli, product=c4, k2=960)\n",
    "c4_laci = lc.Hill1(name='Prhl', input=c4, output=[laci, cyan], alpha=[0, 2.15*10**-8], K=4.68*10**-5, n=0.64)\n",
    "\n",
    "# continuous expression of RhlI, one copy\n",
    "j23117 = lc.Source(output=rhli, rate=1.54*10**-8, name='J23117')\n",
    "\n",
    "genetic_n.add_operator([c4_laci, laci_not_tetr, tetr_not_cini, ci_not_aiia, j23117])\n",
    "genetic_n.add_impactor(rhli_c4)"
   ]
  },
  {
   "cell_type": "code",
   "execution_count": null,
   "metadata": {},
   "outputs": [],
   "source": [
    "lactonase = lc.Degrader(name='Lactonase', enzyme=aiia, substrate=c4, Km=0.00511, k2=1.35*10**5)\n",
    "genetic_n.add_impactor(lactonase)\n"
   ]
  },
  {
   "cell_type": "code",
   "execution_count": null,
   "metadata": {},
   "outputs": [],
   "source": [
    "plt.figure(figsize=(5,5), dpi=100)\n",
    "genetic_n.draw()"
   ]
  },
  {
   "cell_type": "code",
   "execution_count": null,
   "metadata": {},
   "outputs": [],
   "source": [
    "sample = lc.Sample(strain=strain)\n",
    "assay = lc.Assay([sample], \n",
    "                n_measurements=100, \n",
    "                interval=0.24,\n",
    "                name='Extended repressilator',\n",
    "                description='Simulated expression of extended repressilator strain'\n",
    "                )"
   ]
  },
  {
   "cell_type": "code",
   "execution_count": null,
   "metadata": {},
   "outputs": [],
   "source": [
    "assay.run(substeps=100, mode=\"track_all\")"
   ]
  },
  {
   "cell_type": "code",
   "execution_count": null,
   "metadata": {},
   "outputs": [],
   "source": [
    "m = assay.measurements\n",
    "fig, ax = plt.subplots()\n",
    "fig1, ax1 = plt.subplots()\n",
    "fig2, ax2 = plt.subplots()\n",
    "fig3, ax3 = plt.subplots()\n",
    "fig4, ax4 = plt.subplots()\n",
    "fig5, ax5 = plt.subplots()\n",
    "fig6, ax6 = plt.subplots()\n",
    "fig7, ax7 = plt.subplots()\n",
    "m[m.Signal=='mCherry in Strain'].plot(x='Time', y='Measurement', color='red', style='-', ax=ax)\n",
    "m[m.Signal=='CFP in Strain'].plot(x='Time', y='Measurement', color='cyan', style='-', ax=ax)\n",
    "m[m.Signal=='mVenus in Strain'].plot(x='Time', y='Measurement', color='yellow', style='-', ax=ax)\n",
    "m[m.Signal=='CFP in Strain'].plot(x='Time', y='Measurement', color='cyan', style='-', ax=ax5)\n",
    "m[m.Signal=='mVenus in Strain'].plot(x='Time', y='Measurement', color='yellow', style='-', ax=ax5)\n",
    "m[m.Signal=='LacI in Strain'].plot(x='Time', y='Measurement', style='-', ax=ax6)\n",
    "m[m.Signal=='LacI in Strain'].plot(x='Time', y='Measurement', style='-', ax=ax1)\n",
    "m[m.Signal=='TetR in Strain'].plot(x='Time', y='Measurement', style='-', ax=ax1)\n",
    "m[m.Signal=='cI in Strain'].plot(x='Time', y='Measurement', style='-', ax=ax1)\n",
    "m[m.Signal=='cI in Strain'].plot(x='Time', y='Measurement', style='-', ax=ax6)\n",
    "m[m.Signal=='C4 in Strain'].plot(x='Time', y='Measurement', style='-', ax=ax2)\n",
    "m[m.Signal=='Extracellular C4'].plot(x='Time', y='Measurement', style='-', ax=ax7)\n",
    "m[m.Signal=='RhlI in Strain'].plot(x='Time', y='Measurement', style='-', ax=ax3)\n",
    "m[m.Signal=='AiiA in Strain'].plot(x='Time', y='Measurement', style='-', ax=ax4)\n",
    "ax.legend(['mCherry', 'CFP', 'mVenus'])\n",
    "ax.set_xlabel('Time (h)')\n",
    "ax.set_ylabel('Concentration (M)')\n",
    "ax1.legend(['LacI', 'TetR', 'cI'])\n",
    "ax1.set_xlabel('Time (h)')\n",
    "ax1.set_ylabel('Concentration (M)')\n",
    "ax2.legend(['C4'])\n",
    "ax2.set_xlabel('Time (h)')\n",
    "ax2.set_ylabel('Concentration (M)')\n",
    "ax3.legend(['RhlI'])\n",
    "ax3.set_xlabel('Time (h)')\n",
    "ax3.set_ylabel('Concentration (M)')\n",
    "ax4.legend(['AiiA'])\n",
    "ax4.set_xlabel('Time (h)')\n",
    "ax4.set_ylabel('Concentration (M)')\n",
    "\n",
    "ax5.legend(['CFP', 'mVenus'])\n",
    "ax5.set_xlabel('Time (h)')\n",
    "ax5.set_ylabel('Concentration (M)')\n",
    "\n",
    "ax6.legend(['LacI', 'cI'])\n",
    "ax6.set_xlabel('Time (h)')\n",
    "ax6.set_ylabel('Concentration (M)')\n",
    "\n",
    "ax7.legend(['C4'])\n",
    "ax7.set_xlabel('Time (h)')\n",
    "ax7.set_ylabel('Concentration (M)')"
   ]
  }
 ],
 "metadata": {
  "kernelspec": {
   "display_name": "Python 3.10.4 ('loica')",
   "language": "python",
   "name": "python3"
  },
  "language_info": {
   "codemirror_mode": {
    "name": "ipython",
    "version": 3
   },
   "file_extension": ".py",
   "mimetype": "text/x-python",
   "name": "python",
   "nbconvert_exporter": "python",
   "pygments_lexer": "ipython3",
   "version": "3.10.4"
  },
  "orig_nbformat": 4,
  "vscode": {
   "interpreter": {
    "hash": "5a3b552e1f00b069c0e96dcc3c439489a3953ff59f29351d8119914676dca9ff"
   }
  }
 },
 "nbformat": 4,
 "nbformat_minor": 2
}
