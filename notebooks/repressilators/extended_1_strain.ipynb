{
 "cells": [
  {
   "cell_type": "markdown",
   "metadata": {},
   "source": [
    "# Extended repressilator"
   ]
  },
  {
   "cell_type": "markdown",
   "metadata": {},
   "source": [
    "This repressilator includes additional \"steps\" - signalling molecules that act as intermediates between repressors."
   ]
  },
  {
   "cell_type": "code",
   "execution_count": null,
   "metadata": {},
   "outputs": [],
   "source": [
    "pip install -e ."
   ]
  },
  {
   "cell_type": "code",
   "execution_count": null,
   "metadata": {},
   "outputs": [],
   "source": [
    "import loica as lc\n",
    "import matplotlib.pyplot as plt\n",
    "import networkx as nx\n",
    "import warnings\n",
    "warnings.simplefilter(action='ignore', category=FutureWarning)"
   ]
  },
  {
   "cell_type": "code",
   "execution_count": null,
   "metadata": {},
   "outputs": [],
   "source": [
    "def growth_rate(t):\n",
    "    return lc.gompertz_growth_rate(t, 0.01, 1, 1, 1)\n",
    "\n",
    "def biomass(t):\n",
    "    return lc.gompertz(t, 0.01, 1, 1, 1)\n",
    "\n",
    "metab = lc.SimulatedMetabolism(\"Simulated metabolism\", biomass, growth_rate)\n",
    "genetic_n = lc.GeneticNetwork()"
   ]
  },
  {
   "cell_type": "code",
   "execution_count": null,
   "metadata": {},
   "outputs": [],
   "source": [
    "strain = lc.Strain('Strain', genetic_n, metab)"
   ]
  },
  {
   "cell_type": "code",
   "execution_count": null,
   "metadata": {},
   "outputs": [],
   "source": [
    "# Transcription factors\n",
    "laci = lc.Regulator(name='LacI', degradation_rate=0.0003)\n",
    "tetr = lc.Regulator(name='TetR', degradation_rate=0.0011)\n",
    "ci = lc.Regulator(name='cI', degradation_rate=0.0011)\n",
    "\n",
    "# Signalling molecules\n",
    "c4 = lc.Regulator(name='C4', degradation_rate=0.0002, init_concentration=100)\n",
    "scb2 = lc.Regulator(name='SCB2', degradation_rate=0.0002)\n",
    "c14 = lc.Regulator(name='C14', degradation_rate=0.0002)\n",
    "\n",
    "genetic_n.add_regulator([tetr, laci, ci, c4, scb2, c14])"
   ]
  },
  {
   "cell_type": "markdown",
   "metadata": {},
   "source": [
    "TF degradation rates were taken from https://2011.igem.org/Team:ETH_Zurich/Modeling/Parameters\n"
   ]
  },
  {
   "cell_type": "markdown",
   "metadata": {},
   "source": [
    "Degradation rate for C4-HSL and 3OHC14-HSL have been taken from supplementary data of <div class=\"csl-entry\">Pai, A., &#38; You, L. (2009). Optimal tuning of bacterial sensing potential. <i>Molecular Systems Biology</i>, <i>5</i>, 286. https://doi.org/10.1038/MSB.2009.43</div>\n",
    "\n",
    "and converted from h^-1 to s^-1: \n",
    "- C4-HSL 0.0133 h^-1 = 3.69*10^-6 s^-1\n",
    "- 3OHC14-HSL 0.017 h^-1 = 0.0002 s^-1\n",
    "\n",
    "Based on information here http://www.systemsbiology.ls.manchester.ac.uk/wiki/index.php/Degradation_of_C I estimate degradation rate of SCB2 to be the same as other signalling molecules."
   ]
  },
  {
   "cell_type": "code",
   "execution_count": null,
   "metadata": {},
   "outputs": [],
   "source": [
    "# option with producers\n",
    "# rhli = lc.Regulator(name='RhlI', degradation_rate=1)\n",
    "# scbb = lc.Regulator(name='ScbB', degradation_rate=1)\n",
    "# cini = lc.Regulator(name='CinI', degradation_rate=1)\n",
    "# genetic_n.add_regulator([rhli, scbb, cini])"
   ]
  },
  {
   "cell_type": "code",
   "execution_count": null,
   "metadata": {},
   "outputs": [],
   "source": [
    "mcherry = lc.Reporter(name='mCherry', degradation_rate=6.16*10**-5, color='red') \n",
    "cyan = lc.Reporter(name='CFP', degradation_rate=6.16*10**-5, color='blue') \n",
    "mven = lc.Reporter(name='mVenus', degradation_rate=6.16*10**-5, color='yellow') \n",
    "\n",
    "genetic_n.add_reporter([mcherry, cyan, mven])"
   ]
  },
  {
   "cell_type": "markdown",
   "metadata": {},
   "source": [
    "I initially planned to use converted half-lives of YFP and CFP from here <div class=\"csl-entry\">Corre, G., Stockholm, D., Arnaud, O., Kaneko, G., Viñuelas, J., Yamagata, Y., Neildez-Nguyen, T. M. A., Kupiec, J. J., Beslon, G., Gandrillon, O., Paldi, A., &#38; Macarthur, B. D. (2014). Stochastic Fluctuations and Distributed Control of Gene Expression Impact Cellular Memory. <i>PLOS ONE</i>, <i>9</i>(12), e115574. https://doi.org/10.1371/JOURNAL.PONE.0115574</div>\n",
    "\n",
    "to constant degradation rate assuming that it's a first-order reaction. I first converted h^-1 to s^-1 and then divided 0.693 by the number I got.\n",
    "\n",
    "But experimentally they last too long in the cell for me to see how transcription factors affect expression of them. So I took degradation rate of GFP with degradation tags from here <div class=\"csl-entry\">Andersen, J. B., Sternberg, C., Poulsen, L. K., Bjørn, S. P., Givskov, M., &#38; Molin, S. (1998). New Unstable Variants of Green Fluorescent Protein for Studies of Transient Gene Expression in Bacteria. <i>Applied and Environmental Microbiology</i>, <i>64</i>(6), 2240. https://doi.org/10.1128/AEM.64.6.2240-2246.1998</div>\n",
    "\n",
    "converted to s^-1 and assumed that the rate is the same for all the fluorescent proteins."
   ]
  },
  {
   "cell_type": "code",
   "execution_count": null,
   "metadata": {},
   "outputs": [],
   "source": [
    "#First extended node\n",
    "c4_laci = lc.Hill1(name='Prhl', input=c4, output=laci, alpha=[0.1, 10000], K=10, n=2)\n",
    "laci_not_scb2 = lc.Hill1(name='Plac', input=laci, output=[scb2, mcherry], alpha=[10000,0.1], K=10, n=2)\n",
    "\n",
    "# Second\n",
    "scb2_tetr = lc.Hill1(name='Pscb', input=scb2, output=tetr, alpha=[0.1,10000], K=10, n=2)\n",
    "tetr_not_c14 = lc.Hill1(name='Ptet', input=tetr, output=[c14, mven], alpha=[10000,0.1], K=10, n=2)\n",
    "\n",
    "# Third\n",
    "c14_ci = lc.Hill1(name='Pcin', input=c14, output=ci, alpha=[0.1, 10000], K=10, n=2)\n",
    "ci_not_c4 = lc.Hill1(name='PcI', input=ci, output=[c4, cyan], alpha=[10000,0.1], K=10, n=2)\n",
    "\n",
    "\n",
    "genetic_n.add_operator([c4_laci, laci_not_scb2, scb2_tetr, tetr_not_c14, c14_ci, ci_not_c4])"
   ]
  },
  {
   "cell_type": "code",
   "execution_count": null,
   "metadata": {},
   "outputs": [],
   "source": [
    "# # option with producers\n",
    "\n",
    "# #First extended node\n",
    "# c4_laci = lc.Hill1(name='Prhl', input=c4, output=laci, alpha=[0.1, 10000], K=10, n=2)\n",
    "# laci_not_scbb = lc.Hill1(name='Plac', input=laci, output=[scbb, mcherry], alpha=[10000,0.1], K=10, n=2)\n",
    "# scbb_scb2 = lc.Producer(name='ScbB', input=scbb, output=scb2, k1a=1, k2=1)\n",
    "\n",
    "# # Second\n",
    "# scb2_tetr = lc.Hill1(name='Pscb', input=scb2, output=tetr, alpha=[0.1,10000], K=10, n=2)\n",
    "# tetr_not_cini = lc.Hill1(name='Ptet', input=tetr, output=[cini, mven], alpha=[10000,0.1], K=10, n=2)\n",
    "# cini_c14 = lc.Producer(name='CinI', input=cini, output=c14, k1a=1, k2=1)\n",
    "\n",
    "# # Third\n",
    "# c14_ci = lc.Hill1(name='Pcin', input=c14, output=ci, alpha=[0.1, 10000], K=10, n=2)\n",
    "# ci_not_rhli = lc.Hill1(name='PcI', input=ci, output=[rhli, cyan], alpha=[10000,0.1], K=10, n=2)\n",
    "# rhli_c4 = lc.Producer(name='ScbB', input=rhli, output=c4, k1a=1, k2=1)\n",
    "\n",
    "\n",
    "# genetic_n.add_operator([c4_laci, laci_not_scbb, scbb_scb2, scb2_tetr, tetr_not_cini, cini_c14, c14_ci, ci_not_rhli, rhli_c4])"
   ]
  },
  {
   "cell_type": "code",
   "execution_count": null,
   "metadata": {},
   "outputs": [],
   "source": [
    "plt.figure(figsize=(3.5,3.5), dpi=100)\n",
    "genetic_n.draw()"
   ]
  },
  {
   "cell_type": "code",
   "execution_count": null,
   "metadata": {},
   "outputs": [],
   "source": [
    "sample = lc.Sample(strain=strain)\n",
    "assay = lc.Assay([sample], \n",
    "                n_measurements=100, \n",
    "                interval=0.24,\n",
    "                name='Extended repressilator',\n",
    "                description='Simulated expression of extended repressilator strain'\n",
    "                )"
   ]
  },
  {
   "cell_type": "code",
   "execution_count": null,
   "metadata": {},
   "outputs": [],
   "source": [
    "assay.run(stochastic=False, track_all=True)"
   ]
  },
  {
   "cell_type": "code",
   "execution_count": null,
   "metadata": {},
   "outputs": [],
   "source": [
    "m = assay.measurements\n",
    "fig,(ax, ax1, ax2) = plt.subplots(3,1, sharex=True)\n",
    "m[m.Signal=='mCherry in Strain'].plot(x='Time', y='Measurement', color='red', style='-', ax=ax)\n",
    "m[m.Signal=='CFP in Strain'].plot(x='Time', y='Measurement', color='cyan', style='-', ax=ax)\n",
    "m[m.Signal=='mVenus in Strain'].plot(x='Time', y='Measurement', color='yellow', style='-', ax=ax)\n",
    "m[m.Signal=='LacI in Strain'].plot(x='Time', y='Measurement', style='-', ax=ax1)\n",
    "m[m.Signal=='TetR in Strain'].plot(x='Time', y='Measurement', style='-', ax=ax1)\n",
    "m[m.Signal=='cI in Strain'].plot(x='Time', y='Measurement', style='-', ax=ax1)\n",
    "m[m.Signal=='C4 in Strain'].plot(x='Time', y='Measurement', style='-', ax=ax2)\n",
    "m[m.Signal=='SCB2 in Strain'].plot(x='Time', y='Measurement', style='-', ax=ax2)\n",
    "m[m.Signal=='C14 in Strain'].plot(x='Time', y='Measurement', style='-', ax=ax2)\n",
    "ax.legend(['mCherry', 'CFP', 'mVenus'])\n",
    "ax1.legend(['LacI', 'TetR', 'cI'])\n",
    "ax2.legend(['C4', 'SCB2', 'C14'])"
   ]
  },
  {
   "cell_type": "markdown",
   "metadata": {},
   "source": [
    "Then I can also change how each signal diffuses (to see how that affects the system)"
   ]
  }
 ],
 "metadata": {
  "kernelspec": {
   "display_name": "Python 3.10.4 ('loica')",
   "language": "python",
   "name": "python3"
  },
  "language_info": {
   "codemirror_mode": {
    "name": "ipython",
    "version": 3
   },
   "file_extension": ".py",
   "mimetype": "text/x-python",
   "name": "python",
   "nbconvert_exporter": "python",
   "pygments_lexer": "ipython3",
   "version": "3.10.4"
  },
  "orig_nbformat": 4,
  "vscode": {
   "interpreter": {
    "hash": "5a3b552e1f00b069c0e96dcc3c439489a3953ff59f29351d8119914676dca9ff"
   }
  }
 },
 "nbformat": 4,
 "nbformat_minor": 2
}
