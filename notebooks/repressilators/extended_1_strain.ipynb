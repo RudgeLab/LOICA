{
 "cells": [
  {
   "cell_type": "markdown",
   "metadata": {},
   "source": [
    "# Extended repressilator"
   ]
  },
  {
   "cell_type": "markdown",
   "metadata": {},
   "source": [
    "This repressilator includes additional \"steps\" - signalling molecules that act as intermediates between repressors."
   ]
  },
  {
   "cell_type": "code",
   "execution_count": null,
   "metadata": {},
   "outputs": [],
   "source": [
    "pip install -e ."
   ]
  },
  {
   "cell_type": "code",
   "execution_count": null,
   "metadata": {},
   "outputs": [],
   "source": [
    "import loica as lc\n",
    "import matplotlib.pyplot as plt\n",
    "import networkx as nx\n",
    "import warnings\n",
    "warnings.simplefilter(action='ignore', category=FutureWarning)"
   ]
  },
  {
   "cell_type": "code",
   "execution_count": null,
   "metadata": {},
   "outputs": [],
   "source": [
    "def growth_rate(t):\n",
    "    return lc.gompertz_growth_rate(t, 0.01, 1, 1, 1)\n",
    "\n",
    "def biomass(t):\n",
    "    return lc.gompertz(t, 0.01, 1, 1, 1)\n",
    "\n",
    "metab = lc.SimulatedMetabolism(\"Simulated metabolism\", biomass, growth_rate)\n",
    "genetic_n = lc.GeneticNetwork()"
   ]
  },
  {
   "cell_type": "code",
   "execution_count": null,
   "metadata": {},
   "outputs": [],
   "source": [
    "strain = lc.Strain('Strain', genetic_n, metab)"
   ]
  },
  {
   "cell_type": "code",
   "execution_count": null,
   "metadata": {},
   "outputs": [],
   "source": [
    "# Transcription factors\n",
    "laci = lc.Regulator(name='LacI', degradation_rate=1.02, init_concentration=10**-7)\n",
    "tetr = lc.Regulator(name='TetR', degradation_rate=1.02)\n",
    "ci = lc.Regulator(name='cI', degradation_rate=1.02)\n",
    "\n",
    "# Signalling molecules\n",
    "c4 = lc.Regulator(name='C4', degradation_rate=0.0133)\n",
    "scb2 = lc.Regulator(name='SCB2', degradation_rate=0.108)\n",
    "c14 = lc.Regulator(name='C14', degradation_rate=0.017)\n",
    "\n",
    "genetic_n.add_regulator([tetr, laci, ci, c4, scb2, c14])"
   ]
  },
  {
   "cell_type": "code",
   "execution_count": null,
   "metadata": {},
   "outputs": [],
   "source": [
    "# option with producers\n",
    "rhli = lc.Regulator(name='RhlI', degradation_rate=1.02)\n",
    "scbb = lc.Regulator(name='ScbB', degradation_rate=1.02)\n",
    "cini = lc.Regulator(name='CinI', degradation_rate=1.02)\n",
    "genetic_n.add_regulator([rhli, scbb, cini])"
   ]
  },
  {
   "cell_type": "code",
   "execution_count": null,
   "metadata": {},
   "outputs": [],
   "source": [
    "mcherry = lc.Reporter(name='mCherry', degradation_rate=0.372, color='red') \n",
    "cyan = lc.Reporter(name='CFP', degradation_rate=0.372, color='blue') \n",
    "mven = lc.Reporter(name='mVenus', degradation_rate=0.372, color='yellow') \n",
    "\n",
    "genetic_n.add_reporter([mcherry, cyan, mven])"
   ]
  },
  {
   "cell_type": "code",
   "execution_count": null,
   "metadata": {},
   "outputs": [],
   "source": [
    "# #First extended node\n",
    "# c4_laci = lc.Hill1(name='Prhl', input=c4, output=laci, alpha=[1.61*10**-8, 2.74*10**-7], K=5.49*10**-10, n=1.05)\n",
    "# laci_not_scb2 = lc.Hill1(name='Plac', input=laci, output=[scb2, mcherry], alpha=[1.44*10**-4, 1.44*10**-7], K=6.64*10**-8, n=2)\n",
    "\n",
    "# # Second\n",
    "# scb2_tetr = lc.Hill1(name='Pscb', input=scb2, output=tetr, alpha=[1.61*10**-8, 2.74*10**-7], K=5.49*10**-10, n=1.05)\n",
    "# tetr_not_c14 = lc.Hill1(name='Ptet', input=tetr, output=[c14, mven], alpha=[1.44*10**-4, 1.44*10**-7], K=6.64*10**-8, n=2)\n",
    "\n",
    "# # Third\n",
    "# c14_ci = lc.Hill1(name='Pcin', input=c14, output=ci, alpha=[1.61*10**-8, 2.74*10**-7], K=5.49*10**-10, n=1.05)\n",
    "# ci_not_c4 = lc.Hill1(name='PcI', input=ci, output=[c4, cyan], alpha=[1.44*10**-4, 1.44*10**-7], K=6.64*10**-8, n=2)\n",
    "\n",
    "\n",
    "# genetic_n.add_operator([c4_laci, laci_not_scb2, scb2_tetr, tetr_not_c14, c14_ci, ci_not_c4])"
   ]
  },
  {
   "cell_type": "code",
   "execution_count": null,
   "metadata": {},
   "outputs": [],
   "source": [
    "# option with producers\n",
    "\n",
    "#First extended node\n",
    "c4_laci = lc.Hill1(name='Prhl', input=c4, output=laci, alpha=[0, 2.15*10**-8], K=4.68*10**-5, n=0.64)\n",
    "laci_not_scbb = lc.Hill1(name='Plac', input=laci, output=[scbb, mcherry], alpha=[1.44*10**-4, 1.44*10**-7], K=6.64*10**-8, n=2)\n",
    "scbb_scb2 = lc.Producer(name='ScbB', enzyme=scbb, product=scb2, k2=66)\n",
    "\n",
    "# Second\n",
    "scb2_tetr = lc.Hill1(name='Pscb', input=scb2, output=tetr, alpha=[1.61*10**-8, 2.74*10**-7], K=5.49*10**-10, n=1.05)\n",
    "tetr_not_cini = lc.Hill1(name='Ptet', input=tetr, output=[cini, mven], alpha=[1.44*10**-4, 1.44*10**-7], K=6.64*10**-8, n=2)\n",
    "cini_c14 = lc.Producer(name='CinI', enzyme=cini, product=c14, k2=60)\n",
    "\n",
    "# Third\n",
    "c14_ci = lc.Hill1(name='Pcin', input=c14, output=ci, alpha=[2.15*10**-8, 7.35*10**-8], K=3.41*10**-6, n=1.87)\n",
    "ci_not_rhli = lc.Hill1(name='PcI', input=ci, output=[rhli, cyan], alpha=[1.44*10**-4, 1.44*10**-7], K=6.64*10**-8, n=2)\n",
    "rhli_c4 = lc.Producer(name='ScbB', enzyme=rhli, product=c4, k2=960)\n",
    "\n",
    "genetic_n.add_operator([c4_laci, laci_not_scbb, scb2_tetr, tetr_not_cini, c14_ci, ci_not_rhli])\n",
    "genetic_n.add_impactor([scbb_scb2, cini_c14, rhli_c4])"
   ]
  },
  {
   "cell_type": "code",
   "execution_count": null,
   "metadata": {},
   "outputs": [],
   "source": [
    "plt.figure(figsize=(3.5,3.5), dpi=100)\n",
    "genetic_n.draw(pos=nx.planar_layout)"
   ]
  },
  {
   "cell_type": "code",
   "execution_count": null,
   "metadata": {},
   "outputs": [],
   "source": [
    "sample = lc.Sample(strain=strain)\n",
    "assay = lc.Assay([sample], \n",
    "                n_measurements=100, \n",
    "                interval=0.24,\n",
    "                name='Extended repressilator',\n",
    "                description='Simulated expression of extended repressilator strain'\n",
    "                )"
   ]
  },
  {
   "cell_type": "code",
   "execution_count": null,
   "metadata": {},
   "outputs": [],
   "source": [
    "assay.run(substeps=50, stochastic=False, mode=\"track_all\")"
   ]
  },
  {
   "cell_type": "code",
   "execution_count": null,
   "metadata": {},
   "outputs": [],
   "source": [
    "m = assay.measurements\n",
    "# fig,(ax, ax1, ax2) = plt.subplots(3,1, sharex=True)\n",
    "fig,(ax, ax1, ax2, ax3) = plt.subplots(4,1, sharex=True)\n",
    "m[m.Signal=='mCherry in Strain'].plot(x='Time', y='Measurement', color='red', style='-', ax=ax)\n",
    "m[m.Signal=='CFP in Strain'].plot(x='Time', y='Measurement', color='cyan', style='-', ax=ax)\n",
    "m[m.Signal=='mVenus in Strain'].plot(x='Time', y='Measurement', color='yellow', style='-', ax=ax)\n",
    "m[m.Signal=='LacI in Strain'].plot(x='Time', y='Measurement', style='-', ax=ax1)\n",
    "m[m.Signal=='TetR in Strain'].plot(x='Time', y='Measurement', style='-', ax=ax1)\n",
    "m[m.Signal=='cI in Strain'].plot(x='Time', y='Measurement', style='-', ax=ax1)\n",
    "m[m.Signal=='C4 in Strain'].plot(x='Time', y='Measurement', style='-', ax=ax2)\n",
    "m[m.Signal=='SCB2 in Strain'].plot(x='Time', y='Measurement', style='-', ax=ax2)\n",
    "m[m.Signal=='C14 in Strain'].plot(x='Time', y='Measurement', style='-', ax=ax2)\n",
    "m[m.Signal=='RhlI in Strain'].plot(x='Time', y='Measurement', style='-', ax=ax3)\n",
    "m[m.Signal=='ScbB in Strain'].plot(x='Time', y='Measurement', style='-', ax=ax3)\n",
    "m[m.Signal=='CinI in Strain'].plot(x='Time', y='Measurement', style='-', ax=ax3)\n",
    "ax.legend(['mCherry', 'CFP', 'mVenus'])\n",
    "ax1.legend(['LacI', 'TetR', 'cI'])\n",
    "ax2.legend(['C4', 'SCB2', 'C14'])\n",
    "ax3.legend(['RhlI', 'ScbB', 'CinI'])"
   ]
  },
  {
   "cell_type": "markdown",
   "metadata": {},
   "source": [
    "Then I can also change how each signal diffuses (to see how that affects the system)"
   ]
  },
  {
   "cell_type": "code",
   "execution_count": null,
   "metadata": {},
   "outputs": [],
   "source": [
    "assay.run(substeps=50, stochastic=False, mode='single_cell')"
   ]
  },
  {
   "cell_type": "code",
   "execution_count": null,
   "metadata": {},
   "outputs": [],
   "source": [
    "m = assay.measurements\n",
    "fig, ax = plt.subplots(1, 1)\n",
    "m[m.Signal=='mCherry in Strain'].plot(x='Time', y='Measurement', color='red', style='-', ax=ax)\n",
    "m[m.Signal=='CFP in Strain'].plot(x='Time', y='Measurement', color='cyan', style='-', ax=ax)\n",
    "m[m.Signal=='mVenus in Strain'].plot(x='Time', y='Measurement', color='yellow', style='-', ax=ax)\n",
    "ax.legend(['mCherry', 'CFP', 'mVenus'])"
   ]
  },
  {
   "cell_type": "code",
   "execution_count": null,
   "metadata": {},
   "outputs": [],
   "source": [
    "assay.run(substeps=50, stochastic=False)"
   ]
  },
  {
   "cell_type": "code",
   "execution_count": null,
   "metadata": {},
   "outputs": [],
   "source": [
    "m = assay.measurements\n",
    "fig, ax = plt.subplots(1, 1)\n",
    "m[m.Signal=='mCherry'].plot(x='Time', y='Measurement', color='red', style='-', ax=ax)\n",
    "m[m.Signal=='CFP'].plot(x='Time', y='Measurement', color='cyan', style='-', ax=ax)\n",
    "m[m.Signal=='mVenus'].plot(x='Time', y='Measurement', color='yellow', style='-', ax=ax)\n",
    "ax.legend(['mCherry', 'CFP', 'mVenus'])\n"
   ]
  },
  {
   "cell_type": "markdown",
   "metadata": {},
   "source": [
    "# With AiiA"
   ]
  },
  {
   "cell_type": "code",
   "execution_count": null,
   "metadata": {},
   "outputs": [],
   "source": [
    "aiia = lc.Regulator(name='AiiA', degradation_rate=1.02)\n",
    "genetic_n.add_regulator(aiia)"
   ]
  },
  {
   "cell_type": "code",
   "execution_count": null,
   "metadata": {},
   "outputs": [],
   "source": [
    "lactonase = lc.Degrader(name='Lactonase', enzyme=aiia, substrate=[c4, c14, scb2], Km=[0.0008, 0.00015, 0.303], k2=[1.76*10**6, 2.34*10**6, 2.12*10**4])\n",
    "c4_laci = lc.Hill1(name='Prhl', input=c4, output=[laci, aiia], alpha=[0, 2.15*10**-8], K=4.68*10**-5, n=0.64)\n",
    "scb2_tetr = lc.Hill1(name='Pscb', input=scb2, output=[tetr, aiia], alpha=[1.61*10**-8, 2.74*10**-7], K=5.49*10**-10, n=1.05)\n",
    "c14_ci = lc.Hill1(name='Pcin', input=c14, output=[ci, aiia], alpha=[2.15*10**-8, 7.35*10**-8], K=3.41*10**-6, n=1.87)\n",
    "genetic_n.add_impactor(lactonase)"
   ]
  },
  {
   "cell_type": "code",
   "execution_count": null,
   "metadata": {},
   "outputs": [],
   "source": [
    "plt.figure(figsize=(5,5), dpi=100)\n",
    "genetic_n.draw()"
   ]
  },
  {
   "cell_type": "code",
   "execution_count": null,
   "metadata": {},
   "outputs": [],
   "source": [
    "sample = lc.Sample(strain=strain)\n",
    "assay = lc.Assay([sample], \n",
    "                n_measurements=100, \n",
    "                interval=0.24,\n",
    "                name='Extended repressilator',\n",
    "                description='Simulated expression of extended repressilator strain'\n",
    "                )"
   ]
  },
  {
   "cell_type": "code",
   "execution_count": null,
   "metadata": {},
   "outputs": [],
   "source": [
    "assay.run(substeps=50, stochastic=False, mode=\"track_all\")"
   ]
  },
  {
   "cell_type": "code",
   "execution_count": null,
   "metadata": {},
   "outputs": [],
   "source": [
    "m = assay.measurements\n",
    "# fig,(ax, ax1, ax2) = plt.subplots(3,1, sharex=True)\n",
    "fig,(ax, ax1, ax2, ax3) = plt.subplots(4,1, sharex=True)\n",
    "m[m.Signal=='mCherry in Strain'].plot(x='Time', y='Measurement', color='red', style='-', ax=ax)\n",
    "m[m.Signal=='CFP in Strain'].plot(x='Time', y='Measurement', color='cyan', style='-', ax=ax)\n",
    "m[m.Signal=='mVenus in Strain'].plot(x='Time', y='Measurement', color='yellow', style='-', ax=ax)\n",
    "m[m.Signal=='LacI in Strain'].plot(x='Time', y='Measurement', style='-', ax=ax1)\n",
    "m[m.Signal=='TetR in Strain'].plot(x='Time', y='Measurement', style='-', ax=ax1)\n",
    "m[m.Signal=='cI in Strain'].plot(x='Time', y='Measurement', style='-', ax=ax1)\n",
    "m[m.Signal=='C4 in Strain'].plot(x='Time', y='Measurement', style='-', ax=ax2)\n",
    "m[m.Signal=='SCB2 in Strain'].plot(x='Time', y='Measurement', style='-', ax=ax2)\n",
    "m[m.Signal=='C14 in Strain'].plot(x='Time', y='Measurement', style='-', ax=ax2)\n",
    "m[m.Signal=='RhlI in Strain'].plot(x='Time', y='Measurement', style='-', ax=ax3)\n",
    "m[m.Signal=='ScbB in Strain'].plot(x='Time', y='Measurement', style='-', ax=ax3)\n",
    "m[m.Signal=='CinI in Strain'].plot(x='Time', y='Measurement', style='-', ax=ax3)\n",
    "m[m.Signal=='AiiA in Strain'].plot(x='Time', y='Measurement', style='-', ax=ax3)\n",
    "ax.legend(['mCherry', 'CFP', 'mVenus'])\n",
    "ax1.legend(['LacI', 'TetR', 'cI'])\n",
    "ax2.legend(['C4', 'SCB2', 'C14'])\n",
    "ax3.legend(['RhlI', 'ScbB', 'CinI', 'AiiA'])"
   ]
  },
  {
   "cell_type": "code",
   "execution_count": null,
   "metadata": {},
   "outputs": [],
   "source": [
    "assay.run(substeps=50, stochastic=False, mode='single_cell')"
   ]
  },
  {
   "cell_type": "code",
   "execution_count": null,
   "metadata": {},
   "outputs": [],
   "source": [
    "m = assay.measurements\n",
    "fig, ax = plt.subplots(1, 1)\n",
    "m[m.Signal=='mCherry in Strain'].plot(x='Time', y='Measurement', color='red', style='-', ax=ax)\n",
    "m[m.Signal=='CFP in Strain'].plot(x='Time', y='Measurement', color='cyan', style='-', ax=ax)\n",
    "m[m.Signal=='mVenus in Strain'].plot(x='Time', y='Measurement', color='yellow', style='-', ax=ax)\n",
    "ax.legend(['mCherry', 'CFP', 'mVenus'])"
   ]
  },
  {
   "cell_type": "code",
   "execution_count": null,
   "metadata": {},
   "outputs": [],
   "source": [
    "# assay.run(substeps=50, stochastic=False)"
   ]
  },
  {
   "cell_type": "code",
   "execution_count": null,
   "metadata": {},
   "outputs": [],
   "source": [
    "# m = assay.measurements\n",
    "# fig, ax = plt.subplots(1, 1)\n",
    "# m[m.Signal=='mCherry'].plot(x='Time', y='Measurement', color='red', style='-', ax=ax)\n",
    "# m[m.Signal=='CFP'].plot(x='Time', y='Measurement', color='cyan', style='-', ax=ax)\n",
    "# m[m.Signal=='mVenus'].plot(x='Time', y='Measurement', color='yellow', style='-', ax=ax)\n",
    "# ax.legend(['mCherry', 'CFP', 'mVenus'])\n"
   ]
  }
 ],
 "metadata": {
  "kernelspec": {
   "display_name": "Python 3.10.4 ('loica')",
   "language": "python",
   "name": "python3"
  },
  "language_info": {
   "codemirror_mode": {
    "name": "ipython",
    "version": 3
   },
   "file_extension": ".py",
   "mimetype": "text/x-python",
   "name": "python",
   "nbconvert_exporter": "python",
   "pygments_lexer": "ipython3",
   "version": "3.10.4"
  },
  "orig_nbformat": 4,
  "vscode": {
   "interpreter": {
    "hash": "5a3b552e1f00b069c0e96dcc3c439489a3953ff59f29351d8119914676dca9ff"
   }
  }
 },
 "nbformat": 4,
 "nbformat_minor": 2
}
