{
 "cells": [
  {
   "cell_type": "markdown",
   "metadata": {},
   "source": [
    "# Extended repressilator"
   ]
  },
  {
   "cell_type": "markdown",
   "metadata": {},
   "source": [
    "This repressilator includes additional \"steps\" - signalling molecules that act as intermediates between repressors."
   ]
  },
  {
   "cell_type": "code",
   "execution_count": null,
   "metadata": {},
   "outputs": [],
   "source": [
    "pip install -e ."
   ]
  },
  {
   "cell_type": "code",
   "execution_count": null,
   "metadata": {},
   "outputs": [],
   "source": [
    "import loica as lc\n",
    "import matplotlib.pyplot as plt\n",
    "import networkx as nx\n",
    "import warnings\n",
    "warnings.simplefilter(action='ignore', category=FutureWarning)"
   ]
  },
  {
   "cell_type": "code",
   "execution_count": null,
   "metadata": {},
   "outputs": [],
   "source": [
    "def growth_rate(t):\n",
    "    return lc.gompertz_growth_rate(t, 0.01, 1, 1, 1)\n",
    "\n",
    "def biomass(t):\n",
    "    return lc.gompertz(t, 0.01, 1, 1, 1)\n",
    "\n",
    "metab = lc.SimulatedMetabolism(\"Simulated metabolism\", biomass, growth_rate)\n",
    "genetic_n = lc.GeneticNetwork()"
   ]
  },
  {
   "cell_type": "code",
   "execution_count": null,
   "metadata": {},
   "outputs": [],
   "source": [
    "strain = lc.Strain('Strain', genetic_n, metab)"
   ]
  },
  {
   "cell_type": "code",
   "execution_count": null,
   "metadata": {},
   "outputs": [],
   "source": [
    "# Transcription factors\n",
    "laci = lc.Regulator(name='LacI', degradation_rate=1)\n",
    "tetr = lc.Regulator(name='TetR', degradation_rate=1)\n",
    "ci = lc.Regulator(name='cI', degradation_rate=1)\n",
    "\n",
    "# Signalling molecules\n",
    "c4 = lc.Regulator(name='C4', degradation_rate=1, init_concentration=100)\n",
    "scb2 = lc.Regulator(name='SCB2', degradation_rate=1)\n",
    "c14 = lc.Regulator(name='C14', degradation_rate=1)\n",
    "\n",
    "genetic_n.add_regulator([tetr, laci, ci, c4, scb2, c14])"
   ]
  },
  {
   "cell_type": "code",
   "execution_count": null,
   "metadata": {},
   "outputs": [],
   "source": [
    "# option with producers\n",
    "# rhli = lc.Regulator(name='RhlI', degradation_rate=1)\n",
    "# scbb = lc.Regulator(name='ScbB', degradation_rate=1)\n",
    "# cini = lc.Regulator(name='CinI', degradation_rate=1)\n",
    "# genetic_n.add_regulator([rhli, scbb, cini])"
   ]
  },
  {
   "cell_type": "code",
   "execution_count": null,
   "metadata": {},
   "outputs": [],
   "source": [
    "mcherry = lc.Reporter(name='mCherry', degradation_rate=1, color='red') \n",
    "cyan = lc.Reporter(name='CFP', degradation_rate=1, color='blue') \n",
    "mven = lc.Reporter(name='mVenus', degradation_rate=1, color='yellow') \n",
    "\n",
    "genetic_n.add_reporter([mcherry, cyan, mven])"
   ]
  },
  {
   "cell_type": "code",
   "execution_count": null,
   "metadata": {},
   "outputs": [],
   "source": [
    "#First extended node\n",
    "c4_laci = lc.Hill1(name='Prhl', input=c4, output=laci, alpha=[0.1, 10000], K=10, n=2)\n",
    "laci_not_scb2 = lc.Hill1(name='Plac', input=laci, output=[scb2, mcherry], alpha=[10000,0.1], K=10, n=2)\n",
    "\n",
    "# Second\n",
    "scb2_tetr = lc.Hill1(name='Pscb', input=scb2, output=tetr, alpha=[0.1,10000], K=10, n=2)\n",
    "tetr_not_c14 = lc.Hill1(name='Ptet', input=tetr, output=[c14, mven], alpha=[10000,0.1], K=10, n=2)\n",
    "\n",
    "# Third\n",
    "c14_ci = lc.Hill1(name='Pcin', input=c14, output=ci, alpha=[0.1, 10000], K=10, n=2)\n",
    "ci_not_c4 = lc.Hill1(name='PcI', input=ci, output=[c4, cyan], alpha=[10000,0.1], K=10, n=2)\n",
    "\n",
    "\n",
    "genetic_n.add_operator([c4_laci, laci_not_scb2, scb2_tetr, tetr_not_c14, c14_ci, ci_not_c4])"
   ]
  },
  {
   "cell_type": "code",
   "execution_count": null,
   "metadata": {},
   "outputs": [],
   "source": [
    "# # option with producers\n",
    "\n",
    "# #First extended node\n",
    "# c4_laci = lc.Hill1(name='Prhl', input=c4, output=laci, alpha=[0.1, 10000], K=10, n=2)\n",
    "# laci_not_scbb = lc.Hill1(name='Plac', input=laci, output=[scbb, mcherry], alpha=[10000,0.1], K=10, n=2)\n",
    "# scbb_scb2 = lc.Producer(name='ScbB', input=scbb, output=scb2, k1a=1, k2=1)\n",
    "\n",
    "# # Second\n",
    "# scb2_tetr = lc.Hill1(name='Pscb', input=scb2, output=tetr, alpha=[0.1,10000], K=10, n=2)\n",
    "# tetr_not_cini = lc.Hill1(name='Ptet', input=tetr, output=[cini, mven], alpha=[10000,0.1], K=10, n=2)\n",
    "# cini_c14 = lc.Producer(name='CinI', input=cini, output=c14, k1a=1, k2=1)\n",
    "\n",
    "# # Third\n",
    "# c14_ci = lc.Hill1(name='Pcin', input=c14, output=ci, alpha=[0.1, 10000], K=10, n=2)\n",
    "# ci_not_rhli = lc.Hill1(name='PcI', input=ci, output=[rhli, cyan], alpha=[10000,0.1], K=10, n=2)\n",
    "# rhli_c4 = lc.Producer(name='ScbB', input=rhli, output=c4, k1a=1, k2=1)\n",
    "\n",
    "\n",
    "# genetic_n.add_operator([c4_laci, laci_not_scbb, scbb_scb2, scb2_tetr, tetr_not_cini, cini_c14, c14_ci, ci_not_rhli, rhli_c4])"
   ]
  },
  {
   "cell_type": "code",
   "execution_count": null,
   "metadata": {},
   "outputs": [],
   "source": [
    "plt.figure(figsize=(3.5,3.5), dpi=100)\n",
    "genetic_n.draw()"
   ]
  },
  {
   "cell_type": "code",
   "execution_count": null,
   "metadata": {},
   "outputs": [],
   "source": [
    "sample = lc.Sample(strain=strain)\n",
    "assay = lc.Assay([sample], \n",
    "                n_measurements=100, \n",
    "                interval=0.24,\n",
    "                name='Extended repressilator',\n",
    "                description='Simulated expression of extended repressilator strain'\n",
    "                )"
   ]
  },
  {
   "cell_type": "markdown",
   "metadata": {},
   "source": [
    "Then I can also change how each signal diffuses (to see how that affects the system)"
   ]
  }
 ],
 "metadata": {
  "kernelspec": {
   "display_name": "Python 3.10.4 ('loica')",
   "language": "python",
   "name": "python3"
  },
  "language_info": {
   "codemirror_mode": {
    "name": "ipython",
    "version": 3
   },
   "file_extension": ".py",
   "mimetype": "text/x-python",
   "name": "python",
   "nbconvert_exporter": "python",
   "pygments_lexer": "ipython3",
   "version": "3.10.4"
  },
  "orig_nbformat": 4,
  "vscode": {
   "interpreter": {
    "hash": "5a3b552e1f00b069c0e96dcc3c439489a3953ff59f29351d8119914676dca9ff"
   }
  }
 },
 "nbformat": 4,
 "nbformat_minor": 2
}
