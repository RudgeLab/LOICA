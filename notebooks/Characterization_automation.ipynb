{
 "cells": [
  {
   "cell_type": "code",
   "execution_count": null,
   "metadata": {},
   "outputs": [],
   "source": [
    "from loica import *\n",
    "from flapjack import *\n",
    "\n",
    "import matplotlib.pyplot as plt\n",
    "import numpy as np\n",
    "import getpass\n",
    "import datetime\n",
    "import random as rd\n",
    "import pandas as pd\n",
    "\n",
    "from numpy.fft import fft, ifft, fftfreq\n",
    "from scipy.interpolate import interp1d, UnivariateSpline\n",
    "\n",
    "from sklearn.metrics import mean_squared_error\n",
    "from sklearn.metrics import mean_poisson_deviance\n",
    "from sklearn.metrics import mean_gamma_deviance\n",
    "from sklearn.metrics import mean_absolute_error\n"
   ]
  },
  {
   "cell_type": "code",
   "execution_count": null,
   "metadata": {},
   "outputs": [],
   "source": [
    "import seaborn as sns"
   ]
  },
  {
   "cell_type": "code",
   "execution_count": null,
   "metadata": {},
   "outputs": [],
   "source": [
    "def random_profile(t0, tmax, nt, fmax):\n",
    "    freqs = fftfreq(nt)\n",
    "    tff = np.zeros((nt,), dtype=np.complex)\n",
    "    ncomps = len(freqs[np.abs(freqs)<fmax])\n",
    "    tff[np.abs(freqs)<fmax] = np.random.normal(size=(ncomps,)) + np.random.normal(size=(ncomps,))*1j\n",
    "    profile = ifft(tff).real\n",
    "    profile = (profile - profile.min()) / (profile.max() - profile.min())\n",
    "    t = np.linspace(t0, tmax, nt)\n",
    "    return interp1d(t, profile)\n",
    "\n",
    "def spline_profile(t0, tmax, nst):\n",
    "    st = np.linspace(t0, tmax, nst)\n",
    "    y = np.random.uniform(size=st.shape)\n",
    "    profile = UnivariateSpline(st, y-y.min(), s=0)\n",
    "    return profile\n",
    "\n",
    "def gaussian_profile(t0, tmax, nt, n_blobs):\n",
    "    t = np.linspace(t0, tmax, nt)\n",
    "    profile = np.zeros_like(t)\n",
    "    means = np.linspace(t.min(), t.max(), n_blobs)\n",
    "    vars = [t.max()/n_blobs]*n_blobs #res.x[:n_blobs]\n",
    "    heights = np.random.lognormal(size=(n_blobs,))\n",
    "    for mean,var,height in zip(means, vars, heights):\n",
    "        gaussian = height * np.exp(-(t-mean)*(t-mean) / var / 2) / np.sqrt(2 * np.pi * var)\n",
    "        profile += gaussian\n",
    "    return interp1d(t, profile/profile.max())\n",
    "\n",
    "def growth_rate(t):\n",
    "    return gompertz_growth_rate(t, 0.01, 1, 1, 0.5)\n",
    "\n",
    "def biomass(t):\n",
    "    return gompertz(t, 0.01, 1, 1, 0.5)"
   ]
  },
  {
   "cell_type": "code",
   "execution_count": null,
   "metadata": {},
   "outputs": [],
   "source": [
    "num_iterations = 1 # Number of iterations to run\n",
    "starting_seed = 0 # Starting value for the seed to use\n",
    "num_noise_values = 4 # How many different noises you want to test"
   ]
  },
  {
   "cell_type": "code",
   "execution_count": null,
   "metadata": {},
   "outputs": [],
   "source": [
    "noise_list = [1e-1, 1e-2, 1e-3, 1e-4]"
   ]
  },
  {
   "cell_type": "code",
   "execution_count": null,
   "metadata": {},
   "outputs": [],
   "source": [
    "#fj = Flapjack(url_base='flapjack.rudge-lab.org:8000')\n",
    "fj = Flapjack(url_base='localhost:8000')\n",
    "fj.log_in(username=input('Flapjack username: '), password=getpass.getpass('Password: '))"
   ]
  },
  {
   "cell_type": "code",
   "execution_count": null,
   "metadata": {},
   "outputs": [],
   "source": [
    "study = fj.get('study', name='Method comparison')\n",
    "if len(study):\n",
    "    fj.delete('study', study.id[0])"
   ]
  },
  {
   "cell_type": "markdown",
   "metadata": {},
   "source": [
    "### Constitutive gene"
   ]
  },
  {
   "cell_type": "code",
   "execution_count": null,
   "metadata": {},
   "outputs": [],
   "source": [
    "dna = fj.get('dna', name='Const_1e-3_nsr_blob')\n",
    "if len(dna)==0:\n",
    "    dna = fj.create('dna', name='Const_1e-3_nsr_blob')\n",
    "vector = fj.get('vector', name='Const_1e-3_nsr_blob')    \n",
    "if len(vector)==0:\n",
    "    vector = fj.create('vector', name='Const_1e-3_nsr_blob', dnas=dna.id)\n",
    "    \n",
    "const = GeneticNetwork(vector=vector.id[0])"
   ]
  },
  {
   "cell_type": "code",
   "execution_count": null,
   "metadata": {},
   "outputs": [],
   "source": [
    "sfp1 = fj.get('signal', name='SFP0')\n",
    "sfp1 = Reporter(name='CFP', degradation_rate=0, init_concentration=0, signal_id=sfp1.id[0])\n",
    "\n",
    "const.add_reporter(sfp1)"
   ]
  },
  {
   "cell_type": "code",
   "execution_count": null,
   "metadata": {},
   "outputs": [],
   "source": [
    "#def profile(t):\n",
    "#    return 1 - gompertz_growth_rate(t, 0.01, 1, 1, 4)\n",
    "#profile = random_profile(t0=0, tmax=24, nt=100, fmax=0.025)\n",
    "#profile = spline_profile(t0=0, tmax=24, nst=20)\n",
    "profile = gaussian_profile(t0=0, tmax=24, nt=100, n_blobs=20)\n",
    "const.add_operator(Source(output=sfp1, rate=1, profile=profile))"
   ]
  },
  {
   "cell_type": "code",
   "execution_count": null,
   "metadata": {},
   "outputs": [],
   "source": [
    "t = np.linspace(0, 24, 100)\n",
    "plt.plot(t, profile(t))\n",
    "st = np.linspace(0, 24, 20)\n",
    "plt.plot(st, profile(st), 'x')\n",
    "print(len(profile(t)))"
   ]
  },
  {
   "cell_type": "code",
   "execution_count": null,
   "metadata": {},
   "outputs": [],
   "source": [
    "print(profile(t))"
   ]
  },
  {
   "cell_type": "code",
   "execution_count": null,
   "metadata": {},
   "outputs": [],
   "source": [
    "metab = SimulatedMetabolism(biomass, growth_rate)\n",
    "media = fj.get('media', name='Loica')\n",
    "if len(media)==0:\n",
    "    media = fj.create('media', name='Loica', description='Simulated loica media')\n",
    "strain = fj.get('strain', name='Loica strain')\n",
    "if len(strain)==0:\n",
    "    strain = fj.create('strain', name='Loica strain', description='Loica test strain')\n",
    "\n",
    "samples = []\n",
    "for i in range(5):\n",
    "    sample = Sample(circuit=const, \n",
    "                    metabolism=metab,\n",
    "                    media=media.id[0],\n",
    "                    strain=strain.id[0])\n",
    "    samples.append(sample)"
   ]
  },
  {
   "cell_type": "code",
   "execution_count": null,
   "metadata": {},
   "outputs": [],
   "source": [
    "print(sample.biomass)"
   ]
  },
  {
   "cell_type": "code",
   "execution_count": null,
   "metadata": {},
   "outputs": [],
   "source": [
    "biomass_signal = fj.get('signal', name='OD')\n",
    "print(biomass_signal)\n",
    "assay = Assay(samples, \n",
    "              n_measurements=100, \n",
    "              interval=0.24,\n",
    "              name='Loica constitutive expression (no noise)',\n",
    "              description='Simulated constitutive gene generated by loica',\n",
    "              biomass_signal_id=biomass_signal.id[0]\n",
    "             )\n",
    "assay.run(nsr=1e-3)"
   ]
  },
  {
   "cell_type": "code",
   "execution_count": null,
   "metadata": {},
   "outputs": [],
   "source": [
    "m = assay.measurements\n",
    "fig,ax = plt.subplots(1,1)\n",
    "m[m.Signal=='CFP'].plot(x='Time', y='Measurement', style='.', ax=ax)"
   ]
  },
  {
   "cell_type": "code",
   "execution_count": null,
   "metadata": {},
   "outputs": [],
   "source": [
    "study = fj.get('study', name='Loica testing')\n",
    "if len(study)==0:\n",
    "    study = fj.create('study', name='Loica testing', description='Testing')\n",
    "assay.upload(fj, study.id[0])"
   ]
  },
  {
   "cell_type": "code",
   "execution_count": null,
   "metadata": {},
   "outputs": [],
   "source": [
    "vector = fj.get('vector', name='Const_1e-3_nsr_blob')\n",
    "media = fj.get('media', name='Loica')\n",
    "strain = fj.get('strain', name='Loica strain')\n",
    "cfp = fj.get('signal', name='SFP0')\n",
    "biomass_signal = fj.get('signal', name='OD')\n",
    "print(biomass_signal)\n",
    "\n",
    "source = Source(None, 0) #const.operators[0]\n",
    "source.characterize(\n",
    "    fj,\n",
    "    vector=vector.id,\n",
    "    media=media.id,\n",
    "    strain=strain.id,\n",
    "    signal=cfp.id,\n",
    "    biomass_signal=biomass_signal.id,\n",
    "    n_gaussians=20,\n",
    "    epsilon=0\n",
    ")"
   ]
  },
  {
   "cell_type": "code",
   "execution_count": null,
   "metadata": {},
   "outputs": [],
   "source": [
    "er_indirect = fj.analysis(media=media.id, \n",
    "                    strain=strain.id,\n",
    "                    vector=[vector.id[0]],\n",
    "                    type='Expression Rate (indirect)',\n",
    "                    biomass_signal=biomass_signal.id,\n",
    "                    eps_L=1e-6,\n",
    "                    pre_smoothing=11,\n",
    "                    post_smoothing=11,\n",
    "                    #bg_correction=2,\n",
    "                    #min_biomass=0.05,\n",
    "                    #remove_data=False\n",
    "                      )\n",
    "er_direct = fj.analysis(media=media.id, \n",
    "                    strain=strain.id,\n",
    "                    vector=[vector.id[0]],\n",
    "                    type='Expression Rate (direct)',\n",
    "                    biomass_signal=biomass_signal.id,\n",
    "                    eps_L=1e-6,\n",
    "                    pre_smoothing=11,\n",
    "                    post_smoothing=11,\n",
    "                    #bg_correction=2,\n",
    "                    #min_biomass=0.05,\n",
    "                    #remove_data=False\n",
    "                      )"
   ]
  },
  {
   "cell_type": "code",
   "execution_count": null,
   "metadata": {},
   "outputs": [],
   "source": [
    "indirect = er_indirect[er_indirect.Signal=='SFP0'].groupby('Time').Rate.mean().values\n",
    "direct = er_direct[er_direct.Signal=='SFP0'].groupby('Time').Rate.mean().values\n",
    "plt.plot(t[1:], indirect / 0.24, 'r-+')\n",
    "plt.plot(t[1:], direct, 'g^-')\n",
    "plt.plot(t, source.profile(t)*source.rate, 'b')\n",
    "plt.plot(t, profile(t)/profile(t).max(), 'k--')"
   ]
  },
  {
   "cell_type": "markdown",
   "metadata": {},
   "source": [
    "CV: Profiles are created. Code by GV."
   ]
  },
  {
   "cell_type": "code",
   "execution_count": null,
   "metadata": {},
   "outputs": [],
   "source": [
    "LOICA_profile = source.profile(t) * source.rate\n",
    "true_profile = profile(t)/profile(t).max()"
   ]
  },
  {
   "cell_type": "code",
   "execution_count": null,
   "metadata": {},
   "outputs": [],
   "source": []
  },
  {
   "cell_type": "code",
   "execution_count": null,
   "metadata": {},
   "outputs": [],
   "source": [
    "# mean_square_error(y_true, y_pred)\n",
    "mse_indirect = mean_squared_error(true_profile[1:], indirect)\n",
    "mse_indirect"
   ]
  },
  {
   "cell_type": "code",
   "execution_count": null,
   "metadata": {},
   "outputs": [],
   "source": [
    "mse_direct = mean_squared_error(true_profile[1:], direct)\n",
    "mse_direct"
   ]
  },
  {
   "cell_type": "code",
   "execution_count": null,
   "metadata": {},
   "outputs": [],
   "source": [
    "mse_gaussian = mean_squared_error(true_profile[1:], LOICA_profile[1:])\n",
    "mse_gaussian"
   ]
  },
  {
   "cell_type": "markdown",
   "metadata": {},
   "source": [
    "CV: A csv data file is created, using date for an easier identification"
   ]
  },
  {
   "cell_type": "code",
   "execution_count": null,
   "metadata": {},
   "outputs": [],
   "source": [
    "\n",
    "column1 = \"Indirect method MSE\"\n",
    "column2 = \"Direct method MSE\"\n",
    "column3 = \"Gaussian method MSE\"\n",
    "with open(\"characterization_data_\" + datetime.datetime.now().strftime(\"%Y-%m-%d_%H.%M.%S\") + \".csv\", \"w\", newline=\"\") as cdt:\n",
    "    fieldnames = [column1, column2, column3]\n",
    "    writer = csv.DictWriter(cdt, fieldnames = fieldnames)\n",
    "    writer.writeheader()\n",
    "    writer.writerow({column1: mse_indirect, column2: mse_direct, column3: mse_gaussian})"
   ]
  },
  {
   "cell_type": "code",
   "execution_count": null,
   "metadata": {},
   "outputs": [],
   "source": [
    "#Defined data structure\n",
    "columns = { 'Profile':[], 'nsr':[], 'Iteration':[], 'Method':[], 'Metric':[], 'Score':[], 'Data_true_profile':[], 'Data_method_profile':[] }\n",
    "df_characterization = pd.DataFrame(columns)"
   ]
  },
  {
   "cell_type": "code",
   "execution_count": null,
   "metadata": {},
   "outputs": [],
   "source": [
    "profiles = ['growth_rate', 'random', 'gaussian']\n",
    "methods = ['indirect', 'direct', 'loica']\n",
    "nsr = [0, 1e-4, 1e-3]\n",
    "metrics = ['MAE', 'MSE']\n",
    "#metrics = ['explained variance', 'MAE', 'MSE', 'mean_poisson', 'mean_gamma']"
   ]
  },
  {
   "cell_type": "code",
   "execution_count": null,
   "metadata": {},
   "outputs": [],
   "source": [
    "study = fj.get('study', name='Method comparison')\n",
    "fj.delete('study', study.id[0])"
   ]
  },
  {
   "cell_type": "code",
   "execution_count": null,
   "metadata": {},
   "outputs": [],
   "source": [
    "#DNA and Vector are created inside the loop\n",
    "metab = SimulatedMetabolism(biomass, growth_rate)\n",
    "\n",
    "sfp1 = fj.get('signal', name='SFP0')\n",
    "if len(sfp1)==0:\n",
    "    sfp1 = fj.create('signal', name='SFP0', description='Simulated FP', color='green')\n",
    "sfp1 = Reporter(name='CFP', degradation_rate=0, init_concentration=0, signal_id=sfp1.id[0])\n",
    "\n",
    "media = fj.get('media', name='Loica')\n",
    "if len(media)==0:\n",
    "    media = fj.create('media', name='Loica', description='Simulated loica media')\n",
    "    \n",
    "strain = fj.get('strain', name='Loica strain')\n",
    "if len(strain)==0:\n",
    "    strain = fj.create('strain', name='Loica strain', description='Loica test strain')\n",
    "    \n",
    "biomass_signal = fj.get('signal', name='OD')\n",
    "\n",
    "study = fj.get('study', name='Method comparison')\n",
    "if len(study)==0:\n",
    "    study = fj.create('study', name='Method comparison', description='Testing')"
   ]
  },
  {
   "cell_type": "code",
   "execution_count": null,
   "metadata": {},
   "outputs": [],
   "source": [
    "samples = []\n",
    "profile_timeseries = []\n",
    "\n",
    "for n in nsr:\n",
    "    for p in profiles:\n",
    "        print(f'Profile: {p}, NSR: {n}')\n",
    "\n",
    "        #iterar por 100 dnas y anadirlos a samples\n",
    "        for i in range(100):\n",
    "            #definir nobres para dnas\n",
    "            name = 'Const_%s_nsr_%f_it_%i' % (p,n,i)\n",
    "            dna = fj.get('dna', name=name)\n",
    "            if len(dna)==0:\n",
    "                dna = fj.create('dna', name=name)\n",
    "            vector = fj.get('vector',name=name)    \n",
    "            if len(vector)==0:\n",
    "                vector = fj.create('vector', name=name, dnas=dna.id)\n",
    "\n",
    "            #create the profile\n",
    "            if p == 'random':\n",
    "                profile = random_profile(t0=0, tmax=24, nt=100, fmax=20)\n",
    "            elif p == 'spline':\n",
    "                profile = spline_profile(t0=0, tmax=24, nst=100)\n",
    "            elif p == 'gaussian':\n",
    "                profile = gaussian_profile(t0=0, tmax=24, nt=100, n_blobs=20) # de que depende n_blobs?\n",
    "            elif p=='growth_rate':\n",
    "                profile = growth_rate\n",
    "            profile_timeseries.append(profile)\n",
    "            \n",
    "            #creation of LOICA model\n",
    "            #GeneticNetwork\n",
    "            const = GeneticNetwork(vector=vector.id[0])\n",
    "            const.add_reporter(sfp1)\n",
    "            const.add_operator(Source(output=sfp1, rate=1, profile=profile))\n",
    "            #Assay\n",
    "            for _ in range(1):\n",
    "                sample = Sample(circuit=const, \n",
    "                                metabolism=metab,\n",
    "                                media=media.id[0],\n",
    "                                strain=strain.id[0])\n",
    "                samples.append(sample)\n",
    "               \n",
    "    print(f'Creating assay for NSR {n}')\n",
    "    assay = Assay(samples, \n",
    "          n_measurements=100, \n",
    "          interval=0.24,\n",
    "          name=f'Loica constitutive expression NSR = {n}',\n",
    "          description='Simulated constitutive gene generated by loica',\n",
    "          biomass_signal_id=biomass_signal.id[0]\n",
    "         )\n",
    "    #Run and upload Assay\n",
    "    print(f'Running simulation for NSR {n}')    \n",
    "    assay.run(nsr=n)\n",
    "    print(f'Uploading data for NSR {n}')\n",
    "    assay.upload(fj, study.id[0])\n"
   ]
  },
  {
   "cell_type": "code",
   "execution_count": null,
   "metadata": {},
   "outputs": [],
   "source": [
    "cfp = fj.get('signal', name='SFP0')\n",
    "t = np.linspace(0, 24, 100)\n",
    "pi = 0\n",
    "for n in nsr:\n",
    "    for p in profiles:\n",
    "        for i in range(100):\n",
    "            print('Characterizing ', p, n, i)\n",
    "            profile = profile_timeseries[pi]\n",
    "            pi += 1\n",
    "            \n",
    "            #get dnas\n",
    "            name = 'Const_%s_nsr_%f_it_%i' % (p,n,i)\n",
    "            vector = fj.get('vector',name=name)    \n",
    "                \n",
    "            #Characterize using LOICA\n",
    "            source = Source(None, 0) #const.operators[0]\n",
    "            source.characterize(\n",
    "                fj,\n",
    "                vector=vector.id,\n",
    "                media=media.id,\n",
    "                strain=strain.id,\n",
    "                signal=cfp.id,\n",
    "                biomass_signal=biomass_signal.id,\n",
    "                n_gaussians=20,\n",
    "                epsilon=0\n",
    "            )\n",
    "            \n",
    "            #Characterize using indirect method\n",
    "            er_indirect = fj.analysis(media=media.id, \n",
    "                    strain=strain.id,\n",
    "                    vector=[vector.id[0]],\n",
    "                    type='Expression Rate (indirect)',\n",
    "                    biomass_signal=biomass_signal.id,\n",
    "                    eps_L=1e-6,\n",
    "                    pre_smoothing=11,\n",
    "                    post_smoothing=11,\n",
    "                    #bg_correction=2,\n",
    "                    #min_biomass=0.05,\n",
    "                    #remove_data=False\n",
    "                      )\n",
    "            #Characterize using direct method\n",
    "            er_direct = fj.analysis(media=media.id, \n",
    "                    strain=strain.id,\n",
    "                    vector=[vector.id[0]],\n",
    "                    type='Expression Rate (direct)',\n",
    "                    biomass_signal=biomass_signal.id,\n",
    "                    eps_L=1e-5,\n",
    "                    pre_smoothing=11,\n",
    "                    post_smoothing=11,\n",
    "                    #bg_correction=2,\n",
    "                    #min_biomass=0.05,\n",
    "                    #remove_data=False\n",
    "                      )\n",
    "            \n",
    "            #Profiles\n",
    "            true_profile = profile(t)/profile(t).max()\n",
    "            indirect = er_indirect[er_indirect.Signal=='SFP0'].groupby('Time').Rate.mean().values\n",
    "            direct = er_direct[er_direct.Signal=='SFP0'].groupby('Time').Rate.mean().values\n",
    "            LOICA_profile = source.profile(t) * source.rate\n",
    "            \n",
    "            #Metrics\n",
    "            #MSE\n",
    "            mse_indirect = mean_squared_error(true_profile[1:], indirect)\n",
    "            mse_direct = mean_squared_error(true_profile[1:], direct)\n",
    "            mse_gaussian = mean_squared_error(true_profile[1:], LOICA_profile[1:])\n",
    "            temp1 = {'Profile':p, 'nsr':n, 'Iteration':i, 'Method':'Indirect', 'Metric':'MSE', 'Score':mse_indirect,'Data_true_profile':true_profile, 'Data_method_profile':indirect }  \n",
    "            temp2 = {'Profile':p, 'nsr':n, 'Iteration':i, 'Method':'Direct', 'Metric':'MSE', 'Score':mse_direct, 'Data_true_profile':true_profile, 'Data_method_profile':direct}  \n",
    "            temp3 = {'Profile':p, 'nsr':n, 'Iteration':i, 'Method':'Gaussian', 'Metric':'MSE', 'Score':mse_gaussian, 'Data_true_profile':true_profile, 'Data_method_profile':LOICA_profile}\n",
    "            df_characterization = df_characterization.append([temp1, temp2, temp3], ignore_index=True)\n",
    "\n",
    "            #MAE\n",
    "            mae_indirect = mean_absolute_error(true_profile[1:], indirect)\n",
    "            mae_direct = mean_absolute_error(true_profile[1:], direct)\n",
    "            mae_gaussian = mean_absolute_error(true_profile[1:], LOICA_profile[1:])\n",
    "            temp1 = {'Profile':p, 'nsr':n, 'Iteration':i, 'Method':'Indirect', 'Metric':'MAE', 'Score':mae_indirect,'Data_true_profile':true_profile, 'Data_method_profile':indirect }  \n",
    "            temp2 = {'Profile':p, 'nsr':n, 'Iteration':i, 'Method':'Direct', 'Metric':'MAE', 'Score':mae_direct, 'Data_true_profile':true_profile, 'Data_method_profile':direct}  \n",
    "            temp3 = {'Profile':p, 'nsr':n, 'Iteration':i, 'Method':'Gaussian', 'Metric':'MAE', 'Score':mae_gaussian, 'Data_true_profile':true_profile, 'Data_method_profile':LOICA_profile}\n",
    "            df_characterization = df_characterization.append([temp1, temp2, temp3], ignore_index=True)\n",
    "\n",
    "            #Poisson deviance\n",
    "            '''\n",
    "            mpd_indirect = mean_poisson_deviance(true_profile[1:], indirect)\n",
    "            mpd_direct = mean_poisson_deviance(true_profile[1:], direct)\n",
    "            mpd_gaussian = mean_poisson_deviance(true_profile[1:], LOICA_profile[1:])\n",
    "            temp1 = {'Profile':p, 'nsr':n, 'Iteration':i, 'Method':'Indirect', 'Metric':'MPD', 'Score':mpd_indirect,'Data_true_profile':true_profile, 'Data_method_profile':indirect }  \n",
    "            temp2 = {'Profile':p, 'nsr':n, 'Iteration':i, 'Method':'Direct', 'Metric':'MPD', 'Score':mpd_direct, 'Data_true_profile':true_profile, 'Data_method_profile':direct}  \n",
    "            temp3 = {'Profile':p, 'nsr':n, 'Iteration':i, 'Method':'Gaussian', 'Metric':'MPD', 'Score':mpd_gaussian, 'Data_true_profile':true_profile, 'Data_method_profile':LOICA_profile}\n",
    "            df_characterization = df_characterization.append([temp1, temp2, temp3], ignore_index=True)\n",
    "\n",
    "            #gamma deviance\n",
    "\n",
    "            mgd_indirect = mean_gamma_deviance(true_profile[1:], indirect)\n",
    "            mgd_direct = mean_gamma_deviance(true_profile[1:], direct)\n",
    "            mgd_gaussian = mean_gamma_deviance(true_profile[1:], LOICA_profile[1:])\n",
    "            temp1 = {'Profile':p, 'nsr':n, 'Iteration':i, 'Method':'Indirect', 'Metric':'MGD', 'Score':mse_indirect,'Data_true_profile':true_profile, 'Data_method_profile':indirect }  \n",
    "            temp2 = {'Profile':p, 'nsr':n, 'Iteration':i, 'Method':'Direct', 'Metric':'MGD', 'Score':mse_direct, 'Data_true_profile':true_profile, 'Data_method_profile':direct}  \n",
    "            temp3 = {'Profile':p, 'nsr':n, 'Iteration':i, 'Method':'Gaussian', 'Metric':'MGD', 'Score':mse_gaussian, 'Data_true_profile':true_profile, 'Data_method_profile':LOICA_profile}\n",
    "            df_characterization = df_characterization.append([temp1, temp2, temp3], ignore_index=True)\n",
    "            '''\n",
    "            \n",
    "            \n",
    "            \n",
    "            \n",
    "            \n",
    "\n",
    "        \n",
    "            \n",
    "            \n",
    "            #sometimes random profiles give 0 or negative valuea\n",
    "            #characterize it\n",
    "            #get metrics"
   ]
  },
  {
   "cell_type": "code",
   "execution_count": null,
   "metadata": {
    "scrolled": true
   },
   "outputs": [],
   "source": [
    "plt.plot(profile(t))"
   ]
  },
  {
   "cell_type": "code",
   "execution_count": null,
   "metadata": {},
   "outputs": [],
   "source": [
    "df_characterization.to_csv('df_characterization_100.csv',index=False)"
   ]
  },
  {
   "cell_type": "code",
   "execution_count": null,
   "metadata": {},
   "outputs": [],
   "source": [
    "df_plot[df_plot.Profile=='growth_rate']"
   ]
  },
  {
   "cell_type": "code",
   "execution_count": null,
   "metadata": {},
   "outputs": [],
   "source": [
    "df_plot.Iteration.unique()"
   ]
  },
  {
   "cell_type": "code",
   "execution_count": null,
   "metadata": {},
   "outputs": [],
   "source": [
    "df_plot = df_characterization[df_characterization['Metric']=='MAE'] #should also select metric in future"
   ]
  },
  {
   "cell_type": "code",
   "execution_count": null,
   "metadata": {},
   "outputs": [],
   "source": [
    "plt.figure(dpi=300)\n",
    "ax = sns.violinplot(x=\"Method\", y=\"Score\", data=df_plot, inner=\"stick\", hue='nsr')"
   ]
  },
  {
   "cell_type": "code",
   "execution_count": null,
   "metadata": {},
   "outputs": [],
   "source": [
    "plt.figure(dpi=300)\n",
    "data = df_plot[df_plot.Method!='Indirect']\n",
    "ax = sns.catplot(x=\"Method\", y=\"Score\", data=data, hue='nsr', col=\"Profile\", kind='violin', sharey=False)"
   ]
  },
  {
   "cell_type": "code",
   "execution_count": null,
   "metadata": {},
   "outputs": [],
   "source": [
    "from scipy.stats import ttest_ind\n",
    "a = df_plot[df_plot.Method=='Gaussian'][df_plot.nsr==1e-3][df_plot.Profile=='gaussian']\n",
    "b = df_plot[df_plot.Method=='Direct'][df_plot.nsr==1e-3][df_plot.Profile=='gaussian']\n",
    "print(ttest_ind(a.Score,b.Score, equal_var=False))\n",
    "print(a.Score.mean())\n",
    "print(b.Score.mean())"
   ]
  },
  {
   "cell_type": "code",
   "execution_count": null,
   "metadata": {},
   "outputs": [],
   "source": [
    "ax = sns.violinplot(x=\"Method\", y=\"Score\", \n",
    "                    data=df_characterization[df_characterization['Profile']=='random', df_characterization['nsr']==0.010,df_characterization['Metric']=='MSE' ])"
   ]
  },
  {
   "cell_type": "code",
   "execution_count": null,
   "metadata": {},
   "outputs": [],
   "source": [
    "df_characterizationv1= df_characterization.copy()"
   ]
  },
  {
   "cell_type": "code",
   "execution_count": null,
   "metadata": {},
   "outputs": [],
   "source": [
    "mse_indirect = mean_squared_error(true_profile[1:], indirect)\n",
    "mse_direct = mean_squared_error(true_profile[1:], direct)\n",
    "mse_indirect = mean_squared_error(true_profile[1:], indirect)\n",
    "mse_gaussian = mean_squared_error(true_profile[1:], LOICA_profile[1:])\n",
    "temp = {'Profile':'p', 'nsr':'n', 'Method':'Indirect', 'Metric':'MSE', 'Score':mse_indirect}\n",
    "            "
   ]
  },
  {
   "cell_type": "code",
   "execution_count": null,
   "metadata": {
    "scrolled": false
   },
   "outputs": [],
   "source": [
    "temp"
   ]
  },
  {
   "cell_type": "code",
   "execution_count": null,
   "metadata": {},
   "outputs": [],
   "source": [
    "#Defined data structure\n",
    "columns = { 'Profile':[], 'nsr':[], 'Method':[], 'Metric':[], 'Score':[] }\n",
    "df_characterization = pd.DataFrame(columns)\n",
    "df_characterization"
   ]
  },
  {
   "cell_type": "code",
   "execution_count": null,
   "metadata": {},
   "outputs": [],
   "source": [
    "df_characterization = df_characterization.append([temp, temp], ignore_index=True)\n",
    "df_characterization"
   ]
  },
  {
   "cell_type": "code",
   "execution_count": null,
   "metadata": {},
   "outputs": [],
   "source": [
    "columns = { 'Frame':[], 'Nuc_Num':[], 'Nuc_Area':[], 'OMM_Num':[], 'OMM_Area':[]}\n",
    "    mito_df = pd.DataFrame(columns)\n",
    "    for i in range(t):\n",
    "        im_omm = im_omm_mask[i,3,:,:] #imagen en el canal c slice 3\n",
    "        im_nuc = im_nuc_mask[i,3,:,:]\n",
    "        #ubyte_im = img_as_ubyte(im)\n",
    "        #segmentation\n",
    "        binary_rso_omm = remove_small_objects(im_omm, min_size=area_min_omm)\n",
    "        binary_rso_nuc = remove_small_objects(im_nuc, min_size=area_min_nuc)\n",
    "        #labeling and number\n",
    "        labeled_omm, num_omm = ndi.label(binary_rso_omm)\n",
    "        labeled_nuc, num_nuc = ndi.label(binary_rso_nuc)\n",
    "        #calculations\n",
    "        area_tomm = np.sum(binary_rso_omm)*0.002025**2 #this transforms it into um\n",
    "        area_tnuc = np.sum(binary_rso_nuc)*0.002025**2\n",
    "        nuc_avg_area = area_tnuc/num_nuc\n",
    "        omm_avg_area = area_tomm/num_omm\n",
    "        temp_mito_df = { 'Frame':i+1, \n",
    "                        'Nuc_Num':num_nuc, 'Nuc_Area':area_tnuc, 'Nuc_avgArea': nuc_avg_area,\n",
    "                        'OMM_Num':num_omm, 'OMM_Area':area_tomm, 'OMM_avgArea': omm_avg_area}\n",
    "        mito_df = mito_df.append(temp_mito_df,ignore_index=True )\n",
    "    return mito_df"
   ]
  },
  {
   "cell_type": "code",
   "execution_count": null,
   "metadata": {},
   "outputs": [],
   "source": []
  },
  {
   "cell_type": "code",
   "execution_count": null,
   "metadata": {},
   "outputs": [],
   "source": []
  },
  {
   "cell_type": "code",
   "execution_count": null,
   "metadata": {},
   "outputs": [],
   "source": []
  },
  {
   "cell_type": "code",
   "execution_count": null,
   "metadata": {},
   "outputs": [],
   "source": []
  },
  {
   "cell_type": "code",
   "execution_count": null,
   "metadata": {},
   "outputs": [],
   "source": []
  },
  {
   "cell_type": "code",
   "execution_count": null,
   "metadata": {},
   "outputs": [],
   "source": []
  },
  {
   "cell_type": "code",
   "execution_count": null,
   "metadata": {},
   "outputs": [],
   "source": []
  },
  {
   "cell_type": "code",
   "execution_count": null,
   "metadata": {},
   "outputs": [],
   "source": []
  },
  {
   "cell_type": "code",
   "execution_count": null,
   "metadata": {},
   "outputs": [],
   "source": []
  },
  {
   "cell_type": "markdown",
   "metadata": {},
   "source": [
    "### Here ends the first part"
   ]
  },
  {
   "cell_type": "markdown",
   "metadata": {},
   "source": [
    "### Receiver"
   ]
  },
  {
   "cell_type": "markdown",
   "metadata": {},
   "source": [
    "Create a genetic network and associate it with a Flapjack vector:"
   ]
  },
  {
   "cell_type": "code",
   "execution_count": null,
   "metadata": {},
   "outputs": [],
   "source": [
    "dna = fj.get('dna', name='Rec_1e-3_nsr')\n",
    "if len(dna)==0:\n",
    "    dna = fj.create('dna', name='Rec_1e-3_nsr')\n",
    "vector = fj.get('vector', name='Rec_1e-3_nsr')    \n",
    "if len(vector)==0:\n",
    "    vector = fj.create('vector', name='Rec_1e-3_nsr', dnas=dna.id)\n",
    "    \n",
    "rec = GeneticNetwork(vector=vector.id[0])"
   ]
  },
  {
   "cell_type": "markdown",
   "metadata": {},
   "source": [
    "Create a reporter and associate it with a Flapjack signal so we can record the behaviour of the circuit:"
   ]
  },
  {
   "cell_type": "code",
   "execution_count": null,
   "metadata": {},
   "outputs": [],
   "source": [
    "cfp = fj.get('signal', name='CFP')\n",
    "sfp1 = Reporter(name='CFP', degradation_rate=0, init_concentration=1, signal_id=cfp.id[0])\n",
    "\n",
    "rec.add_reporter(sfp1)"
   ]
  },
  {
   "cell_type": "markdown",
   "metadata": {},
   "source": [
    "Create and add a receiver operator to the circuit, linking it to an AHL supplement:"
   ]
  },
  {
   "cell_type": "code",
   "execution_count": null,
   "metadata": {},
   "outputs": [],
   "source": [
    "ahl = Supplement(name='AHL')\n",
    "def sin_profile(t):\n",
    "    return 1 - np.cos(2 * np.pi * t / 12)\n",
    "def mu_profile(t):\n",
    "    return 1 - gompertz_growth_rate(t, 0.01, 1, 1, 4)\n",
    "rec_profile = random_profile(t0=0, tmax=24, nt=100, fmax=0.05)\n",
    "rec.add_operator(Receiver(inducer=ahl, output=sfp1, a=0, b=100, K=1, n=2, profile=rec_profile))"
   ]
  },
  {
   "cell_type": "markdown",
   "metadata": {},
   "source": [
    "Now we have constructed the circuit we need to run an assay containing some samples. The sample is driven by a metabolism which defines the dynamics of growth and gene expression profiles:"
   ]
  },
  {
   "cell_type": "code",
   "execution_count": null,
   "metadata": {},
   "outputs": [],
   "source": [
    "def growth_rate(t):\n",
    "    return gompertz_growth_rate(t, 0.05, 1, 1, 1)\n",
    "\n",
    "def biomass(t):\n",
    "    return gompertz(t, 0.05, 1, 1, 1)\n",
    "    \n",
    "metab = SimulatedMetabolism(biomass, growth_rate)"
   ]
  },
  {
   "cell_type": "markdown",
   "metadata": {},
   "source": [
    "Next we create a set of samples associated to Flapjack media and strain, and containing our AHL at different concentrations"
   ]
  },
  {
   "cell_type": "code",
   "execution_count": null,
   "metadata": {},
   "outputs": [],
   "source": [
    "media = fj.get('media', name='Loica')\n",
    "if len(media)==0:\n",
    "    media = fj.create('media', name='Loica', description='Simulated loica media')\n",
    "strain = fj.get('strain', name='Loica strain')\n",
    "if len(strain)==0:\n",
    "    strain = fj.create('strain', name='Loica strain', description='Loica test strain')\n",
    "\n",
    "# Create list of samples    \n",
    "samples = []\n",
    "for conc in np.logspace(-6, 6, 12):\n",
    "    sample = Sample(circuit=rec, \n",
    "                metabolism=metab,\n",
    "                media=media.id[0],\n",
    "                strain=strain.id[0])\n",
    "    # Add AHL to samples at given concentration\n",
    "    sample.add_supplement(ahl, conc)\n",
    "    samples.append(sample)"
   ]
  },
  {
   "cell_type": "markdown",
   "metadata": {},
   "source": [
    "Now we can create and run the assay:"
   ]
  },
  {
   "cell_type": "code",
   "execution_count": null,
   "metadata": {},
   "outputs": [],
   "source": [
    "biomass_signal = fj.get('signal', name='OD')\n",
    "assay = Assay(samples, \n",
    "              n_measurements=100, \n",
    "              interval=0.24,\n",
    "              name='Loica receiver',\n",
    "              description='Simulated receiver generated by loica',\n",
    "              biomass_signal_id=biomass_signal.id[0]\n",
    "             )\n",
    "assay.run(nsr=1e-3)"
   ]
  },
  {
   "cell_type": "markdown",
   "metadata": {},
   "source": [
    "Plot the results:"
   ]
  },
  {
   "cell_type": "code",
   "execution_count": null,
   "metadata": {},
   "outputs": [],
   "source": [
    "m = assay.measurements\n",
    "fig,ax = plt.subplots(1,1)\n",
    "m[m.Signal=='CFP'].groupby('Sample').plot(x='Time', y='Measurement', style='.', ax=ax)\n",
    "plt.yscale('log')\n",
    "len(m)"
   ]
  },
  {
   "cell_type": "markdown",
   "metadata": {},
   "source": [
    "Upload the simulated data to flapjack"
   ]
  },
  {
   "cell_type": "code",
   "execution_count": null,
   "metadata": {},
   "outputs": [],
   "source": [
    "study = fj.get('study', name='Loica testing')\n",
    "if len(study)==0:\n",
    "    study = fj.create('study', name='Loica testing', description='Test')\n",
    "\n",
    "assay.upload(fj, study.id[0])"
   ]
  },
  {
   "cell_type": "code",
   "execution_count": null,
   "metadata": {},
   "outputs": [],
   "source": [
    "#vector = fj.get('vector', name='pREC')\n",
    "#media = fj.get('media', name='Simulated media')\n",
    "#strain = fj.get('strain', name='Simulated strain')\n",
    "#signal = fj.get('signal', name='CFP')\n",
    "#biomass_signal = fj.get('signal', name='OD')\n",
    "#print(biomass_signal)\n",
    "\n",
    "signal = fj.get('signal', name='CFP')\n",
    "vector = fj.get('vector', name='Rec_1e-3_nsr')\n",
    "media = fj.get('media', name='Loica')\n",
    "strain = fj.get('strain', name='Loica strain')\n",
    "cfp = fj.get('signal', name='CFP')\n",
    "biomass_signal = fj.get('signal', name='OD')\n",
    "analyte = fj.get('chemical', name='AHL')\n",
    "\n",
    "char_receiver = Receiver(None, None, 0,0,0,0)\n",
    "char_receiver.characterize(\n",
    "    fj,\n",
    "    vector=vector.id,\n",
    "    media=media.id,\n",
    "    strain=strain.id,\n",
    "    signal=signal.id,\n",
    "    biomass_signal=biomass_signal.id,\n",
    "    n_gaussians=20,\n",
    "    epsilon=0\n",
    ")"
   ]
  },
  {
   "cell_type": "code",
   "execution_count": null,
   "metadata": {},
   "outputs": [],
   "source": [
    "t = np.linspace(0, 24, 100)\n",
    "print(f'a = {char_receiver.a}')\n",
    "print('b = ', char_receiver.b)\n",
    "print('K = ', char_receiver.K)\n",
    "print('n = ', char_receiver.n)\n",
    "\n",
    "plt.plot(t, char_receiver.profile(t))\n",
    "plt.plot(t, rec_profile(t))\n",
    "plt.legend(['Characterization', 'True'])"
   ]
  },
  {
   "cell_type": "code",
   "execution_count": null,
   "metadata": {},
   "outputs": [],
   "source": []
  },
  {
   "cell_type": "markdown",
   "metadata": {},
   "source": [
    "### Inverter"
   ]
  },
  {
   "cell_type": "code",
   "execution_count": null,
   "metadata": {},
   "outputs": [],
   "source": [
    "dna = fj.get('dna', name='Inv_1e-3_nsr')\n",
    "if len(dna)==0:\n",
    "    dna = fj.create('dna', name='Inv_1e-3_nsr')\n",
    "vector = fj.get('vector', name='Inv_1e-3_nsr')    \n",
    "if len(vector)==0:\n",
    "    vector = fj.create('vector', name='Inv_1e-3_nsr', dnas=dna.id)\n",
    "    \n",
    "inv = GeneticNetwork(vector=vector.id[0])"
   ]
  },
  {
   "cell_type": "code",
   "execution_count": null,
   "metadata": {},
   "outputs": [],
   "source": [
    "def mu_profile(t):\n",
    "    return gompertz_growth_rate(t, 0.01, 1, 1, 1)\n",
    "inv_profile = random_profile(t0=0, tmax=24, nt=100, fmax=0.05)"
   ]
  },
  {
   "cell_type": "code",
   "execution_count": null,
   "metadata": {},
   "outputs": [],
   "source": [
    "ahl = Supplement(name='AHL')\n",
    "laci = Regulator('LacI', degradation_rate=2)\n",
    "rec = Receiver(inducer=ahl, output=laci, a=0, b=100, K=1, n=2, profile=rec_profile)\n",
    "inv.add_operator(rec)\n",
    "inv.add_regulator(laci)"
   ]
  },
  {
   "cell_type": "code",
   "execution_count": null,
   "metadata": {},
   "outputs": [],
   "source": [
    "cfp = fj.get('signal', name='CFP')\n",
    "cfp = Reporter('CFP', signal_id=cfp.id[0])\n",
    "inv.add_reporter(cfp)\n",
    "inv.add_operator(Not(input=laci, output=cfp, a=100, b=0, K=1, n=2, profile=inv_profile))"
   ]
  },
  {
   "cell_type": "code",
   "execution_count": null,
   "metadata": {},
   "outputs": [],
   "source": [
    "# Create list of samples    \n",
    "samples = []\n",
    "media = fj.get('media', name='Loica')\n",
    "strain = fj.get('strain', name='Loica strain')\n",
    "for conc in np.logspace(-6, 6, 12):\n",
    "    sample = Sample(circuit=inv, \n",
    "                metabolism=metab,\n",
    "                media=media.id[0],\n",
    "                strain=strain.id[0])\n",
    "    # Add AHL to samples at given concentration\n",
    "    sample.add_supplement(ahl, conc)\n",
    "    samples.append(sample)"
   ]
  },
  {
   "cell_type": "code",
   "execution_count": null,
   "metadata": {},
   "outputs": [],
   "source": [
    "biomass_signal = fj.get('signal', name='OD')\n",
    "assay = Assay(samples, \n",
    "              n_measurements=100, \n",
    "              interval=0.24,\n",
    "              name='Loica inverter',\n",
    "              description='Simulated inverter generated by loica',\n",
    "              biomass_signal_id=biomass_signal.id[0]\n",
    "             )\n",
    "assay.run()"
   ]
  },
  {
   "cell_type": "code",
   "execution_count": null,
   "metadata": {},
   "outputs": [],
   "source": [
    "m = assay.measurements\n",
    "fig,ax = plt.subplots(1,1)\n",
    "m[m.Signal=='CFP'].plot(x='Time', y='Measurement', style='.', ax=ax)"
   ]
  },
  {
   "cell_type": "code",
   "execution_count": null,
   "metadata": {},
   "outputs": [],
   "source": [
    "study = fj.get('study', name='Loica testing')\n",
    "if len(study)==0:\n",
    "    study = fj.create('study', name='Loica testing', description='Test')\n",
    "\n",
    "assay.upload(fj, study.id[0])"
   ]
  },
  {
   "cell_type": "code",
   "execution_count": null,
   "metadata": {},
   "outputs": [],
   "source": [
    "signal = fj.get('signal', name='CFP')\n",
    "receiver = fj.get('vector', name='Rec_1e-3_nsr')\n",
    "inverter = fj.get('vector', name='Inv_1e-3_nsr')\n",
    "media = fj.get('media', name='Loica')\n",
    "strain = fj.get('strain', name='Loica strain')\n",
    "biomass_signal = fj.get('signal', name='OD')\n",
    "analyte = fj.get('chemical', name='AHL')\n",
    "\n",
    "char_not = Not(input=None, output=None, a=100, b=0, K=1, n=2)\n",
    "char_not.characterize(\n",
    "    fj,\n",
    "    receiver = receiver.id,\n",
    "    inverter=inverter.id,\n",
    "    media=media.id,\n",
    "    strain=strain.id,\n",
    "    signal=signal.id,\n",
    "    biomass_signal=biomass_signal.id,\n",
    "    n_gaussians=20,\n",
    "    epsilon=0,\n",
    "    gamma=2\n",
    ")"
   ]
  },
  {
   "cell_type": "code",
   "execution_count": null,
   "metadata": {},
   "outputs": [],
   "source": [
    "t = np.linspace(0, 24, 100)\n",
    "plt.plot(t, char_not.profile(t), 'r--')\n",
    "plt.plot(t, inv_profile(t), 'r')\n",
    "plt.plot(t, rec_profile(t), 'g')\n",
    "plt.plot(t, char_not.profile_A(t), 'g--')\n",
    "\n",
    "print(char_not.a_A, char_not.b_A, char_not.K_A, char_not.n_A)\n",
    "print(char_not.a, char_not.b, char_not.K, char_not.n) #, char_not.gamma)"
   ]
  },
  {
   "cell_type": "code",
   "execution_count": null,
   "metadata": {},
   "outputs": [],
   "source": [
    "J = char_not.res.jac\n",
    "H = J.T.dot(J)\n",
    "C = np.linalg.inv(H) * np.sum(char_not.res.fun*char_not.res.fun) / 100\n",
    "covar = np.diag(np.abs(C))\n",
    "std = np.sqrt(covar)\n",
    "print(std[:3])\n",
    "print(char_not.n, char_not.K, char_not.b)\n",
    "plt.imshow(C[:,:]); plt.colorbar()"
   ]
  },
  {
   "cell_type": "code",
   "execution_count": null,
   "metadata": {},
   "outputs": [],
   "source": [
    "means = np.linspace(t.min(), t.max(), 20)\n",
    "vars = [t.max()/20]*20 #res.x[:n_blobs]\n",
    "\n",
    "profiles = []\n",
    "for i in range(1000):\n",
    "    rheights = np.random.multivariate_normal(char_not.res.x[3:], C[3:,3:])\n",
    "    profile = np.zeros_like(t)\n",
    "    for mean,var,height in zip(means, vars, rheights):\n",
    "        gaussian = height * np.exp(-(t-mean)*(t-mean) / var / 2) / np.sqrt(2 * np.pi * var)\n",
    "        profile += gaussian\n",
    "    profiles.append(np.array(profile))\n",
    "profiles = np.array(profiles)\n",
    "mean = np.mean(profiles, axis=0)\n",
    "std = np.std(profiles, axis=0)\n",
    "plt.plot(t, mean, 'k')\n",
    "plt.fill_between(t, mean-std, mean+std, color='k', alpha=0.2)"
   ]
  },
  {
   "cell_type": "markdown",
   "metadata": {},
   "source": [
    "### Repressilator"
   ]
  },
  {
   "cell_type": "code",
   "execution_count": null,
   "metadata": {},
   "outputs": [],
   "source": [
    "dna = fj.get('dna', name='Rep')\n",
    "if len(dna)==0:\n",
    "    dna = fj.create('dna', name='Rep')\n",
    "vector = fj.get('vector', name='Rep')    \n",
    "if len(vector)==0:\n",
    "    vector = fj.create('vector', name='Rep', dnas=dna.id)\n",
    "    \n",
    "rep = GeneticNetwork(vector=vector.id[0])"
   ]
  },
  {
   "cell_type": "code",
   "execution_count": null,
   "metadata": {},
   "outputs": [],
   "source": [
    "laci = Regulator(name='LacI', degradation_rate=1, init_concentration=5)\n",
    "tetr = Regulator(name='TetR', degradation_rate=1)\n",
    "ci = Regulator(name='cI', degradation_rate=1)\n",
    "rep.add_regulator(laci)\n",
    "rep.add_regulator(tetr)\n",
    "rep.add_regulator(ci)\n",
    "\n",
    "cfp = fj.get('signal', name='CFP')\n",
    "yfp = fj.get('signal', name='YFP')\n",
    "rfp = fj.get('signal', name='RFP')\n",
    "\n",
    "sfp1 = Reporter(name='CFP', degradation_rate=1, signal_id=cfp.id[0])\n",
    "rep.add_reporter(sfp1)\n",
    "sfp2 = Reporter(name='YFP', degradation_rate=1, signal_id=yfp.id[0])\n",
    "rep.add_reporter(sfp2)\n",
    "sfp3 = Reporter(name='RFP', degradation_rate=1, signal_id=rfp.id[0])\n",
    "rep.add_reporter(sfp3)\n",
    "\n",
    "rep.add_operator(Not(input=ci, output=laci, a=100, b=0, K=1, n=2))\n",
    "rep.add_operator(Not(input=laci, output=tetr, a=100, b=0, K=1, n=2))\n",
    "rep.add_operator(Not(input=tetr, output=ci, a=100, b=0, K=1, n=2))\n",
    "\n",
    "rep.add_operator(Not(input=ci, output=sfp1, a=100, b=0, K=1, n=2))\n",
    "rep.add_operator(Not(input=laci, output=sfp2, a=100, b=0, K=1, n=2))\n",
    "rep.add_operator(Not(input=tetr, output=sfp3, a=100, b=0, K=1, n=2))"
   ]
  },
  {
   "cell_type": "code",
   "execution_count": null,
   "metadata": {},
   "outputs": [],
   "source": [
    "study = fj.get('study', name='Loica testing')\n",
    "if len(study)==0:\n",
    "    study = fj.create('study', name='Loica testing', description='Test')\n",
    "media = fj.get('media', name='Loica')\n",
    "if len(media)==0:\n",
    "    media = fj.create('media', name='Loica', description='Simulated loica media')\n",
    "strain = fj.get('strain', name='Loica strain')\n",
    "if len(strain)==0:\n",
    "    strain = fj.create('strain', name='Loica strain', description='Loica test strain')\n",
    "\n",
    "biomass_signal = fj.get('signal', name='OD')\n",
    "\n",
    "sample = Sample(circuit=rep, \n",
    "                metabolism=metab,\n",
    "                media=media.id[0],\n",
    "                strain=strain.id[0]\n",
    "               )\n",
    "assay = Assay([sample], \n",
    "              n_measurements=100, \n",
    "              interval=0.25,\n",
    "              name='Loica repressilator',\n",
    "              description='Simulated repressilator generated by loica',\n",
    "              biomass_signal_id=biomass_signal.id[0]\n",
    "             )\n",
    "assay.run()"
   ]
  },
  {
   "cell_type": "code",
   "execution_count": null,
   "metadata": {},
   "outputs": [],
   "source": [
    "assay.measurements"
   ]
  },
  {
   "cell_type": "code",
   "execution_count": null,
   "metadata": {
    "scrolled": true
   },
   "outputs": [],
   "source": [
    "m = assay.measurements\n",
    "fig,ax = plt.subplots(1,1)\n",
    "m[m.Signal=='CFP'].plot(x='Time', y='Measurement', ax=ax)\n",
    "m[m.Signal=='YFP'].plot(x='Time', y='Measurement', ax=ax)\n",
    "m[m.Signal=='RFP'].plot(x='Time', y='Measurement', ax=ax)"
   ]
  },
  {
   "cell_type": "markdown",
   "metadata": {},
   "source": [
    "Upload simulated data to flapjack"
   ]
  },
  {
   "cell_type": "code",
   "execution_count": null,
   "metadata": {},
   "outputs": [],
   "source": [
    "assay.upload(fj, study.id[0])"
   ]
  },
  {
   "cell_type": "markdown",
   "metadata": {},
   "source": [
    "### Toggle switch"
   ]
  },
  {
   "cell_type": "code",
   "execution_count": null,
   "metadata": {},
   "outputs": [],
   "source": [
    "dna = fj.create('dna', name='Toggle')\n",
    "vector = fj.create('vector', name='Toggle', dnas=dna.id)\n",
    "tog = GeneticNetwork(vector=vector.id[0])\n",
    "\n",
    "laci = Regulator(name='LacI', degradation_rate=1, init_concentration=0.1)\n",
    "ci = Regulator(name='cI', degradation_rate=1)\n",
    "tog.add_regulator(laci)\n",
    "tog.add_regulator(ci)\n",
    "\n",
    "cfp = fj.get('signal', name='CFP')\n",
    "yfp = fj.get('signal', name='YFP')\n",
    "sfp1 = Reporter(name='CFP', degradation_rate=1, signal_id=cfp.id[0])\n",
    "tog.add_reporter(sfp1)\n",
    "sfp2 = Reporter(name='YFP', degradation_rate=1, signal_id=yfp.id[0])\n",
    "tog.add_reporter(sfp2)\n",
    "\n",
    "tog.add_operator(Not(input=laci, output=ci, a=10, b=0, K=1, n=2))\n",
    "tog.add_operator(Not(input=ci, output=laci, a=10, b=0, K=1, n=2))\n",
    "\n",
    "tog.add_operator(Not(input=ci, output=sfp1, a=10, b=0, K=1, n=2))\n",
    "tog.add_operator(Not(input=laci, output=sfp2, a=10, b=0, K=1, n=2))"
   ]
  },
  {
   "cell_type": "code",
   "execution_count": null,
   "metadata": {},
   "outputs": [],
   "source": [
    "study = fj.get('study', name='Loica testing')\n",
    "if len(study)==0:\n",
    "    study = fj.create('study', name='Loica testing', description='Test')\n",
    "media = fj.get('media', name='Loica')\n",
    "if len(media)==0:\n",
    "    media = fj.create('media', name='Loica', description='Simulated loica media')\n",
    "strain = fj.get('strain', name='Loica strain')\n",
    "if len(strain)==0:\n",
    "    strain = fj.create('strain', name='Loica strain', description='Loica test strain')\n",
    "\n",
    "biomass_signal = fj.get('signal', name='OD')\n",
    "sample = Sample(circuit=tog, \n",
    "                metabolism=metab,\n",
    "                media=media.id[0],\n",
    "                strain=strain.id[0]\n",
    "               )\n",
    "assay = Assay([sample], \n",
    "              n_measurements=100, \n",
    "              interval=0.25,\n",
    "              name='Loica toggle',\n",
    "              description='Simulated toggle switch generated by loica',\n",
    "              biomass_signal_id=biomass_signal.id[0]\n",
    "             )\n",
    "assay.run()"
   ]
  },
  {
   "cell_type": "code",
   "execution_count": null,
   "metadata": {},
   "outputs": [],
   "source": [
    "m = assay.measurements\n",
    "fig,ax = plt.subplots(1,1)\n",
    "m[m.Signal=='CFP'].plot(x='Time', y='Measurement', ax=ax)\n",
    "m[m.Signal=='YFP'].plot(x='Time', y='Measurement', ax=ax)"
   ]
  },
  {
   "cell_type": "markdown",
   "metadata": {},
   "source": [
    "Upload simulated data to flapjack"
   ]
  },
  {
   "cell_type": "code",
   "execution_count": null,
   "metadata": {},
   "outputs": [],
   "source": [
    "assay.upload(fj, study.id[0])"
   ]
  },
  {
   "cell_type": "code",
   "execution_count": null,
   "metadata": {},
   "outputs": [],
   "source": []
  },
  {
   "cell_type": "markdown",
   "metadata": {},
   "source": [
    "### Nor gate"
   ]
  },
  {
   "cell_type": "code",
   "execution_count": null,
   "metadata": {},
   "outputs": [],
   "source": [
    "dna = fj.get('dna', name='Nor')\n",
    "if len(dna)==0:\n",
    "    dna = fj.create('dna', name='Nor')\n",
    "vector = fj.get('vector', name='Nor')    \n",
    "if len(vector)==0:\n",
    "    vector = fj.create('vector', name='Nor', dnas=dna.id)\n",
    "    \n",
    "nor = GeneticNetwork(vector=vector.id[0])"
   ]
  },
  {
   "cell_type": "markdown",
   "metadata": {},
   "source": [
    "Create a reporter and associate it with a Flapjack signal so we can record the behaviour of the circuit:"
   ]
  },
  {
   "cell_type": "code",
   "execution_count": null,
   "metadata": {},
   "outputs": [],
   "source": [
    "cfp = fj.get('signal', name='CFP')\n",
    "sfp1 = Reporter(name='CFP', degradation_rate=0, signal_id=cfp.id[0])\n",
    "\n",
    "nor.add_reporter(sfp1)"
   ]
  },
  {
   "cell_type": "markdown",
   "metadata": {},
   "source": [
    "Create and add a receiver operator to the circuit, linking it to an AHL supplement and the receptor we just created:"
   ]
  },
  {
   "cell_type": "code",
   "execution_count": null,
   "metadata": {},
   "outputs": [],
   "source": [
    "ahl1 = Supplement(name='AHL1')\n",
    "ahl2 = Supplement(name='AHL2')\n",
    "nor.add_operator(Nor(input=[ahl1, ahl2], output=sfp1, alpha=[0.0001,1,1,1], a=[100,100], b=[1,1], K=[1,1], n=[2,2]))"
   ]
  },
  {
   "cell_type": "markdown",
   "metadata": {},
   "source": [
    "Now we have constructed the circuit we need to run an assay containing some samples. The sample is driven by a metabolism which defines the dynamics of growth and gene expression profiles:"
   ]
  },
  {
   "cell_type": "code",
   "execution_count": null,
   "metadata": {},
   "outputs": [],
   "source": [
    "def growth_rate(t):\n",
    "    return gompertz_growth_rate(t, 0.01, 1, 1, 4)\n",
    "\n",
    "def biomass(t):\n",
    "    return gompertz(t, 0.01, 1, 1, 4)\n",
    "    \n",
    "metab = SimulatedMetabolism(biomass, growth_rate)"
   ]
  },
  {
   "cell_type": "markdown",
   "metadata": {},
   "source": [
    "Next we create a set of samples associated to Flapjack media and strain, and containing our AHL at different concentrations"
   ]
  },
  {
   "cell_type": "code",
   "execution_count": null,
   "metadata": {},
   "outputs": [],
   "source": [
    "media = fj.get('media', name='Loica')\n",
    "if len(media)==0:\n",
    "    media = fj.create('media', name='Loica', description='Simulated loica media')\n",
    "strain = fj.get('strain', name='Loica strain')\n",
    "if len(strain)==0:\n",
    "    strain = fj.create('strain', name='Loica strain', description='Loica test strain')\n",
    "\n",
    "# Create list of samples    \n",
    "samples = []\n",
    "for conc1 in np.logspace(-3, 3, 6):\n",
    "    for conc2 in np.logspace(-3,3,6):\n",
    "        sample = Sample(circuit=nor, \n",
    "                metabolism=metab,\n",
    "                media=media.id[0],\n",
    "                strain=strain.id[0])\n",
    "        # Add AHL to samples at given concentration\n",
    "        sample.add_supplement(ahl1, conc1)\n",
    "        sample.add_supplement(ahl2, conc2)\n",
    "        samples.append(sample)"
   ]
  },
  {
   "cell_type": "markdown",
   "metadata": {},
   "source": [
    "Now we can create and run the assay:"
   ]
  },
  {
   "cell_type": "code",
   "execution_count": null,
   "metadata": {},
   "outputs": [],
   "source": [
    "biomass_signal = fj.get('signal', name='OD')\n",
    "assay = Assay(samples, \n",
    "              n_measurements=100, \n",
    "              interval=0.25,\n",
    "              name='Loica nor',\n",
    "              description='Simulated nor generated by loica',\n",
    "              biomass_signal_id=biomass_signal.id[0]\n",
    "             )\n",
    "assay.run()"
   ]
  },
  {
   "cell_type": "markdown",
   "metadata": {},
   "source": [
    "Plot the results:"
   ]
  },
  {
   "cell_type": "code",
   "execution_count": null,
   "metadata": {},
   "outputs": [],
   "source": [
    "m = assay.measurements\n",
    "fig,ax = plt.subplots(1,1)\n",
    "m[m.Signal=='CFP'].plot(x='Time', y='Measurement', style='.', ax=ax)"
   ]
  },
  {
   "cell_type": "markdown",
   "metadata": {},
   "source": [
    "Upload the simulated data to flapjack"
   ]
  },
  {
   "cell_type": "code",
   "execution_count": null,
   "metadata": {},
   "outputs": [],
   "source": [
    "study = fj.get('study', name='Loica testing')\n",
    "if len(study)==0:\n",
    "    study = fj.create('study', name='Loica testing', description='Test')\n",
    "\n",
    "assay.upload(fj, study.id[0])"
   ]
  },
  {
   "cell_type": "code",
   "execution_count": null,
   "metadata": {},
   "outputs": [],
   "source": []
  }
 ],
 "metadata": {
  "kernelspec": {
   "display_name": "Python 3",
   "language": "python",
   "name": "python3"
  },
  "language_info": {
   "codemirror_mode": {
    "name": "ipython",
    "version": 3
   },
   "file_extension": ".py",
   "mimetype": "text/x-python",
   "name": "python",
   "nbconvert_exporter": "python",
   "pygments_lexer": "ipython3",
   "version": "3.8.5"
  }
 },
 "nbformat": 4,
 "nbformat_minor": 4
}
